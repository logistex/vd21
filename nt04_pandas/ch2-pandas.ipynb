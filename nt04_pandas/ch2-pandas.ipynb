{
 "cells": [
  {
   "cell_type": "markdown",
   "metadata": {
    "slideshow": {
     "slide_type": "skip"
    }
   },
   "source": [
    "![](../img/b13_pd.png)\n",
    "\n",
    "<div style=\"page-break-after: always;\"></div> "
   ]
  },
  {
   "cell_type": "markdown",
   "metadata": {
    "slideshow": {
     "slide_type": "slide"
    }
   },
   "source": [
    "#  판다스(pandas) \n",
    "\n",
    "<img src=\"https://www.tomasbeuzen.com/python-programming-for-data-science/_static/logo.png\" alt=\"python for data science\" width=\"300\" height=\"300\">\n",
    "\n",
    "\n",
    "1. 판다스 소개\n",
    "\n",
    "2. 판다스 시리즈\n",
    "\n",
    "3. 판다스 데이터프레임\n",
    "\n",
    "4. 자료구조 선택 지침\n",
    "\n",
    "<div style=\"page-break-after: always;\"></div> "
   ]
  },
  {
   "cell_type": "markdown",
   "metadata": {
    "slideshow": {
     "slide_type": "slide"
    }
   },
   "source": [
    "## 학습 목표"
   ]
  },
  {
   "cell_type": "markdown",
   "metadata": {
    "slideshow": {
     "slide_type": "fragment"
    }
   },
   "source": [
    "- 판다스에서 `pd.Series()`와 `pd.DataFrame()`을 활용하여  \n",
    "  시리즈와 데이터프레임을 생성할 수 있다. \n",
    "- 인덱싱 및 슬라이싱 개념을 이해하고,  \n",
    "  `df[]`, `df.loc[]`, `df.iloc[]`, `df.query()`와 같은 표현을 사용하여  \n",
    "  시리즈 및 데이터프레임에서 원하는 특정 원소 값에 접근할 수 있다. \n",
    "- 두 시리즈 간에 수치 연산을 수행하고 그 결과를 예측할 수 있다. \n",
    "- 판다스가 시리즈에 자료형을 지정하는 원리를 이해하고  \n",
    "  객체의 자료형이 무엇인지 식별할 수 있다. \n",
    "- 판다스 `pd.read_csv()`를 활용하여  \n",
    "  지역 경로나 url로부터 .csv 파일을 읽을 수 있다.\n",
    "- 파이썬에서 `np.ndarray`, `pd.Series` 및 `pd.DataFrame` 간의  \n",
    "  차별성 및 관련성을 설명할 수 있다. \n",
    "\n",
    "<div style=\"page-break-after: always;\"></div>   "
   ]
  },
  {
   "cell_type": "markdown",
   "metadata": {
    "slideshow": {
     "slide_type": "slide"
    }
   },
   "source": [
    "## 1. 판다스 소개"
   ]
  },
  {
   "cell_type": "markdown",
   "metadata": {
    "slideshow": {
     "slide_type": "fragment"
    }
   },
   "source": [
    "|![그림 1. 판다스 로고](../img/chapter7/pandas.png)<br>그림 1. 판다스 로고|\n",
    "|:---|"
   ]
  },
  {
   "cell_type": "markdown",
   "metadata": {
    "slideshow": {
     "slide_type": "subslide"
    }
   },
   "source": [
    "- 판다스(pandas)는 표 형태 자료 구조를 위한 가장 인기 좋은 파이썬 라이브러리이다. \n",
    "  - 판다스를 엑셀의 초강력 버전으로 생각해도 좋다. \n",
    "  - 엑셀보다 기능이 훨씬 강력하지만, 무료이다. \n",
    "      - 엑셀: 수작업으로 조작\n",
    "      - 판다스: 파이썬 프로그램으로 조작\n",
    "- 판다스는 시간의 흐름에 따라 추적한 자료, 즉 시계열 데이터라는 의미를 가지는  \n",
    "  패널 자료(panel data)에서 유래한 이름이다. \n",
    "- 판다스는 R에서 제공하는 벡터 및 행렬과 유사한 자료구조이다. \n",
    "- 판다스는 시리즈(series)와 데이터프레임(dataframe) 자료구조를 제공한다.\n",
    "  - 시리즈: 단일 열 (일차원) 자료구조로서 스칼라 값의 컨테이너\n",
    "  - 데이터프레임: 다수 시리즈가 결합한 형태의 (다차원) 자료구조로서 시리즈의 컨테이너\n",
    "- 판다스 라이브러리는 `conda`를 활용하여 다음과 같은 명령으로 설치한다.    \n",
    "\n",
    "```shell\n",
    "$ conda install pandas\n",
    "```"
   ]
  },
  {
   "cell_type": "markdown",
   "metadata": {
    "slideshow": {
     "slide_type": "subslide"
    }
   },
   "source": [
    "- 통상적으로 판다스에 대하여 `pd`라는 별칭을 지정하여 수입한다.  \n",
    "  대부분의 데이터 과학 코드 앞 부분에서 아래 두 행과 같은 수입 명령을 볼 수 있다. "
   ]
  },
  {
   "cell_type": "code",
   "execution_count": 1,
   "metadata": {
    "scrolled": true,
    "slideshow": {
     "slide_type": "fragment"
    }
   },
   "outputs": [],
   "source": [
    "import pandas as pd\n",
    "import numpy as np"
   ]
  },
  {
   "cell_type": "markdown",
   "metadata": {
    "slideshow": {
     "slide_type": "fragment"
    }
   },
   "source": [
    "- 판다스에 대한 간단한 소개를 마치고, 판다스 시리즈에 대해 공부하자. \n",
    "\n",
    "<div style=\"page-break-after: always;\"></div> "
   ]
  },
  {
   "cell_type": "markdown",
   "metadata": {
    "slideshow": {
     "slide_type": "slide"
    }
   },
   "source": [
    "## 2. 판다스 시리즈 "
   ]
  },
  {
   "cell_type": "markdown",
   "metadata": {
    "slideshow": {
     "slide_type": "subslide"
    }
   },
   "source": [
    "### 2.1 시리즈의 개념"
   ]
  },
  {
   "cell_type": "markdown",
   "metadata": {
    "slideshow": {
     "slide_type": "fragment"
    }
   },
   "source": [
    "- 판다스가 제공하는 자료구조는 두 종류이다. \n",
    "  - 시리즈: 단일 열 형태의 (일차원) 자료구조\n",
    "  - 데이터프레임: 다수 시리즈로 구성된 (다차원) 자료구조\n",
    "- 판다스 시리즈 객체는 넘파이 배열 객체와 비슷하지만,  \n",
    "  행/열에 대한 레이블(label)을 지정할 수 있다. \n",
    "- 이 두 객체(넘파이 배열과 판다스 시리즈)는 모두 일차원 자료구조이다. \n",
    "- 시리즈 객체에는 모든 넘파이 자료형(정수, 실수, 문자열, 객체, ...)을 저장할 수 있고,  \n",
    "  이들 자료형을 혼합하여 저장할 수도 있다는 점에서, 넘파이 배열 객체와는 다르다. \n",
    "- 판다스 시리즈는 단일 열 벡터 형태의 자료구조이고,  \n",
    "  인덱스와 데이터가 쌍을 이루어 저장된다. \n",
    "- `pd.Series()`를 활용하여 판다스 시리즈를 생성할 수 있으며,  \n",
    "  단일(scalar) 값, 리스트, 배열 또는 사전 등을 매개변수로 `pd.Series()`에 전달하면 된다.\n",
    "- `pd.Series()`에서 **\"S\"**가 대문자라는 점에 주의하라."
   ]
  },
  {
   "cell_type": "markdown",
   "metadata": {
    "slideshow": {
     "slide_type": "subslide"
    }
   },
   "source": [
    "|![그림 2. 판다스 시리즈에서 인덱스와 데이터가 저장되는 방식](../img/chapter7/series.png)<br>그림 2. 판다스 시리즈에서 인덱스와 데이터가 저장되는 방식|\n",
    "|:---|"
   ]
  },
  {
   "cell_type": "markdown",
   "metadata": {
    "slideshow": {
     "slide_type": "fragment"
    }
   },
   "source": [
    "- 판다스 시리즈의 데이터에는 다양한 데이터 유형을 저장할 수 있고,  \n",
    "  판다스 시리즈의 인덱스에도 다양한 데이터 유형을 사용할 수 있다.  "
   ]
  },
  {
   "cell_type": "markdown",
   "metadata": {
    "slideshow": {
     "slide_type": "fragment"
    }
   },
   "source": [
    "- 판다스 시리즈에 대한 개념 소개를 마치고, 판다스 시리즈 생성 방법을 공부하자. \n",
    "\n",
    "<div style=\"page-break-after: always;\"></div> "
   ]
  },
  {
   "cell_type": "markdown",
   "metadata": {
    "slideshow": {
     "slide_type": "subslide"
    }
   },
   "source": [
    "### 2.2 시리즈의 생성"
   ]
  },
  {
   "cell_type": "markdown",
   "metadata": {
    "slideshow": {
     "slide_type": "fragment"
    }
   },
   "source": [
    "- 시리즈는 0부터 시작하는 수치형 인덱스를 기본값으로 가진다. "
   ]
  },
  {
   "cell_type": "code",
   "execution_count": 2,
   "metadata": {
    "slideshow": {
     "slide_type": "fragment"
    }
   },
   "outputs": [
    {
     "data": {
      "text/plain": [
       "0    -5.0\n",
       "1     1.3\n",
       "2    21.0\n",
       "3     6.0\n",
       "4     3.0\n",
       "dtype: float64"
      ]
     },
     "execution_count": 2,
     "metadata": {},
     "output_type": "execute_result"
    }
   ],
   "source": [
    "pd.Series(data=[-5, 1.3, 21, 6, 3])       # pd.Series()의 data 인자에 리스트를 전달"
   ]
  },
  {
   "cell_type": "markdown",
   "metadata": {
    "slideshow": {
     "slide_type": "subslide"
    }
   },
   "source": [
    "- (기본형 인덱스가 아닌) 맞춤형 인덱스를 지정할 수 있다: "
   ]
  },
  {
   "cell_type": "code",
   "execution_count": 3,
   "metadata": {
    "scrolled": false,
    "slideshow": {
     "slide_type": "fragment"
    }
   },
   "outputs": [
    {
     "data": {
      "text/plain": [
       "a    -5.0\n",
       "b     1.3\n",
       "c    21.0\n",
       "d     6.0\n",
       "e     3.0\n",
       "dtype: float64"
      ]
     },
     "execution_count": 3,
     "metadata": {},
     "output_type": "execute_result"
    }
   ],
   "source": [
    "s = pd.Series(data=[-5, 1.3, 21, 6, 3],\n",
    "              index=['a', 'b', 'c', 'd', 'e'])  # index 인자로 맞춤형 인덱스 지정\n",
    "s"
   ]
  },
  {
   "cell_type": "markdown",
   "metadata": {
    "slideshow": {
     "slide_type": "fragment"
    }
   },
   "source": [
    "- 시리즈와 인덱스에 이름 지정이 가능하다: "
   ]
  },
  {
   "cell_type": "code",
   "execution_count": 4,
   "metadata": {
    "slideshow": {
     "slide_type": "fragment"
    }
   },
   "outputs": [
    {
     "data": {
      "text/plain": [
       "alphabet\n",
       "a    -5.0\n",
       "b     1.3\n",
       "c    21.0\n",
       "d     6.0\n",
       "e     3.0\n",
       "Name: my_values, dtype: float64"
      ]
     },
     "execution_count": 4,
     "metadata": {},
     "output_type": "execute_result"
    }
   ],
   "source": [
    "s.name = 'my_values'       # 시리즈 이름 지정\n",
    "s.index.name = 'alphabet'  # 인덱스 이름 지정\n",
    "s"
   ]
  },
  {
   "cell_type": "markdown",
   "metadata": {
    "slideshow": {
     "slide_type": "subslide"
    }
   },
   "source": [
    "- 사전으로부터 시리즈를 생성할 수 있는데,  \n",
    "  시리즈는 근본적으로 사전과 유사한 자료구조이다: "
   ]
  },
  {
   "cell_type": "code",
   "execution_count": 5,
   "metadata": {
    "slideshow": {
     "slide_type": "fragment"
    }
   },
   "outputs": [
    {
     "data": {
      "text/plain": [
       "이름\n",
       "김학생     90\n",
       "나학생    100\n",
       "최학생     80\n",
       "Name: 성적, dtype: int64"
      ]
     },
     "execution_count": 5,
     "metadata": {},
     "output_type": "execute_result"
    }
   ],
   "source": [
    "성적 = pd.Series(data={'김학생': 90, '나학생': 100, '최학생': 80},\n",
    "                 name='성적')  # 사전의 키가 인덱스 레이블로 지정됨\n",
    "성적.index.name = '이름'\n",
    "성적"
   ]
  },
  {
   "cell_type": "code",
   "execution_count": 6,
   "metadata": {
    "slideshow": {
     "slide_type": "fragment"
    }
   },
   "outputs": [
    {
     "data": {
      "text/plain": [
       "100"
      ]
     },
     "execution_count": 6,
     "metadata": {},
     "output_type": "execute_result"
    }
   ],
   "source": [
    "성적['나학생']"
   ]
  },
  {
   "cell_type": "markdown",
   "metadata": {
    "slideshow": {
     "slide_type": "subslide"
    }
   },
   "source": [
    "- 넘파이 배열(ndarray)로부터 시리즈를 생성할 수 있다:"
   ]
  },
  {
   "cell_type": "code",
   "execution_count": 7,
   "metadata": {
    "scrolled": true,
    "slideshow": {
     "slide_type": "fragment"
    }
   },
   "outputs": [
    {
     "data": {
      "text/plain": [
       "0    0.351127\n",
       "1   -0.743208\n",
       "2    1.769152\n",
       "dtype: float64"
      ]
     },
     "execution_count": 7,
     "metadata": {},
     "output_type": "execute_result"
    }
   ],
   "source": [
    "pd.Series(data=np.random.randn(3))  # np.random.randn()은 표준정규분포를 따르는 값으로 ndarray를 반환함 "
   ]
  },
  {
   "cell_type": "markdown",
   "metadata": {
    "slideshow": {
     "slide_type": "fragment"
    }
   },
   "source": [
    "- `np.random`에서 제공되는 난수 관련 메소드를 정리하면 다음과 같다: \n",
    "\n",
    "| 메소드 | 기능 | 비고 |\n",
    "|---|:---|---|\n",
    "| `np.random.randint(low, high, (m, n))` | **`[low, high)` 구간**에서 균일분포에 따르는 **정수** 난수 생성 | 배열 모양 지정 |\n",
    "| `np.random.rand(m, n)` | **`[0, 1)` 구간**에서 균일분포에 따르는, (m, n) 모양의 난수 배열 생성 |\n",
    "| `np.random.random((m, n))` | **`[0, 1)` 구간**에서 균일분포에 따르는, (m, n) 모양의 난수 배열 생성 | 배열 모양 지정, *구식*|\n",
    "| `np.random.default_rng().random(m, n)` | **`[0, 1)` 구간**에서 균일분포에 따르는, (m, n) 모양의 난수 배열 생성 | *추천*  |\n",
    "| `np.random.randn(m, n)` | (μ, σ)=(0, 1)인 **표준정규분포**에 따르는, (m, n) 모양의 난수 배열 생성 ||\n"
   ]
  },
  {
   "cell_type": "markdown",
   "metadata": {
    "slideshow": {
     "slide_type": "subslide"
    }
   },
   "source": [
    "- 단일(스칼라) 값으로부터 시리즈를 생성할 수 있다:"
   ]
  },
  {
   "cell_type": "code",
   "execution_count": 8,
   "metadata": {
    "slideshow": {
     "slide_type": "fragment"
    }
   },
   "outputs": [
    {
     "data": {
      "text/plain": [
       "0    3.141\n",
       "dtype: float64"
      ]
     },
     "execution_count": 8,
     "metadata": {},
     "output_type": "execute_result"
    }
   ],
   "source": [
    "pd.Series(3.141)  # 스칼라 값으로 시리즈 생성"
   ]
  },
  {
   "cell_type": "code",
   "execution_count": 9,
   "metadata": {
    "scrolled": true,
    "slideshow": {
     "slide_type": "fragment"
    }
   },
   "outputs": [
    {
     "data": {
      "text/plain": [
       "a    3.141\n",
       "b    3.141\n",
       "c    3.141\n",
       "dtype: float64"
      ]
     },
     "execution_count": 9,
     "metadata": {},
     "output_type": "execute_result"
    }
   ],
   "source": [
    "# data는 스칼라 값으로, index는 리스트로 지정\n",
    "pd.Series(data=3.141, index=['a', 'b', 'c'])  # 인덱스 개수로 행 개수가 결정됨"
   ]
  },
  {
   "cell_type": "markdown",
   "metadata": {
    "slideshow": {
     "slide_type": "subslide"
    }
   },
   "source": [
    "- 판다스 시리즈 생성 방법의 내용을 정리하면 다음과 같다;\n",
    "  - 인덱스 \n",
    "    - 기본형 인덱스\n",
    "    - 맞춤형 인덱스\n",
    "  - 시리즈 생성\n",
    "    - 사전으로 시리즈 생성\n",
    "    - 배열로 시리즈 생성\n",
    "    - 스칼라로 시리즈 생성\n",
    "    - 데이터는 스칼라 값으로, 인덱스는 문자형 리스트로 시리즈 생성"
   ]
  },
  {
   "cell_type": "markdown",
   "metadata": {
    "slideshow": {
     "slide_type": "fragment"
    }
   },
   "source": [
    "- 이제 판다스 시리즈의 특성에 대해 공부하자. \n",
    "\n",
    "<div style=\"page-break-after: always;\"></div> "
   ]
  },
  {
   "cell_type": "markdown",
   "metadata": {
    "slideshow": {
     "slide_type": "subslide"
    }
   },
   "source": [
    "### 2.3 시리즈의 특성"
   ]
  },
  {
   "cell_type": "markdown",
   "metadata": {
    "slideshow": {
     "slide_type": "fragment"
    }
   },
   "source": [
    "- 시리즈에 `name` 속성을 지정할 수 있다. "
   ]
  },
  {
   "cell_type": "code",
   "execution_count": 10,
   "metadata": {
    "slideshow": {
     "slide_type": "fragment"
    }
   },
   "outputs": [
    {
     "data": {
      "text/plain": [
       "0    0.730102\n",
       "1    0.760791\n",
       "2   -1.687729\n",
       "3   -0.694344\n",
       "4   -1.682091\n",
       "Name: random_series, dtype: float64"
      ]
     },
     "execution_count": 10,
     "metadata": {},
     "output_type": "execute_result"
    }
   ],
   "source": [
    "s = pd.Series(data=np.random.randn(5),    # 표준정규분포 난수\n",
    "              name='random_series')       # 시리즈에 name 지정\n",
    "s"
   ]
  },
  {
   "cell_type": "code",
   "execution_count": 11,
   "metadata": {
    "slideshow": {
     "slide_type": "subslide"
    }
   },
   "outputs": [
    {
     "data": {
      "text/plain": [
       "'random_series'"
      ]
     },
     "execution_count": 11,
     "metadata": {},
     "output_type": "execute_result"
    }
   ],
   "source": [
    "s.name  # 시리즈에 지정한 name 속성 확인"
   ]
  },
  {
   "cell_type": "code",
   "execution_count": 12,
   "metadata": {
    "slideshow": {
     "slide_type": "fragment"
    }
   },
   "outputs": [
    {
     "data": {
      "text/plain": [
       "0    0.730102\n",
       "1    0.760791\n",
       "2   -1.687729\n",
       "3   -0.694344\n",
       "4   -1.682091\n",
       "Name: another_name, dtype: float64"
      ]
     },
     "execution_count": 12,
     "metadata": {},
     "output_type": "execute_result"
    }
   ],
   "source": [
    "s.rename(\"another_name\")  # 시리즈 name 재지정"
   ]
  },
  {
   "cell_type": "markdown",
   "metadata": {
    "slideshow": {
     "slide_type": "subslide"
    }
   },
   "source": [
    "- `index` 속성으로 시리즈의 인덱스 레이블에 접근할 수 있다."
   ]
  },
  {
   "cell_type": "code",
   "execution_count": 13,
   "metadata": {
    "slideshow": {
     "slide_type": "fragment"
    }
   },
   "outputs": [
    {
     "data": {
      "text/plain": [
       "RangeIndex(start=0, stop=5, step=1)"
      ]
     },
     "execution_count": 13,
     "metadata": {},
     "output_type": "execute_result"
    }
   ],
   "source": [
    "s.index  # 시리즈의 인덱스 속성 "
   ]
  },
  {
   "cell_type": "markdown",
   "metadata": {
    "slideshow": {
     "slide_type": "subslide"
    }
   },
   "source": [
    "- `to_numpy()` 메소드로 시리즈에 저장된 데이터를  \n",
    "  넘파이 배열로 변환할 수 있다."
   ]
  },
  {
   "cell_type": "code",
   "execution_count": 14,
   "metadata": {
    "slideshow": {
     "slide_type": "fragment"
    }
   },
   "outputs": [
    {
     "data": {
      "text/plain": [
       "array([ 0.73010203,  0.76079116, -1.68772869, -0.69434383, -1.68209124])"
      ]
     },
     "execution_count": 14,
     "metadata": {},
     "output_type": "execute_result"
    }
   ],
   "source": [
    "s.to_numpy()  # 시리즈를 넘파이 배열로 변환 "
   ]
  },
  {
   "cell_type": "code",
   "execution_count": 15,
   "metadata": {
    "scrolled": true,
    "slideshow": {
     "slide_type": "fragment"
    }
   },
   "outputs": [
    {
     "data": {
      "text/plain": [
       "array([list([1, 2, 3]), 'b', 1], dtype=object)"
      ]
     },
     "execution_count": 15,
     "metadata": {},
     "output_type": "execute_result"
    }
   ],
   "source": [
    "pd.Series([[1, 2, 3], \"b\", 1]).to_numpy()  # 혼합 자료형 시리즈를 넘파이 배열로 변환하면 객체로 저장됨\n",
    "                                           # 하지만, 넘파이 배열에 혼합 자료형을 저장하는 것은 부적절함 "
   ]
  },
  {
   "cell_type": "markdown",
   "metadata": {
    "slideshow": {
     "slide_type": "fragment"
    }
   },
   "source": [
    "- 판다스 시리즈의 특성을 정리하면 다음과 같다:\n",
    "  - `name` 속성\n",
    "  - `index` 속성\n",
    "  - `to_numpy()` 메소드"
   ]
  },
  {
   "cell_type": "markdown",
   "metadata": {
    "slideshow": {
     "slide_type": "fragment"
    }
   },
   "source": [
    "- 판다스 시리즈의 특성에 대한 공부를 마치고,  \n",
    "  판다스 시리즈에 대한 인덱싱과 슬라이싱을 공부하자. \n",
    "\n",
    "<div style=\"page-break-after: always;\"></div> "
   ]
  },
  {
   "cell_type": "markdown",
   "metadata": {
    "slideshow": {
     "slide_type": "subslide"
    }
   },
   "source": [
    "### 2.4 인덱싱과 슬라이싱"
   ]
  },
  {
   "cell_type": "markdown",
   "metadata": {
    "slideshow": {
     "slide_type": "fragment"
    }
   },
   "source": [
    "- 판다스 시리즈는 넘파이 n차원 배열(ndarrays)과 매우 비슷하다. \n",
    "  - 시리즈는 거의 모든 넘파이 함수에게 인자로 전달 가능하다. \n",
    "  - 시리즈는 `[ ]` 및 `:` 표기법을 이용하여 인덱싱이 가능하다. "
   ]
  },
  {
   "cell_type": "code",
   "execution_count": 16,
   "metadata": {
    "slideshow": {
     "slide_type": "fragment"
    }
   },
   "outputs": [
    {
     "data": {
      "text/plain": [
       "A    0\n",
       "B    1\n",
       "C    2\n",
       "D    3\n",
       "E    4\n",
       "dtype: int64"
      ]
     },
     "execution_count": 16,
     "metadata": {},
     "output_type": "execute_result"
    }
   ],
   "source": [
    "s = pd.Series(data=range(5),\n",
    "              index=['A', 'B', 'C', 'D', 'E'])\n",
    "s                                                # 모양을 캡처하고, 이후 내용을 공부하라. "
   ]
  },
  {
   "cell_type": "code",
   "execution_count": 17,
   "metadata": {
    "slideshow": {
     "slide_type": "subslide"
    }
   },
   "outputs": [
    {
     "data": {
      "text/plain": [
       "0"
      ]
     },
     "execution_count": 17,
     "metadata": {},
     "output_type": "execute_result"
    }
   ],
   "source": [
    "s[0]  # 정수 인덱싱은 기본적으로 가능함"
   ]
  },
  {
   "cell_type": "code",
   "execution_count": 18,
   "metadata": {
    "slideshow": {
     "slide_type": "fragment"
    }
   },
   "outputs": [
    {
     "data": {
      "text/plain": [
       "B    1\n",
       "D    3\n",
       "C    2\n",
       "dtype: int64"
      ]
     },
     "execution_count": 18,
     "metadata": {},
     "output_type": "execute_result"
    }
   ],
   "source": [
    "s[[1, 3, 2]]  # 정수 인덱스 리스트로 인덱싱"
   ]
  },
  {
   "cell_type": "code",
   "execution_count": 19,
   "metadata": {
    "slideshow": {
     "slide_type": "fragment"
    }
   },
   "outputs": [
    {
     "data": {
      "text/plain": [
       "A    0\n",
       "B    1\n",
       "C    2\n",
       "dtype: int64"
      ]
     },
     "execution_count": 19,
     "metadata": {},
     "output_type": "execute_result"
    }
   ],
   "source": [
    "s[0:3]  # 콜론 표기법에 의한 슬라이싱"
   ]
  },
  {
   "cell_type": "markdown",
   "metadata": {
    "slideshow": {
     "slide_type": "fragment"
    }
   },
   "source": [
    "- 시리즈에 대한 인덱싱 및 슬라이싱 결과에는  \n",
    "  데이터 값과 인덱스 레이블이 함께 반환된다. "
   ]
  },
  {
   "cell_type": "markdown",
   "metadata": {
    "slideshow": {
     "slide_type": "subslide"
    }
   },
   "source": [
    "- 인덱스 레이블을 통하여 값에 접근할 수 있다는 점에서  \n",
    "  시리즈는 사전과도 유사하다.   "
   ]
  },
  {
   "cell_type": "code",
   "execution_count": 20,
   "metadata": {
    "slideshow": {
     "slide_type": "fragment"
    }
   },
   "outputs": [
    {
     "data": {
      "text/plain": [
       "0"
      ]
     },
     "execution_count": 20,
     "metadata": {},
     "output_type": "execute_result"
    }
   ],
   "source": [
    "s[\"A\"]              # 레이블로 인덱싱"
   ]
  },
  {
   "cell_type": "code",
   "execution_count": 21,
   "metadata": {
    "slideshow": {
     "slide_type": "fragment"
    }
   },
   "outputs": [
    {
     "data": {
      "text/plain": [
       "B    1\n",
       "D    3\n",
       "C    2\n",
       "dtype: int64"
      ]
     },
     "execution_count": 21,
     "metadata": {},
     "output_type": "execute_result"
    }
   ],
   "source": [
    "s[[\"B\", \"D\", \"C\"]]  # 레이블 리스트로 인덱싱 "
   ]
  },
  {
   "cell_type": "code",
   "execution_count": 22,
   "metadata": {
    "scrolled": true,
    "slideshow": {
     "slide_type": "fragment"
    }
   },
   "outputs": [
    {
     "data": {
      "text/plain": [
       "A    0\n",
       "B    1\n",
       "C    2\n",
       "dtype: int64"
      ]
     },
     "execution_count": 22,
     "metadata": {},
     "output_type": "execute_result"
    }
   ],
   "source": [
    "s[\"A\":\"C\"]          # 레이블 슬라이싱\n",
    "                    # *** 마지막 레이블도 포함됨 ***"
   ]
  },
  {
   "cell_type": "markdown",
   "metadata": {
    "slideshow": {
     "slide_type": "subslide"
    }
   },
   "source": [
    "- 판다스 시리즈에 대한 `in` 연산자는 인덱스에 특정 레이블의 포함 여부를 알려준다.\n",
    "  - 레이블 인덱스에 대해 적용이 가능하다.  \n",
    "    아래 코드에서, 레이블 인덱스 \"A\"는 s에 포함되어 있지만, \"Z\"는 그렇지 않다.  \n",
    "  - 정수 인덱스에 대해 적용이 불가하다.  \n",
    "    아래 코드에서, 정수 인덱스 0과 26은 모두 s에 포함되어 있지 않다."
   ]
  },
  {
   "cell_type": "code",
   "execution_count": 23,
   "metadata": {
    "slideshow": {
     "slide_type": "fragment"
    }
   },
   "outputs": [
    {
     "data": {
      "text/plain": [
       "True"
      ]
     },
     "execution_count": 23,
     "metadata": {},
     "output_type": "execute_result"
    }
   ],
   "source": [
    "\"A\" in s  # 레이블 인덱스의 시리즈 포함 여부 확인"
   ]
  },
  {
   "cell_type": "code",
   "execution_count": 24,
   "metadata": {
    "slideshow": {
     "slide_type": "fragment"
    }
   },
   "outputs": [
    {
     "data": {
      "text/plain": [
       "False"
      ]
     },
     "execution_count": 24,
     "metadata": {},
     "output_type": "execute_result"
    }
   ],
   "source": [
    "\"Z\" in s  # 레이블 인덱스의 시리즈 포함 여부 확인  "
   ]
  },
  {
   "cell_type": "code",
   "execution_count": 25,
   "metadata": {
    "slideshow": {
     "slide_type": "fragment"
    }
   },
   "outputs": [
    {
     "data": {
      "text/plain": [
       "False"
      ]
     },
     "execution_count": 25,
     "metadata": {},
     "output_type": "execute_result"
    }
   ],
   "source": [
    "0 in s    # 레이블 인덱스 \"A\"에 대응하는 정수 인덱스 0"
   ]
  },
  {
   "cell_type": "code",
   "execution_count": 26,
   "metadata": {
    "slideshow": {
     "slide_type": "fragment"
    }
   },
   "outputs": [
    {
     "data": {
      "text/plain": [
       "False"
      ]
     },
     "execution_count": 26,
     "metadata": {},
     "output_type": "execute_result"
    }
   ],
   "source": [
    "25 in s   # 레이블 인덱스 \"Z\"에 대응하는 정수 인덱스 26"
   ]
  },
  {
   "cell_type": "markdown",
   "metadata": {
    "slideshow": {
     "slide_type": "subslide"
    }
   },
   "source": [
    "- 인덱스 포함 여부가 아니라,  \n",
    "  데이터 값의 포함 여부는 `시리즈.isin(탐색대상)` 메소드를 써서 확인한다.  \n",
    "  - 여기서 `탐색대상`은 리스트 형태로 지정해야 한다. \n",
    "  - `탐색대상`을 (리스트 형태로) 여러 개 지정할 수 있다. "
   ]
  },
  {
   "cell_type": "code",
   "execution_count": 27,
   "metadata": {
    "scrolled": true,
    "slideshow": {
     "slide_type": "fragment"
    }
   },
   "outputs": [
    {
     "data": {
      "text/plain": [
       "A     True\n",
       "B    False\n",
       "C    False\n",
       "D    False\n",
       "E    False\n",
       "dtype: bool"
      ]
     },
     "execution_count": 27,
     "metadata": {},
     "output_type": "execute_result"
    }
   ],
   "source": [
    "s.isin([0])       # \"A\"에 탐색대상이 포함되어 있음      "
   ]
  },
  {
   "cell_type": "code",
   "execution_count": 28,
   "metadata": {
    "slideshow": {
     "slide_type": "fragment"
    }
   },
   "outputs": [
    {
     "data": {
      "text/plain": [
       "A     True\n",
       "B    False\n",
       "C    False\n",
       "D     True\n",
       "E     True\n",
       "dtype: bool"
      ]
     },
     "execution_count": 28,
     "metadata": {},
     "output_type": "execute_result"
    }
   ],
   "source": [
    "s.isin((0, 3, 4))  # \"A\", \"D\", \"E\"에 탐색대상 중 하나가 포함되어 있음"
   ]
  },
  {
   "cell_type": "markdown",
   "metadata": {
    "slideshow": {
     "slide_type": "subslide"
    }
   },
   "source": [
    "- 시리즈에서 중복된 레이블 인덱스도 허용되는데,  \n",
    "  중복된 레이블로 인덱싱한 결과 값은 유일 값이 아니므로 **주의가 필요하다**. "
   ]
  },
  {
   "cell_type": "code",
   "execution_count": 29,
   "metadata": {
    "scrolled": true,
    "slideshow": {
     "slide_type": "fragment"
    }
   },
   "outputs": [
    {
     "data": {
      "text/plain": [
       "A    0\n",
       "A    1\n",
       "A    2\n",
       "B    3\n",
       "C    4\n",
       "dtype: int64"
      ]
     },
     "execution_count": 29,
     "metadata": {},
     "output_type": "execute_result"
    }
   ],
   "source": [
    "x = pd.Series(data=range(5),\n",
    "              index=[\"A\", \"A\", \"A\", \"B\", \"C\"])  # 중복된 레이블\n",
    "x"
   ]
  },
  {
   "cell_type": "code",
   "execution_count": 30,
   "metadata": {
    "scrolled": true,
    "slideshow": {
     "slide_type": "fragment"
    }
   },
   "outputs": [
    {
     "data": {
      "text/plain": [
       "Index(['A', 'A', 'A', 'B', 'C'], dtype='object')"
      ]
     },
     "execution_count": 30,
     "metadata": {},
     "output_type": "execute_result"
    }
   ],
   "source": [
    "x.index  # 중복된 레이블 확인"
   ]
  },
  {
   "cell_type": "code",
   "execution_count": 31,
   "metadata": {
    "slideshow": {
     "slide_type": "fragment"
    }
   },
   "outputs": [
    {
     "data": {
      "text/plain": [
       "A    0\n",
       "A    1\n",
       "A    2\n",
       "dtype: int64"
      ]
     },
     "execution_count": 31,
     "metadata": {},
     "output_type": "execute_result"
    }
   ],
   "source": [
    "x[\"A\"]  # 중복된 레이블로 인덱싱한 결과"
   ]
  },
  {
   "cell_type": "markdown",
   "metadata": {
    "slideshow": {
     "slide_type": "subslide"
    }
   },
   "source": [
    "- 시리즈에 대한 논리형 인덱싱도 가능하다. "
   ]
  },
  {
   "cell_type": "code",
   "execution_count": 32,
   "metadata": {
    "slideshow": {
     "slide_type": "fragment"
    }
   },
   "outputs": [
    {
     "data": {
      "text/plain": [
       "B    1\n",
       "C    2\n",
       "D    3\n",
       "E    4\n",
       "dtype: int64"
      ]
     },
     "execution_count": 32,
     "metadata": {},
     "output_type": "execute_result"
    }
   ],
   "source": [
    "s[s >= 1]       # 논리형 인덱싱, `>=`를 입력했는데 ..."
   ]
  },
  {
   "cell_type": "code",
   "execution_count": 33,
   "metadata": {
    "slideshow": {
     "slide_type": "fragment"
    }
   },
   "outputs": [
    {
     "data": {
      "text/plain": [
       "D    3\n",
       "E    4\n",
       "dtype: int64"
      ]
     },
     "execution_count": 33,
     "metadata": {},
     "output_type": "execute_result"
    }
   ],
   "source": [
    "s[s > s.mean()]  # 논리형 인덱싱"
   ]
  },
  {
   "cell_type": "code",
   "execution_count": 34,
   "metadata": {
    "scrolled": false,
    "slideshow": {
     "slide_type": "fragment"
    }
   },
   "outputs": [
    {
     "data": {
      "text/plain": [
       "A     True\n",
       "B    False\n",
       "C     True\n",
       "D     True\n",
       "E     True\n",
       "dtype: bool"
      ]
     },
     "execution_count": 34,
     "metadata": {},
     "output_type": "execute_result"
    }
   ],
   "source": [
    "s != 1           # 시리즈와 단일 값의 비교, `!=`를 입력했는데, ..."
   ]
  },
  {
   "cell_type": "markdown",
   "metadata": {
    "slideshow": {
     "slide_type": "subslide"
    }
   },
   "source": [
    "- 판다스 시리즈 인덱싱/슬라이싱을 정리하면 다음과 같다:\n",
    "  - 정수 인덱싱   `s[0]` \n",
    "  - 정수 리스트 인덱싱    `s[[3, 1, 2]]`\n",
    "  - 정수 슬라이싱   `s[0:3]`     <- 마지막 인덱스 **제외**\n",
    "  - 레이블 인덱싱 `s[\"A\"]` (사전과 비슷한 사용법)     \n",
    "  - 레이블 리스트 인덱싱  `s[[\"B\", \"D\", \"C\"]]`\n",
    "  - 레이블 슬라이싱 `s[\"A\":\"C\"]` <- 마지막 인덱스 **포함**\n",
    "  - 레이블 인덱스의 시리즈 포함 여부 `\"A\" in s`\n",
    "  - 데이터 값의 시리즈 포함 여부     `s.isin([0, 3])`\n",
    "  - 중복된 레이블 인덱스 `Index(['A', 'A', 'A', 'B', 'C']`\n",
    "  - 논리식 인덱싱 `s[s >= s.mean()]`\n",
    "  - 시리즈와 스칼라 값 비교 `s != 1`\n",
    "\n",
    "- 이제 판다스 시리즈 연산에 대해 공부하자. \n",
    "\n",
    "<div style=\"page-break-after: always;\"></div> "
   ]
  },
  {
   "cell_type": "markdown",
   "metadata": {
    "slideshow": {
     "slide_type": "subslide"
    }
   },
   "source": [
    "### 2.5 시리즈에 대한 연산"
   ]
  },
  {
   "cell_type": "markdown",
   "metadata": {
    "slideshow": {
     "slide_type": "fragment"
    }
   },
   "source": [
    "- 넘파이 n차원 배열에서의 연산과는 달리,  \n",
    "  판다스 시리즈 간의 수치 연산(+, -, \\*, /)은  \n",
    "  (위치 기반이 아니라) *레이블 기반으로 값을 정렬*한 후,  \n",
    "  **정렬된 레이블 기반**으로 수행된다. \n",
    "- 결과 인덱스는 두 인덱스의 __*정렬된 합집합*__이다. \n",
    "- 레이블과 무관하게 시리즈에 대한 연산이 가능하도록 융통성을 확보할 수 있다. "
   ]
  },
  {
   "cell_type": "markdown",
   "metadata": {
    "slideshow": {
     "slide_type": "subslide"
    }
   },
   "source": [
    "- 기본 인덱스를 가진 시리즈 간의 연산은 다음과 같이 수행된다:"
   ]
  },
  {
   "cell_type": "code",
   "execution_count": 35,
   "metadata": {
    "scrolled": true,
    "slideshow": {
     "slide_type": "fragment"
    }
   },
   "outputs": [
    {
     "data": {
      "text/plain": [
       "0    0\n",
       "1    1\n",
       "2    2\n",
       "dtype: int64"
      ]
     },
     "execution_count": 35,
     "metadata": {},
     "output_type": "execute_result"
    }
   ],
   "source": [
    "s1 = pd.Series(data=range(3))      # 원소 3개\n",
    "s1"
   ]
  },
  {
   "cell_type": "code",
   "execution_count": 36,
   "metadata": {
    "slideshow": {
     "slide_type": "fragment"
    }
   },
   "outputs": [
    {
     "data": {
      "text/plain": [
       "1    1\n",
       "2    2\n",
       "dtype: int64"
      ]
     },
     "execution_count": 36,
     "metadata": {},
     "output_type": "execute_result"
    }
   ],
   "source": [
    "s1 = s1.drop(s1.index[0])          # 인덱스 0인 값 삭제\n",
    "s1"
   ]
  },
  {
   "cell_type": "code",
   "execution_count": 37,
   "metadata": {
    "scrolled": true,
    "slideshow": {
     "slide_type": "fragment"
    }
   },
   "outputs": [
    {
     "data": {
      "text/plain": [
       "0    10\n",
       "1    11\n",
       "2    12\n",
       "dtype: int64"
      ]
     },
     "execution_count": 37,
     "metadata": {},
     "output_type": "execute_result"
    }
   ],
   "source": [
    "s2 = pd.Series(data=range(10, 13))  # 원소 4개\n",
    "s2"
   ]
  },
  {
   "cell_type": "code",
   "execution_count": 38,
   "metadata": {
    "scrolled": true,
    "slideshow": {
     "slide_type": "fragment"
    }
   },
   "outputs": [
    {
     "data": {
      "text/plain": [
       "0     NaN\n",
       "1    12.0\n",
       "2    14.0\n",
       "dtype: float64"
      ]
     },
     "execution_count": 38,
     "metadata": {},
     "output_type": "execute_result"
    }
   ],
   "source": [
    "s1 + s2                             # 대응되는 원소가 없으면 NaN"
   ]
  },
  {
   "cell_type": "markdown",
   "metadata": {
    "slideshow": {
     "slide_type": "fragment"
    }
   },
   "source": [
    "- 기본 인덱스를 가진 시리즈 간의 연산은 넘파이 배열 연산과 유사하다. "
   ]
  },
  {
   "cell_type": "markdown",
   "metadata": {
    "slideshow": {
     "slide_type": "subslide"
    }
   },
   "source": [
    "- 맞춤형 (수치) 인덱스를 가진 시리즈 간의 연산을 수행하여 보자. "
   ]
  },
  {
   "cell_type": "code",
   "execution_count": 39,
   "metadata": {
    "scrolled": true,
    "slideshow": {
     "slide_type": "fragment"
    }
   },
   "outputs": [
    {
     "data": {
      "text/plain": [
       "1    1\n",
       "2    2\n",
       "dtype: int64"
      ]
     },
     "execution_count": 39,
     "metadata": {},
     "output_type": "execute_result"
    }
   ],
   "source": [
    "s1 = pd.Series(data=range(1, 3), \n",
    "               index=range(1, 3))\n",
    "s1"
   ]
  },
  {
   "cell_type": "code",
   "execution_count": 40,
   "metadata": {
    "scrolled": true,
    "slideshow": {
     "slide_type": "fragment"
    }
   },
   "outputs": [
    {
     "data": {
      "text/plain": [
       "2    2\n",
       "3    3\n",
       "dtype: int64"
      ]
     },
     "execution_count": 40,
     "metadata": {},
     "output_type": "execute_result"
    }
   ],
   "source": [
    "s2 = pd.Series(data=range(2, 4), \n",
    "               index=range(2, 4))\n",
    "s2"
   ]
  },
  {
   "cell_type": "code",
   "execution_count": 41,
   "metadata": {
    "scrolled": true,
    "slideshow": {
     "slide_type": "fragment"
    }
   },
   "outputs": [
    {
     "data": {
      "text/plain": [
       "1    NaN\n",
       "2    4.0\n",
       "3    NaN\n",
       "dtype: float64"
      ]
     },
     "execution_count": 41,
     "metadata": {},
     "output_type": "execute_result"
    }
   ],
   "source": [
    "s1 + s2"
   ]
  },
  {
   "cell_type": "markdown",
   "metadata": {
    "slideshow": {
     "slide_type": "fragment"
    }
   },
   "source": [
    "- 맞춤형 (수치) 인덱스를 가진 시리즈 간의 연산에서  \n",
    "  - (수치) 인덱스가 대응되는 원소끼리만 수행됨을 알 수 있다. \n",
    "  - 대응되는 (수치) 인덱스가 없으면 연산의 결과가 `NaN`이다. \n",
    "  - (수치) 인덱스 기반으로 연산이 수행된다. "
   ]
  },
  {
   "cell_type": "markdown",
   "metadata": {
    "slideshow": {
     "slide_type": "subslide"
    }
   },
   "source": [
    "- 맞춤형 (문자) 인덱스를 가진 시리즈 간의 연산은 다음과 같이 수행된다: "
   ]
  },
  {
   "cell_type": "code",
   "execution_count": 42,
   "metadata": {
    "slideshow": {
     "slide_type": "fragment"
    }
   },
   "outputs": [
    {
     "data": {
      "text/plain": [
       "A    0\n",
       "B    1\n",
       "C    2\n",
       "D    3\n",
       "dtype: int64"
      ]
     },
     "execution_count": 42,
     "metadata": {},
     "output_type": "execute_result"
    }
   ],
   "source": [
    "s1 = pd.Series(data=range(4),\n",
    "               index=[\"A\", \"B\", \"C\", \"D\"])\n",
    "s1"
   ]
  },
  {
   "cell_type": "code",
   "execution_count": 43,
   "metadata": {
    "slideshow": {
     "slide_type": "fragment"
    }
   },
   "outputs": [
    {
     "data": {
      "text/plain": [
       "B    10\n",
       "C    11\n",
       "D    12\n",
       "E    13\n",
       "dtype: int64"
      ]
     },
     "execution_count": 43,
     "metadata": {},
     "output_type": "execute_result"
    }
   ],
   "source": [
    "s2 = pd.Series(data=range(10, 14),\n",
    "               index=[\"B\", \"C\", \"D\", \"E\"])\n",
    "s2"
   ]
  },
  {
   "cell_type": "code",
   "execution_count": 44,
   "metadata": {
    "slideshow": {
     "slide_type": "fragment"
    }
   },
   "outputs": [
    {
     "data": {
      "text/plain": [
       "A     NaN\n",
       "B    11.0\n",
       "C    13.0\n",
       "D    15.0\n",
       "E     NaN\n",
       "dtype: float64"
      ]
     },
     "execution_count": 44,
     "metadata": {},
     "output_type": "execute_result"
    }
   ],
   "source": [
    "s1 + s2  # 대응되는 레이블 인덱스가 없으면 연산 결과가 NaN이 됨\n",
    "         # 정수 간 덧셈 결과는 실수"
   ]
  },
  {
   "cell_type": "markdown",
   "metadata": {
    "slideshow": {
     "slide_type": "subslide"
    }
   },
   "source": [
    "- 앞에서 확인할 수 있듯이, 시리즈 간의 연산은 일치하는 인덱스끼리만 수행된다. \n",
    "- 두 시리즈에 일치하는 인덱스가 (어느 한 쪽이라도) 없는 경우,  \n",
    "  연산 결과는 `NaN` 값이 된다. \n",
    "- 연산 결과의 인덱스는 두 인덱스의 합집합이 된다. \n",
    "\n",
    "|![그림 3. 시리즈 간의 레이블 인덱스 기반 연산](../img/chapter7/series_addition.png)<br>그림 3. 시리즈 간의 인덱스 기반 연산|\n",
    "|:---|\n"
   ]
  },
  {
   "cell_type": "markdown",
   "metadata": {
    "slideshow": {
     "slide_type": "subslide"
    }
   },
   "source": [
    "- 곱셈이나 제곱과 같은 시리즈에 대한 표준적 연산도 수행 가능하다.\n",
    "- (대부분의 경우) 넘파이 함수 인자로서 판다스 시리즈를 허용한다.  \n",
    "  이는 판다스 시리즈가 넘파이 배열에 기반하여 구현되었기 때문이다. "
   ]
  },
  {
   "cell_type": "code",
   "execution_count": 45,
   "metadata": {
    "slideshow": {
     "slide_type": "fragment"
    }
   },
   "outputs": [
    {
     "data": {
      "text/plain": [
       "A    0\n",
       "B    1\n",
       "C    2\n",
       "D    3\n",
       "dtype: int64"
      ]
     },
     "execution_count": 45,
     "metadata": {},
     "output_type": "execute_result"
    }
   ],
   "source": [
    "s1                            # 앞서 정의한 s1"
   ]
  },
  {
   "cell_type": "code",
   "execution_count": 46,
   "metadata": {
    "scrolled": true,
    "slideshow": {
     "slide_type": "fragment"
    }
   },
   "outputs": [
    {
     "data": {
      "text/plain": [
       "B    10\n",
       "C    11\n",
       "D    12\n",
       "E    13\n",
       "dtype: int64"
      ]
     },
     "execution_count": 46,
     "metadata": {},
     "output_type": "execute_result"
    }
   ],
   "source": [
    "s2                            # 앞서 정의한 s2"
   ]
  },
  {
   "cell_type": "code",
   "execution_count": 47,
   "metadata": {
    "slideshow": {
     "slide_type": "fragment"
    }
   },
   "outputs": [
    {
     "data": {
      "text/plain": [
       "A     9\n",
       "B    10\n",
       "C    11\n",
       "D    12\n",
       "E    13\n",
       "dtype: int64"
      ]
     },
     "execution_count": 47,
     "metadata": {},
     "output_type": "execute_result"
    }
   ],
   "source": [
    "s2['A'] = 9                  # 시리즈에 원소 추가\n",
    "s2.sort_index(inplace=True)  # 인덱스 기준 정렬\n",
    "s2"
   ]
  },
  {
   "cell_type": "code",
   "execution_count": 48,
   "metadata": {
    "scrolled": true,
    "slideshow": {
     "slide_type": "subslide"
    }
   },
   "outputs": [
    {
     "data": {
      "text/plain": [
       "A     0.0\n",
       "B    10.0\n",
       "C    22.0\n",
       "D    36.0\n",
       "E     NaN\n",
       "dtype: float64"
      ]
     },
     "execution_count": 48,
     "metadata": {},
     "output_type": "execute_result"
    }
   ],
   "source": [
    "s = s1 * s2\n",
    "s"
   ]
  },
  {
   "cell_type": "code",
   "execution_count": 49,
   "metadata": {
    "scrolled": true,
    "slideshow": {
     "slide_type": "fragment"
    }
   },
   "outputs": [
    {
     "data": {
      "text/plain": [
       "A    0\n",
       "B    1\n",
       "C    2\n",
       "D    3\n",
       "dtype: int64"
      ]
     },
     "execution_count": 49,
     "metadata": {},
     "output_type": "execute_result"
    }
   ],
   "source": [
    "s1       # 앞서 정의한 s1"
   ]
  },
  {
   "cell_type": "code",
   "execution_count": 50,
   "metadata": {
    "slideshow": {
     "slide_type": "fragment"
    }
   },
   "outputs": [
    {
     "data": {
      "text/plain": [
       "A    0\n",
       "B    1\n",
       "C    4\n",
       "D    9\n",
       "dtype: int64"
      ]
     },
     "execution_count": 50,
     "metadata": {},
     "output_type": "execute_result"
    }
   ],
   "source": [
    "s1 ** 2  # 시리즈에 대한 제곱 연산"
   ]
  },
  {
   "cell_type": "markdown",
   "metadata": {
    "slideshow": {
     "slide_type": "fragment"
    }
   },
   "source": [
    "- `np.exp(x)` 메소드는 자연상수 *e*에 대한 거듭제곱값 *e<sup>x</sup>*를 계산한다. \n",
    "- 자연상수 *e*는 [\"100%의 성장률을 가지고 1회 연속 성장할 때 얻게되는 성장량\"](https://angeloyeo.github.io/2019/09/04/natural_number_e.html)을 의미한다. "
   ]
  },
  {
   "cell_type": "code",
   "execution_count": 51,
   "metadata": {
    "scrolled": false,
    "slideshow": {
     "slide_type": "fragment"
    }
   },
   "outputs": [
    {
     "data": {
      "text/plain": [
       "A     1.000000\n",
       "B     2.718282\n",
       "C     7.389056\n",
       "D    20.085537\n",
       "dtype: float64"
      ]
     },
     "execution_count": 51,
     "metadata": {},
     "output_type": "execute_result"
    }
   ],
   "source": [
    "np.exp(s1)  # 시리즈를 인자로 지정한 넘파이 함수 활용"
   ]
  },
  {
   "cell_type": "markdown",
   "metadata": {
    "slideshow": {
     "slide_type": "subslide"
    }
   },
   "source": [
    "- 결측치는 `NaN`, `NA` 및 `None`으로 처리된다. \n",
    "  - `NaN`: Not a Number\n",
    "  - `NA`: Not Available\n",
    "  - `None`: 파이썬 버전 null\n",
    "- 결측치 조사 방법은 다음과 같다:\n",
    "  - `pd.isnull(s)` 또는 `pd.isna(s)`\n",
    "  - `s.isnull()` 또는 `s.isna()`\n",
    "  - 이 4개 명령은 모두 동일하다. "
   ]
  },
  {
   "cell_type": "code",
   "execution_count": 52,
   "metadata": {
    "slideshow": {
     "slide_type": "fragment"
    }
   },
   "outputs": [
    {
     "data": {
      "text/plain": [
       "A    False\n",
       "B    False\n",
       "C    False\n",
       "D    False\n",
       "E     True\n",
       "dtype: bool"
      ]
     },
     "execution_count": 52,
     "metadata": {},
     "output_type": "execute_result"
    }
   ],
   "source": [
    "pd.isnull(s)  # pd.isna(s) 메소드와 동일"
   ]
  },
  {
   "cell_type": "code",
   "execution_count": 53,
   "metadata": {
    "scrolled": false,
    "slideshow": {
     "slide_type": "fragment"
    }
   },
   "outputs": [
    {
     "data": {
      "text/plain": [
       "A    False\n",
       "B    False\n",
       "C    False\n",
       "D    False\n",
       "E     True\n",
       "dtype: bool"
      ]
     },
     "execution_count": 53,
     "metadata": {},
     "output_type": "execute_result"
    }
   ],
   "source": [
    "s.isnull()   # s.isna() 메소드와 동일"
   ]
  },
  {
   "cell_type": "markdown",
   "metadata": {
    "slideshow": {
     "slide_type": "subslide"
    }
   },
   "source": [
    "- 비결측치 조사 방법은 다음과 같다:\n",
    "  - `pd.notnull(s)` 또는 `pd.notna(s)`\n",
    "  - `s.notnull()` 또는 `s.notna()`\n",
    "  - 이 4개 명령은 모두 동일하다. "
   ]
  },
  {
   "cell_type": "code",
   "execution_count": 54,
   "metadata": {
    "slideshow": {
     "slide_type": "subslide"
    }
   },
   "outputs": [
    {
     "data": {
      "text/plain": [
       "A     True\n",
       "B     True\n",
       "C     True\n",
       "D     True\n",
       "E    False\n",
       "dtype: bool"
      ]
     },
     "execution_count": 54,
     "metadata": {},
     "output_type": "execute_result"
    }
   ],
   "source": [
    "pd.notnull(s)  # pd.notna() 메소드와 동일"
   ]
  },
  {
   "cell_type": "code",
   "execution_count": 55,
   "metadata": {
    "slideshow": {
     "slide_type": "fragment"
    }
   },
   "outputs": [
    {
     "data": {
      "text/plain": [
       "A     True\n",
       "B     True\n",
       "C     True\n",
       "D     True\n",
       "E    False\n",
       "dtype: bool"
      ]
     },
     "execution_count": 55,
     "metadata": {},
     "output_type": "execute_result"
    }
   ],
   "source": [
    "s.notnull()   # s.notna() 메소드와 동일"
   ]
  },
  {
   "cell_type": "markdown",
   "metadata": {
    "slideshow": {
     "slide_type": "subslide"
    }
   },
   "source": [
    "- 넘파이 배열과 마찬가지로,  \n",
    "  시리즈에도 내장된 메소드가 매우 다양하다. \n",
    "- 넘파이 시리즈에 내장된 메소드는 `help(pd.Series)` 코드로 확인 가능하다. "
   ]
  },
  {
   "cell_type": "code",
   "execution_count": 56,
   "metadata": {
    "slideshow": {
     "slide_type": "fragment"
    }
   },
   "outputs": [],
   "source": [
    "# help(pd.Series)  # 너무 긴 출력! 주석을 제거하고 실행하여 보라."
   ]
  },
  {
   "cell_type": "markdown",
   "metadata": {
    "slideshow": {
     "slide_type": "fragment"
    }
   },
   "source": [
    "|![그림 4. 200쪽이 넘는 `help(pd.Series)` 출력 결과의 앞 부분 ](../img/chapter7/help.png)<br>그림 4. 200쪽이 넘는 `help(pd.Series)` 출력 결과의 앞 부분 |\n",
    "|:---|"
   ]
  },
  {
   "cell_type": "code",
   "execution_count": 57,
   "metadata": {
    "scrolled": true,
    "slideshow": {
     "slide_type": "subslide"
    }
   },
   "outputs": [
    {
     "name": "stdout",
     "output_type": "stream",
     "text": [
      "212\n",
      "['T', 'abs', 'add', 'add_prefix', 'add_suffix', 'agg', 'aggregate', 'align', 'all', 'any', 'append', 'apply', 'argmax', 'argmin', 'argsort', 'array', 'asfreq', 'asof', 'astype', 'at', 'at_time', 'attrs', 'autocorr', 'axes', 'backfill', 'between', 'between_time', 'bfill', 'bool', 'cat', 'clip', 'combine', 'combine_first', 'compare', 'convert_dtypes', 'copy', 'corr', 'count', 'cov', 'cummax', 'cummin', 'cumprod', 'cumsum', 'describe', 'diff', 'div', 'divide', 'divmod', 'dot', 'drop', 'drop_duplicates', 'droplevel', 'dropna', 'dt', 'dtype', 'dtypes', 'duplicated', 'empty', 'eq', 'equals', 'ewm', 'expanding', 'explode', 'factorize', 'ffill', 'fillna', 'filter', 'first', 'first_valid_index', 'flags', 'floordiv', 'ge', 'get', 'groupby', 'gt', 'hasnans', 'head', 'hist', 'iat', 'idxmax', 'idxmin', 'iloc', 'index', 'infer_objects', 'interpolate', 'is_monotonic', 'is_monotonic_decreasing', 'is_monotonic_increasing', 'is_unique', 'isin', 'isna', 'isnull', 'item', 'items', 'iteritems', 'keys', 'kurt', 'kurtosis', 'last', 'last_valid_index', 'le', 'loc', 'lt', 'mad', 'map', 'mask', 'max', 'mean', 'median', 'memory_usage', 'min', 'mod', 'mode', 'mul', 'multiply', 'name', 'nbytes', 'ndim', 'ne', 'nlargest', 'notna', 'notnull', 'nsmallest', 'nunique', 'pad', 'pct_change', 'pipe', 'plot', 'pop', 'pow', 'prod', 'product', 'quantile', 'radd', 'rank', 'ravel', 'rdiv', 'rdivmod', 'reindex', 'reindex_like', 'rename', 'rename_axis', 'reorder_levels', 'repeat', 'replace', 'resample', 'reset_index', 'rfloordiv', 'rmod', 'rmul', 'rolling', 'round', 'rpow', 'rsub', 'rtruediv', 'sample', 'searchsorted', 'sem', 'set_axis', 'set_flags', 'shape', 'shift', 'size', 'skew', 'slice_shift', 'sort_index', 'sort_values', 'sparse', 'squeeze', 'std', 'str', 'sub', 'subtract', 'sum', 'swapaxes', 'swaplevel', 'tail', 'take', 'to_clipboard', 'to_csv', 'to_dict', 'to_excel', 'to_frame', 'to_hdf', 'to_json', 'to_latex', 'to_list', 'to_markdown', 'to_numpy', 'to_period', 'to_pickle', 'to_sql', 'to_string', 'to_timestamp', 'to_xarray', 'tolist', 'transform', 'transpose', 'truediv', 'truncate', 'tshift', 'tz_convert', 'tz_localize', 'unique', 'unstack', 'update', 'value_counts', 'values', 'var', 'view', 'where', 'xs']\n"
     ]
    }
   ],
   "source": [
    "series_method_list = [x for x in dir(pd.Series) if not x.startswith(\"_\")]  # 모든 일반 메소드를 리스트로 저장\n",
    "print(len(series_method_list))\n",
    "print(series_method_list)  "
   ]
  },
  {
   "cell_type": "code",
   "execution_count": 58,
   "metadata": {
    "slideshow": {
     "slide_type": "subslide"
    }
   },
   "outputs": [
    {
     "data": {
      "text/plain": [
       "A    0\n",
       "B    1\n",
       "C    2\n",
       "D    3\n",
       "dtype: int64"
      ]
     },
     "execution_count": 58,
     "metadata": {},
     "output_type": "execute_result"
    }
   ],
   "source": [
    "s1                # 앞서 정의한 s1"
   ]
  },
  {
   "cell_type": "code",
   "execution_count": 59,
   "metadata": {
    "slideshow": {
     "slide_type": "fragment"
    }
   },
   "outputs": [
    {
     "data": {
      "text/plain": [
       "1.5"
      ]
     },
     "execution_count": 59,
     "metadata": {},
     "output_type": "execute_result"
    }
   ],
   "source": [
    "s1.mean()         # 시리즈 평균 확인"
   ]
  },
  {
   "cell_type": "code",
   "execution_count": 60,
   "metadata": {
    "slideshow": {
     "slide_type": "fragment"
    }
   },
   "outputs": [
    {
     "data": {
      "text/plain": [
       "6"
      ]
     },
     "execution_count": 60,
     "metadata": {},
     "output_type": "execute_result"
    }
   ],
   "source": [
    "s1.sum()          # 시리즈 합계 확인"
   ]
  },
  {
   "cell_type": "code",
   "execution_count": 61,
   "metadata": {
    "scrolled": true,
    "slideshow": {
     "slide_type": "fragment"
    }
   },
   "outputs": [
    {
     "data": {
      "text/plain": [
       "A    0.0\n",
       "B    1.0\n",
       "C    2.0\n",
       "D    3.0\n",
       "dtype: float64"
      ]
     },
     "execution_count": 61,
     "metadata": {},
     "output_type": "execute_result"
    }
   ],
   "source": [
    "s1.astype(float)  # 시리즈 자료형 변환"
   ]
  },
  {
   "cell_type": "markdown",
   "metadata": {
    "slideshow": {
     "slide_type": "subslide"
    }
   },
   "source": [
    "- 판다스 연산의 \"**연쇄**(chaining)\"는 자주 쓰는 방식이다.  "
   ]
  },
  {
   "cell_type": "code",
   "execution_count": 62,
   "metadata": {
    "scrolled": true,
    "slideshow": {
     "slide_type": "fragment"
    }
   },
   "outputs": [
    {
     "data": {
      "text/plain": [
       "22.779600000000002"
      ]
     },
     "execution_count": 62,
     "metadata": {},
     "output_type": "execute_result"
    }
   ],
   "source": [
    "# 시리즈에 덧셈, 제곱, 평균 연산을 연쇄적으로 수행\n",
    "s1.add(3.14).pow(2).mean()"
   ]
  },
  {
   "cell_type": "markdown",
   "metadata": {
    "slideshow": {
     "slide_type": "fragment"
    }
   },
   "source": [
    "- 판다스 시리즈의 연산에 대한 내용을 정리하면 다음과 같다:\n",
    "  - 시리즈 간의 연산은 두 시리즈에서 일치하는 인덱스끼리만 수행된다. \n",
    "  - 시리즈와 스칼라 값 간의 연산은 시리즈 원소 모두에 대하여 스칼라 값이 반복적으로 적용된다. \n",
    "  - 대부분의 넘파이 함수는 판다스 시리즈에서도 적용 가능하다. \n",
    "  - 메소드 연쇄 호출 형식은 자주 사용되는 스타일이다. \n",
    "- 이제 판다스 시리즈에 저장 가능한 자료형에 대해 공부하자. \n",
    "\n",
    "<div style=\"page-break-after: always;\"></div> "
   ]
  },
  {
   "cell_type": "markdown",
   "metadata": {
    "slideshow": {
     "slide_type": "subslide"
    }
   },
   "source": [
    "### 2.6 저장 가능한 자료형"
   ]
  },
  {
   "cell_type": "markdown",
   "metadata": {
    "slideshow": {
     "slide_type": "subslide"
    }
   },
   "source": [
    "- 시리즈에는 모든 종류의 자료형(`dtypes`)을 저장할 수 있다. \n",
    "  - `int`, `float`, `bool` \n",
    "  - `object`, `DateTime` 및 `Category`\n",
    "- 판다스 기본 자료형에 대해서는 [여기](https://wikidocs.net/78180)를 참고하라. \n",
    "- 판다스 `Category` 자료형에 대해서는 [여기](https://wikidocs.net/78187)를 참고하라. "
   ]
  },
  {
   "cell_type": "markdown",
   "metadata": {
    "slideshow": {
     "slide_type": "subslide"
    }
   },
   "source": [
    " 아래 코드는 `dtype`이 `int64`인 시리즈에 대한 예제이다:"
   ]
  },
  {
   "cell_type": "code",
   "execution_count": 63,
   "metadata": {
    "slideshow": {
     "slide_type": "fragment"
    }
   },
   "outputs": [
    {
     "data": {
      "text/plain": [
       "dtype('int64')"
      ]
     },
     "execution_count": 63,
     "metadata": {},
     "output_type": "execute_result"
    }
   ],
   "source": [
    "x = pd.Series(range(5))\n",
    "x.dtype"
   ]
  },
  {
   "cell_type": "markdown",
   "metadata": {
    "slideshow": {
     "slide_type": "subslide"
    }
   },
   "source": [
    "- 파이썬 문자열은 `str`로 표시하지만, 판다스 문자열은 `object`로 표시된다. \n",
    "- 판다스 `object`는 문자열 또는 혼합된 자료형을 의미한다. \n",
    "- 판다스는 전용 문자열 자료형인 `StringDtype`에 대한 [실험을 진행](https://pandas.pydata.org/pandas-docs/stable/reference/api/pandas.StringDtype.html#pandas.StringDtype) 중이다."
   ]
  },
  {
   "cell_type": "code",
   "execution_count": 64,
   "metadata": {
    "slideshow": {
     "slide_type": "fragment"
    }
   },
   "outputs": [
    {
     "data": {
      "text/plain": [
       "0    A\n",
       "1    B\n",
       "dtype: object"
      ]
     },
     "execution_count": 64,
     "metadata": {},
     "output_type": "execute_result"
    }
   ],
   "source": [
    "x = pd.Series(['A', 'B'])  # 판다스에서 문자열은 `object` 자료형\n",
    "x"
   ]
  },
  {
   "cell_type": "code",
   "execution_count": 65,
   "metadata": {
    "slideshow": {
     "slide_type": "fragment"
    }
   },
   "outputs": [
    {
     "data": {
      "text/plain": [
       "0                   A\n",
       "1                   1\n",
       "2    [I, AM, A, LIST]\n",
       "dtype: object"
      ]
     },
     "execution_count": 65,
     "metadata": {},
     "output_type": "execute_result"
    }
   ],
   "source": [
    "x = pd.Series(            # 판다스에서 혼합된 자료형을 가지는 시리즈도 `object` 자료형\n",
    "    ['A', 1, [\"I\", \"AM\", \"A\", \"LIST\"]])  \n",
    "x"
   ]
  },
  {
   "cell_type": "markdown",
   "metadata": {
    "slideshow": {
     "slide_type": "subslide"
    }
   },
   "source": [
    "- `object` 자료형이 유연하기는 하지만 메모리 소비가 크므로,  \n",
    "  `object` 자료형의 활용을 권하지는 않는다. \n",
    "  - 자료형이 `object`로 지정된 시리즈에서는  \n",
    "    모든 개별 원소마다 자료형이 별도로 지정된다. \n",
    "  - 자료형이 혼합된 시리즈에서,  \n",
    "    원소마다 개별적으로 지정된 자료형을 검사하는 다양한 방법이 존재하는데,  \n",
    "    아래에서 `map()` 메소드를 활용하는 방법을 살펴보자."
   ]
  },
  {
   "cell_type": "code",
   "execution_count": 66,
   "metadata": {
    "slideshow": {
     "slide_type": "fragment"
    }
   },
   "outputs": [
    {
     "data": {
      "text/plain": [
       "0     <class 'str'>\n",
       "1     <class 'int'>\n",
       "2    <class 'list'>\n",
       "dtype: object"
      ]
     },
     "execution_count": 66,
     "metadata": {},
     "output_type": "execute_result"
    }
   ],
   "source": [
    "x.map(type)  # 시리즈 x의 모든 원소마다 type() 함수를 적용"
   ]
  },
  {
   "cell_type": "markdown",
   "metadata": {
    "slideshow": {
     "slide_type": "fragment"
    }
   },
   "source": [
    "- 직전 셀의 실행 결과에서, 시리즈에 저장된 개별 원소마다 자료형이 다르다는 점을 알 수 있다. \n",
    "  - 이는 메모리 비용이라는 대가를 치러서 얻은 것이다.\n",
    "  - 혼합 자료형으로 저장한 시리즈의 메모리 소비량이 훨씬 크다는 점을  \n",
    "    [`.memory_usage()`](https://pandas.pydata.org/pandas-docs/stable/reference/api/pandas.Series.memory_usage.html)를 써서 확인할 수 있다.   "
   ]
  },
  {
   "cell_type": "markdown",
   "metadata": {
    "slideshow": {
     "slide_type": "subslide"
    }
   },
   "source": [
    "- 다음과 같이 자료형에 따른 메모리 소비량을 비교할 수 있다:"
   ]
  },
  {
   "cell_type": "code",
   "execution_count": 67,
   "metadata": {
    "slideshow": {
     "slide_type": "fragment"
    }
   },
   "outputs": [
    {
     "name": "stdout",
     "output_type": "stream",
     "text": [
      "x1 dtype: int64\n",
      "x1 memory usage: 152 bytes\n",
      "\n",
      "x2 dtype: object\n",
      "x2 memory usage: 258 bytes\n",
      "\n",
      "x3 dtype: int8\n",
      "x3 memory usage: 131 bytes\n"
     ]
    }
   ],
   "source": [
    "x1 = pd.Series([1, 2, 3])                   # 단일 자료형 시리즈\n",
    "print(f\"x1 dtype: {x1.dtype}\")\n",
    "print(f\"x1 memory usage: {x1.memory_usage(deep=True)} bytes\")\n",
    "\n",
    "x2 = pd.Series([1, 2, \"3\"])                 # 혼합 자료형 시리즈\n",
    "print(f\"\\nx2 dtype: {x2.dtype}\")\n",
    "print(f\"x2 memory usage: {x2.memory_usage(deep=True)} bytes\")\n",
    "\n",
    "x3 = pd.Series([1, 2, \"3\"]).astype('int8')  # 혼합 자료형 시리즈의 자료형을 강제로 'int8'로 지정\n",
    "print(f\"\\nx3 dtype: {x3.dtype}\")\n",
    "print(f\"x3 memory usage: {x3.memory_usage(deep=True)} bytes\")"
   ]
  },
  {
   "cell_type": "markdown",
   "metadata": {
    "slideshow": {
     "slide_type": "fragment"
    }
   },
   "source": [
    "- 가능하다면, 시리즈 내부의 자료형을 통일적으로 지정하라.  \n",
    "  그래야 메모리 효율을 높일 수 있다. "
   ]
  },
  {
   "cell_type": "markdown",
   "metadata": {
    "slideshow": {
     "slide_type": "subslide"
    }
   },
   "source": [
    "- `NaN`은 데이터에서 결측치를 표현하기 위하여 흔히 사용하는 값인데,  \n",
    "  `NaN`의 자료형은 `float`이다.\n",
    "- `NaN`은 /næn/으로 발음하며, \"Not a Number\"의 줄임말이다.  "
   ]
  },
  {
   "cell_type": "code",
   "execution_count": 68,
   "metadata": {
    "slideshow": {
     "slide_type": "fragment"
    }
   },
   "outputs": [
    {
     "data": {
      "text/plain": [
       "float"
      ]
     },
     "execution_count": 68,
     "metadata": {},
     "output_type": "execute_result"
    }
   ],
   "source": [
    "type(np.NaN)"
   ]
  },
  {
   "cell_type": "markdown",
   "metadata": {
    "slideshow": {
     "slide_type": "subslide"
    }
   },
   "source": [
    "- `NaN`의 자료형이 `float`라는 점이 문제가 되기도 한다.\n",
    "  - 정수로 구성된 시리즈에 결측치가 하나 포함되어 있다고 가정하자. \n",
    "  - 이 결측치를 `NaN`으로 지정하면,  \n",
    "    판다스가 전체 시리즈를 `float` 자료형으로 강제 변환해 버린다. "
   ]
  },
  {
   "cell_type": "code",
   "execution_count": 69,
   "metadata": {
    "slideshow": {
     "slide_type": "fragment"
    }
   },
   "outputs": [
    {
     "data": {
      "text/plain": [
       "0    1.0\n",
       "1    2.0\n",
       "2    3.0\n",
       "3    NaN\n",
       "dtype: float64"
      ]
     },
     "execution_count": 69,
     "metadata": {},
     "output_type": "execute_result"
    }
   ],
   "source": [
    "pd.Series([1, 2, 3, np.NaN])"
   ]
  },
  {
   "cell_type": "markdown",
   "metadata": {
    "slideshow": {
     "slide_type": "subslide"
    }
   },
   "source": [
    "- 판다스는 최근에서야,  \n",
    "  \"[널로 처리되는 정수형](https://pandas.pydata.org/pandas-docs/stable/user_guide/integer_na.html)\"을 구현했다. \n",
    "  - 이 방식에서는 전체 시리즈의 자료형을 강제 변환하지 않고도  \n",
    "    정수형 시리즈에 포함된 `NaN`을 취급할 수 있게 만들어 준다. \n",
    "  - 이 방식을 쓰려면, 아래 예제 코드와 같이,  \n",
    "    넘파이에서 제공하는 (소문자 'i'로 시작하는) `int64` 대신에  \n",
    "    판다스에서 제공하는 (대문자 'I'로 시작하는) `Int64` 자료형으로  \n",
    "    형변환을 해야 한다.  \n"
   ]
  },
  {
   "cell_type": "code",
   "execution_count": 70,
   "metadata": {
    "slideshow": {
     "slide_type": "fragment"
    }
   },
   "outputs": [
    {
     "data": {
      "text/plain": [
       "0       1\n",
       "1       2\n",
       "2       3\n",
       "3    <NA>\n",
       "dtype: Int64"
      ]
     },
     "execution_count": 70,
     "metadata": {},
     "output_type": "execute_result"
    }
   ],
   "source": [
    "pd.Series([1, 2, 3, np.NaN]).astype('Int64')"
   ]
  },
  {
   "cell_type": "markdown",
   "metadata": {
    "slideshow": {
     "slide_type": "fragment"
    }
   },
   "source": [
    "- 이 방식은 아직 판다스의 기본값이 아니며,  \n",
    "  기능 구현 방식이 향후 변경될 수도 있다. "
   ]
  },
  {
   "cell_type": "markdown",
   "metadata": {
    "slideshow": {
     "slide_type": "subslide"
    }
   },
   "source": [
    "- 판다스 시리즈에 \n",
    "  - 정수, 실수, 논리값, 날짜 및 카테고리 등의 기본 자료형을 저장할 수 있다.\n",
    "  - 판다스 기본 자료형 중에서 카테고리 형은 범주형 값을 처리할 때 사용한다. \n",
    "  - 문자열은 object 자료형으로 취급된다. \n",
    "  - 자료형을 혼합하여 저장하여도 object 자료형으로 처리된다. \n",
    "  - 시리즈 원소마다 자료형이 다를 수 있으므로 넘파이 배열보다 유연하지만,  \n",
    "    처리 속도 및 저장 공간에 대한 비용을 치르게 된다. \n",
    "  - NaN이 포함되면 float 자료형으로 취급된다. \n",
    "- 판다스 시리즈에 저장 가능한 자료형에 대한 공부를 마치고,  \n",
    "  판다스 데이터프레임에 대해 공부하자. \n",
    "\n",
    "<div style=\"page-break-after: always;\"></div> "
   ]
  },
  {
   "cell_type": "markdown",
   "metadata": {
    "slideshow": {
     "slide_type": "slide"
    }
   },
   "source": [
    "## 3. 판다스 데이터프레임"
   ]
  },
  {
   "cell_type": "markdown",
   "metadata": {
    "slideshow": {
     "slide_type": "subslide"
    }
   },
   "source": [
    "### 3.1 데이터프레임의 개념"
   ]
  },
  {
   "cell_type": "markdown",
   "metadata": {
    "slideshow": {
     "slide_type": "fragment"
    }
   },
   "source": [
    "- 판다스 데이터프레임(DataFrame)이야말로 멋진 데이터 과학 도구이다. \n",
    "  - 당신이 사용하던 엑셀 스프레드시트와 비슷하다. \n",
    "  - 데이터프레임은 시리즈가 여러 개 결합된 형태이다. \n",
    "  - 데이터프레임을 시리즈의 사전(dictionary)이라고 생각하라. \n",
    "    - 데이터프레임의 열 레이블이 사전의 키 역할을 담당한다.\n",
    "    - 데이터프레임에 저장된 값들은 사전의 데이터 시리즈에 해당한다. \n",
    "\n",
    "|![그림 5. 여러 시리즈가 합쳐진 형태와 유사한 데이터프레임](../img/chapter7/dataframe.png)<br>그림 5. 여러 시리즈가 결합된 형태와 유사한 데이터프레임|\n",
    "|:---|"
   ]
  },
  {
   "cell_type": "markdown",
   "metadata": {
    "slideshow": {
     "slide_type": "fragment"
    }
   },
   "source": [
    "- 판다스 데이터프레임에 대한 개념 소개를 간략하게 마치고,  \n",
    "  판다스 데이터프레임 생성에 대해 공부하자. \n",
    "\n",
    "<div style=\"page-break-after: always;\"></div> "
   ]
  },
  {
   "cell_type": "markdown",
   "metadata": {
    "slideshow": {
     "slide_type": "subslide"
    }
   },
   "source": [
    "### 3.2 데이터프레임의 생성"
   ]
  },
  {
   "cell_type": "markdown",
   "metadata": {
    "slideshow": {
     "slide_type": "fragment"
    }
   },
   "source": [
    "- 데이터프레임은 `pd.DataFrame()`으로 생성한다. \n",
    "  - 여기서 \"D\"와 \"F\"가 대문자이다. \n",
    "  - 시리즈와 유사하게,  \n",
    "    데이터프레임의 행 인덱스와 열 레이블은 기본적으로 0부터 시작하는 정수이다. "
   ]
  },
  {
   "cell_type": "code",
   "execution_count": 71,
   "metadata": {
    "slideshow": {
     "slide_type": "fragment"
    }
   },
   "outputs": [
    {
     "data": {
      "text/html": [
       "<div>\n",
       "<style scoped>\n",
       "    .dataframe tbody tr th:only-of-type {\n",
       "        vertical-align: middle;\n",
       "    }\n",
       "\n",
       "    .dataframe tbody tr th {\n",
       "        vertical-align: top;\n",
       "    }\n",
       "\n",
       "    .dataframe thead th {\n",
       "        text-align: right;\n",
       "    }\n",
       "</style>\n",
       "<table border=\"1\" class=\"dataframe\">\n",
       "  <thead>\n",
       "    <tr style=\"text-align: right;\">\n",
       "      <th></th>\n",
       "      <th>0</th>\n",
       "      <th>1</th>\n",
       "      <th>2</th>\n",
       "    </tr>\n",
       "  </thead>\n",
       "  <tbody>\n",
       "    <tr>\n",
       "      <th>0</th>\n",
       "      <td>1</td>\n",
       "      <td>2</td>\n",
       "      <td>3</td>\n",
       "    </tr>\n",
       "    <tr>\n",
       "      <th>1</th>\n",
       "      <td>4</td>\n",
       "      <td>5</td>\n",
       "      <td>6</td>\n",
       "    </tr>\n",
       "    <tr>\n",
       "      <th>2</th>\n",
       "      <td>7</td>\n",
       "      <td>8</td>\n",
       "      <td>9</td>\n",
       "    </tr>\n",
       "  </tbody>\n",
       "</table>\n",
       "</div>"
      ],
      "text/plain": [
       "   0  1  2\n",
       "0  1  2  3\n",
       "1  4  5  6\n",
       "2  7  8  9"
      ]
     },
     "execution_count": 71,
     "metadata": {},
     "output_type": "execute_result"
    }
   ],
   "source": [
    "# 특별히 지정하지 않으면, \n",
    "# 행 인덱스와 열 레이블이 모두 0부터 시작하는 정수로 지정됨\n",
    "pd.DataFrame(\n",
    "    [[1, 2, 3],  \n",
    "     [4, 5, 6],\n",
    "     [7, 8, 9]])"
   ]
  },
  {
   "cell_type": "markdown",
   "metadata": {
    "slideshow": {
     "slide_type": "subslide"
    }
   },
   "source": [
    "- `index` 및 `columns` 인자를 이용하여  \n",
    "  (기본값이 아닌) 행 인덱스 및 열 레이블을 지정할 수 있다. \n"
   ]
  },
  {
   "cell_type": "code",
   "execution_count": 72,
   "metadata": {
    "slideshow": {
     "slide_type": "fragment"
    }
   },
   "outputs": [
    {
     "data": {
      "text/html": [
       "<div>\n",
       "<style scoped>\n",
       "    .dataframe tbody tr th:only-of-type {\n",
       "        vertical-align: middle;\n",
       "    }\n",
       "\n",
       "    .dataframe tbody tr th {\n",
       "        vertical-align: top;\n",
       "    }\n",
       "\n",
       "    .dataframe thead th {\n",
       "        text-align: right;\n",
       "    }\n",
       "</style>\n",
       "<table border=\"1\" class=\"dataframe\">\n",
       "  <thead>\n",
       "    <tr style=\"text-align: right;\">\n",
       "      <th></th>\n",
       "      <th>번호</th>\n",
       "      <th>신장</th>\n",
       "      <th>체중</th>\n",
       "    </tr>\n",
       "  </thead>\n",
       "  <tbody>\n",
       "    <tr>\n",
       "      <th>학생1</th>\n",
       "      <td>1</td>\n",
       "      <td>170</td>\n",
       "      <td>70</td>\n",
       "    </tr>\n",
       "    <tr>\n",
       "      <th>학생2</th>\n",
       "      <td>2</td>\n",
       "      <td>160</td>\n",
       "      <td>65</td>\n",
       "    </tr>\n",
       "    <tr>\n",
       "      <th>학생3</th>\n",
       "      <td>3</td>\n",
       "      <td>180</td>\n",
       "      <td>82</td>\n",
       "    </tr>\n",
       "  </tbody>\n",
       "</table>\n",
       "</div>"
      ],
      "text/plain": [
       "     번호   신장  체중\n",
       "학생1   1  170  70\n",
       "학생2   2  160  65\n",
       "학생3   3  180  82"
      ]
     },
     "execution_count": 72,
     "metadata": {},
     "output_type": "execute_result"
    }
   ],
   "source": [
    "pd.DataFrame(\n",
    "    data=[[1, 170, 70],                 # data 인자\n",
    "          [2, 160, 65],\n",
    "          [3, 180, 82]],\n",
    "    index=[\"학생1\", \"학생2\", \"학생3\"],  # index 인자\n",
    "    columns=[\"번호\", \"신장\", \"체중\"])   # columns 인자"
   ]
  },
  {
   "cell_type": "markdown",
   "metadata": {
    "slideshow": {
     "slide_type": "subslide"
    }
   },
   "source": [
    "- 데이터프레임을 생성하는 방법은 매우 다양하다.  \n",
    "  사전이나 n차원 배열로부터 데이터프레임을 생성하는 방식이  \n",
    "  가장 자주 사용된다. "
   ]
  },
  {
   "cell_type": "code",
   "execution_count": 73,
   "metadata": {
    "scrolled": true,
    "slideshow": {
     "slide_type": "fragment"
    }
   },
   "outputs": [
    {
     "data": {
      "text/html": [
       "<div>\n",
       "<style scoped>\n",
       "    .dataframe tbody tr th:only-of-type {\n",
       "        vertical-align: middle;\n",
       "    }\n",
       "\n",
       "    .dataframe tbody tr th {\n",
       "        vertical-align: top;\n",
       "    }\n",
       "\n",
       "    .dataframe thead th {\n",
       "        text-align: right;\n",
       "    }\n",
       "</style>\n",
       "<table border=\"1\" class=\"dataframe\">\n",
       "  <thead>\n",
       "    <tr style=\"text-align: right;\">\n",
       "      <th></th>\n",
       "      <th>번호</th>\n",
       "      <th>신장</th>\n",
       "      <th>체중</th>\n",
       "    </tr>\n",
       "  </thead>\n",
       "  <tbody>\n",
       "    <tr>\n",
       "      <th>학생1</th>\n",
       "      <td>1</td>\n",
       "      <td>170</td>\n",
       "      <td>70</td>\n",
       "    </tr>\n",
       "    <tr>\n",
       "      <th>학생2</th>\n",
       "      <td>2</td>\n",
       "      <td>160</td>\n",
       "      <td>65</td>\n",
       "    </tr>\n",
       "    <tr>\n",
       "      <th>학생3</th>\n",
       "      <td>3</td>\n",
       "      <td>180</td>\n",
       "      <td>82</td>\n",
       "    </tr>\n",
       "  </tbody>\n",
       "</table>\n",
       "</div>"
      ],
      "text/plain": [
       "     번호   신장  체중\n",
       "학생1   1  170  70\n",
       "학생2   2  160  65\n",
       "학생3   3  180  82"
      ]
     },
     "execution_count": 73,
     "metadata": {},
     "output_type": "execute_result"
    }
   ],
   "source": [
    "pd.DataFrame(\n",
    "    data={\"번호\": np.arange(1, 4),               # 사전으로 열 레이블과 값을 지정\n",
    "          \"신장\": [170, 160, 180],               # 사전으로 열 레이블과 값을 지정\n",
    "          \"체중\": [70, 65, 82]},                 # 사전으로 열 레이블과 값을 지정\n",
    "    index=[\"학생\"+str(_) for _ in range(1, 4)])  # 리스트로 행 인덱스 지정"
   ]
  },
  {
   "cell_type": "markdown",
   "metadata": {
    "slideshow": {
     "slide_type": "fragment"
    }
   },
   "source": [
    "- `pd.DataFrame()`의 `data` 인자를 사전 형태로 지정하면,  \n",
    "  - 사전의 키가 열 레이블이 되고, \n",
    "  - 사전의 값이 열 데이터가 되는 \n",
    "  - 데이터프레임을 생성한다."
   ]
  },
  {
   "cell_type": "markdown",
   "metadata": {
    "slideshow": {
     "slide_type": "subslide"
    }
   },
   "source": [
    "- 리스트 컴프리헨션(list comprehension)에 대해 복습하자.  \n",
    "  리스트 컴프리헨션은 컴프리헨션을 활용하여 리스트를 생성하는 코드이다. \n",
    "- 데이터프레임의 `index` 및 `columns` 인자를 리스트 컴프리헨션 형식으로 지정하면 편리하다. "
   ]
  },
  {
   "cell_type": "code",
   "execution_count": 74,
   "metadata": {
    "slideshow": {
     "slide_type": "fragment"
    }
   },
   "outputs": [
    {
     "data": {
      "text/plain": [
       "[0, 1, 2, 3, 4]"
      ]
     },
     "execution_count": 74,
     "metadata": {},
     "output_type": "execute_result"
    }
   ],
   "source": [
    "# 리스트 컴프리헨션 연습 (1)\n",
    "[x for x in range(5)]"
   ]
  },
  {
   "cell_type": "code",
   "execution_count": 75,
   "metadata": {
    "slideshow": {
     "slide_type": "fragment"
    }
   },
   "outputs": [
    {
     "data": {
      "text/plain": [
       "['No-0', 'No-1', 'No-2', 'No-3', 'No-4']"
      ]
     },
     "execution_count": 75,
     "metadata": {},
     "output_type": "execute_result"
    }
   ],
   "source": [
    "# 리스트 컴프리헨션 연습 (2)\n",
    "[f\"No-{x}\" for x in range(5)]    # f-string 표현"
   ]
  },
  {
   "cell_type": "code",
   "execution_count": 76,
   "metadata": {
    "scrolled": true,
    "slideshow": {
     "slide_type": "subslide"
    }
   },
   "outputs": [
    {
     "data": {
      "text/html": [
       "<div>\n",
       "<style scoped>\n",
       "    .dataframe tbody tr th:only-of-type {\n",
       "        vertical-align: middle;\n",
       "    }\n",
       "\n",
       "    .dataframe tbody tr th {\n",
       "        vertical-align: top;\n",
       "    }\n",
       "\n",
       "    .dataframe thead th {\n",
       "        text-align: right;\n",
       "    }\n",
       "</style>\n",
       "<table border=\"1\" class=\"dataframe\">\n",
       "  <thead>\n",
       "    <tr style=\"text-align: right;\">\n",
       "      <th></th>\n",
       "      <th>열_1</th>\n",
       "      <th>열_2</th>\n",
       "      <th>열_3</th>\n",
       "      <th>열_4</th>\n",
       "      <th>열_5</th>\n",
       "    </tr>\n",
       "  </thead>\n",
       "  <tbody>\n",
       "    <tr>\n",
       "      <th>행_1</th>\n",
       "      <td>0.149789</td>\n",
       "      <td>0.179196</td>\n",
       "      <td>-1.053399</td>\n",
       "      <td>-0.101354</td>\n",
       "      <td>-1.735619</td>\n",
       "    </tr>\n",
       "    <tr>\n",
       "      <th>행_2</th>\n",
       "      <td>-0.576498</td>\n",
       "      <td>-2.128800</td>\n",
       "      <td>-0.521170</td>\n",
       "      <td>-1.063929</td>\n",
       "      <td>0.189645</td>\n",
       "    </tr>\n",
       "    <tr>\n",
       "      <th>행_3</th>\n",
       "      <td>-1.967762</td>\n",
       "      <td>0.432413</td>\n",
       "      <td>-0.993062</td>\n",
       "      <td>-0.403470</td>\n",
       "      <td>-0.515358</td>\n",
       "    </tr>\n",
       "    <tr>\n",
       "      <th>행_4</th>\n",
       "      <td>0.578901</td>\n",
       "      <td>0.610537</td>\n",
       "      <td>1.282591</td>\n",
       "      <td>-0.069457</td>\n",
       "      <td>0.106709</td>\n",
       "    </tr>\n",
       "    <tr>\n",
       "      <th>행_5</th>\n",
       "      <td>1.401878</td>\n",
       "      <td>0.436694</td>\n",
       "      <td>-1.054321</td>\n",
       "      <td>-0.708545</td>\n",
       "      <td>-0.610231</td>\n",
       "    </tr>\n",
       "  </tbody>\n",
       "</table>\n",
       "</div>"
      ],
      "text/plain": [
       "          열_1       열_2       열_3       열_4       열_5\n",
       "행_1  0.149789  0.179196 -1.053399 -0.101354 -1.735619\n",
       "행_2 -0.576498 -2.128800 -0.521170 -1.063929  0.189645\n",
       "행_3 -1.967762  0.432413 -0.993062 -0.403470 -0.515358\n",
       "행_4  0.578901  0.610537  1.282591 -0.069457  0.106709\n",
       "행_5  1.401878  0.436694 -1.054321 -0.708545 -0.610231"
      ]
     },
     "execution_count": 76,
     "metadata": {},
     "output_type": "execute_result"
    }
   ],
   "source": [
    "pd.DataFrame(\n",
    "    data=np.random.randn(5, 5),                # 표준정규분포 난수의 이차원 배열로 값을 지정\n",
    "    index=[f\"행_{i}\" for i in range(1, 6)],    # 리스트 컴프리헨션으로 행 인덱스 지정\n",
    "    columns=[f\"열_{j}\" for j in range(1, 6)])  # 리스트 컴프리헨션으로 열 레이블 지정"
   ]
  },
  {
   "cell_type": "markdown",
   "metadata": {
    "slideshow": {
     "slide_type": "subslide"
    }
   },
   "source": [
    "- 중첩된 리스트로 데이터프레임을 생성할 수 있다: "
   ]
  },
  {
   "cell_type": "code",
   "execution_count": 77,
   "metadata": {
    "slideshow": {
     "slide_type": "fragment"
    }
   },
   "outputs": [
    {
     "data": {
      "text/html": [
       "<div>\n",
       "<style scoped>\n",
       "    .dataframe tbody tr th:only-of-type {\n",
       "        vertical-align: middle;\n",
       "    }\n",
       "\n",
       "    .dataframe tbody tr th {\n",
       "        vertical-align: top;\n",
       "    }\n",
       "\n",
       "    .dataframe thead th {\n",
       "        text-align: right;\n",
       "    }\n",
       "</style>\n",
       "<table border=\"1\" class=\"dataframe\">\n",
       "  <thead>\n",
       "    <tr style=\"text-align: right;\">\n",
       "      <th></th>\n",
       "      <th>이름</th>\n",
       "      <th>포인트</th>\n",
       "    </tr>\n",
       "    <tr>\n",
       "      <th>행</th>\n",
       "      <th></th>\n",
       "      <th></th>\n",
       "    </tr>\n",
       "  </thead>\n",
       "  <tbody>\n",
       "    <tr>\n",
       "      <th>r0</th>\n",
       "      <td>Tom</td>\n",
       "      <td>7</td>\n",
       "    </tr>\n",
       "    <tr>\n",
       "      <th>r1</th>\n",
       "      <td>Mike</td>\n",
       "      <td>15</td>\n",
       "    </tr>\n",
       "    <tr>\n",
       "      <th>r2</th>\n",
       "      <td>Tiffany</td>\n",
       "      <td>3</td>\n",
       "    </tr>\n",
       "  </tbody>\n",
       "</table>\n",
       "</div>"
      ],
      "text/plain": [
       "         이름 포인트\n",
       "행              \n",
       "r0      Tom   7\n",
       "r1     Mike  15\n",
       "r2  Tiffany   3"
      ]
     },
     "execution_count": 77,
     "metadata": {},
     "output_type": "execute_result"
    }
   ],
   "source": [
    "# 리스트의 리스트로 데이터프레임 생성\n",
    "# 기본 행 인덱스와 열 레이블 사용\n",
    "df = pd.DataFrame(\n",
    "    data=np.array([['Tom', 7], ['Mike', 15], ['Tiffany', 3]]), \n",
    "    columns=['이름', '포인트'], \n",
    "    index=[f'r{_}' for _ in range(3)])\n",
    "df.index.name='행'\n",
    "df"
   ]
  },
  {
   "cell_type": "markdown",
   "metadata": {
    "slideshow": {
     "slide_type": "subslide"
    }
   },
   "source": [
    "- 데이터프레임 생성 방법을 표로 정리하면 다음과 같다.  \n",
    "  더 자세한 정보는 [판다스 공식 문서(영어)](https://pandas.pydata.org/pandas-docs/stable/user_guide/dsintro.html#dataframe)를 참고하라. \n",
    "\n",
    "|데이터프레임 생성 원천|코드|\n",
    "|---|---|\n",
    "|리스트의 리스트|`pd.DataFrame([['Tom', 7], ['Mike', 15], ['Tiffany', 3]])`|\n",
    "|n차원 배열|`pd.DataFrame(np.array([['Tom', 7], ['Mike', 15], ['Tiffany', 3]]))`|\n",
    "|리스트를 값으로 지정한 사전|`pd.DataFrame({\"Name\": ['Tom', 'Mike', 'Tiffany'],` <br> &nbsp;&nbsp;&nbsp;&nbsp;&nbsp;&nbsp;&nbsp;&nbsp;&nbsp;&nbsp;&nbsp;&nbsp;&nbsp;&nbsp;&nbsp;&nbsp;&nbsp;&nbsp;&nbsp;&nbsp;&nbsp;&nbsp;&nbsp;&nbsp;&nbsp;&nbsp;&nbsp;&nbsp;&nbsp;&nbsp;&nbsp;&nbsp;&nbsp;&nbsp;&nbsp; `\"Number\": [7, 15, 3]})`|\n",
    "|시리즈를 값으로 지정한 사전|`pd.DataFrame({\"Name\": pd.Series(['Tom', 'Mike', 'Tiffany']),` <br> &nbsp;&nbsp;&nbsp;&nbsp;&nbsp;&nbsp;&nbsp;&nbsp;&nbsp;&nbsp;&nbsp;&nbsp;&nbsp;&nbsp;&nbsp;&nbsp;&nbsp;&nbsp;&nbsp;&nbsp;&nbsp;&nbsp;&nbsp;&nbsp;&nbsp;&nbsp;&nbsp;&nbsp;&nbsp;&nbsp;&nbsp;&nbsp;&nbsp;&nbsp;&nbsp; `\"Number\": pd.Series([7, 15, 3])})`|\n",
    "|튜플의 리스트|`pd.DataFrame(zip(['Tom', 'Mike', 'Tiffany'], [7, 15, 3]))`|\n",
    "\n",
    "- 표에서 정리했던 방법을 한 번씩 시도해보자."
   ]
  },
  {
   "cell_type": "code",
   "execution_count": 78,
   "metadata": {
    "scrolled": true,
    "slideshow": {
     "slide_type": "fragment"
    }
   },
   "outputs": [
    {
     "data": {
      "text/html": [
       "<div>\n",
       "<style scoped>\n",
       "    .dataframe tbody tr th:only-of-type {\n",
       "        vertical-align: middle;\n",
       "    }\n",
       "\n",
       "    .dataframe tbody tr th {\n",
       "        vertical-align: top;\n",
       "    }\n",
       "\n",
       "    .dataframe thead th {\n",
       "        text-align: right;\n",
       "    }\n",
       "</style>\n",
       "<table border=\"1\" class=\"dataframe\">\n",
       "  <thead>\n",
       "    <tr style=\"text-align: right;\">\n",
       "      <th></th>\n",
       "      <th>이름</th>\n",
       "      <th>포인트</th>\n",
       "    </tr>\n",
       "    <tr>\n",
       "      <th>행</th>\n",
       "      <th></th>\n",
       "      <th></th>\n",
       "    </tr>\n",
       "  </thead>\n",
       "  <tbody>\n",
       "    <tr>\n",
       "      <th>r0</th>\n",
       "      <td>Tom</td>\n",
       "      <td>7</td>\n",
       "    </tr>\n",
       "    <tr>\n",
       "      <th>r1</th>\n",
       "      <td>Mike</td>\n",
       "      <td>15</td>\n",
       "    </tr>\n",
       "    <tr>\n",
       "      <th>r2</th>\n",
       "      <td>Tiffany</td>\n",
       "      <td>3</td>\n",
       "    </tr>\n",
       "  </tbody>\n",
       "</table>\n",
       "</div>"
      ],
      "text/plain": [
       "         이름  포인트\n",
       "행               \n",
       "r0      Tom    7\n",
       "r1     Mike   15\n",
       "r2  Tiffany    3"
      ]
     },
     "execution_count": 78,
     "metadata": {},
     "output_type": "execute_result"
    }
   ],
   "source": [
    "# 리스트의 리스트\n",
    "df = pd.DataFrame(\n",
    "    data=[['Tom', 7], ['Mike', 15], ['Tiffany', 3]], \n",
    "    index=[f'r{_}' for _ in range(3)],\n",
    "    columns=['이름', '포인트'])\n",
    "df.index.name = '행'\n",
    "df"
   ]
  },
  {
   "cell_type": "code",
   "execution_count": 79,
   "metadata": {
    "scrolled": true,
    "slideshow": {
     "slide_type": "subslide"
    }
   },
   "outputs": [
    {
     "data": {
      "text/html": [
       "<div>\n",
       "<style scoped>\n",
       "    .dataframe tbody tr th:only-of-type {\n",
       "        vertical-align: middle;\n",
       "    }\n",
       "\n",
       "    .dataframe tbody tr th {\n",
       "        vertical-align: top;\n",
       "    }\n",
       "\n",
       "    .dataframe thead th {\n",
       "        text-align: right;\n",
       "    }\n",
       "</style>\n",
       "<table border=\"1\" class=\"dataframe\">\n",
       "  <thead>\n",
       "    <tr style=\"text-align: right;\">\n",
       "      <th></th>\n",
       "      <th>이름</th>\n",
       "      <th>포인트</th>\n",
       "    </tr>\n",
       "    <tr>\n",
       "      <th>행</th>\n",
       "      <th></th>\n",
       "      <th></th>\n",
       "    </tr>\n",
       "  </thead>\n",
       "  <tbody>\n",
       "    <tr>\n",
       "      <th>r0</th>\n",
       "      <td>Tom</td>\n",
       "      <td>7</td>\n",
       "    </tr>\n",
       "    <tr>\n",
       "      <th>r1</th>\n",
       "      <td>Mike</td>\n",
       "      <td>15</td>\n",
       "    </tr>\n",
       "    <tr>\n",
       "      <th>r2</th>\n",
       "      <td>Tiffany</td>\n",
       "      <td>3</td>\n",
       "    </tr>\n",
       "  </tbody>\n",
       "</table>\n",
       "</div>"
      ],
      "text/plain": [
       "         이름  포인트\n",
       "행               \n",
       "r0      Tom    7\n",
       "r1     Mike   15\n",
       "r2  Tiffany    3"
      ]
     },
     "execution_count": 79,
     "metadata": {},
     "output_type": "execute_result"
    }
   ],
   "source": [
    "# n차원 배열\n",
    "pd.DataFrame(\n",
    "    data=np.array([['Tom', 7], ['Mike', 15], ['Tiffany', 3]]),\n",
    "    index=[f'r{_}' for _ in range(3)],\n",
    "    columns=['이름', '포인트'])\n",
    "df.index.name = '행'\n",
    "df"
   ]
  },
  {
   "cell_type": "code",
   "execution_count": 80,
   "metadata": {
    "scrolled": true,
    "slideshow": {
     "slide_type": "fragment"
    }
   },
   "outputs": [
    {
     "data": {
      "text/html": [
       "<div>\n",
       "<style scoped>\n",
       "    .dataframe tbody tr th:only-of-type {\n",
       "        vertical-align: middle;\n",
       "    }\n",
       "\n",
       "    .dataframe tbody tr th {\n",
       "        vertical-align: top;\n",
       "    }\n",
       "\n",
       "    .dataframe thead th {\n",
       "        text-align: right;\n",
       "    }\n",
       "</style>\n",
       "<table border=\"1\" class=\"dataframe\">\n",
       "  <thead>\n",
       "    <tr style=\"text-align: right;\">\n",
       "      <th></th>\n",
       "      <th>이름</th>\n",
       "      <th>포인트</th>\n",
       "    </tr>\n",
       "    <tr>\n",
       "      <th>행</th>\n",
       "      <th></th>\n",
       "      <th></th>\n",
       "    </tr>\n",
       "  </thead>\n",
       "  <tbody>\n",
       "    <tr>\n",
       "      <th>r0</th>\n",
       "      <td>Tom</td>\n",
       "      <td>7</td>\n",
       "    </tr>\n",
       "    <tr>\n",
       "      <th>r1</th>\n",
       "      <td>Mike</td>\n",
       "      <td>15</td>\n",
       "    </tr>\n",
       "    <tr>\n",
       "      <th>r2</th>\n",
       "      <td>Tiffany</td>\n",
       "      <td>3</td>\n",
       "    </tr>\n",
       "  </tbody>\n",
       "</table>\n",
       "</div>"
      ],
      "text/plain": [
       "         이름  포인트\n",
       "행               \n",
       "r0      Tom    7\n",
       "r1     Mike   15\n",
       "r2  Tiffany    3"
      ]
     },
     "execution_count": 80,
     "metadata": {},
     "output_type": "execute_result"
    }
   ],
   "source": [
    "# 값을 리스트로 지정한 사전\n",
    "pd.DataFrame(\n",
    "    data={\"Name\": ['Tom', 'Mike', 'Tiffany'],\n",
    "          \"Number\": [7, 15, 3]},\n",
    "    index=[f'r{_}' for _ in range(3)])\n",
    "df.index.name = '행'\n",
    "df"
   ]
  },
  {
   "cell_type": "code",
   "execution_count": 81,
   "metadata": {
    "scrolled": true,
    "slideshow": {
     "slide_type": "fragment"
    }
   },
   "outputs": [
    {
     "data": {
      "text/html": [
       "<div>\n",
       "<style scoped>\n",
       "    .dataframe tbody tr th:only-of-type {\n",
       "        vertical-align: middle;\n",
       "    }\n",
       "\n",
       "    .dataframe tbody tr th {\n",
       "        vertical-align: top;\n",
       "    }\n",
       "\n",
       "    .dataframe thead th {\n",
       "        text-align: right;\n",
       "    }\n",
       "</style>\n",
       "<table border=\"1\" class=\"dataframe\">\n",
       "  <thead>\n",
       "    <tr style=\"text-align: right;\">\n",
       "      <th></th>\n",
       "      <th>이름</th>\n",
       "      <th>포인트</th>\n",
       "    </tr>\n",
       "    <tr>\n",
       "      <th>행</th>\n",
       "      <th></th>\n",
       "      <th></th>\n",
       "    </tr>\n",
       "  </thead>\n",
       "  <tbody>\n",
       "    <tr>\n",
       "      <th>r0</th>\n",
       "      <td>Tom</td>\n",
       "      <td>7</td>\n",
       "    </tr>\n",
       "    <tr>\n",
       "      <th>r1</th>\n",
       "      <td>Mike</td>\n",
       "      <td>15</td>\n",
       "    </tr>\n",
       "    <tr>\n",
       "      <th>r2</th>\n",
       "      <td>Tiffany</td>\n",
       "      <td>3</td>\n",
       "    </tr>\n",
       "  </tbody>\n",
       "</table>\n",
       "</div>"
      ],
      "text/plain": [
       "         이름  포인트\n",
       "행               \n",
       "r0      Tom    7\n",
       "r1     Mike   15\n",
       "r2  Tiffany    3"
      ]
     },
     "execution_count": 81,
     "metadata": {},
     "output_type": "execute_result"
    }
   ],
   "source": [
    "# 값을 시리즈로 지정한 사전\n",
    "pd.DataFrame(\n",
    "    data={\"Name\": pd.Series(['Tom', 'Mike', 'Tiffany']),\n",
    "          \"Number\": pd.Series([7, 15, 3])},\n",
    "    index=[f'r{_}' for _ in range(3)])\n",
    "df.index.name = '행'\n",
    "df"
   ]
  },
  {
   "cell_type": "code",
   "execution_count": 82,
   "metadata": {
    "scrolled": true,
    "slideshow": {
     "slide_type": "subslide"
    }
   },
   "outputs": [
    {
     "data": {
      "text/html": [
       "<div>\n",
       "<style scoped>\n",
       "    .dataframe tbody tr th:only-of-type {\n",
       "        vertical-align: middle;\n",
       "    }\n",
       "\n",
       "    .dataframe tbody tr th {\n",
       "        vertical-align: top;\n",
       "    }\n",
       "\n",
       "    .dataframe thead th {\n",
       "        text-align: right;\n",
       "    }\n",
       "</style>\n",
       "<table border=\"1\" class=\"dataframe\">\n",
       "  <thead>\n",
       "    <tr style=\"text-align: right;\">\n",
       "      <th></th>\n",
       "      <th>이름</th>\n",
       "      <th>포인트</th>\n",
       "    </tr>\n",
       "    <tr>\n",
       "      <th>행</th>\n",
       "      <th></th>\n",
       "      <th></th>\n",
       "    </tr>\n",
       "  </thead>\n",
       "  <tbody>\n",
       "    <tr>\n",
       "      <th>r0</th>\n",
       "      <td>Tom</td>\n",
       "      <td>7</td>\n",
       "    </tr>\n",
       "    <tr>\n",
       "      <th>r1</th>\n",
       "      <td>Mike</td>\n",
       "      <td>15</td>\n",
       "    </tr>\n",
       "    <tr>\n",
       "      <th>r2</th>\n",
       "      <td>Tiffany</td>\n",
       "      <td>3</td>\n",
       "    </tr>\n",
       "  </tbody>\n",
       "</table>\n",
       "</div>"
      ],
      "text/plain": [
       "         이름  포인트\n",
       "행               \n",
       "r0      Tom    7\n",
       "r1     Mike   15\n",
       "r2  Tiffany    3"
      ]
     },
     "execution_count": 82,
     "metadata": {},
     "output_type": "execute_result"
    }
   ],
   "source": [
    "# 튜플 반복자(iterator)\n",
    "pd.DataFrame(\n",
    "    data=zip(['Tom', 'Mike', 'Tiffany'], [7, 15, 3]),\n",
    "    index=[f'r{_}' for _ in range(3)],\n",
    "    columns=['이름', '포인트'])\n",
    "df.index.name = '행'\n",
    "df"
   ]
  },
  {
   "cell_type": "code",
   "execution_count": 83,
   "metadata": {
    "slideshow": {
     "slide_type": "fragment"
    }
   },
   "outputs": [
    {
     "name": "stdout",
     "output_type": "stream",
     "text": [
      "('Tom', 7)\n",
      "('Mike', 15)\n",
      "('Tiffany', 3)\n"
     ]
    }
   ],
   "source": [
    "# 튜플 반복자의 개념적 이해를 위한 코드\n",
    "for t in zip(['Tom', 'Mike', 'Tiffany'], [7, 15, 3]):\n",
    "    print(t)"
   ]
  },
  {
   "cell_type": "markdown",
   "metadata": {
    "slideshow": {
     "slide_type": "fragment"
    }
   },
   "source": [
    "- 판다스 데이터프레임 생성 방법을 다양하게 알아보았고,  \n",
    "  판다스 데이터프레임의 인덱싱/슬라이싱에 대해 공부하자. \n",
    "\n",
    "<div style=\"page-break-after: always;\"></div> "
   ]
  },
  {
   "cell_type": "markdown",
   "metadata": {
    "slideshow": {
     "slide_type": "subslide"
    }
   },
   "source": [
    "### 3.3 인덱싱과 슬라이싱"
   ]
  },
  {
   "cell_type": "markdown",
   "metadata": {
    "slideshow": {
     "slide_type": "fragment"
    }
   },
   "source": [
    "- 데이터프레임에서 특정 데이터를 선택하는 방법은 다양하다: \n",
    "    1. `[]`\n",
    "    2. `.loc[]`\n",
    "    3. `.iloc[]`\n",
    "    4. 논리식 인덱싱\n",
    "    5. `.query()`"
   ]
  },
  {
   "cell_type": "code",
   "execution_count": 84,
   "metadata": {
    "scrolled": true,
    "slideshow": {
     "slide_type": "fragment"
    }
   },
   "outputs": [
    {
     "data": {
      "text/html": [
       "<div>\n",
       "<style scoped>\n",
       "    .dataframe tbody tr th:only-of-type {\n",
       "        vertical-align: middle;\n",
       "    }\n",
       "\n",
       "    .dataframe tbody tr th {\n",
       "        vertical-align: top;\n",
       "    }\n",
       "\n",
       "    .dataframe thead th {\n",
       "        text-align: right;\n",
       "    }\n",
       "</style>\n",
       "<table border=\"1\" class=\"dataframe\">\n",
       "  <thead>\n",
       "    <tr style=\"text-align: right;\">\n",
       "      <th></th>\n",
       "      <th>Name</th>\n",
       "      <th>Language</th>\n",
       "      <th>Courses</th>\n",
       "    </tr>\n",
       "    <tr>\n",
       "      <th>No</th>\n",
       "      <th></th>\n",
       "      <th></th>\n",
       "      <th></th>\n",
       "    </tr>\n",
       "  </thead>\n",
       "  <tbody>\n",
       "    <tr>\n",
       "      <th>row0</th>\n",
       "      <td>Tom</td>\n",
       "      <td>Python</td>\n",
       "      <td>5</td>\n",
       "    </tr>\n",
       "    <tr>\n",
       "      <th>row1</th>\n",
       "      <td>Mike</td>\n",
       "      <td>Python</td>\n",
       "      <td>4</td>\n",
       "    </tr>\n",
       "    <tr>\n",
       "      <th>row2</th>\n",
       "      <td>Tiffany</td>\n",
       "      <td>R</td>\n",
       "      <td>7</td>\n",
       "    </tr>\n",
       "  </tbody>\n",
       "</table>\n",
       "</div>"
      ],
      "text/plain": [
       "         Name Language  Courses\n",
       "No                             \n",
       "row0      Tom   Python        5\n",
       "row1     Mike   Python        4\n",
       "row2  Tiffany        R        7"
      ]
     },
     "execution_count": 84,
     "metadata": {},
     "output_type": "execute_result"
    }
   ],
   "source": [
    "df = pd.DataFrame(\n",
    "    data={\"Name\": [\"Tom\", \"Mike\", \"Tiffany\"],\n",
    "          \"Language\": [\"Python\", \"Python\", \"R\"],\n",
    "          \"Courses\": [5, 4, 7]},\n",
    "    index=[f'row{_}' for _ in range(3)])\n",
    "df.index.name = 'No'\n",
    "df                  # 이후 예제에서 계속 참조해야 하므로, 화면 캡처해 두자. "
   ]
  },
  {
   "cell_type": "markdown",
   "metadata": {
    "slideshow": {
     "slide_type": "fragment"
    }
   },
   "source": [
    "-  `[]`를 활용한 인덱싱부터 공부하자. \n",
    "\n",
    "<div style=\"page-break-after: always;\"></div> "
   ]
  },
  {
   "cell_type": "markdown",
   "metadata": {
    "slideshow": {
     "slide_type": "subslide"
    }
   },
   "source": [
    "#### 3.3.1 `[]` 인덱싱\n",
    "\n",
    "- 단일 레이블, 레이블의 리스트 또는 슬라이싱으로 열을 선택할 수 있다. "
   ]
  },
  {
   "cell_type": "markdown",
   "metadata": {
    "slideshow": {
     "slide_type": "fragment"
    }
   },
   "source": [
    "- `[]`를 활용한 인덱싱에서 단일 값을 지정하면 열에 대한 인덱싱으로 해석된다. "
   ]
  },
  {
   "cell_type": "code",
   "execution_count": 85,
   "metadata": {
    "slideshow": {
     "slide_type": "fragment"
    }
   },
   "outputs": [
    {
     "data": {
      "text/plain": [
       "No\n",
       "row0        Tom\n",
       "row1       Mike\n",
       "row2    Tiffany\n",
       "Name: Name, dtype: object"
      ]
     },
     "execution_count": 85,
     "metadata": {},
     "output_type": "execute_result"
    }
   ],
   "source": [
    "# 단일 열 레이블로 인덱싱하면 시리즈로 반환됨 \n",
    "df['Name']  "
   ]
  },
  {
   "cell_type": "code",
   "execution_count": 86,
   "metadata": {
    "slideshow": {
     "slide_type": "fragment"
    }
   },
   "outputs": [
    {
     "data": {
      "text/html": [
       "<div>\n",
       "<style scoped>\n",
       "    .dataframe tbody tr th:only-of-type {\n",
       "        vertical-align: middle;\n",
       "    }\n",
       "\n",
       "    .dataframe tbody tr th {\n",
       "        vertical-align: top;\n",
       "    }\n",
       "\n",
       "    .dataframe thead th {\n",
       "        text-align: right;\n",
       "    }\n",
       "</style>\n",
       "<table border=\"1\" class=\"dataframe\">\n",
       "  <thead>\n",
       "    <tr style=\"text-align: right;\">\n",
       "      <th></th>\n",
       "      <th>Name</th>\n",
       "    </tr>\n",
       "    <tr>\n",
       "      <th>No</th>\n",
       "      <th></th>\n",
       "    </tr>\n",
       "  </thead>\n",
       "  <tbody>\n",
       "    <tr>\n",
       "      <th>row0</th>\n",
       "      <td>Tom</td>\n",
       "    </tr>\n",
       "    <tr>\n",
       "      <th>row1</th>\n",
       "      <td>Mike</td>\n",
       "    </tr>\n",
       "    <tr>\n",
       "      <th>row2</th>\n",
       "      <td>Tiffany</td>\n",
       "    </tr>\n",
       "  </tbody>\n",
       "</table>\n",
       "</div>"
      ],
      "text/plain": [
       "         Name\n",
       "No           \n",
       "row0      Tom\n",
       "row1     Mike\n",
       "row2  Tiffany"
      ]
     },
     "execution_count": 86,
     "metadata": {},
     "output_type": "execute_result"
    }
   ],
   "source": [
    "# 단일 열을 리스트 형태로 인덱싱하면, \n",
    "# 시리즈가 아니라 데이터프레임으로 반환됨\n",
    "df[['Name']]  "
   ]
  },
  {
   "cell_type": "code",
   "execution_count": 87,
   "metadata": {
    "scrolled": true,
    "slideshow": {
     "slide_type": "subslide"
    }
   },
   "outputs": [
    {
     "data": {
      "text/html": [
       "<div>\n",
       "<style scoped>\n",
       "    .dataframe tbody tr th:only-of-type {\n",
       "        vertical-align: middle;\n",
       "    }\n",
       "\n",
       "    .dataframe tbody tr th {\n",
       "        vertical-align: top;\n",
       "    }\n",
       "\n",
       "    .dataframe thead th {\n",
       "        text-align: right;\n",
       "    }\n",
       "</style>\n",
       "<table border=\"1\" class=\"dataframe\">\n",
       "  <thead>\n",
       "    <tr style=\"text-align: right;\">\n",
       "      <th></th>\n",
       "      <th>Name</th>\n",
       "      <th>Language</th>\n",
       "    </tr>\n",
       "    <tr>\n",
       "      <th>No</th>\n",
       "      <th></th>\n",
       "      <th></th>\n",
       "    </tr>\n",
       "  </thead>\n",
       "  <tbody>\n",
       "    <tr>\n",
       "      <th>row0</th>\n",
       "      <td>Tom</td>\n",
       "      <td>Python</td>\n",
       "    </tr>\n",
       "    <tr>\n",
       "      <th>row1</th>\n",
       "      <td>Mike</td>\n",
       "      <td>Python</td>\n",
       "    </tr>\n",
       "    <tr>\n",
       "      <th>row2</th>\n",
       "      <td>Tiffany</td>\n",
       "      <td>R</td>\n",
       "    </tr>\n",
       "  </tbody>\n",
       "</table>\n",
       "</div>"
      ],
      "text/plain": [
       "         Name Language\n",
       "No                    \n",
       "row0      Tom   Python\n",
       "row1     Mike   Python\n",
       "row2  Tiffany        R"
      ]
     },
     "execution_count": 87,
     "metadata": {},
     "output_type": "execute_result"
    }
   ],
   "source": [
    "# 다수 열 레이블 리스트로 인덱싱\n",
    "df[['Name', 'Language']]  # 데이터프레임으로 반환"
   ]
  },
  {
   "cell_type": "markdown",
   "metadata": {
    "slideshow": {
     "slide_type": "subslide"
    }
   },
   "source": [
    "- 지금까지 `df['열']`, `df[['열']]` 및 `df[['열1', '열2']]` 형식으로 열에 대한 인덱싱을 공부했다. \n",
    "- 그런데 `df[열1:열2]` 형식으로 열에 대한 슬라이싱이 가능할 것으로 예상할 수 있지만,  \n",
    "  이는 오류를 유발한다. \n",
    "- 의아스럽겠지만,  \n",
    "  `[]` 인덱싱에서 슬라이싱은 행에 대한 슬라이싱으로 처리된다.   \n",
    "  `df[행1:행2]` 형식으로 행에 대한 슬라이싱이 가능하다.\n",
    "- 이런 까다로움때문에 판다스에서도 `[]` 인덱싱을 추천하지 않는다.  \n",
    "  뒤에서 소개할 `loc[]` 및 `iloc[]` 인덱싱을 추천한다. "
   ]
  },
  {
   "cell_type": "markdown",
   "metadata": {
    "slideshow": {
     "slide_type": "fragment"
    }
   },
   "source": [
    "- 요약하면 다음과 같다: \n",
    "  - `df['열']`은 단일 열에 대한 인덱싱이다.  \n",
    "    (행 인덱싱에 이 형식을 쓰면 오류이다.)\n",
    "  - `df[['열']]`와 `df[['열1', '열2']]`는 열 리스트에 대한 인덱싱이다.  \n",
    "    (행 인덱싱에 이 형식을 쓰면 오류이다.)\n",
    "  - `df['행1':'행2']`는 행 슬라이싱이다.  \n",
    "    (열 슬라이싱에 이 형식을 쓰면 오류이다.)"
   ]
  },
  {
   "cell_type": "markdown",
   "metadata": {
    "slideshow": {
     "slide_type": "subslide"
    }
   },
   "source": [
    "- 아래 예제를 통하여 확인하자:"
   ]
  },
  {
   "cell_type": "code",
   "execution_count": 88,
   "metadata": {
    "scrolled": true,
    "slideshow": {
     "slide_type": "fragment"
    }
   },
   "outputs": [
    {
     "data": {
      "text/plain": [
       "No\n",
       "row0        Tom\n",
       "row1       Mike\n",
       "row2    Tiffany\n",
       "Name: Name, dtype: object"
      ]
     },
     "execution_count": 88,
     "metadata": {},
     "output_type": "execute_result"
    }
   ],
   "source": [
    "# 단일 열 인덱싱 (시리즈 반환)\n",
    "df['Name']"
   ]
  },
  {
   "cell_type": "code",
   "execution_count": 89,
   "metadata": {
    "scrolled": true,
    "slideshow": {
     "slide_type": "fragment"
    }
   },
   "outputs": [
    {
     "data": {
      "text/html": [
       "<div>\n",
       "<style scoped>\n",
       "    .dataframe tbody tr th:only-of-type {\n",
       "        vertical-align: middle;\n",
       "    }\n",
       "\n",
       "    .dataframe tbody tr th {\n",
       "        vertical-align: top;\n",
       "    }\n",
       "\n",
       "    .dataframe thead th {\n",
       "        text-align: right;\n",
       "    }\n",
       "</style>\n",
       "<table border=\"1\" class=\"dataframe\">\n",
       "  <thead>\n",
       "    <tr style=\"text-align: right;\">\n",
       "      <th></th>\n",
       "      <th>Name</th>\n",
       "    </tr>\n",
       "    <tr>\n",
       "      <th>No</th>\n",
       "      <th></th>\n",
       "    </tr>\n",
       "  </thead>\n",
       "  <tbody>\n",
       "    <tr>\n",
       "      <th>row0</th>\n",
       "      <td>Tom</td>\n",
       "    </tr>\n",
       "    <tr>\n",
       "      <th>row1</th>\n",
       "      <td>Mike</td>\n",
       "    </tr>\n",
       "    <tr>\n",
       "      <th>row2</th>\n",
       "      <td>Tiffany</td>\n",
       "    </tr>\n",
       "  </tbody>\n",
       "</table>\n",
       "</div>"
      ],
      "text/plain": [
       "         Name\n",
       "No           \n",
       "row0      Tom\n",
       "row1     Mike\n",
       "row2  Tiffany"
      ]
     },
     "execution_count": 89,
     "metadata": {},
     "output_type": "execute_result"
    }
   ],
   "source": [
    "# 단일 열이지만, 열 리스트로 인덱싱 \n",
    "df[['Name']]"
   ]
  },
  {
   "cell_type": "code",
   "execution_count": 90,
   "metadata": {
    "scrolled": false,
    "slideshow": {
     "slide_type": "fragment"
    }
   },
   "outputs": [
    {
     "data": {
      "text/html": [
       "<div>\n",
       "<style scoped>\n",
       "    .dataframe tbody tr th:only-of-type {\n",
       "        vertical-align: middle;\n",
       "    }\n",
       "\n",
       "    .dataframe tbody tr th {\n",
       "        vertical-align: top;\n",
       "    }\n",
       "\n",
       "    .dataframe thead th {\n",
       "        text-align: right;\n",
       "    }\n",
       "</style>\n",
       "<table border=\"1\" class=\"dataframe\">\n",
       "  <thead>\n",
       "    <tr style=\"text-align: right;\">\n",
       "      <th></th>\n",
       "      <th>Name</th>\n",
       "      <th>Courses</th>\n",
       "    </tr>\n",
       "    <tr>\n",
       "      <th>No</th>\n",
       "      <th></th>\n",
       "      <th></th>\n",
       "    </tr>\n",
       "  </thead>\n",
       "  <tbody>\n",
       "    <tr>\n",
       "      <th>row0</th>\n",
       "      <td>Tom</td>\n",
       "      <td>5</td>\n",
       "    </tr>\n",
       "    <tr>\n",
       "      <th>row1</th>\n",
       "      <td>Mike</td>\n",
       "      <td>4</td>\n",
       "    </tr>\n",
       "    <tr>\n",
       "      <th>row2</th>\n",
       "      <td>Tiffany</td>\n",
       "      <td>7</td>\n",
       "    </tr>\n",
       "  </tbody>\n",
       "</table>\n",
       "</div>"
      ],
      "text/plain": [
       "         Name  Courses\n",
       "No                    \n",
       "row0      Tom        5\n",
       "row1     Mike        4\n",
       "row2  Tiffany        7"
      ]
     },
     "execution_count": 90,
     "metadata": {},
     "output_type": "execute_result"
    }
   ],
   "source": [
    "# 복수 열 리스트로 인덱싱\n",
    "df[['Name', 'Courses']]"
   ]
  },
  {
   "cell_type": "code",
   "execution_count": 91,
   "metadata": {
    "slideshow": {
     "slide_type": "subslide"
    }
   },
   "outputs": [
    {
     "data": {
      "text/html": [
       "<div>\n",
       "<style scoped>\n",
       "    .dataframe tbody tr th:only-of-type {\n",
       "        vertical-align: middle;\n",
       "    }\n",
       "\n",
       "    .dataframe tbody tr th {\n",
       "        vertical-align: top;\n",
       "    }\n",
       "\n",
       "    .dataframe thead th {\n",
       "        text-align: right;\n",
       "    }\n",
       "</style>\n",
       "<table border=\"1\" class=\"dataframe\">\n",
       "  <thead>\n",
       "    <tr style=\"text-align: right;\">\n",
       "      <th></th>\n",
       "      <th>Name</th>\n",
       "      <th>Language</th>\n",
       "      <th>Courses</th>\n",
       "    </tr>\n",
       "    <tr>\n",
       "      <th>No</th>\n",
       "      <th></th>\n",
       "      <th></th>\n",
       "      <th></th>\n",
       "    </tr>\n",
       "  </thead>\n",
       "  <tbody>\n",
       "    <tr>\n",
       "      <th>row0</th>\n",
       "      <td>Tom</td>\n",
       "      <td>Python</td>\n",
       "      <td>5</td>\n",
       "    </tr>\n",
       "    <tr>\n",
       "      <th>row1</th>\n",
       "      <td>Mike</td>\n",
       "      <td>Python</td>\n",
       "      <td>4</td>\n",
       "    </tr>\n",
       "    <tr>\n",
       "      <th>row2</th>\n",
       "      <td>Tiffany</td>\n",
       "      <td>R</td>\n",
       "      <td>7</td>\n",
       "    </tr>\n",
       "  </tbody>\n",
       "</table>\n",
       "</div>"
      ],
      "text/plain": [
       "         Name Language  Courses\n",
       "No                             \n",
       "row0      Tom   Python        5\n",
       "row1     Mike   Python        4\n",
       "row2  Tiffany        R        7"
      ]
     },
     "execution_count": 91,
     "metadata": {},
     "output_type": "execute_result"
    }
   ],
   "source": [
    "# 행 슬라이싱\n",
    "df[:]"
   ]
  },
  {
   "cell_type": "code",
   "execution_count": 92,
   "metadata": {
    "scrolled": true,
    "slideshow": {
     "slide_type": "fragment"
    }
   },
   "outputs": [
    {
     "data": {
      "text/html": [
       "<div>\n",
       "<style scoped>\n",
       "    .dataframe tbody tr th:only-of-type {\n",
       "        vertical-align: middle;\n",
       "    }\n",
       "\n",
       "    .dataframe tbody tr th {\n",
       "        vertical-align: top;\n",
       "    }\n",
       "\n",
       "    .dataframe thead th {\n",
       "        text-align: right;\n",
       "    }\n",
       "</style>\n",
       "<table border=\"1\" class=\"dataframe\">\n",
       "  <thead>\n",
       "    <tr style=\"text-align: right;\">\n",
       "      <th></th>\n",
       "      <th>Name</th>\n",
       "      <th>Language</th>\n",
       "      <th>Courses</th>\n",
       "    </tr>\n",
       "    <tr>\n",
       "      <th>No</th>\n",
       "      <th></th>\n",
       "      <th></th>\n",
       "      <th></th>\n",
       "    </tr>\n",
       "  </thead>\n",
       "  <tbody>\n",
       "    <tr>\n",
       "      <th>row0</th>\n",
       "      <td>Tom</td>\n",
       "      <td>Python</td>\n",
       "      <td>5</td>\n",
       "    </tr>\n",
       "  </tbody>\n",
       "</table>\n",
       "</div>"
      ],
      "text/plain": [
       "     Name Language  Courses\n",
       "No                         \n",
       "row0  Tom   Python        5"
      ]
     },
     "execution_count": 92,
     "metadata": {},
     "output_type": "execute_result"
    }
   ],
   "source": [
    "# 행 슬라이싱\n",
    "df[0:1]"
   ]
  },
  {
   "cell_type": "code",
   "execution_count": 93,
   "metadata": {
    "scrolled": false,
    "slideshow": {
     "slide_type": "fragment"
    }
   },
   "outputs": [
    {
     "data": {
      "text/html": [
       "<div>\n",
       "<style scoped>\n",
       "    .dataframe tbody tr th:only-of-type {\n",
       "        vertical-align: middle;\n",
       "    }\n",
       "\n",
       "    .dataframe tbody tr th {\n",
       "        vertical-align: top;\n",
       "    }\n",
       "\n",
       "    .dataframe thead th {\n",
       "        text-align: right;\n",
       "    }\n",
       "</style>\n",
       "<table border=\"1\" class=\"dataframe\">\n",
       "  <thead>\n",
       "    <tr style=\"text-align: right;\">\n",
       "      <th></th>\n",
       "      <th>Name</th>\n",
       "      <th>Language</th>\n",
       "      <th>Courses</th>\n",
       "    </tr>\n",
       "    <tr>\n",
       "      <th>No</th>\n",
       "      <th></th>\n",
       "      <th></th>\n",
       "      <th></th>\n",
       "    </tr>\n",
       "  </thead>\n",
       "  <tbody>\n",
       "    <tr>\n",
       "      <th>row1</th>\n",
       "      <td>Mike</td>\n",
       "      <td>Python</td>\n",
       "      <td>4</td>\n",
       "    </tr>\n",
       "    <tr>\n",
       "      <th>row2</th>\n",
       "      <td>Tiffany</td>\n",
       "      <td>R</td>\n",
       "      <td>7</td>\n",
       "    </tr>\n",
       "  </tbody>\n",
       "</table>\n",
       "</div>"
      ],
      "text/plain": [
       "         Name Language  Courses\n",
       "No                             \n",
       "row1     Mike   Python        4\n",
       "row2  Tiffany        R        7"
      ]
     },
     "execution_count": 93,
     "metadata": {},
     "output_type": "execute_result"
    }
   ],
   "source": [
    "# 행 슬라이싱\n",
    "df[1:3]"
   ]
  },
  {
   "cell_type": "markdown",
   "metadata": {
    "slideshow": {
     "slide_type": "fragment"
    }
   },
   "source": [
    "- 지금까지 `[]` 인덱싱을 제대로 사용하는 예제를 살펴 보았다. \n",
    "- 이제부터 `[]` 인덱싱을 잘못 사용하는 예제를 살펴 보자:"
   ]
  },
  {
   "cell_type": "markdown",
   "metadata": {
    "slideshow": {
     "slide_type": "subslide"
    }
   },
   "source": [
    "- 행을 `df[1]` 형식으로 인덱싱할 수 없다. \n",
    "  - 이 형식은 열 인덱싱 형식인데, `1`이라는 키로 지정된 열이 없으므로 오류를 유발한다. \n",
    "  - `df[x]`라는 표현에서 `x`는 열로 간주된다. "
   ]
  },
  {
   "cell_type": "code",
   "execution_count": 94,
   "metadata": {
    "scrolled": true,
    "slideshow": {
     "slide_type": "fragment"
    }
   },
   "outputs": [
    {
     "ename": "KeyError",
     "evalue": "1",
     "output_type": "error",
     "traceback": [
      "\u001b[1;31m---------------------------------------------------------------------------\u001b[0m",
      "\u001b[1;31mKeyError\u001b[0m                                  Traceback (most recent call last)",
      "\u001b[1;32mC:\\anaconda3\\envs\\vd21\\lib\\site-packages\\pandas\\core\\indexes\\base.py\u001b[0m in \u001b[0;36mget_loc\u001b[1;34m(self, key, method, tolerance)\u001b[0m\n\u001b[0;32m   3360\u001b[0m             \u001b[1;32mtry\u001b[0m\u001b[1;33m:\u001b[0m\u001b[1;33m\u001b[0m\u001b[1;33m\u001b[0m\u001b[0m\n\u001b[1;32m-> 3361\u001b[1;33m                 \u001b[1;32mreturn\u001b[0m \u001b[0mself\u001b[0m\u001b[1;33m.\u001b[0m\u001b[0m_engine\u001b[0m\u001b[1;33m.\u001b[0m\u001b[0mget_loc\u001b[0m\u001b[1;33m(\u001b[0m\u001b[0mcasted_key\u001b[0m\u001b[1;33m)\u001b[0m\u001b[1;33m\u001b[0m\u001b[1;33m\u001b[0m\u001b[0m\n\u001b[0m\u001b[0;32m   3362\u001b[0m             \u001b[1;32mexcept\u001b[0m \u001b[0mKeyError\u001b[0m \u001b[1;32mas\u001b[0m \u001b[0merr\u001b[0m\u001b[1;33m:\u001b[0m\u001b[1;33m\u001b[0m\u001b[1;33m\u001b[0m\u001b[0m\n",
      "\u001b[1;32mC:\\anaconda3\\envs\\vd21\\lib\\site-packages\\pandas\\_libs\\index.pyx\u001b[0m in \u001b[0;36mpandas._libs.index.IndexEngine.get_loc\u001b[1;34m()\u001b[0m\n",
      "\u001b[1;32mC:\\anaconda3\\envs\\vd21\\lib\\site-packages\\pandas\\_libs\\index.pyx\u001b[0m in \u001b[0;36mpandas._libs.index.IndexEngine.get_loc\u001b[1;34m()\u001b[0m\n",
      "\u001b[1;32mpandas\\_libs\\hashtable_class_helper.pxi\u001b[0m in \u001b[0;36mpandas._libs.hashtable.PyObjectHashTable.get_item\u001b[1;34m()\u001b[0m\n",
      "\u001b[1;32mpandas\\_libs\\hashtable_class_helper.pxi\u001b[0m in \u001b[0;36mpandas._libs.hashtable.PyObjectHashTable.get_item\u001b[1;34m()\u001b[0m\n",
      "\u001b[1;31mKeyError\u001b[0m: 1",
      "\nThe above exception was the direct cause of the following exception:\n",
      "\u001b[1;31mKeyError\u001b[0m                                  Traceback (most recent call last)",
      "\u001b[1;32m<ipython-input-94-2c0e70ad4d2d>\u001b[0m in \u001b[0;36m<module>\u001b[1;34m\u001b[0m\n\u001b[1;32m----> 1\u001b[1;33m \u001b[0mdf\u001b[0m\u001b[1;33m[\u001b[0m\u001b[1;36m1\u001b[0m\u001b[1;33m]\u001b[0m  \u001b[1;31m# 오류\u001b[0m\u001b[1;33m\u001b[0m\u001b[1;33m\u001b[0m\u001b[0m\n\u001b[0m",
      "\u001b[1;32mC:\\anaconda3\\envs\\vd21\\lib\\site-packages\\pandas\\core\\frame.py\u001b[0m in \u001b[0;36m__getitem__\u001b[1;34m(self, key)\u001b[0m\n\u001b[0;32m   3453\u001b[0m             \u001b[1;32mif\u001b[0m \u001b[0mself\u001b[0m\u001b[1;33m.\u001b[0m\u001b[0mcolumns\u001b[0m\u001b[1;33m.\u001b[0m\u001b[0mnlevels\u001b[0m \u001b[1;33m>\u001b[0m \u001b[1;36m1\u001b[0m\u001b[1;33m:\u001b[0m\u001b[1;33m\u001b[0m\u001b[1;33m\u001b[0m\u001b[0m\n\u001b[0;32m   3454\u001b[0m                 \u001b[1;32mreturn\u001b[0m \u001b[0mself\u001b[0m\u001b[1;33m.\u001b[0m\u001b[0m_getitem_multilevel\u001b[0m\u001b[1;33m(\u001b[0m\u001b[0mkey\u001b[0m\u001b[1;33m)\u001b[0m\u001b[1;33m\u001b[0m\u001b[1;33m\u001b[0m\u001b[0m\n\u001b[1;32m-> 3455\u001b[1;33m             \u001b[0mindexer\u001b[0m \u001b[1;33m=\u001b[0m \u001b[0mself\u001b[0m\u001b[1;33m.\u001b[0m\u001b[0mcolumns\u001b[0m\u001b[1;33m.\u001b[0m\u001b[0mget_loc\u001b[0m\u001b[1;33m(\u001b[0m\u001b[0mkey\u001b[0m\u001b[1;33m)\u001b[0m\u001b[1;33m\u001b[0m\u001b[1;33m\u001b[0m\u001b[0m\n\u001b[0m\u001b[0;32m   3456\u001b[0m             \u001b[1;32mif\u001b[0m \u001b[0mis_integer\u001b[0m\u001b[1;33m(\u001b[0m\u001b[0mindexer\u001b[0m\u001b[1;33m)\u001b[0m\u001b[1;33m:\u001b[0m\u001b[1;33m\u001b[0m\u001b[1;33m\u001b[0m\u001b[0m\n\u001b[0;32m   3457\u001b[0m                 \u001b[0mindexer\u001b[0m \u001b[1;33m=\u001b[0m \u001b[1;33m[\u001b[0m\u001b[0mindexer\u001b[0m\u001b[1;33m]\u001b[0m\u001b[1;33m\u001b[0m\u001b[1;33m\u001b[0m\u001b[0m\n",
      "\u001b[1;32mC:\\anaconda3\\envs\\vd21\\lib\\site-packages\\pandas\\core\\indexes\\base.py\u001b[0m in \u001b[0;36mget_loc\u001b[1;34m(self, key, method, tolerance)\u001b[0m\n\u001b[0;32m   3361\u001b[0m                 \u001b[1;32mreturn\u001b[0m \u001b[0mself\u001b[0m\u001b[1;33m.\u001b[0m\u001b[0m_engine\u001b[0m\u001b[1;33m.\u001b[0m\u001b[0mget_loc\u001b[0m\u001b[1;33m(\u001b[0m\u001b[0mcasted_key\u001b[0m\u001b[1;33m)\u001b[0m\u001b[1;33m\u001b[0m\u001b[1;33m\u001b[0m\u001b[0m\n\u001b[0;32m   3362\u001b[0m             \u001b[1;32mexcept\u001b[0m \u001b[0mKeyError\u001b[0m \u001b[1;32mas\u001b[0m \u001b[0merr\u001b[0m\u001b[1;33m:\u001b[0m\u001b[1;33m\u001b[0m\u001b[1;33m\u001b[0m\u001b[0m\n\u001b[1;32m-> 3363\u001b[1;33m                 \u001b[1;32mraise\u001b[0m \u001b[0mKeyError\u001b[0m\u001b[1;33m(\u001b[0m\u001b[0mkey\u001b[0m\u001b[1;33m)\u001b[0m \u001b[1;32mfrom\u001b[0m \u001b[0merr\u001b[0m\u001b[1;33m\u001b[0m\u001b[1;33m\u001b[0m\u001b[0m\n\u001b[0m\u001b[0;32m   3364\u001b[0m \u001b[1;33m\u001b[0m\u001b[0m\n\u001b[0;32m   3365\u001b[0m         \u001b[1;32mif\u001b[0m \u001b[0mis_scalar\u001b[0m\u001b[1;33m(\u001b[0m\u001b[0mkey\u001b[0m\u001b[1;33m)\u001b[0m \u001b[1;32mand\u001b[0m \u001b[0misna\u001b[0m\u001b[1;33m(\u001b[0m\u001b[0mkey\u001b[0m\u001b[1;33m)\u001b[0m \u001b[1;32mand\u001b[0m \u001b[1;32mnot\u001b[0m \u001b[0mself\u001b[0m\u001b[1;33m.\u001b[0m\u001b[0mhasnans\u001b[0m\u001b[1;33m:\u001b[0m\u001b[1;33m\u001b[0m\u001b[1;33m\u001b[0m\u001b[0m\n",
      "\u001b[1;31mKeyError\u001b[0m: 1"
     ]
    }
   ],
   "source": [
    "df[1]  # 오류"
   ]
  },
  {
   "cell_type": "markdown",
   "metadata": {
    "slideshow": {
     "slide_type": "subslide"
    }
   },
   "source": [
    "- 단일 행을 리스트 형태로 인덱싱해도 마찬가지 이유로 동일한 오류가 발생한다. \n",
    "  - 이 형식은 열 리스트 인덱싱 형식인데, `1`이라는 키로 지정된 열이 없으므로 오류를 유발한다.\n",
    "  - `df[[x]]`라는 표현에서 `x`는 열로 간주된다. "
   ]
  },
  {
   "cell_type": "code",
   "execution_count": null,
   "metadata": {
    "scrolled": true,
    "slideshow": {
     "slide_type": "fragment"
    }
   },
   "outputs": [],
   "source": [
    "df[[1]]"
   ]
  },
  {
   "cell_type": "markdown",
   "metadata": {
    "slideshow": {
     "slide_type": "subslide"
    }
   },
   "source": [
    "- 복수 행을 리스트 형태로 인덱싱해도 마찬가지 이유로 동일한 오류가 발생한다. \n",
    "    - 이 형식은 열 리스트 인덱싱 형식인데, `0`이나 `1`이라는 키로 지정된 열이 없으므로 오류를 유발한다.\n",
    "    - `df[[x1, x2]]`라는 표현에서 `x1`과 `x2`는 모두 열로 간주된다."
   ]
  },
  {
   "cell_type": "code",
   "execution_count": null,
   "metadata": {
    "scrolled": true,
    "slideshow": {
     "slide_type": "fragment"
    }
   },
   "outputs": [],
   "source": [
    "df[[0, 1]]"
   ]
  },
  {
   "cell_type": "markdown",
   "metadata": {
    "slideshow": {
     "slide_type": "subslide"
    }
   },
   "source": [
    "- 열 슬라이싱도 오류를 유발한다.  \n",
    "  `df[x1:x2]`에서 `x1`이나 `x2`는 행 인덱스로 취급되기 때문이다. "
   ]
  },
  {
   "cell_type": "code",
   "execution_count": null,
   "metadata": {
    "scrolled": true,
    "slideshow": {
     "slide_type": "fragment"
    }
   },
   "outputs": [],
   "source": [
    "df['Name':'Language']    # 오류는 피했지만, 결과가 None이다. \n",
    "                         # 'Name' 및 'Language' 인데스를 가지는 행이 없기 때문이다. \n",
    "                         # 만일 행 인덱스가 정수형이었다면 오류가 발생했을 것이다. "
   ]
  },
  {
   "cell_type": "markdown",
   "metadata": {
    "slideshow": {
     "slide_type": "subslide"
    }
   },
   "source": [
    "- `df[열]` 인덱싱을 응용하여, `df[열][행]` 인덱싱 형식도 쓸 수 있다. "
   ]
  },
  {
   "cell_type": "code",
   "execution_count": null,
   "metadata": {
    "scrolled": true,
    "slideshow": {
     "slide_type": "fragment"
    }
   },
   "outputs": [],
   "source": [
    "df['Name'][1]  # 'Name' 열에서 정수 인덱스 1인 행의 값에 접근"
   ]
  },
  {
   "cell_type": "code",
   "execution_count": null,
   "metadata": {
    "scrolled": false,
    "slideshow": {
     "slide_type": "fragment"
    }
   },
   "outputs": [],
   "source": [
    "df['Name'][0:2]  # df[:][0]은 오류 (왜냐하면 \"df[:]\" 부분이 행 슬라이싱으로 해석되므로 )"
   ]
  },
  {
   "cell_type": "code",
   "execution_count": null,
   "metadata": {
    "scrolled": true,
    "slideshow": {
     "slide_type": "fragment"
    }
   },
   "outputs": [],
   "source": [
    "df[['Name', 'Courses']][1:2]"
   ]
  },
  {
   "cell_type": "markdown",
   "metadata": {
    "slideshow": {
     "slide_type": "subslide"
    }
   },
   "source": [
    "- `df[행1:행2]` 슬라이싱을 응용하여, `df[행1:행2][열]` 인덱싱 형식을 쓸 수 있다. "
   ]
  },
  {
   "cell_type": "code",
   "execution_count": null,
   "metadata": {
    "scrolled": false,
    "slideshow": {
     "slide_type": "fragment"
    }
   },
   "outputs": [],
   "source": [
    "df[:]['Name']  "
   ]
  },
  {
   "cell_type": "code",
   "execution_count": null,
   "metadata": {
    "scrolled": true,
    "slideshow": {
     "slide_type": "fragment"
    }
   },
   "outputs": [],
   "source": [
    "df[0:2][['Name', 'Courses']] "
   ]
  },
  {
   "cell_type": "code",
   "execution_count": null,
   "metadata": {
    "scrolled": true,
    "slideshow": {
     "slide_type": "fragment"
    }
   },
   "outputs": [],
   "source": [
    "df[:][:]  "
   ]
  },
  {
   "cell_type": "markdown",
   "metadata": {
    "slideshow": {
     "slide_type": "subslide"
    }
   },
   "source": [
    "- 그런데 (이해하기 어렵지만) 아래 코드는 여전히 오류를 유발한다.  \n",
    "  행 슬라이싱 형식을 열 슬라이싱 형식으로 확장할 수는 없다.  "
   ]
  },
  {
   "cell_type": "code",
   "execution_count": null,
   "metadata": {
    "scrolled": true,
    "slideshow": {
     "slide_type": "fragment"
    }
   },
   "outputs": [],
   "source": [
    "df[:]['Name':'Courses']  # 오류"
   ]
  },
  {
   "cell_type": "markdown",
   "metadata": {
    "slideshow": {
     "slide_type": "subslide"
    }
   },
   "source": [
    "- `[]`를 활용한 데이터프레임 인덱싱 방법을 정리하면 다음과 같다: \n",
    "  - `df[x]`는 단일 열에 대한 인덱싱이다.  \n",
    "    (행 인덱싱에 이 형식을 쓰면 오류이다.)\n",
    "  - `df[[x]]`와 `df[[x1, x2]]`는 열 리스트에 대한 인덱싱이다.  \n",
    "    (행 인덱싱에 이 형식을 쓰면 오류이다.)\n",
    "  - `df[x1:x2]`는 행 슬라이싱이다.  \n",
    "    (열 슬라이싱에 이 형식을 쓰면 오류이다.)\n",
    "- 위와 같은 기본 규칙을 응용하여 다음과 같은 확장 형식이 가능하다:     \n",
    "  - `df[열]` 형식을 확장하여 `df[열][행]` 형식으로 사용 가능하다. \n",
    "  - `df[행1:행2]` 형식을 확장하여 `df[행1:행2][열]` 형식으로 사용 가능하다. \n",
    "\n",
    "- `[]` 인덱싱은 까다롭기 때문에 추천하지 않으며,  \n",
    "  이어서 `.loc[]` 및 `.iloc[]`를 활용한 인덱싱을 공부하자. \n",
    "\n",
    "<div style=\"page-break-after: always;\"></div> "
   ]
  },
  {
   "cell_type": "markdown",
   "metadata": {
    "slideshow": {
     "slide_type": "subslide"
    }
   },
   "source": [
    "#### 3.3.2 `.loc[]`/`.iloc[]` 인덱싱\n",
    "\n",
    "- 판다스는 데이터프레임의 데이터에 접근하는 유연성을 확장하고자  \n",
    "  `.loc[]` 및 `.iloc[]` 메소드를 제공하며, 이들의 활용을 권장한다: \n",
    "  - `df.loc[]`는 레이블 인덱싱에 사용한다. \n",
    "  - `df.iloc[]`는 정수 인덱싱에 사용한다. \n",
    "  \n",
    "  - `loc[]` 및 `iloc[]`는 행과 열 지정 형식이 일관적이라는 점에서 `[]` 인덱싱보다 쉽다. \n",
    "- 이들은 **판다스에서 [추천하는 인덱싱 방법](https://pandas.pydata.org/pandas-docs/stable/user_guide/indexing.html#ix-indexer-is-deprecated)**이다. "
   ]
  },
  {
   "cell_type": "code",
   "execution_count": null,
   "metadata": {
    "slideshow": {
     "slide_type": "fragment"
    }
   },
   "outputs": [],
   "source": [
    "df  "
   ]
  },
  {
   "cell_type": "markdown",
   "metadata": {
    "slideshow": {
     "slide_type": "subslide"
    }
   },
   "source": [
    "- 정수 인덱싱 `.iloc[]`를 먼저 배우자.  \n",
    "  정수 인덱싱은 `.iloc[행, 열]` 형식을 사용한다.  \n",
    "  레이블 인덱싱도 `.loc[행, 열]` 형식을 일관적으로 사용한다. "
   ]
  },
  {
   "cell_type": "markdown",
   "metadata": {
    "slideshow": {
     "slide_type": "fragment"
    }
   },
   "source": [
    "- `.iloc[행]` 형식으로 행에 대해서만 인덱싱이 가능하다:"
   ]
  },
  {
   "cell_type": "code",
   "execution_count": null,
   "metadata": {
    "slideshow": {
     "slide_type": "fragment"
    }
   },
   "outputs": [],
   "source": [
    "df.iloc[0]       # 행 인덱싱"
   ]
  },
  {
   "cell_type": "code",
   "execution_count": null,
   "metadata": {
    "slideshow": {
     "slide_type": "fragment"
    }
   },
   "outputs": [],
   "source": [
    "df.iloc[[0, 2]]  # 행 리스트 인덱싱"
   ]
  },
  {
   "cell_type": "code",
   "execution_count": null,
   "metadata": {
    "scrolled": false,
    "slideshow": {
     "slide_type": "fragment"
    }
   },
   "outputs": [],
   "source": [
    "df.iloc[0:1]     # 행 슬라이싱"
   ]
  },
  {
   "cell_type": "markdown",
   "metadata": {
    "slideshow": {
     "slide_type": "subslide"
    }
   },
   "source": [
    "- `.iloc[]`로 열에 접근하려면, `.iloc[행, 열]` 형태를 써야 한다. "
   ]
  },
  {
   "cell_type": "code",
   "execution_count": null,
   "metadata": {
    "slideshow": {
     "slide_type": "fragment"
    }
   },
   "outputs": [],
   "source": [
    "df.iloc[2, 1]  # 2 행 1 열 원소를 인덱싱"
   ]
  },
  {
   "cell_type": "code",
   "execution_count": null,
   "metadata": {
    "scrolled": true,
    "slideshow": {
     "slide_type": "fragment"
    }
   },
   "outputs": [],
   "source": [
    "# 행 리스트 및 열 리스트\n",
    "df.iloc[[0, 1], [1, 2]]  # [0, 1] 행 리스트, [1, 2] 열 리스트"
   ]
  },
  {
   "cell_type": "code",
   "execution_count": null,
   "metadata": {
    "scrolled": true,
    "slideshow": {
     "slide_type": "fragment"
    }
   },
   "outputs": [],
   "source": [
    "# 행 슬라이싱 및 열 슬라이싱\n",
    "df.iloc[0:2, 1:]"
   ]
  },
  {
   "cell_type": "code",
   "execution_count": null,
   "metadata": {
    "slideshow": {
     "slide_type": "subslide"
    }
   },
   "outputs": [],
   "source": [
    "# (모든 행) 특정 열에 접근\n",
    "df.iloc[:, 1:2]  # df.iloc[:, 1]은 시리즈를 반환함"
   ]
  },
  {
   "cell_type": "code",
   "execution_count": null,
   "metadata": {
    "slideshow": {
     "slide_type": "fragment"
    }
   },
   "outputs": [],
   "source": [
    "# (모든 열) 특정 행에 접근\n",
    "df.iloc[1:2, :]  # df.iloc[1, :]은 시리즈를 반환함"
   ]
  },
  {
   "cell_type": "markdown",
   "metadata": {
    "slideshow": {
     "slide_type": "subslide"
    }
   },
   "source": [
    "- (정수 인덱싱에 이어서) 레이블 인덱싱 `.loc[]`도 배워보자.  \n",
    "  레이블 인덱싱도 `.loc[행, 열]` 형식을 사용한다. "
   ]
  },
  {
   "cell_type": "code",
   "execution_count": null,
   "metadata": {
    "scrolled": false,
    "slideshow": {
     "slide_type": "fragment"
    }
   },
   "outputs": [],
   "source": [
    "df.loc['row0']     # df.iloc[0] 결과와 동일"
   ]
  },
  {
   "cell_type": "code",
   "execution_count": null,
   "metadata": {},
   "outputs": [],
   "source": [
    "df.loc[['row0', 'row2']]"
   ]
  },
  {
   "cell_type": "code",
   "execution_count": null,
   "metadata": {
    "slideshow": {
     "slide_type": "fragment"
    }
   },
   "outputs": [],
   "source": [
    "df.loc['row0':'row2']   # df.iloc[0:2] 결과와 비슷하지만, 'row2' 행도 포함됨!!!"
   ]
  },
  {
   "cell_type": "markdown",
   "metadata": {
    "slideshow": {
     "slide_type": "fragment"
    }
   },
   "source": [
    "- 정수 인덱싱과 달리,  \n",
    "  레이블 인덱싱에서 슬라이싱 범위는 끝 값도 포함하는 방식이다. "
   ]
  },
  {
   "cell_type": "markdown",
   "metadata": {
    "slideshow": {
     "slide_type": "subslide"
    }
   },
   "source": [
    "- `iloc[]`와 마찬가지로,  \n",
    "  `loc[]`도 열에 접근하려면, `[행, 열]` 형태를 써야 한다. "
   ]
  },
  {
   "cell_type": "code",
   "execution_count": null,
   "metadata": {
    "slideshow": {
     "slide_type": "subslide"
    }
   },
   "outputs": [],
   "source": [
    "df.loc['row2', 'Language']                         # df.iloc[2, 1] 결과와 동일"
   ]
  },
  {
   "cell_type": "code",
   "execution_count": null,
   "metadata": {
    "slideshow": {
     "slide_type": "subslide"
    }
   },
   "outputs": [],
   "source": [
    "# 행 리스트 및 열 리스트\n",
    "df.loc[['row0', 'row1'], ['Language', 'Courses']]  # df.iloc[[0, 1], [1, 2]]"
   ]
  },
  {
   "cell_type": "code",
   "execution_count": null,
   "metadata": {
    "scrolled": true,
    "slideshow": {
     "slide_type": "subslide"
    }
   },
   "outputs": [],
   "source": [
    "# 행 슬라이싱 및 열 슬라이싱\n",
    "df.loc['row0':'row1', 'Language':]                 # df.iloc[0:2, 1:]  \n",
    "                                                   # iloc[]와 동일하게 행 슬라이싱을 하려면 \n",
    "                                                   # loc[] 행 슬라이싱 범위가 달라야 함!!!"
   ]
  },
  {
   "cell_type": "markdown",
   "metadata": {
    "slideshow": {
     "slide_type": "fragment"
    }
   },
   "source": [
    "- `.loc[]` 슬라이싱은 끝이 닫힌 범위로 처리되어, 범위의 끝 위치도 포함한다.\n",
    "- `.iloc[]` 슬라이싱은 끝이 열린 범위로 처리되어, 범위의 끝 위치를 제외한다.\n"
   ]
  },
  {
   "cell_type": "markdown",
   "metadata": {
    "slideshow": {
     "slide_type": "subslide"
    }
   },
   "source": [
    "- 일반적으로 데이터프레임에서 열 인덱스는 레이블 형식을 쓰기 때문에  \n",
    "  레이블 인덱싱을 위한 `.loc[]`를 자주 사용한다. "
   ]
  },
  {
   "cell_type": "code",
   "execution_count": null,
   "metadata": {
    "slideshow": {
     "slide_type": "fragment"
    }
   },
   "outputs": [],
   "source": [
    "# 모든 행과 열에 접근\n",
    "\n",
    "df.loc[:, :] "
   ]
  },
  {
   "cell_type": "code",
   "execution_count": null,
   "metadata": {
    "slideshow": {
     "slide_type": "subslide"
    }
   },
   "outputs": [],
   "source": [
    "# (모든 행) 특정 열에 접근\n",
    "\n",
    "df.loc[:, ['Language']]  # df.iloc[:, 1] "
   ]
  },
  {
   "cell_type": "code",
   "execution_count": null,
   "metadata": {
    "slideshow": {
     "slide_type": "fragment"
    }
   },
   "outputs": [],
   "source": [
    "# (모든 열) 특정 행에 접근\n",
    "\n",
    "df.loc[['row1'], :]  # df.iloc[1, :]"
   ]
  },
  {
   "cell_type": "code",
   "execution_count": null,
   "metadata": {
    "scrolled": true,
    "slideshow": {
     "slide_type": "subslide"
    }
   },
   "outputs": [],
   "source": [
    "df.loc[:, 'Name']  # 특정 열만 선별\n",
    "                   # 반환값이 시리즈"
   ]
  },
  {
   "cell_type": "code",
   "execution_count": null,
   "metadata": {
    "scrolled": false,
    "slideshow": {
     "slide_type": "fragment"
    }
   },
   "outputs": [],
   "source": [
    "df.loc[:, ['Name']]  # 특정 열만 선별\n",
    "                     # 반환값이 데이터프레임"
   ]
  },
  {
   "cell_type": "code",
   "execution_count": null,
   "metadata": {
    "scrolled": true,
    "slideshow": {
     "slide_type": "subslide"
    }
   },
   "outputs": [],
   "source": [
    "df.loc['row1', :]  # 특정 행만 선별\n",
    "              # 반환값이 시리즈"
   ]
  },
  {
   "cell_type": "code",
   "execution_count": null,
   "metadata": {
    "scrolled": false,
    "slideshow": {
     "slide_type": "fragment"
    }
   },
   "outputs": [],
   "source": [
    "df.loc[['row1'], :]  # 특정 행만 선별\n",
    "                # 반환값이 데이터프레임"
   ]
  },
  {
   "cell_type": "markdown",
   "metadata": {
    "slideshow": {
     "slide_type": "subslide"
    }
   },
   "source": [
    "- 때때로 데이터프레임 내부의 데이터에 접근하기 위하여  \n",
    "  정수와 레이블을 혼합하여 사용하고 싶은 경우가 있다.  \n",
    "  이렇게 하는 가장 쉬운 방법은 다음 두 방법을 함께 사용하는 것이다:\n",
    "  - 레이블을 지정하는 `.loc[]` \n",
    "  - 정수를 지정하는 `.index` 및 `.columns`  "
   ]
  },
  {
   "cell_type": "code",
   "execution_count": null,
   "metadata": {
    "slideshow": {
     "slide_type": "fragment"
    }
   },
   "outputs": [],
   "source": [
    "df"
   ]
  },
  {
   "cell_type": "code",
   "execution_count": null,
   "metadata": {
    "slideshow": {
     "slide_type": "fragment"
    }
   },
   "outputs": [],
   "source": [
    "df.index  # 데이터프레임의 index 속성, 결국 행 인덱스 값의 리스트"
   ]
  },
  {
   "cell_type": "code",
   "execution_count": null,
   "metadata": {
    "scrolled": true,
    "slideshow": {
     "slide_type": "fragment"
    }
   },
   "outputs": [],
   "source": [
    "df.columns  # 데이터프레임의 columns 속성, 결국 열 인덱스 값의 리스트"
   ]
  },
  {
   "cell_type": "code",
   "execution_count": null,
   "metadata": {
    "slideshow": {
     "slide_type": "subslide"
    }
   },
   "outputs": [],
   "source": [
    "# 행은 df.index[]로, 열은 df.columns[]로 지정 \n",
    "df.loc[df.index[0], df.columns[0]] "
   ]
  },
  {
   "cell_type": "code",
   "execution_count": null,
   "metadata": {
    "slideshow": {
     "slide_type": "fragment"
    }
   },
   "outputs": [],
   "source": [
    "# 행만 df.index[]로 지정\n",
    "df.loc[df.index[0], 'Name']  # df.index[0]은 'row0'  "
   ]
  },
  {
   "cell_type": "code",
   "execution_count": null,
   "metadata": {
    "slideshow": {
     "slide_type": "fragment"
    }
   },
   "outputs": [],
   "source": [
    "# 열만 df.columns[]로 지정\n",
    "df.loc['row0', df.columns[0]]  # df.index[0]은 'row0', df.columns[0]는 'Name'"
   ]
  },
  {
   "cell_type": "code",
   "execution_count": null,
   "metadata": {
    "slideshow": {
     "slide_type": "fragment"
    }
   },
   "outputs": [],
   "source": [
    "df.loc[df.index[:], df.columns[:]]  # 모든 행과 열에 접근"
   ]
  },
  {
   "cell_type": "markdown",
   "metadata": {
    "slideshow": {
     "slide_type": "fragment"
    }
   },
   "source": [
    "- 지금까지, `[]`, `.iloc[]` 및 `.loc[]` 인덱싱을 공부했다.  \n",
    "  이어서 논리형 인덱싱을 공부하자. \n",
    "\n",
    "<div style=\"page-break-after: always;\"></div> "
   ]
  },
  {
   "cell_type": "markdown",
   "metadata": {
    "slideshow": {
     "slide_type": "subslide"
    }
   },
   "source": [
    "#### 3.3.3 논리형 인덱싱\n",
    "\n",
    "- 시리즈에서와 마찬가지로, 데이터를 논리형 마스크로 추출할 수 있다.  \n",
    "  - **논리형 마스크는 행 단위로 적용**된다.\n",
    "  - 이 말은 논리형 마스크로 행을 인덱싱할 수 있다는 의미이다."
   ]
  },
  {
   "cell_type": "code",
   "execution_count": null,
   "metadata": {
    "slideshow": {
     "slide_type": "fragment"
    }
   },
   "outputs": [],
   "source": [
    "df"
   ]
  },
  {
   "cell_type": "code",
   "execution_count": null,
   "metadata": {
    "slideshow": {
     "slide_type": "fragment"
    }
   },
   "outputs": [],
   "source": [
    "df[[True, False, True]]  # 논리값 벡터, 즉 논리 마스크로 행 인덱싱"
   ]
  },
  {
   "cell_type": "code",
   "execution_count": null,
   "metadata": {
    "slideshow": {
     "slide_type": "subslide"
    }
   },
   "outputs": [],
   "source": [
    "df['Courses'] > 5  # 행에 대한 논리값 벡터를 산출하는 논리식"
   ]
  },
  {
   "cell_type": "code",
   "execution_count": null,
   "metadata": {
    "slideshow": {
     "slide_type": "fragment"
    }
   },
   "outputs": [],
   "source": [
    "df[df['Courses'] > 5]  # 논리식 마스킹으로 행 추출"
   ]
  },
  {
   "cell_type": "code",
   "execution_count": null,
   "metadata": {
    "slideshow": {
     "slide_type": "subslide"
    }
   },
   "outputs": [],
   "source": [
    "df[df['Courses'] > 4]  # 조건에 부합하는 행 추출"
   ]
  },
  {
   "cell_type": "code",
   "execution_count": null,
   "metadata": {
    "slideshow": {
     "slide_type": "fragment"
    }
   },
   "outputs": [],
   "source": [
    "# 조건에 부합하는 행을 추출한 후, 다시 특정 열 리스트만 추출\n",
    "df[df['Courses'] > 4][['Name', 'Language']]  "
   ]
  },
  {
   "cell_type": "code",
   "execution_count": null,
   "metadata": {
    "scrolled": true,
    "slideshow": {
     "slide_type": "subslide"
    }
   },
   "outputs": [],
   "source": [
    "# 조건에 부합하는 행에서 특정 열만 (시리즈로) 추출\n",
    "df[df['Courses'] > 4]['Name']  "
   ]
  },
  {
   "cell_type": "code",
   "execution_count": null,
   "metadata": {
    "scrolled": true,
    "slideshow": {
     "slide_type": "fragment"
    }
   },
   "outputs": [],
   "source": [
    "# 조건에 부합하는 행에서 특정 열만 (데이터프레임으로) 추출\n",
    "df[df['Courses'] > 4][['Name']]  "
   ]
  },
  {
   "cell_type": "markdown",
   "metadata": {
    "slideshow": {
     "slide_type": "fragment"
    }
   },
   "source": [
    "- 논리형 인덱싱에 이어서 `.query()` 인덱싱을 공부하자. \n",
    "\n",
    "<div style=\"page-break-after: always;\"></div> "
   ]
  },
  {
   "cell_type": "markdown",
   "metadata": {
    "slideshow": {
     "slide_type": "subslide"
    }
   },
   "source": [
    "#### 3.3.4 `.query()` 인덱싱\n",
    "\n",
    "- 논리형 마스크도 잘 작동하지만,  \n",
    "  데이터 선별을 위해서라면 `.query()` 메소드가 더욱 편리하다. \n",
    "  - `df.query()`는 데이터 추출을 위한 강력한 도구이다. \n",
    "  - `df.query()`에서 요구하는 문법은 SQL 조건문과 비슷하다. \n",
    "  - `df.query()`는 조건을 지정하는 문자열을 인자로 요구하며,  \n",
    "    `df` 데이터프레임에 포함된 열 이름을 메소드가 이미 알고 있으므로 편리하게 사용할 수 있다. "
   ]
  },
  {
   "cell_type": "markdown",
   "metadata": {
    "slideshow": {
     "slide_type": "fragment"
    }
   },
   "source": [
    "- `.query()` 메소드에 검색 조건을 문자열 인자로 지정할 때,  \n",
    "  작은 따옴표를 쓰거나 큰 따옴표를 쓰거나 차이가 없다. "
   ]
  },
  {
   "cell_type": "code",
   "execution_count": null,
   "metadata": {
    "slideshow": {
     "slide_type": "subslide"
    }
   },
   "outputs": [],
   "source": [
    "df.query(\"Courses > 4 & Language == 'Python'\")"
   ]
  },
  {
   "cell_type": "code",
   "execution_count": null,
   "metadata": {
    "scrolled": true,
    "slideshow": {
     "slide_type": "fragment"
    }
   },
   "outputs": [],
   "source": [
    "df[(df['Courses'] > 4) & (df['Language'] == 'Python')]  \n",
    "\n",
    "# 논리형 인덱싱은 .query()보다 가독성이 떨어짐"
   ]
  },
  {
   "cell_type": "code",
   "execution_count": null,
   "metadata": {
    "slideshow": {
     "slide_type": "fragment"
    }
   },
   "outputs": [],
   "source": [
    "df[(df.Courses > 4) & (df.Language == 'Python')] \n",
    "\n",
    "# 직전 셀과 동일한 코드를 이처럼 작성할 수도 있음\n",
    "# 조금 나아졌지만, 여전히 .query()보다 가독성이 떨어짐"
   ]
  },
  {
   "cell_type": "markdown",
   "metadata": {
    "slideshow": {
     "slide_type": "fragment"
    }
   },
   "source": [
    "- `.query()`와 논리형 인덱싱은 동일한 조건 검색 기능을 제공하지만,  \n",
    "  질의 조건이 복잡할수록 `.query()`의 가독성이 훨씬 좋다. "
   ]
  },
  {
   "cell_type": "markdown",
   "metadata": {
    "slideshow": {
     "slide_type": "subslide"
    }
   },
   "source": [
    "- `.query()` 메소드에서는  \n",
    "  현재 작업공간(workspace)에 정의된 변수에 대한 참조를  \n",
    "  `@` 기호로 사용할 수 있다. "
   ]
  },
  {
   "cell_type": "code",
   "execution_count": null,
   "metadata": {
    "slideshow": {
     "slide_type": "fragment"
    }
   },
   "outputs": [],
   "source": [
    "course_threshold = 4"
   ]
  },
  {
   "cell_type": "code",
   "execution_count": null,
   "metadata": {
    "scrolled": true,
    "slideshow": {
     "slide_type": "fragment"
    }
   },
   "outputs": [],
   "source": [
    "df.query(\"Courses > @course_threshold\")  # 변수 값에 대한 참조를 질의 조건에 포함\n",
    "                                         # 데이터프레임 내부 열 이름은 그냥 사용"
   ]
  },
  {
   "cell_type": "markdown",
   "metadata": {
    "slideshow": {
     "slide_type": "fragment"
    }
   },
   "source": [
    "- 지금까지 공부한 인덱싱 방법을 정리하자. \n",
    "\n",
    "<div style=\"page-break-after: always;\"></div> "
   ]
  },
  {
   "cell_type": "markdown",
   "metadata": {
    "slideshow": {
     "slide_type": "subslide"
    }
   },
   "source": [
    "#### 3.3.5 인덱싱 방법 요약\n",
    "\n",
    "|방법|문법|산출 결과|\n",
    "|---|---|---|\n",
    "|열 선택|`df[열_레이블]`|시리즈|\n",
    "|행 슬라이스 선택|`df[행_1_정수:행_2_정수]`|데이터프레임|\n",
    "|레이블로 행/열 선택|`df.loc[행_레이블, 열_레이블]`|단일 값 선택이면 객체, <br>단일 행/열 선택이면 시리즈, <br>아니면 데이터프레임|\n",
    "|정수로 행/열 선택|`df.iloc[행_정수, 열_정수]`|단일 값 선택이면 객체, <br>단일 행/열 선택이면 시리즈, <br>아니면 데이터프레임|\n",
    "|행 정수 및 열 레이블로 선택|`df.loc[df.index[행_정수], 열_레이블]`|단일 값 선택이면 객체, <br>단일 행/열 선택이면 시리즈, <br>아니면 데이터프레임|\n",
    "|행 레이블 및 열 정수로 선택|`df.loc[행_레이블, df.columns[열_정수]]`|단일 값 선택이면 객체, <br>단일 행/열 선택이면 시리즈, <br>아니면 데이터프레임|\n",
    "|논리값으로 선택|`df[논리값_벡터]`|단일 값 선택이면 객체, <br>단일 행/열 선택이면 시리즈, <br>아니면 데이터프레임|\n",
    "|논리식으로 선택|`df.query(\"논리식\")`|단일 값 선택이면 객체, <br>단일 행/열 선택이면 시리즈, <br>아니면 데이터프레임|"
   ]
  },
  {
   "cell_type": "markdown",
   "metadata": {
    "slideshow": {
     "slide_type": "fragment"
    }
   },
   "source": [
    "- 데이터프레임 인덱싱 방법에 이어서  \n",
    "  데이터프레임에 대한 입력/출력을 공부하자. \n",
    "\n",
    "<div style=\"page-break-after: always;\"></div> "
   ]
  },
  {
   "cell_type": "markdown",
   "metadata": {
    "slideshow": {
     "slide_type": "subslide"
    }
   },
   "source": [
    "### 3.4 입력 및 출력"
   ]
  },
  {
   "cell_type": "markdown",
   "metadata": {
    "slideshow": {
     "slide_type": "fragment"
    }
   },
   "source": [
    "#### 3.4.1 csv 파일"
   ]
  },
  {
   "cell_type": "markdown",
   "metadata": {
    "slideshow": {
     "slide_type": "fragment"
    }
   },
   "source": [
    "- .csv 파일 데이터를 읽어서  \n",
    "  판다스 데이터프레임으로 적재하는 작업은  \n",
    "  데이터 과학 분야에서 매우 일상적이다. \n",
    "  - `pd.read_csv()` 함수로 이 작업을 수행할 수 있다. \n",
    "  - 실습 데이터는 자전거 출퇴근에 관한 실제 데이터셋이다. \n",
    "  - `pd.read_csv()` 함수에는 인자가 매우 다양하게 정의되어 있다.  \n",
    "  - 주피터 노트북 코드 셀에  \n",
    "    `pd.read_csv`, `pd.read_csv?` 또는 `help(pd.read_csv)`라고 입력하고  \n",
    "    셀을 실행하면, 해당 함수의 매개변수에 대한 상세 정보를 확인할 수 있다. "
   ]
  },
  {
   "cell_type": "code",
   "execution_count": null,
   "metadata": {
    "slideshow": {
     "slide_type": "subslide"
    }
   },
   "outputs": [],
   "source": [
    "pd.read_csv"
   ]
  },
  {
   "cell_type": "code",
   "execution_count": null,
   "metadata": {
    "scrolled": true,
    "slideshow": {
     "slide_type": "subslide"
    }
   },
   "outputs": [],
   "source": [
    "path = '../data/cycling_data.csv'                      # 파일을 문서 편집기 및 엑셀에서 확인\n",
    "df = pd.read_csv(path, index_col=0, parse_dates=True)  # 인덱스를 0번 열로, 날짜 해석 요청\n",
    "df"
   ]
  },
  {
   "cell_type": "markdown",
   "metadata": {
    "slideshow": {
     "slide_type": "subslide"
    }
   },
   "source": [
    "- `df.read_csv()` 함수에서 제공하는 다양한 인자를 활용할 수 있다면,  \n",
    "  많은 복잡한 전처리 작업을 쉽게 해결 가능하다. [여기를 확인하라](https://rfriend.tistory.com/250). \n",
    "- `df.to_csv()` 함수로 데이터프레임을 .csv 파일로 저장할 수 있다.  \n",
    "  `df.to_csv()` 함수에도 매우 다양한 매개변수가 준비되어 있으니 [여기를 확인하기 바란다](https://rfriend.tistory.com/252). \n",
    "- 모든 사항을 다 배우고, 외우는 방식으로 공부할 수는 없다.  \n",
    "  \"csv 형식의 파일을 판다스에서 입력하고, 출력하는 함수가 있었는데...\" 정도의 기억을 남겨두었다가,  \n",
    "  필요한 때가 오면 구글링으로 해결하면 된다. "
   ]
  },
  {
   "cell_type": "markdown",
   "metadata": {
    "slideshow": {
     "slide_type": "fragment"
    }
   },
   "source": [
    "- 파일에 대한 입출력에 이어서,  \n",
    "  url을 활용한 입출력을 공부하자. \n",
    "\n",
    "<div style=\"page-break-after: always;\"></div> "
   ]
  },
  {
   "cell_type": "markdown",
   "metadata": {
    "slideshow": {
     "slide_type": "subslide"
    }
   },
   "source": [
    "#### 3.4.2 url"
   ]
  },
  {
   "cell_type": "markdown",
   "metadata": {
    "slideshow": {
     "slide_type": "fragment"
    }
   },
   "source": [
    "- 판다스에서는 url을 지정하여 웹 데이터에 직접 접근할 수 있다.  \n",
    "  `pd.read_csv()` 함수에 url을 직접 지정하면 된다. "
   ]
  },
  {
   "cell_type": "code",
   "execution_count": null,
   "metadata": {
    "scrolled": true,
    "slideshow": {
     "slide_type": "fragment"
    }
   },
   "outputs": [],
   "source": [
    "url = 'https://raw.githubusercontent.com/logistex/jBook/main/cycling_data.csv'\n",
    "df = pd.read_csv(url)\n",
    "df.head()    # df 앞 부분만 출력"
   ]
  },
  {
   "cell_type": "markdown",
   "metadata": {
    "slideshow": {
     "slide_type": "fragment"
    }
   },
   "source": [
    "- csv 파일 및 url을 활용한 입출력 외에도,  \n",
    "  기타 다양한 유형의 파일에 대한 입출력이 가능하다. "
   ]
  },
  {
   "cell_type": "markdown",
   "metadata": {
    "slideshow": {
     "slide_type": "subslide"
    }
   },
   "source": [
    "#### 3.4.3 기타\n",
    "\n",
    "- 판다스는 HTML, JSON, Excel, Parquet, Feather 등을 포함하는  \n",
    "  매우 다양한 유형의 파일을 읽을 수 있다.\n",
    "  - 일반적으로 이들 유형마다 전용 입출력 함수가 준비되어 있다.  \n",
    "  - 판다스 공식 문서에서 [이들에 대한 자세한 내용](https://pandas.pydata.org/pandas-docs/stable/user_guide/io.html#io-tools-text-csv-hdf5)을 확인할 수 있다. "
   ]
  },
  {
   "cell_type": "markdown",
   "metadata": {
    "slideshow": {
     "slide_type": "fragment"
    }
   },
   "source": [
    "- 데이터프레임의 입출력에 이어서,  \n",
    "  데이터프레임에 대한 연산을 공부하자. \n",
    "\n",
    "<div style=\"page-break-after: always;\"></div> "
   ]
  },
  {
   "cell_type": "markdown",
   "metadata": {
    "slideshow": {
     "slide_type": "subslide"
    }
   },
   "source": [
    "### 3.5 데이터프레임 연산"
   ]
  },
  {
   "cell_type": "markdown",
   "metadata": {
    "slideshow": {
     "slide_type": "fragment"
    }
   },
   "source": [
    "- 데이터프레임은 `.min()`, `idxmin()`, `sort_values()` 등을 포함하여  \n",
    "  다양한 작업 수행을 위한 함수를 내장하고 있다. \n",
    "  - [데이터프레임 내장 함수](https://pandas.pydata.org/pandas-docs/stable/reference/api/pandas.DataFrame.html)의 방대한 내용은 판다스 공식 문서에서 확인할 수 있다.\n",
    "  - 아래에서 이들 중의 일부에 대한 예제를 공부하자. "
   ]
  },
  {
   "cell_type": "code",
   "execution_count": null,
   "metadata": {
    "scrolled": true,
    "slideshow": {
     "slide_type": "subslide"
    }
   },
   "outputs": [],
   "source": [
    "df = pd.read_csv('../data/cycling_data.csv')\n",
    "df.tail()  # 데이퍼프레임의 끝 부분만 확인"
   ]
  },
  {
   "cell_type": "code",
   "execution_count": null,
   "metadata": {
    "slideshow": {
     "slide_type": "fragment"
    }
   },
   "outputs": [],
   "source": [
    "df.shape"
   ]
  },
  {
   "cell_type": "code",
   "execution_count": null,
   "metadata": {
    "scrolled": true,
    "slideshow": {
     "slide_type": "fragment"
    }
   },
   "outputs": [],
   "source": [
    "df.min()  # df의 최소값"
   ]
  },
  {
   "cell_type": "code",
   "execution_count": null,
   "metadata": {
    "scrolled": false,
    "slideshow": {
     "slide_type": "fragment"
    }
   },
   "outputs": [],
   "source": [
    "df.max()"
   ]
  },
  {
   "cell_type": "code",
   "execution_count": null,
   "metadata": {
    "slideshow": {
     "slide_type": "subslide"
    }
   },
   "outputs": [],
   "source": [
    "df.mean(numeric_only=True)"
   ]
  },
  {
   "cell_type": "code",
   "execution_count": null,
   "metadata": {
    "slideshow": {
     "slide_type": "subslide"
    }
   },
   "outputs": [],
   "source": [
    "df['Time'].min()     # df.Time 열의 최소값"
   ]
  },
  {
   "cell_type": "code",
   "execution_count": null,
   "metadata": {
    "slideshow": {
     "slide_type": "fragment"
    }
   },
   "outputs": [],
   "source": [
    "df['Time'].idxmin()  # df.Time 열 최소값의 인덱스 "
   ]
  },
  {
   "cell_type": "code",
   "execution_count": null,
   "metadata": {
    "slideshow": {
     "slide_type": "fragment"
    }
   },
   "outputs": [],
   "source": [
    "df.iloc[20]          # 행 인덱스 지정하여 확인"
   ]
  },
  {
   "cell_type": "code",
   "execution_count": null,
   "metadata": {
    "slideshow": {
     "slide_type": "fragment"
    }
   },
   "outputs": [],
   "source": [
    "df.sum()            # df의 열별 합계 (문자열에 대해서는 연결!)"
   ]
  },
  {
   "cell_type": "markdown",
   "metadata": {
    "slideshow": {
     "slide_type": "subslide"
    }
   },
   "source": [
    "- `.mean()`과 같은 일부 메소드는 수치 열에 대해서만 작업을 수행하고,  \n",
    "  비수치 열은 무시했었는데, 이제는 경고를 한다.  \n",
    "  아래 코드에서 인자를 지우고 실행하여 보라. "
   ]
  },
  {
   "cell_type": "code",
   "execution_count": null,
   "metadata": {
    "slideshow": {
     "slide_type": "fragment"
    }
   },
   "outputs": [],
   "source": [
    "df.mean(numeric_only=True)  # df 수치 열에 대한 평균"
   ]
  },
  {
   "cell_type": "markdown",
   "metadata": {
    "slideshow": {
     "slide_type": "subslide"
    }
   },
   "source": [
    "- `.sort_values()`와 같은 일부 메소드에 대해서는 인자를 지정해야 한다. "
   ]
  },
  {
   "cell_type": "code",
   "execution_count": null,
   "metadata": {
    "scrolled": true,
    "slideshow": {
     "slide_type": "fragment"
    }
   },
   "outputs": [],
   "source": [
    "df.sort_values(by='Time')  # 정렬 기준 열 레이블을 by 인자로 지정"
   ]
  },
  {
   "cell_type": "code",
   "execution_count": null,
   "metadata": {
    "scrolled": true,
    "slideshow": {
     "slide_type": "subslide"
    }
   },
   "outputs": [],
   "source": [
    "# by 및 ascending 인자 \n",
    "df.sort_values(by='Time', ascending=False)  # 10 행의 Time 수치는 이상치?"
   ]
  },
  {
   "cell_type": "markdown",
   "metadata": {
    "slideshow": {
     "slide_type": "subslide"
    }
   },
   "source": [
    "- 데이터프레임에 포함된 수치 열에 대하여 주요 통계량을 한번에 확인할 수 있다: \n",
    "  - Distance 열의 개수가 31개\n",
    "  - Time 열의 평균은 다소 크고, 표준편차는 매우 큼\n",
    "  - Distance 열의 모든 사분위 수치는 큰 차이가 없음\n",
    "  - Time 열의 최대값은 특이하게 큰 수치임"
   ]
  },
  {
   "cell_type": "code",
   "execution_count": null,
   "metadata": {
    "scrolled": true,
    "slideshow": {
     "slide_type": "fragment"
    }
   },
   "outputs": [],
   "source": [
    "df.describe()"
   ]
  },
  {
   "cell_type": "code",
   "execution_count": null,
   "metadata": {
    "slideshow": {
     "slide_type": "fragment"
    }
   },
   "outputs": [],
   "source": [
    "df[df.Distance.isnull()]"
   ]
  },
  {
   "cell_type": "markdown",
   "metadata": {
    "slideshow": {
     "slide_type": "subslide"
    }
   },
   "source": [
    "- `.sort_index()`와 같은 일부 메소드는  \n",
    "  인덱스에 대한 연산을 수행한다. "
   ]
  },
  {
   "cell_type": "code",
   "execution_count": null,
   "metadata": {
    "scrolled": true,
    "slideshow": {
     "slide_type": "fragment"
    }
   },
   "outputs": [],
   "source": [
    "df.sort_index(ascending=False)"
   ]
  },
  {
   "cell_type": "markdown",
   "metadata": {
    "slideshow": {
     "slide_type": "fragment"
    }
   },
   "source": [
    "- 데이터프레임 연산에 이어서,  \n",
    "  자료구조 선택에 관한 지침을 알아보자. \n",
    "\n",
    "<div style=\"page-break-after: always;\"></div> "
   ]
  },
  {
   "cell_type": "markdown",
   "metadata": {
    "slideshow": {
     "slide_type": "slide"
    }
   },
   "source": [
    "## 4. 자료구조 선택 지침"
   ]
  },
  {
   "cell_type": "markdown",
   "metadata": {
    "slideshow": {
     "slide_type": "fragment"
    }
   },
   "source": [
    "- 왜 이 모든 자료구조가 필요한가?  \n",
    "  각 자료구조마다 고유한 용도가 있고, 적당한 용처가 있다. \n",
    "  - 일반적으로 넘파이가 판다스보다 빠르고 메모리 요구량이 적다.\n",
    "  - 모든 파이썬 패키지가 넘파이 및 판다스와 호환되지는 않는다. \n",
    "  - 데이터에 레이블을 지정할 수 있는 기능은 시계열 데이터 등에서 쓸모가 있다.\n",
    "  - 넘파이 및 판다스는 제공하는 내장 함수가 다르다. \n",
    "- 당신의 작업에 필요한 **조건을 충족하는, 가장 단순한** 자료구조를 사용하라. \n",
    "- 넘파이 배열에서, 판다스 시리즈를 거쳐 판다스 데이터프레임으로 진행하였다. \n",
    "  - 넘파이 배열: ndarray (`np.array()`) \n",
    "  - 판다스 시리즈: Series (`pd.Series()`) \n",
    "  - 판다스 데이터프레임: DataFrame (`pd.DataFrame()`)\n",
    "- 데이터프레임이나 시리즈에서 넘파이 배열로 가려면,  \n",
    "  `df.to_numpy()`를 쓸 수 있다. "
   ]
  },
  {
   "cell_type": "code",
   "execution_count": null,
   "metadata": {
    "slideshow": {
     "slide_type": "subslide"
    }
   },
   "outputs": [],
   "source": [
    "type(df)"
   ]
  },
  {
   "cell_type": "code",
   "execution_count": null,
   "metadata": {
    "slideshow": {
     "slide_type": "fragment"
    }
   },
   "outputs": [],
   "source": [
    "type(df.Distance)"
   ]
  },
  {
   "cell_type": "code",
   "execution_count": null,
   "metadata": {
    "slideshow": {
     "slide_type": "fragment"
    }
   },
   "outputs": [],
   "source": [
    "type(df.Distance.to_numpy())"
   ]
  },
  {
   "cell_type": "markdown",
   "metadata": {
    "slideshow": {
     "slide_type": "subslide"
    }
   },
   "source": [
    "- 자료구조 선택 지침을 끝으로 판다스 공부를 마친다.\n",
    "- 지금까지 넘파이 및 판다스를 공부했고,  \n",
    "  다음 장에서는 데이터 정제를 공부할 예정이다. \n",
    "\n",
    "<div style=\"page-break-after: always;\"></div> "
   ]
  }
 ],
 "metadata": {
  "celltoolbar": "Slideshow",
  "interpreter": {
   "hash": "c4b96a0da8f6d8958919ce53b082388bce4195705a806ea53e1d7a107cfce384"
  },
  "kernelspec": {
   "display_name": "Python 3",
   "language": "python",
   "name": "python3"
  },
  "language_info": {
   "codemirror_mode": {
    "name": "ipython",
    "version": 3
   },
   "file_extension": ".py",
   "mimetype": "text/x-python",
   "name": "python",
   "nbconvert_exporter": "python",
   "pygments_lexer": "ipython3",
   "version": "3.8.11"
  },
  "latex_envs": {
   "LaTeX_envs_menu_present": true,
   "autoclose": false,
   "autocomplete": true,
   "bibliofile": "biblio.bib",
   "cite_by": "apalike",
   "current_citInitial": 1,
   "eqLabelWithNumbers": true,
   "eqNumInitial": 1,
   "hotkeys": {
    "equation": "Ctrl-E",
    "itemize": "Ctrl-I"
   },
   "labels_anchors": false,
   "latex_user_defs": false,
   "report_style_numbering": false,
   "user_envs_cfg": false
  },
  "toc": {
   "base_numbering": 1,
   "nav_menu": {},
   "number_sections": false,
   "sideBar": true,
   "skip_h1_title": true,
   "title_cell": "개요",
   "title_sidebar": "Contents",
   "toc_cell": false,
   "toc_position": {
    "height": "calc(100% - 180px)",
    "left": "10px",
    "top": "150px",
    "width": "204.266px"
   },
   "toc_section_display": true,
   "toc_window_display": true
  },
  "varInspector": {
   "cols": {
    "lenName": 16,
    "lenType": 16,
    "lenVar": 40
   },
   "kernels_config": {
    "python": {
     "delete_cmd_postfix": "",
     "delete_cmd_prefix": "del ",
     "library": "var_list.py",
     "varRefreshCmd": "print(var_dic_list())"
    },
    "r": {
     "delete_cmd_postfix": ") ",
     "delete_cmd_prefix": "rm(",
     "library": "var_list.r",
     "varRefreshCmd": "cat(var_dic_list()) "
    }
   },
   "types_to_exclude": [
    "module",
    "function",
    "builtin_function_or_method",
    "instance",
    "_Feature"
   ],
   "window_display": false
  }
 },
 "nbformat": 4,
 "nbformat_minor": 4
}
