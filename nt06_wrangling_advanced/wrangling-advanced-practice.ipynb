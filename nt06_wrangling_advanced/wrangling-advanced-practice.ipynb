{
 "cells": [
  {
   "cell_type": "markdown",
   "source": [
    "# 데이터 정제 및 분석 응용"
   ],
   "metadata": {
    "collapsed": false
   }
  },
  {
   "cell_type": "markdown",
   "source": [
    "## 모범 답안"
   ],
   "metadata": {
    "collapsed": false
   }
  },
  {
   "cell_type": "markdown",
   "source": [
    "### 1."
   ],
   "metadata": {
    "collapsed": false
   }
  },
  {
   "cell_type": "markdown",
   "source": [
    "본 연습 문제에서는 실제로 수집된 비밀번호(password) 데이터셋을 살펴본다. 이 데이터셋은 [Information is Beautiful](https://informationisbeautiful.net/visualizations/top-500-passwords-visualized/?utm_content=buffer994fa&utm_medium=social&utm_source=twitter.com&utm_campaign=buffer)와 [R's Tidy Tuesday project](https://github.com/rfordatascience/tidytuesday)에서 제공되었다. 이 비밀번호들은 너무 일상적인 표현으로 구성되어 있으므로 사용하지 말아야 할 것들이다. 정규표현식 연습을 위하여 이 데이터셋을 활용해 보자.\n",
    "\n",
    "판다스를 'pd'라는 별칭으로 수입하는 작업부터 시작하자."
   ],
   "metadata": {
    "collapsed": false
   }
  },
  {
   "cell_type": "code",
   "execution_count": 38,
   "outputs": [],
   "source": [
    "# 여기에 답안을 작성하시요.\n"
   ],
   "metadata": {
    "collapsed": false,
    "pycharm": {
     "name": "#%%\n"
    }
   }
  },
  {
   "cell_type": "markdown",
   "source": [
    "### 2."
   ],
   "metadata": {
    "collapsed": false
   }
  },
  {
   "cell_type": "markdown",
   "source": [
    "데이터셋은 다음과 같은 열을 가지고 있는 500 행의 자료로 구성되어 있다:\n",
    "\n",
    "|변수          |클래스     |설명 |\n",
    "|:-----------------|:---------|:-----------|\n",
    "|rank              |int    | 제출된 비밀번호의 인기 순위 |\n",
    "|password          |str | 실제 비밀번호 텍스트 |\n",
    "|category          |str | 비밀번호 유형|\n",
    "|value             |float    | 온리인 추측으로 비밀번호를 깨는 시간 |\n",
    "|time_unit         |str | 온리인 추측으로 비밀번호를 깨는 시간의 단위 |\n",
    "|offline_crack_sec |float    | 오프라인 추측으로 비밀번호를 깨는 시각 (초 단위) |\n",
    "|rank_alt          |int    | 대체 순위 |\n",
    "|strength          |int    | 비밀번호의 강도 (최강이면 10, 최약이면 1) |\n",
    "|font_size         |int    | KIB 출력에 사용하는 글꼴 크기 |\n",
    "\n",
    "우리는 이들 중에서 단지 `password`, `value` 및 `time_unit` 열만 다룰 예정이다. 아래 url로부터 이들 세 열만을 `df`라는 이름의 데이터프레임으로 적재하자:\n",
    " <https://raw.githubusercontent.com/rfordatascience/tidytuesday/master/data/2020/2020-01-14/passwords.csv>"
   ],
   "metadata": {
    "collapsed": false
   }
  },
  {
   "cell_type": "code",
   "execution_count": 39,
   "outputs": [],
   "source": [
    "# 여기에 답안을 작성하시요.\n"
   ],
   "metadata": {
    "collapsed": false,
    "pycharm": {
     "name": "#%%\n"
    }
   }
  },
  {
   "cell_type": "markdown",
   "source": [
    "### 3."
   ],
   "metadata": {
    "collapsed": false
   }
  },
  {
   "cell_type": "markdown",
   "source": [
    "온라인 비밀번호 공격은 누군가의 계정에 불법적으로 액세스하기 위해 단순히 많은 수의 사용자 이름/비밀번호 조합을 반복적으로 시도하여 누군가의 계정을 해킹하려고 시도하는 것이다. 데이터세트의 각 'password'에 대해 'value' 열은 계정을 해킹하기 위해 \"온라인 비밀번호 공격\" 수행에 소요될 것으로 예상되는 시간을 보여준다. 'time_unit' 열에는 해당 시간 값의 단위(예: 시간, 일, 년 등)가 표시된다.\n",
    "\n",
    "각 암호에 대한 \"온라인 암호 추측 시간\"을 더 쉽게 비교할 수 있으려면, `value`가 모두 같은 단위로 통일되어야 할 것이다. 따라서 첫 번째 작업은 모든 값을 시간 단위로 변환하는 것입니다(예: 1일은 24시간, 1주는 168시간 등)."
   ],
   "metadata": {
    "collapsed": false
   }
  },
  {
   "cell_type": "code",
   "execution_count": 40,
   "outputs": [],
   "source": [
    "units = {                 # 시간으로 환산하기 위하여 곱해야 할 값\n",
    "    \"seconds\": 1 / 3600,  # 초를 시간으로 환산\n",
    "    \"minutes\": 1 / 60,    # 분을 시간으로 환산\n",
    "    \"days\": 24,           # 일을 시간으로 환산\n",
    "    \"weeks\": 168,         # 주를 시간으로 환산\n",
    "    \"months\": 720,        # 월을 시간으로 환산\n",
    "    \"years\": 8760,        # 년을 시간으로 환산\n",
    "}\n",
    "\n",
    "# 여기에 답안을 작성하시요.\n"
   ],
   "metadata": {
    "collapsed": false,
    "pycharm": {
     "name": "#%%\n"
    }
   }
  },
  {
   "cell_type": "markdown",
   "source": [
    "### 4."
   ],
   "metadata": {
    "collapsed": false
   }
  },
  {
   "cell_type": "markdown",
   "source": [
    "데이터세트에서 `123`으로 시작하는 비밀번호의 건수를 정규표현식을 이용하여 구하라."
   ],
   "metadata": {
    "collapsed": false
   }
  },
  {
   "cell_type": "code",
   "execution_count": 41,
   "outputs": [],
   "source": [
    "# 여기에 답안을 작성하시요.\n"
   ],
   "metadata": {
    "collapsed": false,
    "pycharm": {
     "name": "#%%\n"
    }
   }
  },
  {
   "cell_type": "markdown",
   "source": [
    "### 5."
   ],
   "metadata": {
    "collapsed": false
   }
  },
  {
   "cell_type": "markdown",
   "source": [
    "'123'으로 시작하는 비밀번호를 해독하는 데 필요한 평균 시간을 정규표현식을 이용하여 계산하라.\n",
    "이어서 데이터세트에 있는 모든 비밀번호를 해독하는 데 필요한 평균 시간을 출력하여 이를 비교하라.\n",
    "모든 평균 시간을 반올림 처리하여 소숫점 한자리까지 출력하라."
   ],
   "metadata": {
    "collapsed": false
   }
  },
  {
   "cell_type": "code",
   "execution_count": 42,
   "outputs": [],
   "source": [
    "# 여기에 답안을 작성하시요.\n"
   ],
   "metadata": {
    "collapsed": false,
    "pycharm": {
     "name": "#%%\n"
    }
   }
  },
  {
   "cell_type": "markdown",
   "source": [
    "### 6."
   ],
   "metadata": {
    "collapsed": false
   }
  },
  {
   "cell_type": "markdown",
   "source": [
    "숫자를 전혀 포함하지 않은 모든 비밀번호를 확인하라."
   ],
   "metadata": {
    "collapsed": false
   }
  },
  {
   "cell_type": "code",
   "execution_count": 43,
   "outputs": [],
   "source": [
    "# 여기에 답안을 작성하시요.\n"
   ],
   "metadata": {
    "collapsed": false,
    "pycharm": {
     "name": "#%%\n"
    }
   }
  },
  {
   "cell_type": "markdown",
   "source": [
    "### 7."
   ],
   "metadata": {
    "collapsed": false
   }
  },
  {
   "cell_type": "markdown",
   "source": [
    "숫자를 적어도 한 개 이상 포함하고 있는 비밀번호를 모두 확인하라."
   ],
   "metadata": {
    "collapsed": false
   }
  },
  {
   "cell_type": "code",
   "execution_count": 44,
   "outputs": [],
   "source": [
    "# 여기에 답안을 작성하시요.\n"
   ],
   "metadata": {
    "collapsed": false,
    "pycharm": {
     "name": "#%%\n"
    }
   }
  },
  {
   "cell_type": "markdown",
   "source": [
    "### 8."
   ],
   "metadata": {
    "collapsed": false
   }
  },
  {
   "cell_type": "markdown",
   "source": [
    "숫자가 전혀 포함되지 않은 비밀번호와 최소한 한 개 이상의 숫자를 포함한 비밀번호에 대하여 온라인 크래킹 시간의 차이를 확인하라. 모든 평균 시간을 반올림 처리하여 소숫점 한자리까지 출력하라."
   ],
   "metadata": {
    "collapsed": false
   }
  },
  {
   "cell_type": "code",
   "execution_count": 45,
   "outputs": [],
   "source": [
    "# 여기에 답안을 작성하시요.\n"
   ],
   "metadata": {
    "collapsed": false,
    "pycharm": {
     "name": "#%%\n"
    }
   }
  },
  {
   "cell_type": "markdown",
   "source": [
    "### 9."
   ],
   "metadata": {
    "collapsed": false
   }
  },
  {
   "cell_type": "markdown",
   "source": [
    "다음 구두점 `[.!?\\\\-]` 중 하나 이상이 포함된 비밀번호를 모두 확인하라.\n",
    "(힌트: 이 데이터세트는 *취약한* 비밀번호를 포함하고 있다는 점을 기억하라.)"
   ],
   "metadata": {
    "collapsed": false
   }
  },
  {
   "cell_type": "code",
   "execution_count": 46,
   "outputs": [],
   "source": [
    "# 여기에 답안을 작성하시요.\n"
   ],
   "metadata": {
    "collapsed": false,
    "pycharm": {
     "name": "#%%\n"
    }
   }
  },
  {
   "cell_type": "markdown",
   "source": [
    "### 10."
   ],
   "metadata": {
    "collapsed": false
   }
  },
  {
   "cell_type": "markdown",
   "source": [
    "데이터세트에서 가장 쉽게 해독되는 비밀번호와 가장 어렵게 해독되는 비밀번호를 확인라."
   ],
   "metadata": {
    "collapsed": false
   }
  },
  {
   "cell_type": "code",
   "execution_count": 47,
   "outputs": [],
   "source": [
    "# 여기에 가장 쉽게 해독되는 비밀번호에 대한 답안을 작성하시요.\n"
   ],
   "metadata": {
    "collapsed": false,
    "pycharm": {
     "name": "#%%\n"
    }
   }
  },
  {
   "cell_type": "code",
   "execution_count": 48,
   "outputs": [],
   "source": [
    "# 여기에 가장 어렵게 해독되는 비밀번호에 대한 답안을 작성하시요.\n"
   ],
   "metadata": {
    "collapsed": false,
    "pycharm": {
     "name": "#%%\n"
    }
   }
  }
 ],
 "metadata": {
  "kernelspec": {
   "display_name": "Python 3",
   "language": "python",
   "name": "python3"
  },
  "language_info": {
   "codemirror_mode": {
    "name": "ipython",
    "version": 3
   },
   "file_extension": ".py",
   "mimetype": "text/x-python",
   "name": "python",
   "nbconvert_exporter": "python",
   "pygments_lexer": "ipython3",
   "version": "3.7.8"
  }
 },
 "nbformat": 4,
 "nbformat_minor": 4
}