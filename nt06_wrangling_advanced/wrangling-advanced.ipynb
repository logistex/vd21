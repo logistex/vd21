{
 "cells": [
  {
   "cell_type": "markdown",
   "metadata": {
    "slideshow": {
     "slide_type": "slide"
    }
   },
   "source": [
    "![](../img/b15_analysis.png)\n",
    "\n",
    "<div style=\"page-break-after: always;\"></div> "
   ]
  },
  {
   "cell_type": "markdown",
   "metadata": {
    "slideshow": {
     "slide_type": "slide"
    }
   },
   "source": [
    "# 데이터 정제 및 분석 응용\n",
    "\n",
    "<img src=\"https://www.tomasbeuzen.com/python-programming-for-data-science/_static/logo.png\" alt=\"python for data science\" width=\"300\" height=\"300\">\n",
    "\n",
    "1. 문자열 작업\n",
    "\n",
    "2. 날짜 및 시간 작업\n",
    "\n",
    "3. 계층적 인덱싱\n",
    "\n",
    "4. 데이터프레임 시각화\n",
    "\n",
    "5. 판다스 프로파일링\n",
    "\n",
    "<div style=\"page-break-after: always;\"></div> "
   ]
  },
  {
   "cell_type": "markdown",
   "metadata": {
    "slideshow": {
     "slide_type": "slide"
    }
   },
   "source": [
    "<h2>학습 목표<span class=\"tocSkip\"></span></h2>\n",
    "\n",
    "- `Series.str` 속성으로 판다스 문자열을 처리할 수 있다.\n",
    "- 문자열 정제를 위하여 정규 표현식을 사용할 수 있다. \n",
    "- `Timestamp`, `Timedelta`, `Period`, `DateOffset`과 같은  \n",
    "  `datetime` 객체를 용도에 맞게 사용할 수 있다. \n",
    "- `pd.Timestamp()`, `pd.Period()`, `pd.date_range()`, `pd.period_range()` 등을 써서  \n",
    "  다양한 `datetime` 객체를 생성할 수 있다.  \n",
    "- 문자열 인덱싱을 써서 `datetime` 인덱스를 구성할 수 있다. \n",
    "- `datetime` 자료로부터 시간 요소 추출, 시차 적용, 시간대 변경, 표본 추출 등과 같은  \n",
    "  기본적 `datetime` 연산을 처리할 수 있다.  \n",
    "- `.plot` 속성을 이용하거나, `pandas.plotting`이 제공하는 함수를 활용하여  \n",
    "  기본적 차트 시각화를 작성할 수 있다. \n",
    "  \n",
    "<div style=\"page-break-after: always;\"></div>"
   ]
  },
  {
   "cell_type": "markdown",
   "metadata": {
    "slideshow": {
     "slide_type": "slide"
    }
   },
   "source": [
    "## 1. 문자열 작업"
   ]
  },
  {
   "cell_type": "code",
   "execution_count": 1,
   "metadata": {
    "slideshow": {
     "slide_type": "fragment"
    }
   },
   "outputs": [],
   "source": [
    "import pandas as pd\n",
    "import numpy as np\n",
    "pd.set_option(\"display.max_rows\", 20)  # https://wikidocs.net/75844"
   ]
  },
  {
   "cell_type": "markdown",
   "metadata": {
    "slideshow": {
     "slide_type": "fragment"
    }
   },
   "source": [
    "- 텍스트 자료에 대한 작업은 데이터 과학에서 일상적이다.  \n",
    "  판다스 `Series`와 `Index` 객체는 문자열 처리를 위한 다양한 메소드를 제공한다.  \n",
    "  이에 대하여 공부해 보자. "
   ]
  },
  {
   "cell_type": "markdown",
   "metadata": {
    "slideshow": {
     "slide_type": "fragment"
    }
   },
   "source": [
    "- 문자열 작업에 관한 공부를  \n",
    "  1.1 항 `String` 자료형부터 시작하자. \n",
    "  \n",
    "<div style=\"page-break-after: always;\"></div> "
   ]
  },
  {
   "cell_type": "markdown",
   "metadata": {
    "slideshow": {
     "slide_type": "slide"
    }
   },
   "source": [
    "### 1.1 `String` 자료형"
   ]
  },
  {
   "cell_type": "markdown",
   "metadata": {
    "slideshow": {
     "slide_type": "fragment"
    }
   },
   "source": [
    "- 문자열 자료는 (판다스에서) `object` 자료형으로 표현된다.  \n",
    "  - `object` 자료형은 자료형이 혼합되었거나 크기를 모르는 자료를 총괄하는 자료형이다. \n",
    "  - 문자열을 위한 전용 자료형을 제공하는 것이 더 바람직한데,  \n",
    "    판다스는 `StringDtype`이란 문자열 전용 자료형을 제공한다.\n",
    "  - 본 교재의 편역 시점을 기준으로 최신 판다스는 2021년 9월 12일에 배포된 1.3.3 판인데,  \n",
    "    `StringDtype` 자료형은 1.0 판부터 도입되었다.   \n",
    "  - 그럼에도 불구하고, (아직까지는 과거 버전에 대한 호환성때문에)  \n",
    "    `object` 자료형이 여전히 문자열에 대한 기본 자료형으로 지정되어 있다. \n",
    "  - 판다스 개발팀은 `string` 자료형을 지속적으로 테스트하면서 개선하고 있는 것으로 보인다.  \n",
    "    [`StringDtype`에 관한 판다스 측의 자료](https://pandas.pydata.org/pandas-docs/stable/user_guide/text.html#text-data-types)를 참고하라. "
   ]
  },
  {
   "cell_type": "markdown",
   "metadata": {
    "slideshow": {
     "slide_type": "fragment"
    }
   },
   "source": [
    "- 1.1 항에서 `String` 자료형을 공부했다.\n",
    "- 1.2 항에서 문자열 메소드를 공부하자.\n",
    "  \n",
    "<div style=\"page-break-after: always;\"></div> "
   ]
  },
  {
   "cell_type": "markdown",
   "metadata": {
    "slideshow": {
     "slide_type": "slide"
    }
   },
   "source": [
    "### 1.2 문자열 메소드"
   ]
  },
  {
   "cell_type": "markdown",
   "metadata": {
    "slideshow": {
     "slide_type": "fragment"
    }
   },
   "source": [
    "- 속도 향상과 사용성 강화를 위하여 넘파이나 판다스와 같은 라이브러리는  \n",
    "  벡터화 연산을 아래 예제와 같이 적용하고 있다."
   ]
  },
  {
   "cell_type": "code",
   "execution_count": 2,
   "metadata": {
    "slideshow": {
     "slide_type": "fragment"
    }
   },
   "outputs": [
    {
     "data": {
      "text/plain": [
       "array([ 2,  4,  6,  8, 10])"
      ]
     },
     "execution_count": 2,
     "metadata": {},
     "output_type": "execute_result"
    }
   ],
   "source": [
    "x = np.array([1, 2, 3, 4, 5])\n",
    "x * 2"
   ]
  },
  {
   "cell_type": "markdown",
   "metadata": {
    "slideshow": {
     "slide_type": "fragment"
    }
   },
   "source": [
    "- 그러나 문자열 배열에 대해서는 이런 벡터화 연산이 적용되지 않는다.  \n",
    "  아래 예제에서 이를 확인할 수 있다:"
   ]
  },
  {
   "cell_type": "code",
   "execution_count": 3,
   "metadata": {
    "slideshow": {
     "slide_type": "fragment"
    },
    "tags": [
     "raises-exception"
    ]
   },
   "outputs": [
    {
     "ename": "AttributeError",
     "evalue": "'numpy.ndarray' object has no attribute 'upper'",
     "output_type": "error",
     "traceback": [
      "\u001b[1;31m---------------------------------------------------------------------------\u001b[0m",
      "\u001b[1;31mAttributeError\u001b[0m                            Traceback (most recent call last)",
      "\u001b[1;32m<ipython-input-3-fbeedf6a646f>\u001b[0m in \u001b[0;36m<module>\u001b[1;34m\u001b[0m\n\u001b[0;32m      1\u001b[0m \u001b[0mx\u001b[0m \u001b[1;33m=\u001b[0m \u001b[0mnp\u001b[0m\u001b[1;33m.\u001b[0m\u001b[0marray\u001b[0m\u001b[1;33m(\u001b[0m\u001b[1;33m[\u001b[0m\u001b[1;34m'Tom'\u001b[0m\u001b[1;33m,\u001b[0m \u001b[1;34m'Mike'\u001b[0m\u001b[1;33m,\u001b[0m \u001b[1;34m'Tiffany'\u001b[0m\u001b[1;33m,\u001b[0m \u001b[1;34m'Joel'\u001b[0m\u001b[1;33m,\u001b[0m \u001b[1;34m'Varada'\u001b[0m\u001b[1;33m]\u001b[0m\u001b[1;33m)\u001b[0m\u001b[1;33m\u001b[0m\u001b[1;33m\u001b[0m\u001b[0m\n\u001b[1;32m----> 2\u001b[1;33m \u001b[0mx\u001b[0m\u001b[1;33m.\u001b[0m\u001b[0mupper\u001b[0m\u001b[1;33m(\u001b[0m\u001b[1;33m)\u001b[0m  \u001b[1;31m# 대문자로 변환하는 upper() 메소드를 넘파이 배열에 적용 시도하면 오류 발생함\u001b[0m\u001b[1;33m\u001b[0m\u001b[1;33m\u001b[0m\u001b[0m\n\u001b[0m",
      "\u001b[1;31mAttributeError\u001b[0m: 'numpy.ndarray' object has no attribute 'upper'"
     ]
    }
   ],
   "source": [
    "x = np.array(['Tom', 'Mike', 'Tiffany', 'Joel', 'Varada'])\n",
    "x.upper()  # 대문자로 변환하는 upper() 메소드를 넘파이 배열에 적용 시도하면 오류 발생함"
   ]
  },
  {
   "cell_type": "markdown",
   "metadata": {
    "slideshow": {
     "slide_type": "subslide"
    }
   },
   "source": [
    "- 문자열 배열에 대해서는 벡터화 연산이 적용되지 않기 때문에,  \n",
    "  아래와 같이 컴프리헨션을 써서  \n",
    "  모든 문자열 객체에 대하여 반복적으로 연산을 적용해야 한다: \n"
   ]
  },
  {
   "cell_type": "code",
   "execution_count": 4,
   "metadata": {
    "slideshow": {
     "slide_type": "fragment"
    }
   },
   "outputs": [
    {
     "data": {
      "text/plain": [
       "['TOM', 'MIKE', 'TIFFANY', 'JOEL', 'VARADA']"
      ]
     },
     "execution_count": 4,
     "metadata": {},
     "output_type": "execute_result"
    }
   ],
   "source": [
    "[name.upper() for name in x]"
   ]
  },
  {
   "cell_type": "markdown",
   "metadata": {
    "slideshow": {
     "slide_type": "subslide"
    }
   },
   "source": [
    "- 그런데 만일 문자열 배열이 결측치를 포함하고 있다면,  \n",
    "  이마저도 오류를 유발한다: "
   ]
  },
  {
   "cell_type": "code",
   "execution_count": 5,
   "metadata": {
    "scrolled": false,
    "slideshow": {
     "slide_type": "fragment"
    },
    "tags": [
     "raises-exception"
    ]
   },
   "outputs": [
    {
     "ename": "AttributeError",
     "evalue": "'NoneType' object has no attribute 'upper'",
     "output_type": "error",
     "traceback": [
      "\u001b[1;31m---------------------------------------------------------------------------\u001b[0m",
      "\u001b[1;31mAttributeError\u001b[0m                            Traceback (most recent call last)",
      "\u001b[1;32m<ipython-input-5-79468c1255bc>\u001b[0m in \u001b[0;36m<module>\u001b[1;34m\u001b[0m\n\u001b[0;32m      1\u001b[0m \u001b[0mx\u001b[0m \u001b[1;33m=\u001b[0m \u001b[0mnp\u001b[0m\u001b[1;33m.\u001b[0m\u001b[0marray\u001b[0m\u001b[1;33m(\u001b[0m\u001b[1;33m[\u001b[0m\u001b[1;34m'Tom'\u001b[0m\u001b[1;33m,\u001b[0m \u001b[1;34m'Mike'\u001b[0m\u001b[1;33m,\u001b[0m \u001b[1;32mNone\u001b[0m\u001b[1;33m,\u001b[0m \u001b[1;34m'Tiffany'\u001b[0m\u001b[1;33m,\u001b[0m \u001b[1;34m'Joel'\u001b[0m\u001b[1;33m,\u001b[0m \u001b[1;34m'Varada'\u001b[0m\u001b[1;33m]\u001b[0m\u001b[1;33m)\u001b[0m\u001b[1;33m\u001b[0m\u001b[1;33m\u001b[0m\u001b[0m\n\u001b[1;32m----> 2\u001b[1;33m \u001b[1;33m[\u001b[0m\u001b[0mname\u001b[0m\u001b[1;33m.\u001b[0m\u001b[0mupper\u001b[0m\u001b[1;33m(\u001b[0m\u001b[1;33m)\u001b[0m \u001b[1;32mfor\u001b[0m \u001b[0mname\u001b[0m \u001b[1;32min\u001b[0m \u001b[0mx\u001b[0m\u001b[1;33m]\u001b[0m\u001b[1;33m\u001b[0m\u001b[1;33m\u001b[0m\u001b[0m\n\u001b[0m",
      "\u001b[1;32m<ipython-input-5-79468c1255bc>\u001b[0m in \u001b[0;36m<listcomp>\u001b[1;34m(.0)\u001b[0m\n\u001b[0;32m      1\u001b[0m \u001b[0mx\u001b[0m \u001b[1;33m=\u001b[0m \u001b[0mnp\u001b[0m\u001b[1;33m.\u001b[0m\u001b[0marray\u001b[0m\u001b[1;33m(\u001b[0m\u001b[1;33m[\u001b[0m\u001b[1;34m'Tom'\u001b[0m\u001b[1;33m,\u001b[0m \u001b[1;34m'Mike'\u001b[0m\u001b[1;33m,\u001b[0m \u001b[1;32mNone\u001b[0m\u001b[1;33m,\u001b[0m \u001b[1;34m'Tiffany'\u001b[0m\u001b[1;33m,\u001b[0m \u001b[1;34m'Joel'\u001b[0m\u001b[1;33m,\u001b[0m \u001b[1;34m'Varada'\u001b[0m\u001b[1;33m]\u001b[0m\u001b[1;33m)\u001b[0m\u001b[1;33m\u001b[0m\u001b[1;33m\u001b[0m\u001b[0m\n\u001b[1;32m----> 2\u001b[1;33m \u001b[1;33m[\u001b[0m\u001b[0mname\u001b[0m\u001b[1;33m.\u001b[0m\u001b[0mupper\u001b[0m\u001b[1;33m(\u001b[0m\u001b[1;33m)\u001b[0m \u001b[1;32mfor\u001b[0m \u001b[0mname\u001b[0m \u001b[1;32min\u001b[0m \u001b[0mx\u001b[0m\u001b[1;33m]\u001b[0m\u001b[1;33m\u001b[0m\u001b[1;33m\u001b[0m\u001b[0m\n\u001b[0m",
      "\u001b[1;31mAttributeError\u001b[0m: 'NoneType' object has no attribute 'upper'"
     ]
    }
   ],
   "source": [
    "x = np.array(['Tom', 'Mike', None, 'Tiffany', 'Joel', 'Varada'])\n",
    "[name.upper() for name in x]   "
   ]
  },
  {
   "cell_type": "markdown",
   "metadata": {
    "slideshow": {
     "slide_type": "fragment"
    }
   },
   "source": [
    "- 사실 위 코드에서 `None` 대신에 `np.nan`을 썼다면 오류를 피할 수 있었다. "
   ]
  },
  {
   "cell_type": "code",
   "execution_count": 6,
   "metadata": {
    "slideshow": {
     "slide_type": "fragment"
    },
    "tags": [
     "raises-exception"
    ]
   },
   "outputs": [
    {
     "data": {
      "text/plain": [
       "['TOM', 'MIKE', 'NAN', 'TIFFANY', 'JOEL', 'VARADA']"
      ]
     },
     "execution_count": 6,
     "metadata": {},
     "output_type": "execute_result"
    }
   ],
   "source": [
    "x = np.array(['Tom', 'Mike', np.nan, 'Tiffany', 'Joel', 'Varada'])\n",
    "[name.upper() for name in x]                                        # `np.nan`을 'NAN'으로 출력"
   ]
  },
  {
   "cell_type": "markdown",
   "metadata": {
    "slideshow": {
     "slide_type": "subslide"
    }
   },
   "source": [
    "- 판다스 개발팀에서도 문자열 메소드에 대한  \n",
    "  이와 같은 (벡터화 및 결측치) 문제에 대하여 언급하고 있다.  \n",
    "  - **문자열 메소드**는 판다스 `Series`나 `Index` 객체의 **`.str` 속성을 통하여 접근**이 가능하다. \n",
    "  - `.upper()`, `.lower()`, `.split()` 등과 같은  \n",
    "    내장 문자열 메소드의 거의 대부분에 대하여 위 방법이 적용 가능하다. "
   ]
  },
  {
   "cell_type": "code",
   "execution_count": 7,
   "metadata": {
    "slideshow": {
     "slide_type": "fragment"
    }
   },
   "outputs": [
    {
     "data": {
      "text/plain": [
       "0        Tom\n",
       "1       Mike\n",
       "2        nan\n",
       "3    Tiffany\n",
       "4       Joel\n",
       "5     Varada\n",
       "dtype: object"
      ]
     },
     "execution_count": 7,
     "metadata": {},
     "output_type": "execute_result"
    }
   ],
   "source": [
    "s = pd.Series(x)   # 리스트 x를 판다스 시리즈로 변환 \n",
    "s"
   ]
  },
  {
   "cell_type": "code",
   "execution_count": 8,
   "metadata": {
    "scrolled": true,
    "slideshow": {
     "slide_type": "fragment"
    }
   },
   "outputs": [
    {
     "data": {
      "text/plain": [
       "0        TOM\n",
       "1       MIKE\n",
       "2        NAN\n",
       "3    TIFFANY\n",
       "4       JOEL\n",
       "5     VARADA\n",
       "dtype: object"
      ]
     },
     "execution_count": 8,
     "metadata": {},
     "output_type": "execute_result"
    }
   ],
   "source": [
    "s.str.upper()      # `Series`/`Index`의 str 속성을 통하여 접근 가능함, 원본 불변"
   ]
  },
  {
   "cell_type": "code",
   "execution_count": 9,
   "metadata": {
    "scrolled": true,
    "slideshow": {
     "slide_type": "subslide"
    }
   },
   "outputs": [
    {
     "data": {
      "text/html": [
       "<div>\n",
       "<style scoped>\n",
       "    .dataframe tbody tr th:only-of-type {\n",
       "        vertical-align: middle;\n",
       "    }\n",
       "\n",
       "    .dataframe tbody tr th {\n",
       "        vertical-align: top;\n",
       "    }\n",
       "\n",
       "    .dataframe thead th {\n",
       "        text-align: right;\n",
       "    }\n",
       "</style>\n",
       "<table border=\"1\" class=\"dataframe\">\n",
       "  <thead>\n",
       "    <tr style=\"text-align: right;\">\n",
       "      <th></th>\n",
       "      <th>0</th>\n",
       "      <th>1</th>\n",
       "    </tr>\n",
       "  </thead>\n",
       "  <tbody>\n",
       "    <tr>\n",
       "      <th>0</th>\n",
       "      <td>Tom</td>\n",
       "      <td>None</td>\n",
       "    </tr>\n",
       "    <tr>\n",
       "      <th>1</th>\n",
       "      <td>Mike</td>\n",
       "      <td>None</td>\n",
       "    </tr>\n",
       "    <tr>\n",
       "      <th>2</th>\n",
       "      <td>nan</td>\n",
       "      <td>None</td>\n",
       "    </tr>\n",
       "    <tr>\n",
       "      <th>3</th>\n",
       "      <td>Ti</td>\n",
       "      <td>any</td>\n",
       "    </tr>\n",
       "    <tr>\n",
       "      <th>4</th>\n",
       "      <td>Joel</td>\n",
       "      <td>None</td>\n",
       "    </tr>\n",
       "    <tr>\n",
       "      <th>5</th>\n",
       "      <td>Varada</td>\n",
       "      <td>None</td>\n",
       "    </tr>\n",
       "  </tbody>\n",
       "</table>\n",
       "</div>"
      ],
      "text/plain": [
       "        0     1\n",
       "0     Tom  None\n",
       "1    Mike  None\n",
       "2     nan  None\n",
       "3      Ti   any\n",
       "4    Joel  None\n",
       "5  Varada  None"
      ]
     },
     "execution_count": 9,
     "metadata": {},
     "output_type": "execute_result"
    }
   ],
   "source": [
    "s.str.split(\"ff\", expand=True)  # str.split()으로 단일 열 시리즈를 두 열 데이터프레임으로 변환"
   ]
  },
  {
   "cell_type": "code",
   "execution_count": 10,
   "metadata": {
    "slideshow": {
     "slide_type": "fragment"
    }
   },
   "outputs": [
    {
     "data": {
      "text/plain": [
       "0          [Tom]\n",
       "1         [Mike]\n",
       "2         [n, n]\n",
       "3     [Tiff, ny]\n",
       "4         [Joel]\n",
       "5    [V, r, d, ]\n",
       "dtype: object"
      ]
     },
     "execution_count": 10,
     "metadata": {},
     "output_type": "execute_result"
    }
   ],
   "source": [
    "s.str.split('a')                # expand=False, 열을 확장하지 않고, 단일 열 내부에서 리스트 원소로 분할 "
   ]
  },
  {
   "cell_type": "code",
   "execution_count": 11,
   "metadata": {
    "slideshow": {
     "slide_type": "fragment"
    }
   },
   "outputs": [
    {
     "data": {
      "text/plain": [
       "0    3\n",
       "1    4\n",
       "2    3\n",
       "3    7\n",
       "4    4\n",
       "5    6\n",
       "dtype: int64"
      ]
     },
     "execution_count": 11,
     "metadata": {},
     "output_type": "execute_result"
    }
   ],
   "source": [
    "s.str.len()                     # `NaN`에 대해서는 len() 반환값이 `NaN`"
   ]
  },
  {
   "cell_type": "markdown",
   "metadata": {
    "slideshow": {
     "slide_type": "subslide"
    }
   },
   "source": [
    "- (행 인덱스이든 열 레이블이든) `index` 객체에 대해서도 이 방법이 적용 가능하다. \n",
    "- 아래 예제에서는 행 인덱스 및 열 레이블 정제에 관한 시범을 보인다. "
   ]
  },
  {
   "cell_type": "code",
   "execution_count": 12,
   "metadata": {
    "scrolled": true,
    "slideshow": {
     "slide_type": "fragment"
    }
   },
   "outputs": [
    {
     "data": {
      "text/html": [
       "<div>\n",
       "<style scoped>\n",
       "    .dataframe tbody tr th:only-of-type {\n",
       "        vertical-align: middle;\n",
       "    }\n",
       "\n",
       "    .dataframe tbody tr th {\n",
       "        vertical-align: top;\n",
       "    }\n",
       "\n",
       "    .dataframe thead th {\n",
       "        text-align: right;\n",
       "    }\n",
       "</style>\n",
       "<table border=\"1\" class=\"dataframe\">\n",
       "  <thead>\n",
       "    <tr style=\"text-align: right;\">\n",
       "      <th></th>\n",
       "      <th>Measured Feature</th>\n",
       "      <th>recorded feature</th>\n",
       "      <th>PredictedFeature</th>\n",
       "    </tr>\n",
       "  </thead>\n",
       "  <tbody>\n",
       "    <tr>\n",
       "      <th>ROW0</th>\n",
       "      <td>0.279854</td>\n",
       "      <td>0.470911</td>\n",
       "      <td>0.411151</td>\n",
       "    </tr>\n",
       "    <tr>\n",
       "      <th>ROW1</th>\n",
       "      <td>0.991914</td>\n",
       "      <td>0.021193</td>\n",
       "      <td>0.809973</td>\n",
       "    </tr>\n",
       "    <tr>\n",
       "      <th>ROW2</th>\n",
       "      <td>0.595749</td>\n",
       "      <td>0.206254</td>\n",
       "      <td>0.420522</td>\n",
       "    </tr>\n",
       "    <tr>\n",
       "      <th>ROW3</th>\n",
       "      <td>0.459546</td>\n",
       "      <td>0.523272</td>\n",
       "      <td>0.543596</td>\n",
       "    </tr>\n",
       "    <tr>\n",
       "      <th>ROW4</th>\n",
       "      <td>0.717176</td>\n",
       "      <td>0.557691</td>\n",
       "      <td>0.193651</td>\n",
       "    </tr>\n",
       "  </tbody>\n",
       "</table>\n",
       "</div>"
      ],
      "text/plain": [
       "      Measured Feature  recorded feature  PredictedFeature\n",
       "ROW0          0.279854          0.470911          0.411151\n",
       "ROW1          0.991914          0.021193          0.809973\n",
       "ROW2          0.595749          0.206254          0.420522\n",
       "ROW3          0.459546          0.523272          0.543596\n",
       "ROW4          0.717176          0.557691          0.193651"
      ]
     },
     "execution_count": 12,
     "metadata": {},
     "output_type": "execute_result"
    }
   ],
   "source": [
    "df = pd.DataFrame(np.random.rand(5, 3),  # [0, 1) 범위에서 균등분포 추출\n",
    "                  columns = ['Measured Feature', 'recorded feature', 'PredictedFeature'],\n",
    "                  index = [f\"ROW{_}\" for _ in range(5)])\n",
    "df"
   ]
  },
  {
   "cell_type": "markdown",
   "metadata": {
    "slideshow": {
     "slide_type": "fragment"
    }
   },
   "source": [
    "- 열 레이블에서 대소문자와 띄어쓰기 일관성이 부족함 점을 개선해 보자. \n",
    "- 행 인덱스에서 문자와 숫자가 붙어 있는 점을 개선해 보자. "
   ]
  },
  {
   "cell_type": "code",
   "execution_count": 13,
   "metadata": {
    "slideshow": {
     "slide_type": "fragment"
    }
   },
   "outputs": [
    {
     "data": {
      "text/plain": [
       "Index(['Measured Feature', 'recorded feature', 'PredictedFeature'], dtype='object')"
      ]
     },
     "execution_count": 13,
     "metadata": {},
     "output_type": "execute_result"
    }
   ],
   "source": [
    "df.columns"
   ]
  },
  {
   "cell_type": "code",
   "execution_count": 14,
   "metadata": {
    "slideshow": {
     "slide_type": "fragment"
    }
   },
   "outputs": [
    {
     "data": {
      "text/plain": [
       "pandas.core.indexes.base.Index"
      ]
     },
     "execution_count": 14,
     "metadata": {},
     "output_type": "execute_result"
    }
   ],
   "source": [
    "type(df.columns)  # 데이터프레임 columns 객체는 Index 클래스"
   ]
  },
  {
   "cell_type": "markdown",
   "metadata": {
    "slideshow": {
     "slide_type": "subslide"
    }
   },
   "source": [
    "- 열 레이블을 수정해 보자: \n",
    "  1. 열 레이블에서 첫 글자는 모두 대문자로 통일하고, \"feature\" 및 \"Feature\" 부분을 모두 제거 \n",
    "  2. \"ROW\"를 소문자로 변환하고, 행 번호와 문자열 사이에 `_`를 삽입"
   ]
  },
  {
   "cell_type": "code",
   "execution_count": 15,
   "metadata": {
    "slideshow": {
     "slide_type": "fragment"
    }
   },
   "outputs": [
    {
     "data": {
      "text/plain": [
       "Index(['Measured Feature', 'recorded feature', 'PredictedFeature'], dtype='object')"
      ]
     },
     "execution_count": 15,
     "metadata": {},
     "output_type": "execute_result"
    }
   ],
   "source": [
    "df.columns                                                                      # 열 레이블 확인"
   ]
  },
  {
   "cell_type": "code",
   "execution_count": 16,
   "metadata": {
    "slideshow": {
     "slide_type": "fragment"
    }
   },
   "outputs": [
    {
     "data": {
      "text/plain": [
       "Index(['Measured feature', 'Recorded feature', 'Predictedfeature'], dtype='object')"
      ]
     },
     "execution_count": 16,
     "metadata": {},
     "output_type": "execute_result"
    }
   ],
   "source": [
    "df.columns.str.capitalize()                                                      # 둘째 열에 주목"
   ]
  },
  {
   "cell_type": "code",
   "execution_count": 17,
   "metadata": {
    "slideshow": {
     "slide_type": "fragment"
    }
   },
   "outputs": [
    {
     "data": {
      "text/plain": [
       "Index(['Measured ', 'Recorded ', 'Predicted'], dtype='object')"
      ]
     },
     "execution_count": 17,
     "metadata": {},
     "output_type": "execute_result"
    }
   ],
   "source": [
    "df.columns.str.capitalize().str.replace(\"feature\", \"\")                           # 1~2 열에는 후미 공백이 포함되었음"
   ]
  },
  {
   "cell_type": "code",
   "execution_count": 18,
   "metadata": {
    "slideshow": {
     "slide_type": "fragment"
    }
   },
   "outputs": [
    {
     "data": {
      "text/plain": [
       "Index(['Measured', 'Recorded', 'Predicted'], dtype='object')"
      ]
     },
     "execution_count": 18,
     "metadata": {},
     "output_type": "execute_result"
    }
   ],
   "source": [
    "df.columns.str.capitalize().str.replace(\"feature\", \"\").str.strip()               # 후미 공백 제거"
   ]
  },
  {
   "cell_type": "code",
   "execution_count": 19,
   "metadata": {
    "slideshow": {
     "slide_type": "fragment"
    }
   },
   "outputs": [],
   "source": [
    "df.columns = df.columns.str.capitalize().str.replace(\"feature\", \"\").str.strip()  # 원본에 대입"
   ]
  },
  {
   "cell_type": "markdown",
   "metadata": {
    "slideshow": {
     "slide_type": "subslide"
    }
   },
   "source": [
    "- 행 인덱스를 수정해 보자. "
   ]
  },
  {
   "cell_type": "code",
   "execution_count": 20,
   "metadata": {
    "scrolled": true,
    "slideshow": {
     "slide_type": "fragment"
    }
   },
   "outputs": [
    {
     "data": {
      "text/plain": [
       "Index(['ROW0', 'ROW1', 'ROW2', 'ROW3', 'ROW4'], dtype='object')"
      ]
     },
     "execution_count": 20,
     "metadata": {},
     "output_type": "execute_result"
    }
   ],
   "source": [
    "df.index                                               # 열 레이블 확인"
   ]
  },
  {
   "cell_type": "code",
   "execution_count": 21,
   "metadata": {
    "slideshow": {
     "slide_type": "fragment"
    }
   },
   "outputs": [
    {
     "data": {
      "text/plain": [
       "Index(['row0', 'row1', 'row2', 'row3', 'row4'], dtype='object')"
      ]
     },
     "execution_count": 21,
     "metadata": {},
     "output_type": "execute_result"
    }
   ],
   "source": [
    "df.index.str.lower()                                    # 소문자로 변환"
   ]
  },
  {
   "cell_type": "code",
   "execution_count": 22,
   "metadata": {
    "slideshow": {
     "slide_type": "fragment"
    }
   },
   "outputs": [
    {
     "data": {
      "text/plain": [
       "Index(['row_0', 'row_1', 'row_2', 'row_3', 'row_4'], dtype='object')"
      ]
     },
     "execution_count": 22,
     "metadata": {},
     "output_type": "execute_result"
    }
   ],
   "source": [
    "df.index.str.lower().str.replace(\"w\", \"w_\")             # 문자와 숫자 사이에 '_' 추가"
   ]
  },
  {
   "cell_type": "code",
   "execution_count": 23,
   "metadata": {
    "slideshow": {
     "slide_type": "fragment"
    }
   },
   "outputs": [],
   "source": [
    "df.index = df.index.str.lower().str.replace(\"w\", \"w_\")  # 원본에 대입"
   ]
  },
  {
   "cell_type": "code",
   "execution_count": 24,
   "metadata": {
    "slideshow": {
     "slide_type": "subslide"
    }
   },
   "outputs": [
    {
     "data": {
      "text/html": [
       "<div>\n",
       "<style scoped>\n",
       "    .dataframe tbody tr th:only-of-type {\n",
       "        vertical-align: middle;\n",
       "    }\n",
       "\n",
       "    .dataframe tbody tr th {\n",
       "        vertical-align: top;\n",
       "    }\n",
       "\n",
       "    .dataframe thead th {\n",
       "        text-align: right;\n",
       "    }\n",
       "</style>\n",
       "<table border=\"1\" class=\"dataframe\">\n",
       "  <thead>\n",
       "    <tr style=\"text-align: right;\">\n",
       "      <th></th>\n",
       "      <th>Measured</th>\n",
       "      <th>Recorded</th>\n",
       "      <th>Predicted</th>\n",
       "    </tr>\n",
       "  </thead>\n",
       "  <tbody>\n",
       "    <tr>\n",
       "      <th>row_0</th>\n",
       "      <td>0.279854</td>\n",
       "      <td>0.470911</td>\n",
       "      <td>0.411151</td>\n",
       "    </tr>\n",
       "    <tr>\n",
       "      <th>row_1</th>\n",
       "      <td>0.991914</td>\n",
       "      <td>0.021193</td>\n",
       "      <td>0.809973</td>\n",
       "    </tr>\n",
       "    <tr>\n",
       "      <th>row_2</th>\n",
       "      <td>0.595749</td>\n",
       "      <td>0.206254</td>\n",
       "      <td>0.420522</td>\n",
       "    </tr>\n",
       "    <tr>\n",
       "      <th>row_3</th>\n",
       "      <td>0.459546</td>\n",
       "      <td>0.523272</td>\n",
       "      <td>0.543596</td>\n",
       "    </tr>\n",
       "    <tr>\n",
       "      <th>row_4</th>\n",
       "      <td>0.717176</td>\n",
       "      <td>0.557691</td>\n",
       "      <td>0.193651</td>\n",
       "    </tr>\n",
       "  </tbody>\n",
       "</table>\n",
       "</div>"
      ],
      "text/plain": [
       "       Measured  Recorded  Predicted\n",
       "row_0  0.279854  0.470911   0.411151\n",
       "row_1  0.991914  0.021193   0.809973\n",
       "row_2  0.595749  0.206254   0.420522\n",
       "row_3  0.459546  0.523272   0.543596\n",
       "row_4  0.717176  0.557691   0.193651"
      ]
     },
     "execution_count": 24,
     "metadata": {},
     "output_type": "execute_result"
    }
   ],
   "source": [
    "df                                                      # 정제를 마친 행 인덱스와 열 레이블"
   ]
  },
  {
   "cell_type": "markdown",
   "metadata": {
    "slideshow": {
     "slide_type": "fragment"
    }
   },
   "source": [
    "- 멋지게 완성되었네요!  \n",
    "  판다스의 문자열 메소드는 엄청나게 다양하다.  \n",
    "  판다스가 제공하는 모든 문자열 메소드를 정리하면 다음과 같다.  \n",
    "  (슬라이드 쇼를 멈추고 원본 노트북을 확인하자.)"
   ]
  },
  {
   "cell_type": "markdown",
   "metadata": {
    "slideshow": {
     "slide_type": "subslide"
    }
   },
   "source": [
    "| Method                     | Description                                                                                                                       |\n",
    "| -------------------------- | --------------------------------------------------------------------------------------------------------------------------------- |\n",
    "| `Series.str.cat`           | Concatenate strings                                                                                                               |\n",
    "| `Series.str.split`         | Split strings on delimiter                                                                                                        |\n",
    "| `Series.str.rsplit`        | Split strings on delimiter working from the end of the string                                                                     |\n",
    "| `Series.str.get`           | Index into each element (retrieve i-th element)                                                                                   |\n",
    "| `Series.str.join`          | Join strings in each element of the Series with passed separator                                                                  |\n",
    "| `Series.str.get_dummies`   | Split strings on the delimiter returning DataFrame of dummy variables                                                             |\n",
    "| `Series.str.contains`      | Return boolean array if each string contains pattern/regex                                                                        |\n",
    "| `Series.str.replace`       | Replace occurrences of pattern/regex/string with some other string or the return value of a callable given the occurrence         |\n",
    "| `Series.str.repeat`        | Duplicate values (`s.str.repeat(3)` equivalent to `x * 3`)                                                                        |\n",
    "| `Series.str.pad`           | \"Add whitespace to left, right, or both sides of strings\"                                                                         |\n",
    "| `Series.str.center`        | Equivalent to `str.center`                                                                                                        |\n",
    "| `Series.str.ljust`         | Equivalent to `str.ljust`                                                                                                         |\n",
    "| `Series.str.rjust`         | Equivalent to `str.rjust`                                                                                                         |\n",
    "| `Series.str.zfill`         | Equivalent to `str.zfill`                                                                                                         |\n",
    "| `Series.str.wrap`          | Split long strings into lines with length less than a given width                                                                 |\n",
    "| `Series.str.slice`         | Slice each string in the Series                                                                                                   |\n",
    "| `Series.str.slice_replace` | Replace slice in each string with passed value                                                                                    |\n",
    "| `Series.str.count`         | Count occurrences of pattern                                                                                                      |\n",
    "| `Series.str.startswith`    | Equivalent to `str.startswith(pat)` for each element                                                                              |\n",
    "| `Series.str.endswith`      | Equivalent to `str.endswith(pat)` for each element                                                                                |\n",
    "| `Series.str.findall`       | Compute list of all occurrences of pattern/regex for each string                                                                  |\n",
    "| `Series.str.match`         | \"Call `re.match` on each element, returning matched groups as list\"                                                               |\n",
    "| `Series.str.extract`       | \"Call `re.search` on each element, returning DataFrame with one row for each element and one column for each regex capture group\" |\n",
    "| `Series.str.extractall`    | \"Call `re.findall` on each element, returning DataFrame with one row for each match and one column for each regex capture group\"  |\n",
    "| `Series.str.len`           | Compute string lengths                                                                                                            |\n",
    "| `Series.str.strip`         | Equivalent to `str.strip`                                                                                                         |\n",
    "| `Series.str.rstrip`        | Equivalent to `str.rstrip`                                                                                                        |\n",
    "| `Series.str.lstrip`        | Equivalent to `str.lstrip`                                                                                                        |\n",
    "| `Series.str.partition`     | Equivalent to `str.partition`                                                                                                     |\n",
    "| `Series.str.rpartition`    | Equivalent to `str.rpartition`                                                                                                    |\n",
    "| `Series.str.lower`         | Equivalent to `str.lower`                                                                                                         |\n",
    "| `Series.str.casefold`      | Equivalent to `str.casefold`                                                                                                      |\n",
    "| `Series.str.upper`         | Equivalent to `str.upper`                                                                                                         |\n",
    "| `Series.str.find`          | Equivalent to `str.find`                                                                                                          |\n",
    "| `Series.str.rfind`         | Equivalent to `str.rfind`                                                                                                         |\n",
    "| `Series.str.index`         | Equivalent to `str.index`                                                                                                         |\n",
    "| `Series.str.rindex`        | Equivalent to `str.rindex`                                                                                                        |\n",
    "| `Series.str.capitalize`    | Equivalent to `str.capitalize`                                                                                                    |\n",
    "| `Series.str.swapcase`      | Equivalent to `str.swapcase`                                                                                                      |\n",
    "| `Series.str.normalize`     | Return Unicode normal form. Equivalent to `unicodedata.normalize`                                                                 |\n",
    "| `Series.str.translate`     | Equivalent to `str.translate`                                                                                                     |\n",
    "| `Series.str.isalnum`       | Equivalent to `str.isalnum`                                                                                                       |\n",
    "| `Series.str.isalpha`       | Equivalent to `str.isalpha`                                                                                                       |\n",
    "| `Series.str.isdigit`       | Equivalent to `str.isdigit`                                                                                                       |\n",
    "| `Series.str.isspace`       | Equivalent to `str.isspace`                                                                                                       |\n",
    "| `Series.str.islower`       | Equivalent to `str.islower`                                                                                                       |\n",
    "| `Series.str.isupper`       | Equivalent to `str.isupper`                                                                                                       |\n",
    "| `Series.str.istitle`       | Equivalent to `str.istitle`                                                                                                       |\n",
    "| `Series.str.isnumeric`     | Equivalent to `str.isnumeric`                                                                                                     |\n",
    "| `Series.str.isdecimal`     | Equivalent to `str.isdecimal`                                                                                                     |"
   ]
  },
  {
   "cell_type": "markdown",
   "metadata": {
    "slideshow": {
     "slide_type": "subslide"
    }
   },
   "source": [
    "- 문자열 치환을 위한 `df.replace()` 메소드는 알아 둘 만하다. "
   ]
  },
  {
   "cell_type": "code",
   "execution_count": 25,
   "metadata": {
    "slideshow": {
     "slide_type": "fragment"
    }
   },
   "outputs": [
    {
     "data": {
      "text/html": [
       "<div>\n",
       "<style scoped>\n",
       "    .dataframe tbody tr th:only-of-type {\n",
       "        vertical-align: middle;\n",
       "    }\n",
       "\n",
       "    .dataframe tbody tr th {\n",
       "        vertical-align: top;\n",
       "    }\n",
       "\n",
       "    .dataframe thead th {\n",
       "        text-align: right;\n",
       "    }\n",
       "</style>\n",
       "<table border=\"1\" class=\"dataframe\">\n",
       "  <thead>\n",
       "    <tr style=\"text-align: right;\">\n",
       "      <th></th>\n",
       "      <th>col_1</th>\n",
       "      <th>col_2</th>\n",
       "    </tr>\n",
       "  </thead>\n",
       "  <tbody>\n",
       "    <tr>\n",
       "      <th>0</th>\n",
       "      <td>replace me</td>\n",
       "      <td>1</td>\n",
       "    </tr>\n",
       "    <tr>\n",
       "      <th>1</th>\n",
       "      <td>b</td>\n",
       "      <td>99999</td>\n",
       "    </tr>\n",
       "    <tr>\n",
       "      <th>2</th>\n",
       "      <td>c</td>\n",
       "      <td>3</td>\n",
       "    </tr>\n",
       "  </tbody>\n",
       "</table>\n",
       "</div>"
      ],
      "text/plain": [
       "        col_1  col_2\n",
       "0  replace me      1\n",
       "1           b  99999\n",
       "2           c      3"
      ]
     },
     "execution_count": 25,
     "metadata": {},
     "output_type": "execute_result"
    }
   ],
   "source": [
    "df = pd.DataFrame({'col_1': ['replace me', 'b', 'c'],\n",
    "                   'col_2': [1, 99999, 3]})\n",
    "df"
   ]
  },
  {
   "cell_type": "code",
   "execution_count": 26,
   "metadata": {
    "slideshow": {
     "slide_type": "fragment"
    }
   },
   "outputs": [
    {
     "data": {
      "text/html": [
       "<div>\n",
       "<style scoped>\n",
       "    .dataframe tbody tr th:only-of-type {\n",
       "        vertical-align: middle;\n",
       "    }\n",
       "\n",
       "    .dataframe tbody tr th {\n",
       "        vertical-align: top;\n",
       "    }\n",
       "\n",
       "    .dataframe thead th {\n",
       "        text-align: right;\n",
       "    }\n",
       "</style>\n",
       "<table border=\"1\" class=\"dataframe\">\n",
       "  <thead>\n",
       "    <tr style=\"text-align: right;\">\n",
       "      <th></th>\n",
       "      <th>col_1</th>\n",
       "      <th>col_2</th>\n",
       "    </tr>\n",
       "  </thead>\n",
       "  <tbody>\n",
       "    <tr>\n",
       "      <th>0</th>\n",
       "      <td>a</td>\n",
       "      <td>1</td>\n",
       "    </tr>\n",
       "    <tr>\n",
       "      <th>1</th>\n",
       "      <td>b</td>\n",
       "      <td>2</td>\n",
       "    </tr>\n",
       "    <tr>\n",
       "      <th>2</th>\n",
       "      <td>c</td>\n",
       "      <td>3</td>\n",
       "    </tr>\n",
       "  </tbody>\n",
       "</table>\n",
       "</div>"
      ],
      "text/plain": [
       "  col_1  col_2\n",
       "0     a      1\n",
       "1     b      2\n",
       "2     c      3"
      ]
     },
     "execution_count": 26,
     "metadata": {},
     "output_type": "execute_result"
    }
   ],
   "source": [
    "df.replace({'replace me': 'a',    # 문자열 치환\n",
    "            99999: 2})            #   수치 치환\n",
    "                                  # 사전 형태로 치환 내역 지정 "
   ]
  },
  {
   "cell_type": "markdown",
   "metadata": {
    "slideshow": {
     "slide_type": "fragment"
    }
   },
   "source": [
    "- 1.2 항에서 문자열 메소드를 공부했다.\n",
    "- 1.3 항에서 정규 표현식을 공부하자.\n",
    "  \n",
    "<div style=\"page-break-after: always;\"></div> "
   ]
  },
  {
   "cell_type": "markdown",
   "metadata": {
    "slideshow": {
     "slide_type": "slide"
    }
   },
   "source": [
    "### 1.3 정규 표현식"
   ]
  },
  {
   "cell_type": "markdown",
   "metadata": {
    "slideshow": {
     "slide_type": "fragment"
    }
   },
   "source": [
    "- 정규 표현식(regular expression (regex))은 탐색 패턴을 정의하는 일련의 문자열이다. \n",
    "  - 복잡한 문자열 작업을 하려면 정규 표현식을 사용할 줄 알아야 한다. \n",
    "  - 파이썬만의 고유 문법이 아니라 문자열을 처리하는 모든 곳에서 사용한다. \n",
    "  - 줄여서 '정규식'으로 쓰기도 한다. \n",
    "  - [점프 투 파이썬의 설명](https://wikidocs.net/1642)을 참고하라. "
   ]
  },
  {
   "cell_type": "markdown",
   "metadata": {
    "slideshow": {
     "slide_type": "subslide"
    }
   },
   "source": [
    "- 정규 표현식을 입력 인자로 받아들이는 판다스 문자열 함수가 많다.  \n",
    "  - 아래는 정규 표현식을 입력 인자로 받아들이는 대표적인 판다스 문자열 함수의 예이다.\n",
    "  - 아래 설명에서 `re`는 정규식을 처리하는 파이썬 패키지 이름이다. \n",
    "\n",
    "|메소드|설명|\n",
    "|---|---|\n",
    "|`match()`|탐색 대상 요소마다 re.match()를 호출하고, 논리값을 반환 \n",
    "|`extract()`|탐색 대상 요소마다 re.match()를 호출하고, 부합하는 그룹을 문자열로 반환 \n",
    "|`findall()`|탐색 대상 요소마다 re.findall()을 호출 \n",
    "|`replace()`|부합하는 패턴을 다른 문자열로 치환 \n",
    "|`contains()`|탐색 대상 요소마다 re.search()를 호출하고, 논리값을 반환 \n",
    "|`count()`|부합하는 패턴의 개수 \n",
    "|`split()`|str.split()과 같지만, 정규 표현식을 입력 인자로 허용 \n",
    "|`rsplit()`|str.rsplit()과 같지만, 정규 표현식을 입력 인자로 허용 "
   ]
  },
  {
   "cell_type": "markdown",
   "metadata": {
    "slideshow": {
     "slide_type": "subslide"
    }
   },
   "source": [
    "- 예를 들어서, `Series` 내부에서 단일 자음으로 시작하고 끝나는 모든 단어를 쉽게 탐색할 수 있다: "
   ]
  },
  {
   "cell_type": "code",
   "execution_count": 27,
   "metadata": {
    "scrolled": true,
    "slideshow": {
     "slide_type": "fragment"
    }
   },
   "outputs": [
    {
     "data": {
      "text/plain": [
       "0        Tom\n",
       "1       Mike\n",
       "2       None\n",
       "3    Tiffany\n",
       "4       Joel\n",
       "5     Varada\n",
       "dtype: object"
      ]
     },
     "execution_count": 27,
     "metadata": {},
     "output_type": "execute_result"
    }
   ],
   "source": [
    "s = pd.Series(['Tom', 'Mike', None, 'Tiffany', 'Joel', 'Varada'])\n",
    "s"
   ]
  },
  {
   "cell_type": "code",
   "execution_count": 28,
   "metadata": {
    "slideshow": {
     "slide_type": "fragment"
    }
   },
   "outputs": [
    {
     "data": {
      "text/plain": [
       "0        [Tom]\n",
       "1           []\n",
       "2         None\n",
       "3    [Tiffany]\n",
       "4       [Joel]\n",
       "5           []\n",
       "dtype: object"
      ]
     },
     "execution_count": 28,
     "metadata": {},
     "output_type": "execute_result"
    }
   ],
   "source": [
    "s.str.findall(r'^[^AEIOU].*[^aeiou]$')  # (Tom, Tiffany, Joel)만 패턴에 부합"
   ]
  },
  {
   "cell_type": "markdown",
   "metadata": {
    "slideshow": {
     "slide_type": "subslide"
    }
   },
   "source": [
    "- 직전 코드에 적용된 정규식 요소는 다음과 같다:\n",
    "\n",
    "|요소|설명|\n",
    "|---|---|\n",
    "|`^`|`^` 부분은 문자열의 시작을 지정한다.|\n",
    "|`[^AEIOU]`|대괄호 부분은 한 글자에 해당하는 패턴을 지정한다. <br>대괄호 내부에서 `^`를 쓰면 '부정'이라는 의미인데, <br>첫 글자가 대문자 모음('A', 'E', 'I', 'O', 및 'U')이 아니라는 의미이다. |\n",
    "|`.*`|`.` 부분은 모든 문자를 의미하며, `*` 부분은 \"0회 이상\"이라는 의미이다. <br>따라서 문자열의 시작과 끝을 제외한 중간에 <br>어떤 문자가 몇 개 등장하더라도 문제 삼지 않겠다는 의미이다. |\n",
    "|`[^aeiou]`|대괄호 부분은 한 글자에 해당하는 패턴을 지정한다. <br>대괄호 내부에서 `^`를 쓰면 '부정'이라는 의미인데, <br>마지막 글자가 소문자 모음('a', 'e', 'i', 'o', 및 'u')이 아니라는 의미이다.|\n",
    "|`$`| `$` 부분은 문자열의 끝을 지정한다. |"
   ]
  },
  {
   "cell_type": "markdown",
   "metadata": {
    "slideshow": {
     "slide_type": "fragment"
    }
   },
   "source": [
    "- 직전 코드에서 `r`이라고 문자열 상수 앞에 붙은 부분은  \n",
    "  가공하지 않은 원래 상태의 '생 문자열 상수(raw string literal)'라는 의미이다. \n",
    "- 아래 예제에서 일반 문자열 상수와 생 문자열 상수의 차이를 확인하라\n",
    "  - 일반 문자열 상수에서는 `'\\n'`이 줄바꿈 문자에 해당하는 이스케이프 코드로 처리된다. \n",
    "  - 생 문자열 상수에서는 `'\\n'`이 줄바꿈 문자에 해당하는 이스케이프 코드를 무시하고 그냥 문자열로 처리된다. \n"
   ]
  },
  {
   "cell_type": "code",
   "execution_count": 29,
   "metadata": {
    "slideshow": {
     "slide_type": "subslide"
    }
   },
   "outputs": [
    {
     "name": "stdout",
     "output_type": "stream",
     "text": [
      "Hi\n",
      "Hello\n"
     ]
    }
   ],
   "source": [
    "str = 'Hi\\nHello'  # 일반 문자열 상수\n",
    "print(str)"
   ]
  },
  {
   "cell_type": "code",
   "execution_count": 30,
   "metadata": {
    "slideshow": {
     "slide_type": "fragment"
    }
   },
   "outputs": [
    {
     "name": "stdout",
     "output_type": "stream",
     "text": [
      "Hi\\nHello\n"
     ]
    }
   ],
   "source": [
    "str = r'Hi\\nHello'  # 생 문자열 상수\n",
    "print(str)"
   ]
  },
  {
   "cell_type": "markdown",
   "metadata": {
    "slideshow": {
     "slide_type": "subslide"
    }
   },
   "source": [
    "- 복잡한 텍스트를 정제해야 하는 상황이라면 정규식이 마법같은 역햘을 할 수 있다.  \n",
    "  자전거 데이터 집합에서 한 가지 예제를 더 살펴 보자:"
   ]
  },
  {
   "cell_type": "code",
   "execution_count": 31,
   "metadata": {
    "slideshow": {
     "slide_type": "fragment"
    }
   },
   "outputs": [
    {
     "data": {
      "text/html": [
       "<div>\n",
       "<style scoped>\n",
       "    .dataframe tbody tr th:only-of-type {\n",
       "        vertical-align: middle;\n",
       "    }\n",
       "\n",
       "    .dataframe tbody tr th {\n",
       "        vertical-align: top;\n",
       "    }\n",
       "\n",
       "    .dataframe thead th {\n",
       "        text-align: right;\n",
       "    }\n",
       "</style>\n",
       "<table border=\"1\" class=\"dataframe\">\n",
       "  <thead>\n",
       "    <tr style=\"text-align: right;\">\n",
       "      <th></th>\n",
       "      <th>Name</th>\n",
       "      <th>Type</th>\n",
       "      <th>Time</th>\n",
       "      <th>Distance</th>\n",
       "      <th>Comments</th>\n",
       "    </tr>\n",
       "    <tr>\n",
       "      <th>Date</th>\n",
       "      <th></th>\n",
       "      <th></th>\n",
       "      <th></th>\n",
       "      <th></th>\n",
       "      <th></th>\n",
       "    </tr>\n",
       "  </thead>\n",
       "  <tbody>\n",
       "    <tr>\n",
       "      <th>10 Sep 2019, 00:13:04</th>\n",
       "      <td>Afternoon Ride</td>\n",
       "      <td>Ride</td>\n",
       "      <td>2084</td>\n",
       "      <td>12.62</td>\n",
       "      <td>Rain</td>\n",
       "    </tr>\n",
       "    <tr>\n",
       "      <th>10 Sep 2019, 13:52:18</th>\n",
       "      <td>Morning Ride</td>\n",
       "      <td>Ride</td>\n",
       "      <td>2531</td>\n",
       "      <td>13.03</td>\n",
       "      <td>rain</td>\n",
       "    </tr>\n",
       "    <tr>\n",
       "      <th>11 Sep 2019, 00:23:50</th>\n",
       "      <td>Afternoon Ride</td>\n",
       "      <td>Ride</td>\n",
       "      <td>1863</td>\n",
       "      <td>12.52</td>\n",
       "      <td>Wet road but nice weather</td>\n",
       "    </tr>\n",
       "    <tr>\n",
       "      <th>11 Sep 2019, 14:06:19</th>\n",
       "      <td>Morning Ride</td>\n",
       "      <td>Ride</td>\n",
       "      <td>2192</td>\n",
       "      <td>12.84</td>\n",
       "      <td>Stopped for photo of sunrise</td>\n",
       "    </tr>\n",
       "    <tr>\n",
       "      <th>12 Sep 2019, 00:28:05</th>\n",
       "      <td>Afternoon Ride</td>\n",
       "      <td>Ride</td>\n",
       "      <td>1891</td>\n",
       "      <td>12.48</td>\n",
       "      <td>Tired by the end of the week</td>\n",
       "    </tr>\n",
       "    <tr>\n",
       "      <th>...</th>\n",
       "      <td>...</td>\n",
       "      <td>...</td>\n",
       "      <td>...</td>\n",
       "      <td>...</td>\n",
       "      <td>...</td>\n",
       "    </tr>\n",
       "    <tr>\n",
       "      <th>4 Oct 2019, 01:08:08</th>\n",
       "      <td>Afternoon Ride</td>\n",
       "      <td>Ride</td>\n",
       "      <td>1870</td>\n",
       "      <td>12.63</td>\n",
       "      <td>Very tired, riding into the wind</td>\n",
       "    </tr>\n",
       "    <tr>\n",
       "      <th>9 Oct 2019, 13:55:40</th>\n",
       "      <td>Morning Ride</td>\n",
       "      <td>Ride</td>\n",
       "      <td>2149</td>\n",
       "      <td>12.70</td>\n",
       "      <td>Really cold! But feeling good</td>\n",
       "    </tr>\n",
       "    <tr>\n",
       "      <th>10 Oct 2019, 00:10:31</th>\n",
       "      <td>Afternoon Ride</td>\n",
       "      <td>Ride</td>\n",
       "      <td>1841</td>\n",
       "      <td>12.59</td>\n",
       "      <td>Feeling good after a holiday break!</td>\n",
       "    </tr>\n",
       "    <tr>\n",
       "      <th>10 Oct 2019, 13:47:14</th>\n",
       "      <td>Morning Ride</td>\n",
       "      <td>Ride</td>\n",
       "      <td>2463</td>\n",
       "      <td>12.79</td>\n",
       "      <td>Stopped for photo of sunrise</td>\n",
       "    </tr>\n",
       "    <tr>\n",
       "      <th>11 Oct 2019, 00:16:57</th>\n",
       "      <td>Afternoon Ride</td>\n",
       "      <td>Ride</td>\n",
       "      <td>1843</td>\n",
       "      <td>11.79</td>\n",
       "      <td>Bike feeling tight, needs an oil and pump</td>\n",
       "    </tr>\n",
       "  </tbody>\n",
       "</table>\n",
       "<p>33 rows × 5 columns</p>\n",
       "</div>"
      ],
      "text/plain": [
       "                                 Name  Type  Time  Distance  \\\n",
       "Date                                                          \n",
       "10 Sep 2019, 00:13:04  Afternoon Ride  Ride  2084     12.62   \n",
       "10 Sep 2019, 13:52:18    Morning Ride  Ride  2531     13.03   \n",
       "11 Sep 2019, 00:23:50  Afternoon Ride  Ride  1863     12.52   \n",
       "11 Sep 2019, 14:06:19    Morning Ride  Ride  2192     12.84   \n",
       "12 Sep 2019, 00:28:05  Afternoon Ride  Ride  1891     12.48   \n",
       "...                               ...   ...   ...       ...   \n",
       "4 Oct 2019, 01:08:08   Afternoon Ride  Ride  1870     12.63   \n",
       "9 Oct 2019, 13:55:40     Morning Ride  Ride  2149     12.70   \n",
       "10 Oct 2019, 00:10:31  Afternoon Ride  Ride  1841     12.59   \n",
       "10 Oct 2019, 13:47:14    Morning Ride  Ride  2463     12.79   \n",
       "11 Oct 2019, 00:16:57  Afternoon Ride  Ride  1843     11.79   \n",
       "\n",
       "                                                        Comments  \n",
       "Date                                                              \n",
       "10 Sep 2019, 00:13:04                                       Rain  \n",
       "10 Sep 2019, 13:52:18                                       rain  \n",
       "11 Sep 2019, 00:23:50                  Wet road but nice weather  \n",
       "11 Sep 2019, 14:06:19               Stopped for photo of sunrise  \n",
       "12 Sep 2019, 00:28:05               Tired by the end of the week  \n",
       "...                                                          ...  \n",
       "4 Oct 2019, 01:08:08            Very tired, riding into the wind  \n",
       "9 Oct 2019, 13:55:40               Really cold! But feeling good  \n",
       "10 Oct 2019, 00:10:31        Feeling good after a holiday break!  \n",
       "10 Oct 2019, 13:47:14               Stopped for photo of sunrise  \n",
       "11 Oct 2019, 00:16:57  Bike feeling tight, needs an oil and pump  \n",
       "\n",
       "[33 rows x 5 columns]"
      ]
     },
     "execution_count": 31,
     "metadata": {},
     "output_type": "execute_result"
    }
   ],
   "source": [
    "df = pd.read_csv('../data/cycling_data.csv', index_col=0)\n",
    "df"
   ]
  },
  {
   "cell_type": "markdown",
   "metadata": {
    "slideshow": {
     "slide_type": "subslide"
    }
   },
   "source": [
    "- `Comments` 열에 \"Rain\" 또는 \"rain\"이 포함된 행을 다음과 같이 탐색할 수 있다:"
   ]
  },
  {
   "cell_type": "code",
   "execution_count": 32,
   "metadata": {
    "slideshow": {
     "slide_type": "fragment"
    }
   },
   "outputs": [
    {
     "data": {
      "text/html": [
       "<div>\n",
       "<style scoped>\n",
       "    .dataframe tbody tr th:only-of-type {\n",
       "        vertical-align: middle;\n",
       "    }\n",
       "\n",
       "    .dataframe tbody tr th {\n",
       "        vertical-align: top;\n",
       "    }\n",
       "\n",
       "    .dataframe thead th {\n",
       "        text-align: right;\n",
       "    }\n",
       "</style>\n",
       "<table border=\"1\" class=\"dataframe\">\n",
       "  <thead>\n",
       "    <tr style=\"text-align: right;\">\n",
       "      <th></th>\n",
       "      <th>Name</th>\n",
       "      <th>Type</th>\n",
       "      <th>Time</th>\n",
       "      <th>Distance</th>\n",
       "      <th>Comments</th>\n",
       "    </tr>\n",
       "    <tr>\n",
       "      <th>Date</th>\n",
       "      <th></th>\n",
       "      <th></th>\n",
       "      <th></th>\n",
       "      <th></th>\n",
       "      <th></th>\n",
       "    </tr>\n",
       "  </thead>\n",
       "  <tbody>\n",
       "    <tr>\n",
       "      <th>10 Sep 2019, 00:13:04</th>\n",
       "      <td>Afternoon Ride</td>\n",
       "      <td>Ride</td>\n",
       "      <td>2084</td>\n",
       "      <td>12.62</td>\n",
       "      <td>Rain</td>\n",
       "    </tr>\n",
       "    <tr>\n",
       "      <th>10 Sep 2019, 13:52:18</th>\n",
       "      <td>Morning Ride</td>\n",
       "      <td>Ride</td>\n",
       "      <td>2531</td>\n",
       "      <td>13.03</td>\n",
       "      <td>rain</td>\n",
       "    </tr>\n",
       "    <tr>\n",
       "      <th>17 Sep 2019, 13:43:34</th>\n",
       "      <td>Morning Ride</td>\n",
       "      <td>Ride</td>\n",
       "      <td>2285</td>\n",
       "      <td>12.60</td>\n",
       "      <td>Raining</td>\n",
       "    </tr>\n",
       "    <tr>\n",
       "      <th>18 Sep 2019, 13:49:53</th>\n",
       "      <td>Morning Ride</td>\n",
       "      <td>Ride</td>\n",
       "      <td>2903</td>\n",
       "      <td>14.57</td>\n",
       "      <td>Raining today</td>\n",
       "    </tr>\n",
       "    <tr>\n",
       "      <th>26 Sep 2019, 00:13:33</th>\n",
       "      <td>Afternoon Ride</td>\n",
       "      <td>Ride</td>\n",
       "      <td>1860</td>\n",
       "      <td>12.52</td>\n",
       "      <td>raining</td>\n",
       "    </tr>\n",
       "  </tbody>\n",
       "</table>\n",
       "</div>"
      ],
      "text/plain": [
       "                                 Name  Type  Time  Distance       Comments\n",
       "Date                                                                      \n",
       "10 Sep 2019, 00:13:04  Afternoon Ride  Ride  2084     12.62           Rain\n",
       "10 Sep 2019, 13:52:18    Morning Ride  Ride  2531     13.03           rain\n",
       "17 Sep 2019, 13:43:34    Morning Ride  Ride  2285     12.60        Raining\n",
       "18 Sep 2019, 13:49:53    Morning Ride  Ride  2903     14.57  Raining today\n",
       "26 Sep 2019, 00:13:33  Afternoon Ride  Ride  1860     12.52        raining"
      ]
     },
     "execution_count": 32,
     "metadata": {},
     "output_type": "execute_result"
    }
   ],
   "source": [
    "df.loc[df['Comments'].str.contains(r\"[Rr]ain\")]"
   ]
  },
  {
   "cell_type": "markdown",
   "metadata": {
    "slideshow": {
     "slide_type": "subslide"
    }
   },
   "source": [
    "- 만약 위 탐색 결과에서 \"Raining\"이나 \"raining\"은 배제하고 싶다면 다음과 같이 할 수 있다:"
   ]
  },
  {
   "cell_type": "code",
   "execution_count": 33,
   "metadata": {
    "slideshow": {
     "slide_type": "fragment"
    }
   },
   "outputs": [
    {
     "data": {
      "text/html": [
       "<div>\n",
       "<style scoped>\n",
       "    .dataframe tbody tr th:only-of-type {\n",
       "        vertical-align: middle;\n",
       "    }\n",
       "\n",
       "    .dataframe tbody tr th {\n",
       "        vertical-align: top;\n",
       "    }\n",
       "\n",
       "    .dataframe thead th {\n",
       "        text-align: right;\n",
       "    }\n",
       "</style>\n",
       "<table border=\"1\" class=\"dataframe\">\n",
       "  <thead>\n",
       "    <tr style=\"text-align: right;\">\n",
       "      <th></th>\n",
       "      <th>Name</th>\n",
       "      <th>Type</th>\n",
       "      <th>Time</th>\n",
       "      <th>Distance</th>\n",
       "      <th>Comments</th>\n",
       "    </tr>\n",
       "    <tr>\n",
       "      <th>Date</th>\n",
       "      <th></th>\n",
       "      <th></th>\n",
       "      <th></th>\n",
       "      <th></th>\n",
       "      <th></th>\n",
       "    </tr>\n",
       "  </thead>\n",
       "  <tbody>\n",
       "    <tr>\n",
       "      <th>10 Sep 2019, 00:13:04</th>\n",
       "      <td>Afternoon Ride</td>\n",
       "      <td>Ride</td>\n",
       "      <td>2084</td>\n",
       "      <td>12.62</td>\n",
       "      <td>Rain</td>\n",
       "    </tr>\n",
       "    <tr>\n",
       "      <th>10 Sep 2019, 13:52:18</th>\n",
       "      <td>Morning Ride</td>\n",
       "      <td>Ride</td>\n",
       "      <td>2531</td>\n",
       "      <td>13.03</td>\n",
       "      <td>rain</td>\n",
       "    </tr>\n",
       "  </tbody>\n",
       "</table>\n",
       "</div>"
      ],
      "text/plain": [
       "                                 Name  Type  Time  Distance Comments\n",
       "Date                                                                \n",
       "10 Sep 2019, 00:13:04  Afternoon Ride  Ride  2084     12.62     Rain\n",
       "10 Sep 2019, 13:52:18    Morning Ride  Ride  2531     13.03     rain"
      ]
     },
     "execution_count": 33,
     "metadata": {},
     "output_type": "execute_result"
    }
   ],
   "source": [
    "df.loc[df['Comments'].str.contains(r\"^[Rr]ain$\")]"
   ]
  },
  {
   "cell_type": "markdown",
   "metadata": {
    "slideshow": {
     "slide_type": "subslide"
    }
   },
   "source": [
    "- `df.str.split()` 메소드를 써서 한 열의 문자열을 두 열로 분리할 수 있다. \n",
    "  - 성과 이름이 공백으로 구분되어 `df.name` 열에 저장되어 있다고 가정하면,  \n",
    "    `df['name'].str.split(' ', expand=True)` 명령으로 \n",
    "    성과 이름을 별도의 열로 분리할 수도 있다. \n",
    "\n",
    "    \n",
    "\n",
    "  - 심지어 (마침표, 쉼표 및 느낌표를 포함하는) 구두점을 기반으로  \n",
    "    문자열을 분할하거나 새로운 열로 분리할 수도 있다:\n"
   ]
  },
  {
   "cell_type": "code",
   "execution_count": 34,
   "metadata": {
    "scrolled": true,
    "slideshow": {
     "slide_type": "fragment"
    }
   },
   "outputs": [
    {
     "data": {
      "text/html": [
       "<div>\n",
       "<style scoped>\n",
       "    .dataframe tbody tr th:only-of-type {\n",
       "        vertical-align: middle;\n",
       "    }\n",
       "\n",
       "    .dataframe tbody tr th {\n",
       "        vertical-align: top;\n",
       "    }\n",
       "\n",
       "    .dataframe thead th {\n",
       "        text-align: right;\n",
       "    }\n",
       "</style>\n",
       "<table border=\"1\" class=\"dataframe\">\n",
       "  <thead>\n",
       "    <tr style=\"text-align: right;\">\n",
       "      <th></th>\n",
       "      <th>0</th>\n",
       "      <th>1</th>\n",
       "    </tr>\n",
       "    <tr>\n",
       "      <th>Date</th>\n",
       "      <th></th>\n",
       "      <th></th>\n",
       "    </tr>\n",
       "  </thead>\n",
       "  <tbody>\n",
       "    <tr>\n",
       "      <th>10 Sep 2019, 00:13:04</th>\n",
       "      <td>Rain</td>\n",
       "      <td>None</td>\n",
       "    </tr>\n",
       "    <tr>\n",
       "      <th>10 Sep 2019, 13:52:18</th>\n",
       "      <td>rain</td>\n",
       "      <td>None</td>\n",
       "    </tr>\n",
       "    <tr>\n",
       "      <th>11 Sep 2019, 00:23:50</th>\n",
       "      <td>Wet road but nice weather</td>\n",
       "      <td>None</td>\n",
       "    </tr>\n",
       "    <tr>\n",
       "      <th>11 Sep 2019, 14:06:19</th>\n",
       "      <td>Stopped for photo of sunrise</td>\n",
       "      <td>None</td>\n",
       "    </tr>\n",
       "    <tr>\n",
       "      <th>12 Sep 2019, 00:28:05</th>\n",
       "      <td>Tired by the end of the week</td>\n",
       "      <td>None</td>\n",
       "    </tr>\n",
       "    <tr>\n",
       "      <th>...</th>\n",
       "      <td>...</td>\n",
       "      <td>...</td>\n",
       "    </tr>\n",
       "    <tr>\n",
       "      <th>4 Oct 2019, 01:08:08</th>\n",
       "      <td>Very tired</td>\n",
       "      <td>riding into the wind</td>\n",
       "    </tr>\n",
       "    <tr>\n",
       "      <th>9 Oct 2019, 13:55:40</th>\n",
       "      <td>Really cold</td>\n",
       "      <td>But feeling good</td>\n",
       "    </tr>\n",
       "    <tr>\n",
       "      <th>10 Oct 2019, 00:10:31</th>\n",
       "      <td>Feeling good after a holiday break</td>\n",
       "      <td></td>\n",
       "    </tr>\n",
       "    <tr>\n",
       "      <th>10 Oct 2019, 13:47:14</th>\n",
       "      <td>Stopped for photo of sunrise</td>\n",
       "      <td>None</td>\n",
       "    </tr>\n",
       "    <tr>\n",
       "      <th>11 Oct 2019, 00:16:57</th>\n",
       "      <td>Bike feeling tight</td>\n",
       "      <td>needs an oil and pump</td>\n",
       "    </tr>\n",
       "  </tbody>\n",
       "</table>\n",
       "<p>33 rows × 2 columns</p>\n",
       "</div>"
      ],
      "text/plain": [
       "                                                        0  \\\n",
       "Date                                                        \n",
       "10 Sep 2019, 00:13:04                                Rain   \n",
       "10 Sep 2019, 13:52:18                                rain   \n",
       "11 Sep 2019, 00:23:50           Wet road but nice weather   \n",
       "11 Sep 2019, 14:06:19        Stopped for photo of sunrise   \n",
       "12 Sep 2019, 00:28:05        Tired by the end of the week   \n",
       "...                                                   ...   \n",
       "4 Oct 2019, 01:08:08                           Very tired   \n",
       "9 Oct 2019, 13:55:40                          Really cold   \n",
       "10 Oct 2019, 00:10:31  Feeling good after a holiday break   \n",
       "10 Oct 2019, 13:47:14        Stopped for photo of sunrise   \n",
       "11 Oct 2019, 00:16:57                  Bike feeling tight   \n",
       "\n",
       "                                            1  \n",
       "Date                                           \n",
       "10 Sep 2019, 00:13:04                    None  \n",
       "10 Sep 2019, 13:52:18                    None  \n",
       "11 Sep 2019, 00:23:50                    None  \n",
       "11 Sep 2019, 14:06:19                    None  \n",
       "12 Sep 2019, 00:28:05                    None  \n",
       "...                                       ...  \n",
       "4 Oct 2019, 01:08:08     riding into the wind  \n",
       "9 Oct 2019, 13:55:40         But feeling good  \n",
       "10 Oct 2019, 00:10:31                          \n",
       "10 Oct 2019, 13:47:14                    None  \n",
       "11 Oct 2019, 00:16:57   needs an oil and pump  \n",
       "\n",
       "[33 rows x 2 columns]"
      ]
     },
     "execution_count": 34,
     "metadata": {},
     "output_type": "execute_result"
    }
   ],
   "source": [
    "df['Comments'].str.split(r\"[.,!]\", expand=True)"
   ]
  },
  {
   "cell_type": "markdown",
   "metadata": {
    "slideshow": {
     "slide_type": "subslide"
    }
   },
   "source": [
    "- 직전 예제의 열 레이블을 확인하고, 이를 수정해 보자. "
   ]
  },
  {
   "cell_type": "code",
   "execution_count": 35,
   "metadata": {
    "slideshow": {
     "slide_type": "fragment"
    }
   },
   "outputs": [
    {
     "data": {
      "text/plain": [
       "RangeIndex(start=0, stop=2, step=1)"
      ]
     },
     "execution_count": 35,
     "metadata": {},
     "output_type": "execute_result"
    }
   ],
   "source": [
    "df['Comments'].str.split(r\"[.,!]\", expand=True).columns"
   ]
  },
  {
   "cell_type": "code",
   "execution_count": 36,
   "metadata": {
    "scrolled": true,
    "slideshow": {
     "slide_type": "fragment"
    }
   },
   "outputs": [
    {
     "data": {
      "text/html": [
       "<div>\n",
       "<style scoped>\n",
       "    .dataframe tbody tr th:only-of-type {\n",
       "        vertical-align: middle;\n",
       "    }\n",
       "\n",
       "    .dataframe tbody tr th {\n",
       "        vertical-align: top;\n",
       "    }\n",
       "\n",
       "    .dataframe thead th {\n",
       "        text-align: right;\n",
       "    }\n",
       "</style>\n",
       "<table border=\"1\" class=\"dataframe\">\n",
       "  <thead>\n",
       "    <tr style=\"text-align: right;\">\n",
       "      <th></th>\n",
       "      <th>Comments_0</th>\n",
       "      <th>Comments_1</th>\n",
       "    </tr>\n",
       "    <tr>\n",
       "      <th>Date</th>\n",
       "      <th></th>\n",
       "      <th></th>\n",
       "    </tr>\n",
       "  </thead>\n",
       "  <tbody>\n",
       "    <tr>\n",
       "      <th>10 Sep 2019, 00:13:04</th>\n",
       "      <td>Rain</td>\n",
       "      <td>None</td>\n",
       "    </tr>\n",
       "    <tr>\n",
       "      <th>10 Sep 2019, 13:52:18</th>\n",
       "      <td>rain</td>\n",
       "      <td>None</td>\n",
       "    </tr>\n",
       "    <tr>\n",
       "      <th>11 Sep 2019, 00:23:50</th>\n",
       "      <td>Wet road but nice weather</td>\n",
       "      <td>None</td>\n",
       "    </tr>\n",
       "    <tr>\n",
       "      <th>11 Sep 2019, 14:06:19</th>\n",
       "      <td>Stopped for photo of sunrise</td>\n",
       "      <td>None</td>\n",
       "    </tr>\n",
       "    <tr>\n",
       "      <th>12 Sep 2019, 00:28:05</th>\n",
       "      <td>Tired by the end of the week</td>\n",
       "      <td>None</td>\n",
       "    </tr>\n",
       "    <tr>\n",
       "      <th>...</th>\n",
       "      <td>...</td>\n",
       "      <td>...</td>\n",
       "    </tr>\n",
       "    <tr>\n",
       "      <th>4 Oct 2019, 01:08:08</th>\n",
       "      <td>Very tired</td>\n",
       "      <td>riding into the wind</td>\n",
       "    </tr>\n",
       "    <tr>\n",
       "      <th>9 Oct 2019, 13:55:40</th>\n",
       "      <td>Really cold</td>\n",
       "      <td>But feeling good</td>\n",
       "    </tr>\n",
       "    <tr>\n",
       "      <th>10 Oct 2019, 00:10:31</th>\n",
       "      <td>Feeling good after a holiday break</td>\n",
       "      <td></td>\n",
       "    </tr>\n",
       "    <tr>\n",
       "      <th>10 Oct 2019, 13:47:14</th>\n",
       "      <td>Stopped for photo of sunrise</td>\n",
       "      <td>None</td>\n",
       "    </tr>\n",
       "    <tr>\n",
       "      <th>11 Oct 2019, 00:16:57</th>\n",
       "      <td>Bike feeling tight</td>\n",
       "      <td>needs an oil and pump</td>\n",
       "    </tr>\n",
       "  </tbody>\n",
       "</table>\n",
       "<p>33 rows × 2 columns</p>\n",
       "</div>"
      ],
      "text/plain": [
       "                                               Comments_0  \\\n",
       "Date                                                        \n",
       "10 Sep 2019, 00:13:04                                Rain   \n",
       "10 Sep 2019, 13:52:18                                rain   \n",
       "11 Sep 2019, 00:23:50           Wet road but nice weather   \n",
       "11 Sep 2019, 14:06:19        Stopped for photo of sunrise   \n",
       "12 Sep 2019, 00:28:05        Tired by the end of the week   \n",
       "...                                                   ...   \n",
       "4 Oct 2019, 01:08:08                           Very tired   \n",
       "9 Oct 2019, 13:55:40                          Really cold   \n",
       "10 Oct 2019, 00:10:31  Feeling good after a holiday break   \n",
       "10 Oct 2019, 13:47:14        Stopped for photo of sunrise   \n",
       "11 Oct 2019, 00:16:57                  Bike feeling tight   \n",
       "\n",
       "                                   Comments_1  \n",
       "Date                                           \n",
       "10 Sep 2019, 00:13:04                    None  \n",
       "10 Sep 2019, 13:52:18                    None  \n",
       "11 Sep 2019, 00:23:50                    None  \n",
       "11 Sep 2019, 14:06:19                    None  \n",
       "12 Sep 2019, 00:28:05                    None  \n",
       "...                                       ...  \n",
       "4 Oct 2019, 01:08:08     riding into the wind  \n",
       "9 Oct 2019, 13:55:40         But feeling good  \n",
       "10 Oct 2019, 00:10:31                          \n",
       "10 Oct 2019, 13:47:14                    None  \n",
       "11 Oct 2019, 00:16:57   needs an oil and pump  \n",
       "\n",
       "[33 rows x 2 columns]"
      ]
     },
     "execution_count": 36,
     "metadata": {},
     "output_type": "execute_result"
    }
   ],
   "source": [
    "df['Comments'].str.split(r\"[.,!]\", expand=True).rename(\n",
    "    columns={0: 'Comments_0', 1:'Comments_1'})"
   ]
  },
  {
   "cell_type": "markdown",
   "metadata": {
    "slideshow": {
     "slide_type": "subslide"
    }
   },
   "source": [
    "- 정규 표현식에 대한 모든 것을 지금 알아야 하는 것은 아니다. \n",
    "  - 향후에 문자열에 대한 복잡한 작업을 수행해야 할 상황이 되면,  \n",
    "    '정규표현식을 써서 쉽게 해결할 수 있다고 하던데...'라는 생각이 들기를 바란다. \n",
    "  - 필요할 때, 검색하고 공부하면 된다. "
   ]
  },
  {
   "cell_type": "markdown",
   "metadata": {
    "slideshow": {
     "slide_type": "fragment"
    }
   },
   "source": [
    "- 1.3 항에서 정규 표현식을 공부했다.\n",
    "- 이제 날짜/시간 조작 방법을 공부하자. \n",
    "  \n",
    "<div style=\"page-break-after: always;\"></div> "
   ]
  },
  {
   "cell_type": "markdown",
   "metadata": {
    "slideshow": {
     "slide_type": "slide"
    }
   },
   "source": [
    "## 2. 날짜/시각 작업"
   ]
  },
  {
   "cell_type": "markdown",
   "metadata": {
    "slideshow": {
     "slide_type": "fragment"
    }
   },
   "source": [
    "- 문자열에 대하여 그랬듯이,  \n",
    "  판다스는 시간 계열 데이터에 대해서도 광범위한 기능을 제공한다. \n",
    "- 2.1 항에서 `datetime` 자료형 공부부터 시작하자."
   ]
  },
  {
   "cell_type": "markdown",
   "metadata": {
    "slideshow": {
     "slide_type": "slide"
    }
   },
   "source": [
    "### 2.1 날짜/시각 자료형"
   ]
  },
  {
   "cell_type": "markdown",
   "metadata": {
    "slideshow": {
     "slide_type": "fragment"
    }
   },
   "source": [
    "#### 2.1.1 파이썬 시계열"
   ]
  },
  {
   "cell_type": "markdown",
   "metadata": {
    "slideshow": {
     "slide_type": "fragment"
    }
   },
   "source": [
    "- 파이썬 내장 모듈 `datetime`에서 제공하는 `datetime` 및 `timedelta` 자료형에 대해서 공부하자. \n",
    "  1. 날짜/시각 자료형\n",
    "  2. 국가/언어 설정\n",
    "  3. `datetime` 활용\n",
    "  4. `timedelta` 활용"
   ]
  },
  {
   "cell_type": "markdown",
   "metadata": {
    "slideshow": {
     "slide_type": "subslide"
    }
   },
   "source": [
    "1. 날짜/시각 자료형"
   ]
  },
  {
   "cell_type": "code",
   "execution_count": 37,
   "metadata": {
    "slideshow": {
     "slide_type": "fragment"
    }
   },
   "outputs": [],
   "source": [
    "from datetime import datetime, timedelta        # 모듈에서 특정 클래스를 선별적으로 수입"
   ]
  },
  {
   "cell_type": "code",
   "execution_count": 38,
   "metadata": {
    "slideshow": {
     "slide_type": "fragment"
    }
   },
   "outputs": [
    {
     "data": {
      "text/plain": [
       "datetime.datetime(2021, 9, 30, 22, 23, 37, 202803)"
      ]
     },
     "execution_count": 38,
     "metadata": {},
     "output_type": "execute_result"
    }
   ],
   "source": [
    "now = datetime.now()                            # datetime 클래스가 제공하는 now() 메소드로 현재 시각 획득\n",
    "now"
   ]
  },
  {
   "cell_type": "code",
   "execution_count": 39,
   "metadata": {
    "slideshow": {
     "slide_type": "fragment"
    }
   },
   "outputs": [
    {
     "data": {
      "text/plain": [
       "(datetime.datetime(2021, 9, 30, 22, 23, 37, 202803), 'September', 'Thursday')"
      ]
     },
     "execution_count": 39,
     "metadata": {},
     "output_type": "execute_result"
    }
   ],
   "source": [
    "# strftime()은 날짜/시각을 문자열로 변환하는 메소드\n",
    "(now, \n",
    " now.strftime('%B'),                            # 달 이름\n",
    " now.strftime('%A'))                            # 요일 이름 "
   ]
  },
  {
   "cell_type": "code",
   "execution_count": 40,
   "metadata": {
    "slideshow": {
     "slide_type": "fragment"
    }
   },
   "outputs": [
    {
     "data": {
      "text/plain": [
       "datetime.datetime(2021, 10, 1, 22, 23, 37, 202803)"
      ]
     },
     "execution_count": 40,
     "metadata": {},
     "output_type": "execute_result"
    }
   ],
   "source": [
    "# timedelta()는 시간 간격을 처리하는 클래스\n",
    "now + timedelta(days=1)                        # 하루 후 확인                      "
   ]
  },
  {
   "cell_type": "markdown",
   "metadata": {
    "slideshow": {
     "slide_type": "subslide"
    }
   },
   "source": [
    "2. 국가 및 언어 설정"
   ]
  },
  {
   "cell_type": "code",
   "execution_count": 41,
   "metadata": {
    "slideshow": {
     "slide_type": "fragment"
    }
   },
   "outputs": [],
   "source": [
    "import locale                                  # 모듈 수입"
   ]
  },
  {
   "cell_type": "code",
   "execution_count": 42,
   "metadata": {
    "slideshow": {
     "slide_type": "fragment"
    }
   },
   "outputs": [
    {
     "data": {
      "text/plain": [
       "('Korean_Korea', '949')"
      ]
     },
     "execution_count": 42,
     "metadata": {},
     "output_type": "execute_result"
    }
   ],
   "source": [
    "locale.getlocale()                             # 로케일 확인"
   ]
  },
  {
   "cell_type": "code",
   "execution_count": 43,
   "metadata": {
    "scrolled": true,
    "slideshow": {
     "slide_type": "fragment"
    }
   },
   "outputs": [
    {
     "data": {
      "text/plain": [
       "(datetime.datetime(2021, 9, 30, 22, 23, 37, 202803), 'September', 'Thursday')"
      ]
     },
     "execution_count": 43,
     "metadata": {},
     "output_type": "execute_result"
    }
   ],
   "source": [
    "(now, \n",
    " now.strftime('%B'),                           # 달 이름\n",
    " now.strftime('%A'))                           # 요일 이름 "
   ]
  },
  {
   "cell_type": "code",
   "execution_count": 44,
   "metadata": {
    "slideshow": {
     "slide_type": "fragment"
    }
   },
   "outputs": [
    {
     "data": {
      "text/plain": [
       "'Korean_Korea.949'"
      ]
     },
     "execution_count": 44,
     "metadata": {},
     "output_type": "execute_result"
    }
   ],
   "source": [
    "locale.setlocale(locale.LC_ALL, '')            # 모든 범주의 로케일을 기본값으로 설정"
   ]
  },
  {
   "cell_type": "code",
   "execution_count": 45,
   "metadata": {
    "scrolled": true,
    "slideshow": {
     "slide_type": "fragment"
    }
   },
   "outputs": [],
   "source": [
    "# locale.setlocale(locale.LC_ALL, 'Korean_Korea.UTF-8')  # 로케일 변경"
   ]
  },
  {
   "cell_type": "code",
   "execution_count": 46,
   "metadata": {
    "slideshow": {
     "slide_type": "fragment"
    }
   },
   "outputs": [
    {
     "data": {
      "text/plain": [
       "('Korean_Korea', '949')"
      ]
     },
     "execution_count": 46,
     "metadata": {},
     "output_type": "execute_result"
    }
   ],
   "source": [
    "locale.getlocale()"
   ]
  },
  {
   "cell_type": "code",
   "execution_count": 47,
   "metadata": {
    "scrolled": true,
    "slideshow": {
     "slide_type": "fragment"
    }
   },
   "outputs": [
    {
     "data": {
      "text/plain": [
       "(datetime.datetime(2021, 9, 30, 22, 23, 37, 202803), '9월', '목요일')"
      ]
     },
     "execution_count": 47,
     "metadata": {},
     "output_type": "execute_result"
    }
   ],
   "source": [
    "(now, \n",
    " now.strftime('%B'),                           # 달 이름\n",
    " now.strftime('%A'))                           # 요일 이름 "
   ]
  },
  {
   "cell_type": "markdown",
   "metadata": {
    "slideshow": {
     "slide_type": "subslide"
    }
   },
   "source": [
    "- `locale`을 초기화하면, 달이나 요일 이름이 한글로 출력된다. \n",
    "- 이제 아래와 같이 출력할 수 있다. "
   ]
  },
  {
   "cell_type": "code",
   "execution_count": 48,
   "metadata": {
    "slideshow": {
     "slide_type": "fragment"
    }
   },
   "outputs": [
    {
     "data": {
      "text/plain": [
       "(datetime.datetime(2021, 9, 30, 22, 23, 37, 202803),\n",
       " '2021-09-30 (목요일) 22:23:37',\n",
       " '2021년 9월 30일 (목요일) 22시 23분 37초')"
      ]
     },
     "execution_count": 48,
     "metadata": {},
     "output_type": "execute_result"
    }
   ],
   "source": [
    "(now, \n",
    " now.strftime('%Y-%m-%d (%A) %H:%M:%S'),            # '%A'로 요일 출력\n",
    " now.strftime('%Y년 %B %d일 (%A) %H시 %M분 %S초'))  # '%B'로 월 출력"
   ]
  },
  {
   "cell_type": "markdown",
   "metadata": {
    "slideshow": {
     "slide_type": "subslide"
    }
   },
   "source": [
    "3. `datetime` 활용"
   ]
  },
  {
   "cell_type": "markdown",
   "metadata": {
    "slideshow": {
     "slide_type": "fragment"
    }
   },
   "source": [
    "- 파이썬 `datetime()`으로 `datetime` 자료형을 생성할 수 있다. "
   ]
  },
  {
   "cell_type": "code",
   "execution_count": 49,
   "metadata": {
    "slideshow": {
     "slide_type": "fragment"
    }
   },
   "outputs": [],
   "source": [
    "from datetime import datetime                                            # 파이썬 datetime 모듈\n",
    "\n",
    "date = datetime(year=1919, month=3, day=1, hour=14, minute=0, second=0)  # 삼일절 날짜/시각 생성"
   ]
  },
  {
   "cell_type": "markdown",
   "metadata": {
    "slideshow": {
     "slide_type": "fragment"
    }
   },
   "source": [
    "- `datetime.strftime()` 메소드에 다양한 출력 형식 지정자를 사용할 수 있다. "
   ]
  },
  {
   "cell_type": "code",
   "execution_count": 50,
   "metadata": {
    "scrolled": false,
    "slideshow": {
     "slide_type": "fragment"
    }
   },
   "outputs": [
    {
     "name": "stdout",
     "output_type": "stream",
     "text": [
      "1919년 3월 01일 토요일\n",
      "08 번째 주\n",
      "060 번째 날\n",
      "오후 02시 00분 00초\n"
     ]
    }
   ],
   "source": [
    "from datetime import datetime                                            # 파이썬 datetime 모듈\n",
    "\n",
    "date = datetime(year=1919, month=3, day=1, hour=14, minute=0, second=0)  # 삼일절 날짜/시각 생성\n",
    "\n",
    "print(f\"{date.strftime('%Y')}년 \"                                        # date.strftime('%Y'), 년\n",
    "    + f\"{date.strftime('%B')} \"                                          # date.strftime('%B'), '월'이 포함됨\n",
    "    + f\"{date.strftime('%d')}일 \"                                        # date.strftime('%d'), 일\n",
    "    + f\"{date.strftime('%A')}\\n\"                                         # date.strftime('%A'), '요일'이 포함됨\n",
    "    + f\"{date.strftime('%U')} 번째 주\\n\"                                 # date.strftime('%U')' 주차, 0부터 시작되는 주차 \n",
    "    + f\"{date.strftime('%j')} 번째 날\\n\"                                 # date.strftime('%j'), 일차, '선두 '0' 출력\n",
    "    + f\"{date.strftime('%p')} \"                                          # date.strftime('%p'), 오전/오후\n",
    "    + f\"{date.strftime('%I')}시 \"                                        # date.strftime('%I'), 시, 선두 '0' 출력\n",
    "    + f\"{date.strftime('%M')}분 \"                                        # date.strftime('%M'), 분, '00분'으로 출력 \n",
    "    + f\"{date.strftime('%S')}초\")                                        # date.strftime('%S'), 초, '00초'로 출력"
   ]
  },
  {
   "cell_type": "markdown",
   "metadata": {
    "slideshow": {
     "slide_type": "subslide"
    }
   },
   "source": [
    "- `datetime.strftime()` 메소드 외에도, 다양한 속성과 메소드를 쓸 수 있다. "
   ]
  },
  {
   "cell_type": "code",
   "execution_count": 51,
   "metadata": {
    "scrolled": true,
    "slideshow": {
     "slide_type": "fragment"
    }
   },
   "outputs": [
    {
     "name": "stdout",
     "output_type": "stream",
     "text": [
      "1919년 3월 1일 (5) (토)\n",
      "9 번째 주\n",
      "time.struct_time(tm_year=1919, tm_mon=3, tm_mday=1, tm_hour=14, tm_min=0, tm_sec=0, tm_wday=5, tm_yday=60, tm_isdst=-1)\n",
      "60 번째 날\n",
      "오후 2시 0분 0초\n"
     ]
    }
   ],
   "source": [
    "요일 = ['월', '화', '수', '목', '금', '토', '일']\n",
    "date = datetime(year=1919, month=3, day=1, hour=14, minute=0, second=0)  # 삼일절\n",
    "\n",
    "print(f\"{date.year}년 \"                                                  # date.year\n",
    "    + f\"{date.month}월 \"                                                 # date.month, '월'을 포함해야 함\n",
    "    + f\"{date.day}일 \"                                                   # date.day \n",
    "    + f\"({date.weekday()}) \"                                             # date.weekday()\n",
    "    + f\"({요일[date.weekday()]})\\n\"                                      # 요일[date.weekday()]\n",
    "    + f\"{date.isocalendar()[1]} 번째 주\\n\"                               # date.isocalendar()[1], year, week, weekday\n",
    "    + f\"{date.timetuple()}\\n\"                                            # date.timetuple()\n",
    "    + f\"{date.timetuple().tm_yday} 번째 날\\n\"                            # date.timetuple().tm_yday\n",
    "    + f\"{'오전' if date.timetuple().tm_hour < 12 else '오후'} \"          # 오전/오후 \n",
    "    + f\"{date.hour if date.hour <= 12 else date.hour-12}시 \"             # date.hour \n",
    "    + f\"{date.minute}분 \"                                                # date.mimute\n",
    "    + f\"{date.second}초\")                                                # date.second"
   ]
  },
  {
   "cell_type": "markdown",
   "metadata": {
    "slideshow": {
     "slide_type": "subslide"
    }
   },
   "source": [
    "- `strptime()`으로 문자열 표현에서 직접 `datetime`을 생성할 수도 있다.  \n",
    "- 한글판 파이썬 공식 문서의 [날짜와 시간에 대한 형식](https://docs.python.org/ko/3/library/datetime.html#strftime-and-strptime-format-codes)을 참고하라. \n",
    "- `strptime()`은 'string **p**revious time'을 의미하는데, *string* 객체를 datetime 객체로 변환한다.  "
   ]
  },
  {
   "cell_type": "code",
   "execution_count": 52,
   "metadata": {
    "slideshow": {
     "slide_type": "fragment"
    }
   },
   "outputs": [
    {
     "data": {
      "text/plain": [
       "time.struct_time(tm_year=1919, tm_mon=1, tm_mday=1, tm_hour=14, tm_min=0, tm_sec=0, tm_wday=2, tm_yday=1, tm_isdst=-1)"
      ]
     },
     "execution_count": 52,
     "metadata": {},
     "output_type": "execute_result"
    }
   ],
   "source": [
    "date = datetime.strptime(\"1919-1-1, 14:0:0\", \"%Y-%m-%d, %H:%M:%S\")\n",
    "date.timetuple()"
   ]
  },
  {
   "cell_type": "markdown",
   "metadata": {
    "slideshow": {
     "slide_type": "fragment"
    }
   },
   "source": [
    "- `strftime()`으로 datetime 객체로부터 요소를 추출할 수 있다\n",
    "- `strftime()`은 'string **f**orward time'을 의미하는데, datetime 객체를 *string* 객체로 변환한다."
   ]
  },
  {
   "cell_type": "code",
   "execution_count": 53,
   "metadata": {
    "scrolled": true,
    "slideshow": {
     "slide_type": "fragment"
    }
   },
   "outputs": [
    {
     "name": "stdout",
     "output_type": "stream",
     "text": [
      "  연도: 1919\n",
      "    월: 01 -> 1\n",
      "    일: 01 -> 1\n",
      "  요일: 수\n",
      "  주차: 001, 1\n",
      "시간대: 오후\n"
     ]
    }
   ],
   "source": [
    "print(f\"  연도: {date.strftime('%Y')}\")\n",
    "print(f\"    월: {date.strftime('%m')} -> {int(date.strftime('%m'))}\")\n",
    "print(f\"    일: {date.strftime('%d')} -> {int(date.strftime('%d'))}\")\n",
    "print(f\"  요일: {date.strftime('%a')}\")\n",
    "print(f\"  주차: {date.strftime('%j')}, {int(date.strftime('%j'))}\")\n",
    "print(f\"시간대: {date.strftime('%p')}\")"
   ]
  },
  {
   "cell_type": "markdown",
   "metadata": {
    "slideshow": {
     "slide_type": "subslide"
    }
   },
   "source": [
    "4. `timedelta` 활용"
   ]
  },
  {
   "cell_type": "markdown",
   "metadata": {
    "slideshow": {
     "slide_type": "fragment"
    }
   },
   "source": [
    "- 파이썬 `timedelta()`로 특정 시각에서 일정 시간이 경과한 시각을 구하는 예제이다:"
   ]
  },
  {
   "cell_type": "code",
   "execution_count": 54,
   "metadata": {
    "slideshow": {
     "slide_type": "fragment"
    }
   },
   "outputs": [
    {
     "data": {
      "text/plain": [
       "datetime.datetime(1919, 1, 1, 14, 0)"
      ]
     },
     "execution_count": 54,
     "metadata": {},
     "output_type": "execute_result"
    }
   ],
   "source": [
    "date"
   ]
  },
  {
   "cell_type": "code",
   "execution_count": 55,
   "metadata": {
    "slideshow": {
     "slide_type": "fragment"
    }
   },
   "outputs": [
    {
     "data": {
      "text/plain": [
       "datetime.datetime(1918, 12, 31, 2, 0)"
      ]
     },
     "execution_count": 55,
     "metadata": {},
     "output_type": "execute_result"
    }
   ],
   "source": [
    "date - timedelta(days=1.5)"
   ]
  },
  {
   "cell_type": "code",
   "execution_count": 56,
   "metadata": {
    "scrolled": true,
    "slideshow": {
     "slide_type": "fragment"
    }
   },
   "outputs": [
    {
     "data": {
      "text/plain": [
       "datetime.datetime(1919, 1, 8, 14, 0)"
      ]
     },
     "execution_count": 56,
     "metadata": {},
     "output_type": "execute_result"
    }
   ],
   "source": [
    "date + timedelta(weeks=1)"
   ]
  },
  {
   "cell_type": "code",
   "execution_count": 57,
   "metadata": {
    "slideshow": {
     "slide_type": "fragment"
    }
   },
   "outputs": [
    {
     "data": {
      "text/plain": [
       "datetime.datetime(1919, 1, 1, 12, 30)"
      ]
     },
     "execution_count": 57,
     "metadata": {},
     "output_type": "execute_result"
    }
   ],
   "source": [
    "date - timedelta(hours=1.5)"
   ]
  },
  {
   "cell_type": "markdown",
   "metadata": {
    "slideshow": {
     "slide_type": "subslide"
    }
   },
   "source": [
    "- 2.1.1 목에서는 파이썬 날짜/시각 자료형을 공부했다.  \n",
    "  1. 날짜/시각 자료형\n",
    "  2. 국가/언어 설정\n",
    "  3. `datetime` 활용\n",
    "  4. `timedelta` 활용\n",
    "- 2.1.2 목에서는 넘파이 날짜/시각 자료형을 공부하자. "
   ]
  },
  {
   "cell_type": "markdown",
   "metadata": {
    "slideshow": {
     "slide_type": "subslide"
    }
   },
   "source": [
    "#### 2.1.2 넘파이 시계열"
   ]
  },
  {
   "cell_type": "markdown",
   "metadata": {
    "slideshow": {
     "slide_type": "fragment"
    }
   },
   "source": [
    "- 문자열에서도 그랬듯이,  \n",
    "  파이썬 `datetime`을 배열에서 처리하는 작업은 어렵고 비효율적이다.  \n",
    "- 이러한 상황을 고려하여 넘파이에서는  \n",
    "  - 날짜를 더 효과적으로 처리하는 새로운 `datetime64` 자료형을 제공한다.\n",
    "  - 넘파이 `datetime64` 자료형은 벡터화를 지원한다. "
   ]
  },
  {
   "cell_type": "markdown",
   "metadata": {
    "slideshow": {
     "slide_type": "fragment"
    }
   },
   "source": [
    "- 넘파이 `datetime64` 자료형을 `np.array()` 및 `np.arange()`에서 사용할 수 있다. "
   ]
  },
  {
   "cell_type": "markdown",
   "metadata": {
    "slideshow": {
     "slide_type": "subslide"
    }
   },
   "source": [
    "- `np.array()` 메소드로 날짜/시각 배열을 생성할 수 있다. "
   ]
  },
  {
   "cell_type": "code",
   "execution_count": 58,
   "metadata": {
    "slideshow": {
     "slide_type": "fragment"
    }
   },
   "outputs": [
    {
     "data": {
      "text/plain": [
       "array(['2020-07-09', '2020-08-10'], dtype='datetime64[D]')"
      ]
     },
     "execution_count": 58,
     "metadata": {},
     "output_type": "execute_result"
    }
   ],
   "source": [
    "dates = np.array([\"2020-07-09\", \"2020-08-10\"], dtype=\"datetime64\")\n",
    "dates                                                           # 개별 날짜를 저장한 넘파이 datetime64[D] 자료형 배열"
   ]
  },
  {
   "cell_type": "markdown",
   "metadata": {
    "slideshow": {
     "slide_type": "fragment"
    }
   },
   "source": [
    "- `np.arange()` 메소드로 날짜/시각 배열을 생성할 수 있다:"
   ]
  },
  {
   "cell_type": "code",
   "execution_count": 59,
   "metadata": {
    "slideshow": {
     "slide_type": "fragment"
    }
   },
   "outputs": [
    {
     "data": {
      "text/plain": [
       "array(['2020-07', '2020-08', '2020-09', '2020-10', '2020-11'],\n",
       "      dtype='datetime64[M]')"
      ]
     },
     "execution_count": 59,
     "metadata": {},
     "output_type": "execute_result"
    }
   ],
   "source": [
    "dates = np.arange(\"2020-07\", \"2020-12\", dtype=\"datetime64\")  # [시작, 끝), 월(M) 단위\n",
    "dates"
   ]
  },
  {
   "cell_type": "markdown",
   "metadata": {
    "slideshow": {
     "slide_type": "subslide"
    }
   },
   "source": [
    "- 이렇게 만든 배열을 이용해서, 시간에 관한 벡터화 배열 연산을 쉽게 수행할 수 있다.  \n",
    "  넘파이 `datetime64`의 단위와 형식에 대한 모든 사항에 대한 설명을 [이 문서에서 참고](https://numpy.org/doc/stable/reference/arrays.datetime.html#datetime-units)할 수 있다. "
   ]
  },
  {
   "cell_type": "code",
   "execution_count": 60,
   "metadata": {
    "slideshow": {
     "slide_type": "fragment"
    }
   },
   "outputs": [
    {
     "data": {
      "text/plain": [
       "array(['2020-07', '2020-08', '2020-09', '2020-10', '2020-11'],\n",
       "      dtype='datetime64[M]')"
      ]
     },
     "execution_count": 60,
     "metadata": {},
     "output_type": "execute_result"
    }
   ],
   "source": [
    "dates = np.arange(\"2020-07\", \"2020-12\", dtype=\"datetime64\")  # [시작, 끝), 월(M) 단위\n",
    "dates"
   ]
  },
  {
   "cell_type": "code",
   "execution_count": 61,
   "metadata": {
    "slideshow": {
     "slide_type": "fragment"
    }
   },
   "outputs": [
    {
     "data": {
      "text/plain": [
       "array(['2020-09', '2020-10', '2020-11', '2020-12', '2021-01'],\n",
       "      dtype='datetime64[M]')"
      ]
     },
     "execution_count": 61,
     "metadata": {},
     "output_type": "execute_result"
    }
   ],
   "source": [
    "dates + np.timedelta64(2, 'M')                               # 넘파이 timedelta64 객체"
   ]
  },
  {
   "cell_type": "markdown",
   "metadata": {
    "slideshow": {
     "slide_type": "fragment"
    }
   },
   "source": [
    "- 2.1 항에서 날짜/시간 자료형의 개념을  \n",
    "  파이썬 및 넘파이 중심으로 공부했다.\n",
    "- 2.2 항에서 날짜/시간 자료형의 생성 방법을  \n",
    "  판다스 중심으로 공부하자. \n",
    "  \n",
    "<div style=\"page-break-after: always;\"></div> "
   ]
  },
  {
   "cell_type": "markdown",
   "metadata": {
    "slideshow": {
     "slide_type": "slide"
    }
   },
   "source": [
    "### 2.2 판다스 시계열 생성"
   ]
  },
  {
   "cell_type": "markdown",
   "metadata": {
    "slideshow": {
     "slide_type": "fragment"
    }
   },
   "source": [
    "- 넘파이가 날짜와 시각을 배열의 세상으로 데려오긴 했지만,  \n",
    "  데이터 정제에서 일반적으로 필요한 과제를 수행하기에는 상당한 기능적 제약이 존재한다. \n",
    "- 부족한 부분은 판다스 라이브러리에게 의지해야 한다.  \n",
    "  판다스에서는 4 종의 핵심 객체를 제공하는데, 지금부터 이를 공부한다:\n",
    "  1. (np.datetime64와 유사한) Timestamp \n",
    "  2. (np.timedelta64와 유사한) Timedelta \n",
    "  3. (날짜/시각의 정규적 범위를 다루는 맞춤형 객체인) Period \n",
    "  4. (timedelta와 유사하지만 달력의 규칙을 반영한 맞춤형 객체인) DateOffset "
   ]
  },
  {
   "cell_type": "markdown",
   "metadata": {
    "slideshow": {
     "slide_type": "slide"
    }
   },
   "source": [
    "#### 2.2.1 기본적 생성 방법"
   ]
  },
  {
   "cell_type": "markdown",
   "metadata": {
    "slideshow": {
     "slide_type": "fragment"
    }
   },
   "source": [
    "시계열과 관련하여 보편적으로 원하는 판다스 작업은 다음과 같다:\n",
    "1. `pd.Timestamp()`로 `1919-03-01 00:00:00`같은 특정 시점을 생성\n",
    "2. `pd.Period()`로 `1919년 3월`같은 특정 기간을 생성\n",
    "3. `pd.date_range()` 및 `pd.period_range()`로 datetime 배열을 생성"
   ]
  },
  {
   "cell_type": "markdown",
   "metadata": {
    "slideshow": {
     "slide_type": "fragment"
    }
   },
   "source": [
    "1. `pd.Timestamp()`로 특정 시점을 생성하는 방법부터 알아보자. "
   ]
  },
  {
   "cell_type": "code",
   "execution_count": 62,
   "metadata": {
    "slideshow": {
     "slide_type": "fragment"
    }
   },
   "outputs": [
    {
     "name": "stdout",
     "output_type": "stream",
     "text": [
      "1919-03-01 00:00:00\n",
      "1919-03-01 00:00:00\n",
      "1919-03-01 00:00:00\n"
     ]
    }
   ],
   "source": [
    "print(pd.Timestamp('1919-03-01'))                         # 문자열로부터\n",
    "print(pd.Timestamp(year=1919, month=3, day=1))            # 날짜 시각의 요소로부터\n",
    "print(pd.Timestamp(datetime(year=1919, month=3, day=1)))  # datetime 객체로부터\n",
    "                                                          # 모두 특정 시점"
   ]
  },
  {
   "cell_type": "code",
   "execution_count": 63,
   "metadata": {
    "slideshow": {
     "slide_type": "fragment"
    }
   },
   "outputs": [
    {
     "name": "stdout",
     "output_type": "stream",
     "text": [
      "1919-03-01 14:03:05\n",
      "1919-03-01 14:03:05\n",
      "1919-03-01 14:03:05\n"
     ]
    }
   ],
   "source": [
    "print(pd.Timestamp('1919-03-01 14:3:5'))                                               # 문자열로부터\n",
    "print(pd.Timestamp(year=1919, month=3, day=1, hour=14, minute=3, second=5))            # 날짜 시각의 요소로부터\n",
    "print(pd.Timestamp(datetime(year=1919, month=3, day=1, hour=14, minute=3, second=5)))  # datetime 객체로부터\n",
    "                                                                                       # 모두 특정 시점"
   ]
  },
  {
   "cell_type": "markdown",
   "metadata": {
    "slideshow": {
     "slide_type": "subslide"
    }
   },
   "source": [
    "2. 직전 예제에서는 `pd.Timestamp()`로 특정 시점을 생성했지만,  \n",
    "  아래 예제에서는 특정 기간을 생성하기 위하여 `pd.Period()`를 사용한다:"
   ]
  },
  {
   "cell_type": "code",
   "execution_count": 64,
   "metadata": {
    "slideshow": {
     "slide_type": "fragment"
    }
   },
   "outputs": [
    {
     "name": "stdout",
     "output_type": "stream",
     "text": [
      "1919-03-01\n",
      "1919-03-01 00:00:00\n",
      "1919-03-01 23:59:59.999999999\n"
     ]
    }
   ],
   "source": [
    "span = pd.Period('1919-03-01')  # 날짜를 기간으로 생성\n",
    "\n",
    "print(span)\n",
    "print(span.start_time)          # 기간 시작 시점\n",
    "print(span.end_time)            # 기간 종료 시점"
   ]
  },
  {
   "cell_type": "code",
   "execution_count": 65,
   "metadata": {
    "slideshow": {
     "slide_type": "fragment"
    }
   },
   "outputs": [
    {
     "name": "stdout",
     "output_type": "stream",
     "text": [
      "시점: 1919-03-01 12:00:00\n",
      "기간: 1919-03-01\n",
      "시점이 기간에 포함되는지? True\n"
     ]
    }
   ],
   "source": [
    "시점 = pd.Timestamp('1919-03-01 12:00')\n",
    "기간 = pd.Period('1919-03-01')\n",
    "\n",
    "print(f\"시점: {시점}\")\n",
    "print(f\"기간: {기간}\")\n",
    "print(f\"시점이 기간에 포함되는지? {기간.start_time <= 시점 <= 기간.end_time}\")"
   ]
  },
  {
   "cell_type": "markdown",
   "metadata": {
    "slideshow": {
     "slide_type": "subslide"
    }
   },
   "source": [
    "3. 때로는 단일 값이 아니라 datetime의 배열을 생성하고 싶다.  \n",
    "   datetime의 배열로 `DatetimeIndex`/`PeriodIndex`/`TimedeltaIndex` 클래스를 생성한다:"
   ]
  },
  {
   "cell_type": "markdown",
   "metadata": {
    "slideshow": {
     "slide_type": "fragment"
    }
   },
   "source": [
    "- `pd.date_range()`는 `DatetimeIndex`를 반환한다. "
   ]
  },
  {
   "cell_type": "code",
   "execution_count": 66,
   "metadata": {
    "scrolled": true,
    "slideshow": {
     "slide_type": "fragment"
    }
   },
   "outputs": [
    {
     "data": {
      "text/plain": [
       "DatetimeIndex(['1919-03-01 12:00:00', '1919-03-02 12:00:00',\n",
       "               '1919-03-03 12:00:00', '1919-03-04 12:00:00',\n",
       "               '1919-03-05 12:00:00', '1919-03-06 12:00:00',\n",
       "               '1919-03-07 12:00:00', '1919-03-08 12:00:00',\n",
       "               '1919-03-09 12:00:00', '1919-03-10 12:00:00',\n",
       "               '1919-03-11 12:00:00'],\n",
       "              dtype='datetime64[ns]', freq='D')"
      ]
     },
     "execution_count": 66,
     "metadata": {},
     "output_type": "execute_result"
    }
   ],
   "source": [
    "pd.date_range('1919-03-01 12:00',\n",
    "              '1919-03-11 12:00',  # 종료 시점도 포함됨 \n",
    "              freq='D')"
   ]
  },
  {
   "cell_type": "markdown",
   "metadata": {
    "slideshow": {
     "slide_type": "fragment"
    }
   },
   "source": [
    "- `pd.period_range()`는 `PeriodIndex`를 반환한다. "
   ]
  },
  {
   "cell_type": "code",
   "execution_count": 67,
   "metadata": {
    "slideshow": {
     "slide_type": "fragment"
    }
   },
   "outputs": [
    {
     "data": {
      "text/plain": [
       "PeriodIndex(['1919-03-01', '1919-03-02', '1919-03-03', '1919-03-04',\n",
       "             '1919-03-05', '1919-03-06', '1919-03-07', '1919-03-08',\n",
       "             '1919-03-09', '1919-03-10', '1919-03-11'],\n",
       "            dtype='period[D]')"
      ]
     },
     "execution_count": 67,
     "metadata": {},
     "output_type": "execute_result"
    }
   ],
   "source": [
    "pd.period_range('1919-03-01',\n",
    "                '1919-03-11',      # 종료 기간도 포함됨\n",
    "                freq='D')"
   ]
  },
  {
   "cell_type": "markdown",
   "metadata": {
    "slideshow": {
     "slide_type": "subslide"
    }
   },
   "source": [
    "- `pd.Timedelta()`는 `TimedeltaIndex`를 반환한다.  \n",
    "  `pd.Timedelta()`를 써서 시간에 대한 덧셈이나 뺄셈을 벡터화 방식으로 처리할 수 있다: "
   ]
  },
  {
   "cell_type": "code",
   "execution_count": 68,
   "metadata": {
    "slideshow": {
     "slide_type": "fragment"
    }
   },
   "outputs": [
    {
     "data": {
      "text/plain": [
       "DatetimeIndex(['1919-03-01 13:30:00', '1919-03-02 13:30:00',\n",
       "               '1919-03-03 13:30:00', '1919-03-04 13:30:00',\n",
       "               '1919-03-05 13:30:00', '1919-03-06 13:30:00',\n",
       "               '1919-03-07 13:30:00', '1919-03-08 13:30:00',\n",
       "               '1919-03-09 13:30:00', '1919-03-10 13:30:00',\n",
       "               '1919-03-11 13:30:00'],\n",
       "              dtype='datetime64[ns]', freq='D')"
      ]
     },
     "execution_count": 68,
     "metadata": {},
     "output_type": "execute_result"
    }
   ],
   "source": [
    "pd.date_range('1919-03-01 12:00', '1919-03-11 12:00', freq='D') + pd.Timedelta('1.5 hour')"
   ]
  },
  {
   "cell_type": "code",
   "execution_count": 69,
   "metadata": {
    "slideshow": {
     "slide_type": "fragment"
    }
   },
   "outputs": [
    {
     "data": {
      "text/plain": [
       "DatetimeIndex(['1919-03-01 13:54:00', '1919-03-02 13:54:00',\n",
       "               '1919-03-03 13:54:00', '1919-03-04 13:54:00',\n",
       "               '1919-03-05 13:54:00', '1919-03-06 13:54:00',\n",
       "               '1919-03-07 13:54:00', '1919-03-08 13:54:00',\n",
       "               '1919-03-09 13:54:00', '1919-03-10 13:54:00',\n",
       "               '1919-03-11 13:54:00'],\n",
       "              dtype='datetime64[ns]', freq='D')"
      ]
     },
     "execution_count": 69,
     "metadata": {},
     "output_type": "execute_result"
    }
   ],
   "source": [
    "pd.date_range('1919-03-01 12:00', '1919-03-11 12:00', freq='D') + pd.Timedelta('1.9 hour')"
   ]
  },
  {
   "cell_type": "markdown",
   "metadata": {
    "slideshow": {
     "slide_type": "subslide"
    }
   },
   "source": [
    "- 마지막으로, 판다스는 날짜/시간 결측치를 `pd.NaT`(Not a Time)로 표시하는데, 이는 `np.NaN`과 유사한 것이다: "
   ]
  },
  {
   "cell_type": "code",
   "execution_count": 70,
   "metadata": {
    "slideshow": {
     "slide_type": "fragment"
    }
   },
   "outputs": [
    {
     "data": {
      "text/plain": [
       "NaT"
      ]
     },
     "execution_count": 70,
     "metadata": {},
     "output_type": "execute_result"
    }
   ],
   "source": [
    "pd.Timestamp(pd.NaT)"
   ]
  },
  {
   "cell_type": "markdown",
   "metadata": {
    "slideshow": {
     "slide_type": "fragment"
    }
   },
   "source": [
    "- 2.2.1 목에서 날짜/시간 자료형의 기본적 생성 방법을 공부했다.\n",
    "    1. 특정 시점을 생성하는 `pd.Timestamp()`\n",
    "    2. 특정 기간을 생성하는 `pd.Period()`\n",
    "    3. 시계열 배열을 생성하는 `pd.date_range()` 및 `pd.period_range()` \n",
    "- 2.2.2 목에서 기존 자료를 날짜/시간 자료형으로 변환하는 방법을 공부하자. \n",
    "  \n",
    "<div style=\"page-break-after: always;\"></div> "
   ]
  },
  {
   "cell_type": "markdown",
   "metadata": {
    "slideshow": {
     "slide_type": "slide"
    }
   },
   "source": [
    "#### 2.2.2 기존 자료 변환"
   ]
  },
  {
   "cell_type": "markdown",
   "metadata": {
    "slideshow": {
     "slide_type": "fragment"
    }
   },
   "source": [
    "- 기존 날짜/시각 자료는 보통 문자열로 존재한다. \n",
    "- `pd.to_datetime()`으로 문자열을 판다스 날짜/시각으로 변환한다. \n",
    "  - 날짜 문자열이 저장된 리스트\n",
    "  - 날짜 요소가 저장된 리스트를 항목 값으로 가지는 사전"
   ]
  },
  {
   "cell_type": "markdown",
   "metadata": {
    "slideshow": {
     "slide_type": "subslide"
    }
   },
   "source": [
    "- 일상적으로 날짜는 문자열 리스트로 존재한다.  \n",
    "  `pd.to_datetime()`을 써서 문자열 리스트를 판다스 `DatetimeIndex`로 변환한다:"
   ]
  },
  {
   "cell_type": "code",
   "execution_count": 71,
   "metadata": {
    "slideshow": {
     "slide_type": "fragment"
    }
   },
   "outputs": [
    {
     "data": {
      "text/plain": [
       "DatetimeIndex(['2020-07-09', '2020-08-01', '2020-08-28'], dtype='datetime64[ns]', freq=None)"
      ]
     },
     "execution_count": 71,
     "metadata": {},
     "output_type": "execute_result"
    }
   ],
   "source": [
    "string_dates = ['July 9, 2020', 'August 1, 2020', 'August 28, 2020']  # 영문 형식 \n",
    "pd.to_datetime(string_dates)"
   ]
  },
  {
   "cell_type": "code",
   "execution_count": 72,
   "metadata": {
    "scrolled": true,
    "slideshow": {
     "slide_type": "fragment"
    }
   },
   "outputs": [
    {
     "data": {
      "text/plain": [
       "DatetimeIndex(['2020-07-09', '2020-08-01', '2020-08-28'], dtype='datetime64[ns]', freq=None)"
      ]
     },
     "execution_count": 72,
     "metadata": {},
     "output_type": "execute_result"
    }
   ],
   "source": [
    "string_dates = ['2020 9 July', '2020 1 August', '2020 28 August']     # 다른 형식\n",
    "pd.to_datetime(string_dates)                                "
   ]
  },
  {
   "cell_type": "code",
   "execution_count": 73,
   "metadata": {
    "slideshow": {
     "slide_type": "fragment"
    }
   },
   "outputs": [
    {
     "data": {
      "text/plain": [
       "DatetimeIndex(['2020-07-09', '2020-08-01', '2020-08-28'], dtype='datetime64[ns]', freq=None)"
      ]
     },
     "execution_count": 73,
     "metadata": {},
     "output_type": "execute_result"
    }
   ],
   "source": [
    "string_dates = ['2020-07-09', '2020-08-01', '2020-08-28']             # 또 다른 형식\n",
    "pd.to_datetime(string_dates)"
   ]
  },
  {
   "cell_type": "markdown",
   "metadata": {
    "slideshow": {
     "slide_type": "subslide"
    }
   },
   "source": [
    "- 아니면 사전을 이용하여 날짜/시각 시리즈를 생성하고,  \n",
    "  이를 판다스 인덱스로 변환하여 `DatetimeIndex`를 생성한다:"
   ]
  },
  {
   "cell_type": "code",
   "execution_count": 74,
   "metadata": {
    "slideshow": {
     "slide_type": "fragment"
    }
   },
   "outputs": [
    {
     "data": {
      "text/plain": [
       "0   2020-07-09\n",
       "1   2020-08-01\n",
       "2   2020-08-28\n",
       "dtype: datetime64[ns]"
      ]
     },
     "execution_count": 74,
     "metadata": {},
     "output_type": "execute_result"
    }
   ],
   "source": [
    "dict_dates = pd.to_datetime({\"year\": [2020, 2020, 2020],\n",
    "                             \"month\": [7, 8, 8],\n",
    "                             \"day\": [9, 1, 28]})         \n",
    "dict_dates                                                             # 단일 열, 시리즈!                                             "
   ]
  },
  {
   "cell_type": "code",
   "execution_count": 75,
   "metadata": {
    "slideshow": {
     "slide_type": "fragment"
    }
   },
   "outputs": [
    {
     "data": {
      "text/plain": [
       "DatetimeIndex(['2020-07-09', '2020-08-01', '2020-08-28'], dtype='datetime64[ns]', freq=None)"
      ]
     },
     "execution_count": 75,
     "metadata": {},
     "output_type": "execute_result"
    }
   ],
   "source": [
    "pd.Index(dict_dates)                                                  # 시리즈를 인덱스로 변환 "
   ]
  },
  {
   "cell_type": "markdown",
   "metadata": {
    "slideshow": {
     "slide_type": "fragment"
    }
   },
   "source": [
    "- 더 복잡한 판다스 `datetime64` 자료형에 대해서는, [한글판 파이썬 공식 문서의 자료](https://docs.python.org/ko/3/library/datetime.html#strftime-and-strptime-format-codes)를 참고하라:"
   ]
  },
  {
   "cell_type": "markdown",
   "metadata": {
    "slideshow": {
     "slide_type": "fragment"
    }
   },
   "source": [
    "- 2.2.2 목에서 기존 자료를 날짜/시간 자료형으로 변환하는 방법을 공부했다.\n",
    "- 2.2.3 목에서 파일 자료로부터 날짜/시간 자료를 입력하는 방법을 공부하자. \n",
    "  \n",
    "<div style=\"page-break-after: always;\"></div> "
   ]
  },
  {
   "cell_type": "markdown",
   "metadata": {
    "slideshow": {
     "slide_type": "slide"
    }
   },
   "source": [
    "#### 2.2.3 파일 자료 입력"
   ]
  },
  {
   "cell_type": "markdown",
   "metadata": {
    "slideshow": {
     "slide_type": "fragment"
    }
   },
   "source": [
    "- 자전거 출근 데이터 집합으로부터 날짜/시각 입력을 연습해 보자.  \n",
    "  - 'cycling_data.csv' 파일에 담긴 데이터는 다음과 같다.\n",
    "  - \"날짜, 시각\" 데이터가 단위 데이터라는 의미에서 큰 따옴표 내부에 들어 있다. \n",
    "```\n",
    "Date,Name,Type,Time,Distance,Comments\n",
    "\"10 Sep 2019, 00:13:04\",Afternoon Ride,Ride,2084,12.62,Rain\n",
    "\"10 Sep 2019, 13:52:18\",Morning Ride,Ride,2531,13.03,rain\n",
    "...\n",
    "```"
   ]
  },
  {
   "cell_type": "code",
   "execution_count": 76,
   "metadata": {
    "scrolled": true,
    "slideshow": {
     "slide_type": "subslide"
    }
   },
   "outputs": [
    {
     "data": {
      "text/html": [
       "<div>\n",
       "<style scoped>\n",
       "    .dataframe tbody tr th:only-of-type {\n",
       "        vertical-align: middle;\n",
       "    }\n",
       "\n",
       "    .dataframe tbody tr th {\n",
       "        vertical-align: top;\n",
       "    }\n",
       "\n",
       "    .dataframe thead th {\n",
       "        text-align: right;\n",
       "    }\n",
       "</style>\n",
       "<table border=\"1\" class=\"dataframe\">\n",
       "  <thead>\n",
       "    <tr style=\"text-align: right;\">\n",
       "      <th></th>\n",
       "      <th>Date</th>\n",
       "      <th>Name</th>\n",
       "      <th>Type</th>\n",
       "      <th>Time</th>\n",
       "      <th>Distance</th>\n",
       "      <th>Comments</th>\n",
       "    </tr>\n",
       "  </thead>\n",
       "  <tbody>\n",
       "    <tr>\n",
       "      <th>0</th>\n",
       "      <td>10 Sep 2019, 00:13:04</td>\n",
       "      <td>Afternoon Ride</td>\n",
       "      <td>Ride</td>\n",
       "      <td>2084</td>\n",
       "      <td>12.62</td>\n",
       "      <td>Rain</td>\n",
       "    </tr>\n",
       "    <tr>\n",
       "      <th>1</th>\n",
       "      <td>10 Sep 2019, 13:52:18</td>\n",
       "      <td>Morning Ride</td>\n",
       "      <td>Ride</td>\n",
       "      <td>2531</td>\n",
       "      <td>13.03</td>\n",
       "      <td>rain</td>\n",
       "    </tr>\n",
       "    <tr>\n",
       "      <th>2</th>\n",
       "      <td>11 Sep 2019, 00:23:50</td>\n",
       "      <td>Afternoon Ride</td>\n",
       "      <td>Ride</td>\n",
       "      <td>1863</td>\n",
       "      <td>12.52</td>\n",
       "      <td>Wet road but nice weather</td>\n",
       "    </tr>\n",
       "    <tr>\n",
       "      <th>3</th>\n",
       "      <td>11 Sep 2019, 14:06:19</td>\n",
       "      <td>Morning Ride</td>\n",
       "      <td>Ride</td>\n",
       "      <td>2192</td>\n",
       "      <td>12.84</td>\n",
       "      <td>Stopped for photo of sunrise</td>\n",
       "    </tr>\n",
       "    <tr>\n",
       "      <th>4</th>\n",
       "      <td>12 Sep 2019, 00:28:05</td>\n",
       "      <td>Afternoon Ride</td>\n",
       "      <td>Ride</td>\n",
       "      <td>1891</td>\n",
       "      <td>12.48</td>\n",
       "      <td>Tired by the end of the week</td>\n",
       "    </tr>\n",
       "  </tbody>\n",
       "</table>\n",
       "</div>"
      ],
      "text/plain": [
       "                    Date            Name  Type  Time  Distance  \\\n",
       "0  10 Sep 2019, 00:13:04  Afternoon Ride  Ride  2084     12.62   \n",
       "1  10 Sep 2019, 13:52:18    Morning Ride  Ride  2531     13.03   \n",
       "2  11 Sep 2019, 00:23:50  Afternoon Ride  Ride  1863     12.52   \n",
       "3  11 Sep 2019, 14:06:19    Morning Ride  Ride  2192     12.84   \n",
       "4  12 Sep 2019, 00:28:05  Afternoon Ride  Ride  1891     12.48   \n",
       "\n",
       "                       Comments  \n",
       "0                          Rain  \n",
       "1                          rain  \n",
       "2     Wet road but nice weather  \n",
       "3  Stopped for photo of sunrise  \n",
       "4  Tired by the end of the week  "
      ]
     },
     "execution_count": 76,
     "metadata": {},
     "output_type": "execute_result"
    }
   ],
   "source": [
    "df = pd.read_csv('../data/cycling_data.csv') \n",
    "df.head()"
   ]
  },
  {
   "cell_type": "markdown",
   "metadata": {
    "slideshow": {
     "slide_type": "fragment"
    }
   },
   "source": [
    "- df에서 'Date' 열은 문자열이다. "
   ]
  },
  {
   "cell_type": "code",
   "execution_count": 77,
   "metadata": {
    "slideshow": {
     "slide_type": "fragment"
    }
   },
   "outputs": [
    {
     "name": "stdout",
     "output_type": "stream",
     "text": [
      "object\n"
     ]
    }
   ],
   "source": [
    "print(df['Date'].dtype)"
   ]
  },
  {
   "cell_type": "code",
   "execution_count": 78,
   "metadata": {
    "scrolled": true,
    "slideshow": {
     "slide_type": "fragment"
    }
   },
   "outputs": [
    {
     "data": {
      "text/plain": [
       "0    10 Sep 2019, 00:13:04\n",
       "1    10 Sep 2019, 13:52:18\n",
       "2    11 Sep 2019, 00:23:50\n",
       "3    11 Sep 2019, 14:06:19\n",
       "4    12 Sep 2019, 00:28:05\n",
       "Name: Date, dtype: object"
      ]
     },
     "execution_count": 78,
     "metadata": {},
     "output_type": "execute_result"
    }
   ],
   "source": [
    "df['Date'].head()"
   ]
  },
  {
   "cell_type": "markdown",
   "metadata": {
    "slideshow": {
     "slide_type": "subslide"
    }
   },
   "source": [
    "- 원한다면, 날짜형으로 변환할 수 있다. "
   ]
  },
  {
   "cell_type": "code",
   "execution_count": 79,
   "metadata": {
    "scrolled": false,
    "slideshow": {
     "slide_type": "fragment"
    }
   },
   "outputs": [
    {
     "data": {
      "text/plain": [
       "0   2019-09-10 00:13:04\n",
       "1   2019-09-10 13:52:18\n",
       "2   2019-09-11 00:23:50\n",
       "3   2019-09-11 14:06:19\n",
       "4   2019-09-12 00:28:05\n",
       "Name: Date, dtype: datetime64[ns]"
      ]
     },
     "execution_count": 79,
     "metadata": {},
     "output_type": "execute_result"
    }
   ],
   "source": [
    "pd.to_datetime(df['Date']).head()"
   ]
  },
  {
   "cell_type": "markdown",
   "metadata": {
    "slideshow": {
     "slide_type": "fragment"
    }
   },
   "source": [
    "- 날짜형으로 변환한 후에는, 특정 요소에 `.dt` 속성을 통하여 접근할 수 있다. \n",
    "- 이와 같이 문자열 열을 날짜형 열로 변환하는 판다스 방법에 대해서는 [이 자료](https://towardsdatascience.com/4-tricks-you-should-know-to-parse-date-columns-with-pandas-read-csv-27355bb2ad0e)를 참고하라. "
   ]
  },
  {
   "cell_type": "code",
   "execution_count": 80,
   "metadata": {
    "scrolled": false,
    "slideshow": {
     "slide_type": "fragment"
    }
   },
   "outputs": [
    {
     "data": {
      "text/plain": [
       "0     2019\n",
       "1     2019\n",
       "2     2019\n",
       "3     2019\n",
       "4     2019\n",
       "      ... \n",
       "28    2019\n",
       "29    2019\n",
       "30    2019\n",
       "31    2019\n",
       "32    2019\n",
       "Name: Date, Length: 33, dtype: int64"
      ]
     },
     "execution_count": 80,
     "metadata": {},
     "output_type": "execute_result"
    }
   ],
   "source": [
    "pd.to_datetime(df['Date']).dt.year"
   ]
  },
  {
   "cell_type": "markdown",
   "metadata": {
    "slideshow": {
     "slide_type": "subslide"
    }
   },
   "source": [
    "- 다른 날짜 형식으로 저장된 데이터도 처리 가능하다. \n",
    "\n",
    "```\n",
    "Date,Name,Type,Time,Distance,Comments\n",
    "2019-09-10 00:13:04,Afternoon Ride,Ride,2084,12.62,Rain\n",
    "2019-09-10 13:52:18,Morning Ride,Ride,2531,13.03,rain\n",
    "...\n",
    "```\n",
    "\n",
    "- 이번에는 읽어들이면서 `parse_dates` 옵션을 지정하여, 날짜형으로 변환하자. "
   ]
  },
  {
   "cell_type": "code",
   "execution_count": 81,
   "metadata": {
    "scrolled": true,
    "slideshow": {
     "slide_type": "fragment"
    }
   },
   "outputs": [
    {
     "data": {
      "text/html": [
       "<div>\n",
       "<style scoped>\n",
       "    .dataframe tbody tr th:only-of-type {\n",
       "        vertical-align: middle;\n",
       "    }\n",
       "\n",
       "    .dataframe tbody tr th {\n",
       "        vertical-align: top;\n",
       "    }\n",
       "\n",
       "    .dataframe thead th {\n",
       "        text-align: right;\n",
       "    }\n",
       "</style>\n",
       "<table border=\"1\" class=\"dataframe\">\n",
       "  <thead>\n",
       "    <tr style=\"text-align: right;\">\n",
       "      <th></th>\n",
       "      <th>Date</th>\n",
       "      <th>Name</th>\n",
       "      <th>Type</th>\n",
       "      <th>Time</th>\n",
       "      <th>Distance</th>\n",
       "      <th>Comments</th>\n",
       "    </tr>\n",
       "  </thead>\n",
       "  <tbody>\n",
       "    <tr>\n",
       "      <th>0</th>\n",
       "      <td>2019-09-10 00:13:04</td>\n",
       "      <td>Afternoon Ride</td>\n",
       "      <td>Ride</td>\n",
       "      <td>2084</td>\n",
       "      <td>12.62</td>\n",
       "      <td>Rain</td>\n",
       "    </tr>\n",
       "    <tr>\n",
       "      <th>1</th>\n",
       "      <td>2019-09-10 13:52:18</td>\n",
       "      <td>Morning Ride</td>\n",
       "      <td>Ride</td>\n",
       "      <td>2531</td>\n",
       "      <td>13.03</td>\n",
       "      <td>rain</td>\n",
       "    </tr>\n",
       "    <tr>\n",
       "      <th>2</th>\n",
       "      <td>2019-09-11 00:23:50</td>\n",
       "      <td>Afternoon Ride</td>\n",
       "      <td>Ride</td>\n",
       "      <td>1863</td>\n",
       "      <td>12.52</td>\n",
       "      <td>Wet road but nice weather</td>\n",
       "    </tr>\n",
       "    <tr>\n",
       "      <th>3</th>\n",
       "      <td>2019-09-11 14:06:19</td>\n",
       "      <td>Morning Ride</td>\n",
       "      <td>Ride</td>\n",
       "      <td>2192</td>\n",
       "      <td>12.84</td>\n",
       "      <td>Stopped for photo of sunrise</td>\n",
       "    </tr>\n",
       "    <tr>\n",
       "      <th>4</th>\n",
       "      <td>2019-09-12 00:28:05</td>\n",
       "      <td>Afternoon Ride</td>\n",
       "      <td>Ride</td>\n",
       "      <td>1891</td>\n",
       "      <td>12.48</td>\n",
       "      <td>Tired by the end of the week</td>\n",
       "    </tr>\n",
       "  </tbody>\n",
       "</table>\n",
       "</div>"
      ],
      "text/plain": [
       "                 Date            Name  Type  Time  Distance  \\\n",
       "0 2019-09-10 00:13:04  Afternoon Ride  Ride  2084     12.62   \n",
       "1 2019-09-10 13:52:18    Morning Ride  Ride  2531     13.03   \n",
       "2 2019-09-11 00:23:50  Afternoon Ride  Ride  1863     12.52   \n",
       "3 2019-09-11 14:06:19    Morning Ride  Ride  2192     12.84   \n",
       "4 2019-09-12 00:28:05  Afternoon Ride  Ride  1891     12.48   \n",
       "\n",
       "                       Comments  \n",
       "0                          Rain  \n",
       "1                          rain  \n",
       "2     Wet road but nice weather  \n",
       "3  Stopped for photo of sunrise  \n",
       "4  Tired by the end of the week  "
      ]
     },
     "execution_count": 81,
     "metadata": {},
     "output_type": "execute_result"
    }
   ],
   "source": [
    "df2 = pd.read_csv('../data/cycling_data_2.csv', \n",
    "                  parse_dates=['Date'])\n",
    "df2.head()"
   ]
  },
  {
   "cell_type": "markdown",
   "metadata": {
    "slideshow": {
     "slide_type": "subslide"
    }
   },
   "source": [
    "- 날짜형이므로 `.dt` 속성을 통해서 다양한 날짜/시간 속성에 접근이 가능하다.  \n",
    "  `df2['Date']`를 날짜와 시각으로 분리하고,  \n",
    "  새로운 데이터프레임의 분리된 열로 저장한 결과이다. "
   ]
  },
  {
   "cell_type": "code",
   "execution_count": 82,
   "metadata": {
    "slideshow": {
     "slide_type": "fragment"
    }
   },
   "outputs": [
    {
     "data": {
      "text/html": [
       "<div>\n",
       "<style scoped>\n",
       "    .dataframe tbody tr th:only-of-type {\n",
       "        vertical-align: middle;\n",
       "    }\n",
       "\n",
       "    .dataframe tbody tr th {\n",
       "        vertical-align: top;\n",
       "    }\n",
       "\n",
       "    .dataframe thead th {\n",
       "        text-align: right;\n",
       "    }\n",
       "</style>\n",
       "<table border=\"1\" class=\"dataframe\">\n",
       "  <thead>\n",
       "    <tr style=\"text-align: right;\">\n",
       "      <th></th>\n",
       "      <th>날짜</th>\n",
       "      <th>시각</th>\n",
       "    </tr>\n",
       "  </thead>\n",
       "  <tbody>\n",
       "    <tr>\n",
       "      <th>0</th>\n",
       "      <td>2019-09-10</td>\n",
       "      <td>00:13:04</td>\n",
       "    </tr>\n",
       "    <tr>\n",
       "      <th>1</th>\n",
       "      <td>2019-09-10</td>\n",
       "      <td>13:52:18</td>\n",
       "    </tr>\n",
       "    <tr>\n",
       "      <th>2</th>\n",
       "      <td>2019-09-11</td>\n",
       "      <td>00:23:50</td>\n",
       "    </tr>\n",
       "    <tr>\n",
       "      <th>3</th>\n",
       "      <td>2019-09-11</td>\n",
       "      <td>14:06:19</td>\n",
       "    </tr>\n",
       "    <tr>\n",
       "      <th>4</th>\n",
       "      <td>2019-09-12</td>\n",
       "      <td>00:28:05</td>\n",
       "    </tr>\n",
       "  </tbody>\n",
       "</table>\n",
       "</div>"
      ],
      "text/plain": [
       "           날짜        시각\n",
       "0  2019-09-10  00:13:04\n",
       "1  2019-09-10  13:52:18\n",
       "2  2019-09-11  00:23:50\n",
       "3  2019-09-11  14:06:19\n",
       "4  2019-09-12  00:28:05"
      ]
     },
     "execution_count": 82,
     "metadata": {},
     "output_type": "execute_result"
    }
   ],
   "source": [
    "pd.DataFrame({'날짜': df2['Date'].dt.date,            \n",
    "              '시각': df2['Date'].dt.time}).head()"
   ]
  },
  {
   "cell_type": "markdown",
   "metadata": {
    "slideshow": {
     "slide_type": "subslide"
    }
   },
   "source": [
    "- 자전거 통근 원 데이터를 날짜형 인덱스로 지정하여 읽어보자:"
   ]
  },
  {
   "cell_type": "code",
   "execution_count": 83,
   "metadata": {
    "slideshow": {
     "slide_type": "fragment"
    }
   },
   "outputs": [
    {
     "data": {
      "text/html": [
       "<div>\n",
       "<style scoped>\n",
       "    .dataframe tbody tr th:only-of-type {\n",
       "        vertical-align: middle;\n",
       "    }\n",
       "\n",
       "    .dataframe tbody tr th {\n",
       "        vertical-align: top;\n",
       "    }\n",
       "\n",
       "    .dataframe thead th {\n",
       "        text-align: right;\n",
       "    }\n",
       "</style>\n",
       "<table border=\"1\" class=\"dataframe\">\n",
       "  <thead>\n",
       "    <tr style=\"text-align: right;\">\n",
       "      <th></th>\n",
       "      <th>Name</th>\n",
       "      <th>Type</th>\n",
       "      <th>Time</th>\n",
       "      <th>Distance</th>\n",
       "      <th>Comments</th>\n",
       "    </tr>\n",
       "    <tr>\n",
       "      <th>Date</th>\n",
       "      <th></th>\n",
       "      <th></th>\n",
       "      <th></th>\n",
       "      <th></th>\n",
       "      <th></th>\n",
       "    </tr>\n",
       "  </thead>\n",
       "  <tbody>\n",
       "    <tr>\n",
       "      <th>2019-09-10 00:13:04</th>\n",
       "      <td>Afternoon Ride</td>\n",
       "      <td>Ride</td>\n",
       "      <td>2084</td>\n",
       "      <td>12.62</td>\n",
       "      <td>Rain</td>\n",
       "    </tr>\n",
       "    <tr>\n",
       "      <th>2019-09-10 13:52:18</th>\n",
       "      <td>Morning Ride</td>\n",
       "      <td>Ride</td>\n",
       "      <td>2531</td>\n",
       "      <td>13.03</td>\n",
       "      <td>rain</td>\n",
       "    </tr>\n",
       "    <tr>\n",
       "      <th>2019-09-11 00:23:50</th>\n",
       "      <td>Afternoon Ride</td>\n",
       "      <td>Ride</td>\n",
       "      <td>1863</td>\n",
       "      <td>12.52</td>\n",
       "      <td>Wet road but nice weather</td>\n",
       "    </tr>\n",
       "    <tr>\n",
       "      <th>2019-09-11 14:06:19</th>\n",
       "      <td>Morning Ride</td>\n",
       "      <td>Ride</td>\n",
       "      <td>2192</td>\n",
       "      <td>12.84</td>\n",
       "      <td>Stopped for photo of sunrise</td>\n",
       "    </tr>\n",
       "    <tr>\n",
       "      <th>2019-09-12 00:28:05</th>\n",
       "      <td>Afternoon Ride</td>\n",
       "      <td>Ride</td>\n",
       "      <td>1891</td>\n",
       "      <td>12.48</td>\n",
       "      <td>Tired by the end of the week</td>\n",
       "    </tr>\n",
       "  </tbody>\n",
       "</table>\n",
       "</div>"
      ],
      "text/plain": [
       "                               Name  Type  Time  Distance  \\\n",
       "Date                                                        \n",
       "2019-09-10 00:13:04  Afternoon Ride  Ride  2084     12.62   \n",
       "2019-09-10 13:52:18    Morning Ride  Ride  2531     13.03   \n",
       "2019-09-11 00:23:50  Afternoon Ride  Ride  1863     12.52   \n",
       "2019-09-11 14:06:19    Morning Ride  Ride  2192     12.84   \n",
       "2019-09-12 00:28:05  Afternoon Ride  Ride  1891     12.48   \n",
       "\n",
       "                                         Comments  \n",
       "Date                                               \n",
       "2019-09-10 00:13:04                          Rain  \n",
       "2019-09-10 13:52:18                          rain  \n",
       "2019-09-11 00:23:50     Wet road but nice weather  \n",
       "2019-09-11 14:06:19  Stopped for photo of sunrise  \n",
       "2019-09-12 00:28:05  Tired by the end of the week  "
      ]
     },
     "execution_count": 83,
     "metadata": {},
     "output_type": "execute_result"
    }
   ],
   "source": [
    "df = pd.read_csv('../data/cycling_data.csv', \n",
    "                 index_col=0, \n",
    "                 parse_dates=True)\n",
    "df.head(5)  "
   ]
  },
  {
   "cell_type": "markdown",
   "metadata": {
    "slideshow": {
     "slide_type": "subslide"
    }
   },
   "source": [
    "- 이제 인덱스 상황은 다음과 같이 변화하였다.  \n",
    "  - `df.index.dtype`로 확인하면,  \n",
    "    `object`가 아니라 `datetime64[ns]`로 처리되었다.  \n",
    "  - `type(df.index)`로 확인하면,  \n",
    "    `pandas.core.indexes.base.Index`가 아니라 `pandas.core.indexes.datetimes.DatetimeIndex`로 처리되었다."
   ]
  },
  {
   "cell_type": "code",
   "execution_count": 84,
   "metadata": {
    "slideshow": {
     "slide_type": "fragment"
    }
   },
   "outputs": [
    {
     "name": "stdout",
     "output_type": "stream",
     "text": [
      "datetime64[ns]\n",
      "<class 'pandas.core.indexes.datetimes.DatetimeIndex'>\n"
     ]
    }
   ],
   "source": [
    "print(df.index.dtype)\n",
    "print(type(df.index))"
   ]
  },
  {
   "cell_type": "markdown",
   "metadata": {
    "slideshow": {
     "slide_type": "subslide"
    }
   },
   "source": [
    "- `df.index`를 `df.index.date`와 `df.index.time`으로 분리하고,  \n",
    "  새로운 데이터프레임의 분리된 열로 저장할 수도 있다."
   ]
  },
  {
   "cell_type": "code",
   "execution_count": 85,
   "metadata": {
    "slideshow": {
     "slide_type": "fragment"
    }
   },
   "outputs": [
    {
     "data": {
      "text/html": [
       "<div>\n",
       "<style scoped>\n",
       "    .dataframe tbody tr th:only-of-type {\n",
       "        vertical-align: middle;\n",
       "    }\n",
       "\n",
       "    .dataframe tbody tr th {\n",
       "        vertical-align: top;\n",
       "    }\n",
       "\n",
       "    .dataframe thead th {\n",
       "        text-align: right;\n",
       "    }\n",
       "</style>\n",
       "<table border=\"1\" class=\"dataframe\">\n",
       "  <thead>\n",
       "    <tr style=\"text-align: right;\">\n",
       "      <th></th>\n",
       "      <th>날짜</th>\n",
       "      <th>시각</th>\n",
       "    </tr>\n",
       "  </thead>\n",
       "  <tbody>\n",
       "    <tr>\n",
       "      <th>0</th>\n",
       "      <td>2019-09-10</td>\n",
       "      <td>00:13:04</td>\n",
       "    </tr>\n",
       "    <tr>\n",
       "      <th>1</th>\n",
       "      <td>2019-09-10</td>\n",
       "      <td>13:52:18</td>\n",
       "    </tr>\n",
       "    <tr>\n",
       "      <th>2</th>\n",
       "      <td>2019-09-11</td>\n",
       "      <td>00:23:50</td>\n",
       "    </tr>\n",
       "    <tr>\n",
       "      <th>3</th>\n",
       "      <td>2019-09-11</td>\n",
       "      <td>14:06:19</td>\n",
       "    </tr>\n",
       "    <tr>\n",
       "      <th>4</th>\n",
       "      <td>2019-09-12</td>\n",
       "      <td>00:28:05</td>\n",
       "    </tr>\n",
       "  </tbody>\n",
       "</table>\n",
       "</div>"
      ],
      "text/plain": [
       "           날짜        시각\n",
       "0  2019-09-10  00:13:04\n",
       "1  2019-09-10  13:52:18\n",
       "2  2019-09-11  00:23:50\n",
       "3  2019-09-11  14:06:19\n",
       "4  2019-09-12  00:28:05"
      ]
     },
     "execution_count": 85,
     "metadata": {},
     "output_type": "execute_result"
    }
   ],
   "source": [
    "pd.DataFrame({'날짜': df.index.date, \n",
    "              '시각': df.index.time}).head()"
   ]
  },
  {
   "cell_type": "markdown",
   "metadata": {
    "slideshow": {
     "slide_type": "fragment"
    }
   },
   "source": [
    "- `parse_dates` 인자는 매우 유연하여, 해석하기 난해한 datetime 형식도 지정이 가능하다. \n",
    "- `date_parser`, `dayfirst` 등과 같은 관련 인자도 제공되니,  \n",
    "  [Pandas documentation](https://pandas.pydata.org/pandas-docs/stable/reference/api/pandas.read_csv.html)을 확인해 보라. "
   ]
  },
  {
   "cell_type": "markdown",
   "metadata": {
    "slideshow": {
     "slide_type": "subslide"
    }
   },
   "source": [
    "- 2.2 항에서 날짜/시간 자료형을 생성하는 방법을 공부했다.\n",
    "  - 기본적 생성 방법\n",
    "    - pd.Timestamp()로 시점 생성\n",
    "    - pd.Period()로 기간 생성\n",
    "    - pd.date_range() 및 pd.period_range()로 datetime 배열 생성\n",
    "  - 기존 자료 변환\n",
    "  - 파일 자료 입력\n",
    "- 2.3 항에서 날짜/시간 자료에 접근하는 인덱싱 방법을 공부하자. \n",
    "  \n",
    "<div style=\"page-break-after: always;\"></div> "
   ]
  },
  {
   "cell_type": "markdown",
   "metadata": {
    "slideshow": {
     "slide_type": "slide"
    }
   },
   "source": [
    "### 2.3 판다스 시계열 인덱싱"
   ]
  },
  {
   "cell_type": "markdown",
   "metadata": {
    "slideshow": {
     "slide_type": "subslide"
    }
   },
   "source": [
    "- datetime 인덱스 객체도 정규 Index 객체와 유사하게,  \n",
    "  선택, 슬라이싱, 필터링 등이 가능하다. "
   ]
  },
  {
   "cell_type": "code",
   "execution_count": 86,
   "metadata": {
    "slideshow": {
     "slide_type": "fragment"
    }
   },
   "outputs": [
    {
     "data": {
      "text/html": [
       "<div>\n",
       "<style scoped>\n",
       "    .dataframe tbody tr th:only-of-type {\n",
       "        vertical-align: middle;\n",
       "    }\n",
       "\n",
       "    .dataframe tbody tr th {\n",
       "        vertical-align: top;\n",
       "    }\n",
       "\n",
       "    .dataframe thead th {\n",
       "        text-align: right;\n",
       "    }\n",
       "</style>\n",
       "<table border=\"1\" class=\"dataframe\">\n",
       "  <thead>\n",
       "    <tr style=\"text-align: right;\">\n",
       "      <th></th>\n",
       "      <th>Name</th>\n",
       "      <th>Type</th>\n",
       "      <th>Time</th>\n",
       "      <th>Distance</th>\n",
       "      <th>Comments</th>\n",
       "    </tr>\n",
       "    <tr>\n",
       "      <th>Date</th>\n",
       "      <th></th>\n",
       "      <th></th>\n",
       "      <th></th>\n",
       "      <th></th>\n",
       "      <th></th>\n",
       "    </tr>\n",
       "  </thead>\n",
       "  <tbody>\n",
       "    <tr>\n",
       "      <th>2019-09-10 00:13:04</th>\n",
       "      <td>Afternoon Ride</td>\n",
       "      <td>Ride</td>\n",
       "      <td>2084</td>\n",
       "      <td>12.62</td>\n",
       "      <td>Rain</td>\n",
       "    </tr>\n",
       "    <tr>\n",
       "      <th>2019-09-10 13:52:18</th>\n",
       "      <td>Morning Ride</td>\n",
       "      <td>Ride</td>\n",
       "      <td>2531</td>\n",
       "      <td>13.03</td>\n",
       "      <td>rain</td>\n",
       "    </tr>\n",
       "    <tr>\n",
       "      <th>2019-09-11 00:23:50</th>\n",
       "      <td>Afternoon Ride</td>\n",
       "      <td>Ride</td>\n",
       "      <td>1863</td>\n",
       "      <td>12.52</td>\n",
       "      <td>Wet road but nice weather</td>\n",
       "    </tr>\n",
       "    <tr>\n",
       "      <th>2019-09-11 14:06:19</th>\n",
       "      <td>Morning Ride</td>\n",
       "      <td>Ride</td>\n",
       "      <td>2192</td>\n",
       "      <td>12.84</td>\n",
       "      <td>Stopped for photo of sunrise</td>\n",
       "    </tr>\n",
       "    <tr>\n",
       "      <th>2019-09-12 00:28:05</th>\n",
       "      <td>Afternoon Ride</td>\n",
       "      <td>Ride</td>\n",
       "      <td>1891</td>\n",
       "      <td>12.48</td>\n",
       "      <td>Tired by the end of the week</td>\n",
       "    </tr>\n",
       "    <tr>\n",
       "      <th>...</th>\n",
       "      <td>...</td>\n",
       "      <td>...</td>\n",
       "      <td>...</td>\n",
       "      <td>...</td>\n",
       "      <td>...</td>\n",
       "    </tr>\n",
       "    <tr>\n",
       "      <th>2019-10-04 01:08:08</th>\n",
       "      <td>Afternoon Ride</td>\n",
       "      <td>Ride</td>\n",
       "      <td>1870</td>\n",
       "      <td>12.63</td>\n",
       "      <td>Very tired, riding into the wind</td>\n",
       "    </tr>\n",
       "    <tr>\n",
       "      <th>2019-10-09 13:55:40</th>\n",
       "      <td>Morning Ride</td>\n",
       "      <td>Ride</td>\n",
       "      <td>2149</td>\n",
       "      <td>12.70</td>\n",
       "      <td>Really cold! But feeling good</td>\n",
       "    </tr>\n",
       "    <tr>\n",
       "      <th>2019-10-10 00:10:31</th>\n",
       "      <td>Afternoon Ride</td>\n",
       "      <td>Ride</td>\n",
       "      <td>1841</td>\n",
       "      <td>12.59</td>\n",
       "      <td>Feeling good after a holiday break!</td>\n",
       "    </tr>\n",
       "    <tr>\n",
       "      <th>2019-10-10 13:47:14</th>\n",
       "      <td>Morning Ride</td>\n",
       "      <td>Ride</td>\n",
       "      <td>2463</td>\n",
       "      <td>12.79</td>\n",
       "      <td>Stopped for photo of sunrise</td>\n",
       "    </tr>\n",
       "    <tr>\n",
       "      <th>2019-10-11 00:16:57</th>\n",
       "      <td>Afternoon Ride</td>\n",
       "      <td>Ride</td>\n",
       "      <td>1843</td>\n",
       "      <td>11.79</td>\n",
       "      <td>Bike feeling tight, needs an oil and pump</td>\n",
       "    </tr>\n",
       "  </tbody>\n",
       "</table>\n",
       "<p>33 rows × 5 columns</p>\n",
       "</div>"
      ],
      "text/plain": [
       "                               Name  Type  Time  Distance  \\\n",
       "Date                                                        \n",
       "2019-09-10 00:13:04  Afternoon Ride  Ride  2084     12.62   \n",
       "2019-09-10 13:52:18    Morning Ride  Ride  2531     13.03   \n",
       "2019-09-11 00:23:50  Afternoon Ride  Ride  1863     12.52   \n",
       "2019-09-11 14:06:19    Morning Ride  Ride  2192     12.84   \n",
       "2019-09-12 00:28:05  Afternoon Ride  Ride  1891     12.48   \n",
       "...                             ...   ...   ...       ...   \n",
       "2019-10-04 01:08:08  Afternoon Ride  Ride  1870     12.63   \n",
       "2019-10-09 13:55:40    Morning Ride  Ride  2149     12.70   \n",
       "2019-10-10 00:10:31  Afternoon Ride  Ride  1841     12.59   \n",
       "2019-10-10 13:47:14    Morning Ride  Ride  2463     12.79   \n",
       "2019-10-11 00:16:57  Afternoon Ride  Ride  1843     11.79   \n",
       "\n",
       "                                                      Comments  \n",
       "Date                                                            \n",
       "2019-09-10 00:13:04                                       Rain  \n",
       "2019-09-10 13:52:18                                       rain  \n",
       "2019-09-11 00:23:50                  Wet road but nice weather  \n",
       "2019-09-11 14:06:19               Stopped for photo of sunrise  \n",
       "2019-09-12 00:28:05               Tired by the end of the week  \n",
       "...                                                        ...  \n",
       "2019-10-04 01:08:08           Very tired, riding into the wind  \n",
       "2019-10-09 13:55:40              Really cold! But feeling good  \n",
       "2019-10-10 00:10:31        Feeling good after a holiday break!  \n",
       "2019-10-10 13:47:14               Stopped for photo of sunrise  \n",
       "2019-10-11 00:16:57  Bike feeling tight, needs an oil and pump  \n",
       "\n",
       "[33 rows x 5 columns]"
      ]
     },
     "execution_count": 86,
     "metadata": {},
     "output_type": "execute_result"
    }
   ],
   "source": [
    "df"
   ]
  },
  {
   "cell_type": "markdown",
   "metadata": {
    "slideshow": {
     "slide_type": "subslide"
    }
   },
   "source": [
    "- 부분적인 스트링 인덱싱을 다음과 같이 수행할 수 있다:"
   ]
  },
  {
   "cell_type": "code",
   "execution_count": 87,
   "metadata": {
    "slideshow": {
     "slide_type": "fragment"
    }
   },
   "outputs": [
    {
     "data": {
      "text/html": [
       "<div>\n",
       "<style scoped>\n",
       "    .dataframe tbody tr th:only-of-type {\n",
       "        vertical-align: middle;\n",
       "    }\n",
       "\n",
       "    .dataframe tbody tr th {\n",
       "        vertical-align: top;\n",
       "    }\n",
       "\n",
       "    .dataframe thead th {\n",
       "        text-align: right;\n",
       "    }\n",
       "</style>\n",
       "<table border=\"1\" class=\"dataframe\">\n",
       "  <thead>\n",
       "    <tr style=\"text-align: right;\">\n",
       "      <th></th>\n",
       "      <th>Name</th>\n",
       "      <th>Type</th>\n",
       "      <th>Time</th>\n",
       "      <th>Distance</th>\n",
       "      <th>Comments</th>\n",
       "    </tr>\n",
       "    <tr>\n",
       "      <th>Date</th>\n",
       "      <th></th>\n",
       "      <th></th>\n",
       "      <th></th>\n",
       "      <th></th>\n",
       "      <th></th>\n",
       "    </tr>\n",
       "  </thead>\n",
       "  <tbody>\n",
       "    <tr>\n",
       "      <th>2019-09-10 00:13:04</th>\n",
       "      <td>Afternoon Ride</td>\n",
       "      <td>Ride</td>\n",
       "      <td>2084</td>\n",
       "      <td>12.62</td>\n",
       "      <td>Rain</td>\n",
       "    </tr>\n",
       "    <tr>\n",
       "      <th>2019-09-10 13:52:18</th>\n",
       "      <td>Morning Ride</td>\n",
       "      <td>Ride</td>\n",
       "      <td>2531</td>\n",
       "      <td>13.03</td>\n",
       "      <td>rain</td>\n",
       "    </tr>\n",
       "    <tr>\n",
       "      <th>2019-09-11 00:23:50</th>\n",
       "      <td>Afternoon Ride</td>\n",
       "      <td>Ride</td>\n",
       "      <td>1863</td>\n",
       "      <td>12.52</td>\n",
       "      <td>Wet road but nice weather</td>\n",
       "    </tr>\n",
       "    <tr>\n",
       "      <th>2019-09-11 14:06:19</th>\n",
       "      <td>Morning Ride</td>\n",
       "      <td>Ride</td>\n",
       "      <td>2192</td>\n",
       "      <td>12.84</td>\n",
       "      <td>Stopped for photo of sunrise</td>\n",
       "    </tr>\n",
       "    <tr>\n",
       "      <th>2019-09-12 00:28:05</th>\n",
       "      <td>Afternoon Ride</td>\n",
       "      <td>Ride</td>\n",
       "      <td>1891</td>\n",
       "      <td>12.48</td>\n",
       "      <td>Tired by the end of the week</td>\n",
       "    </tr>\n",
       "    <tr>\n",
       "      <th>...</th>\n",
       "      <td>...</td>\n",
       "      <td>...</td>\n",
       "      <td>...</td>\n",
       "      <td>...</td>\n",
       "      <td>...</td>\n",
       "    </tr>\n",
       "    <tr>\n",
       "      <th>2019-09-25 13:35:41</th>\n",
       "      <td>Morning Ride</td>\n",
       "      <td>Ride</td>\n",
       "      <td>2124</td>\n",
       "      <td>12.65</td>\n",
       "      <td>Stopped for photo of sunrise</td>\n",
       "    </tr>\n",
       "    <tr>\n",
       "      <th>2019-09-26 00:13:33</th>\n",
       "      <td>Afternoon Ride</td>\n",
       "      <td>Ride</td>\n",
       "      <td>1860</td>\n",
       "      <td>12.52</td>\n",
       "      <td>raining</td>\n",
       "    </tr>\n",
       "    <tr>\n",
       "      <th>2019-09-26 13:42:43</th>\n",
       "      <td>Morning Ride</td>\n",
       "      <td>Ride</td>\n",
       "      <td>2350</td>\n",
       "      <td>12.91</td>\n",
       "      <td>Detour around trucks at Jericho</td>\n",
       "    </tr>\n",
       "    <tr>\n",
       "      <th>2019-09-27 01:00:18</th>\n",
       "      <td>Afternoon Ride</td>\n",
       "      <td>Ride</td>\n",
       "      <td>1712</td>\n",
       "      <td>12.47</td>\n",
       "      <td>Tired by the end of the week</td>\n",
       "    </tr>\n",
       "    <tr>\n",
       "      <th>2019-09-30 13:53:52</th>\n",
       "      <td>Morning Ride</td>\n",
       "      <td>Ride</td>\n",
       "      <td>2118</td>\n",
       "      <td>12.71</td>\n",
       "      <td>Rested after the weekend!</td>\n",
       "    </tr>\n",
       "  </tbody>\n",
       "</table>\n",
       "<p>22 rows × 5 columns</p>\n",
       "</div>"
      ],
      "text/plain": [
       "                               Name  Type  Time  Distance  \\\n",
       "Date                                                        \n",
       "2019-09-10 00:13:04  Afternoon Ride  Ride  2084     12.62   \n",
       "2019-09-10 13:52:18    Morning Ride  Ride  2531     13.03   \n",
       "2019-09-11 00:23:50  Afternoon Ride  Ride  1863     12.52   \n",
       "2019-09-11 14:06:19    Morning Ride  Ride  2192     12.84   \n",
       "2019-09-12 00:28:05  Afternoon Ride  Ride  1891     12.48   \n",
       "...                             ...   ...   ...       ...   \n",
       "2019-09-25 13:35:41    Morning Ride  Ride  2124     12.65   \n",
       "2019-09-26 00:13:33  Afternoon Ride  Ride  1860     12.52   \n",
       "2019-09-26 13:42:43    Morning Ride  Ride  2350     12.91   \n",
       "2019-09-27 01:00:18  Afternoon Ride  Ride  1712     12.47   \n",
       "2019-09-30 13:53:52    Morning Ride  Ride  2118     12.71   \n",
       "\n",
       "                                            Comments  \n",
       "Date                                                  \n",
       "2019-09-10 00:13:04                             Rain  \n",
       "2019-09-10 13:52:18                             rain  \n",
       "2019-09-11 00:23:50        Wet road but nice weather  \n",
       "2019-09-11 14:06:19     Stopped for photo of sunrise  \n",
       "2019-09-12 00:28:05     Tired by the end of the week  \n",
       "...                                              ...  \n",
       "2019-09-25 13:35:41     Stopped for photo of sunrise  \n",
       "2019-09-26 00:13:33                          raining  \n",
       "2019-09-26 13:42:43  Detour around trucks at Jericho  \n",
       "2019-09-27 01:00:18     Tired by the end of the week  \n",
       "2019-09-30 13:53:52        Rested after the weekend!  \n",
       "\n",
       "[22 rows x 5 columns]"
      ]
     },
     "execution_count": 87,
     "metadata": {},
     "output_type": "execute_result"
    }
   ],
   "source": [
    "df.loc['2019-09']  # df.loc[행] 또는 df.loc[행, 열] 형식"
   ]
  },
  {
   "cell_type": "markdown",
   "metadata": {
    "slideshow": {
     "slide_type": "subslide"
    }
   },
   "source": [
    "- 완전 매칭 인덱싱을 다음과 같이 수행할 수 있다:"
   ]
  },
  {
   "cell_type": "code",
   "execution_count": 88,
   "metadata": {
    "slideshow": {
     "slide_type": "fragment"
    }
   },
   "outputs": [
    {
     "data": {
      "text/html": [
       "<div>\n",
       "<style scoped>\n",
       "    .dataframe tbody tr th:only-of-type {\n",
       "        vertical-align: middle;\n",
       "    }\n",
       "\n",
       "    .dataframe tbody tr th {\n",
       "        vertical-align: top;\n",
       "    }\n",
       "\n",
       "    .dataframe thead th {\n",
       "        text-align: right;\n",
       "    }\n",
       "</style>\n",
       "<table border=\"1\" class=\"dataframe\">\n",
       "  <thead>\n",
       "    <tr style=\"text-align: right;\">\n",
       "      <th></th>\n",
       "      <th>Name</th>\n",
       "      <th>Type</th>\n",
       "      <th>Time</th>\n",
       "      <th>Distance</th>\n",
       "      <th>Comments</th>\n",
       "    </tr>\n",
       "    <tr>\n",
       "      <th>Date</th>\n",
       "      <th></th>\n",
       "      <th></th>\n",
       "      <th></th>\n",
       "      <th></th>\n",
       "      <th></th>\n",
       "    </tr>\n",
       "  </thead>\n",
       "  <tbody>\n",
       "    <tr>\n",
       "      <th>2019-10-10 00:10:31</th>\n",
       "      <td>Afternoon Ride</td>\n",
       "      <td>Ride</td>\n",
       "      <td>1841</td>\n",
       "      <td>12.59</td>\n",
       "      <td>Feeling good after a holiday break!</td>\n",
       "    </tr>\n",
       "    <tr>\n",
       "      <th>2019-10-10 13:47:14</th>\n",
       "      <td>Morning Ride</td>\n",
       "      <td>Ride</td>\n",
       "      <td>2463</td>\n",
       "      <td>12.79</td>\n",
       "      <td>Stopped for photo of sunrise</td>\n",
       "    </tr>\n",
       "  </tbody>\n",
       "</table>\n",
       "</div>"
      ],
      "text/plain": [
       "                               Name  Type  Time  Distance  \\\n",
       "Date                                                        \n",
       "2019-10-10 00:10:31  Afternoon Ride  Ride  1841     12.59   \n",
       "2019-10-10 13:47:14    Morning Ride  Ride  2463     12.79   \n",
       "\n",
       "                                                Comments  \n",
       "Date                                                      \n",
       "2019-10-10 00:10:31  Feeling good after a holiday break!  \n",
       "2019-10-10 13:47:14         Stopped for photo of sunrise  "
      ]
     },
     "execution_count": 88,
     "metadata": {},
     "output_type": "execute_result"
    }
   ],
   "source": [
    "df.loc['2019-10-10']"
   ]
  },
  {
   "cell_type": "code",
   "execution_count": 89,
   "metadata": {
    "slideshow": {
     "slide_type": "fragment"
    }
   },
   "outputs": [
    {
     "data": {
      "text/html": [
       "<div>\n",
       "<style scoped>\n",
       "    .dataframe tbody tr th:only-of-type {\n",
       "        vertical-align: middle;\n",
       "    }\n",
       "\n",
       "    .dataframe tbody tr th {\n",
       "        vertical-align: top;\n",
       "    }\n",
       "\n",
       "    .dataframe thead th {\n",
       "        text-align: right;\n",
       "    }\n",
       "</style>\n",
       "<table border=\"1\" class=\"dataframe\">\n",
       "  <thead>\n",
       "    <tr style=\"text-align: right;\">\n",
       "      <th></th>\n",
       "      <th>Name</th>\n",
       "      <th>Type</th>\n",
       "      <th>Time</th>\n",
       "      <th>Distance</th>\n",
       "      <th>Comments</th>\n",
       "    </tr>\n",
       "    <tr>\n",
       "      <th>Date</th>\n",
       "      <th></th>\n",
       "      <th></th>\n",
       "      <th></th>\n",
       "      <th></th>\n",
       "      <th></th>\n",
       "    </tr>\n",
       "  </thead>\n",
       "  <tbody>\n",
       "    <tr>\n",
       "      <th>2019-10-10 13:47:14</th>\n",
       "      <td>Morning Ride</td>\n",
       "      <td>Ride</td>\n",
       "      <td>2463</td>\n",
       "      <td>12.79</td>\n",
       "      <td>Stopped for photo of sunrise</td>\n",
       "    </tr>\n",
       "  </tbody>\n",
       "</table>\n",
       "</div>"
      ],
      "text/plain": [
       "                             Name  Type  Time  Distance  \\\n",
       "Date                                                      \n",
       "2019-10-10 13:47:14  Morning Ride  Ride  2463     12.79   \n",
       "\n",
       "                                         Comments  \n",
       "Date                                               \n",
       "2019-10-10 13:47:14  Stopped for photo of sunrise  "
      ]
     },
     "execution_count": 89,
     "metadata": {},
     "output_type": "execute_result"
    }
   ],
   "source": [
    "df.loc['2019-10-10 13:47:14']"
   ]
  },
  {
   "cell_type": "markdown",
   "metadata": {
    "slideshow": {
     "slide_type": "subslide"
    }
   },
   "source": [
    "- 슬라이싱을 다음과 같이 수행할 수 있다:"
   ]
  },
  {
   "cell_type": "code",
   "execution_count": 90,
   "metadata": {
    "slideshow": {
     "slide_type": "fragment"
    }
   },
   "outputs": [
    {
     "data": {
      "text/html": [
       "<div>\n",
       "<style scoped>\n",
       "    .dataframe tbody tr th:only-of-type {\n",
       "        vertical-align: middle;\n",
       "    }\n",
       "\n",
       "    .dataframe tbody tr th {\n",
       "        vertical-align: top;\n",
       "    }\n",
       "\n",
       "    .dataframe thead th {\n",
       "        text-align: right;\n",
       "    }\n",
       "</style>\n",
       "<table border=\"1\" class=\"dataframe\">\n",
       "  <thead>\n",
       "    <tr style=\"text-align: right;\">\n",
       "      <th></th>\n",
       "      <th>Name</th>\n",
       "      <th>Type</th>\n",
       "      <th>Time</th>\n",
       "      <th>Distance</th>\n",
       "      <th>Comments</th>\n",
       "    </tr>\n",
       "    <tr>\n",
       "      <th>Date</th>\n",
       "      <th></th>\n",
       "      <th></th>\n",
       "      <th></th>\n",
       "      <th></th>\n",
       "      <th></th>\n",
       "    </tr>\n",
       "  </thead>\n",
       "  <tbody>\n",
       "    <tr>\n",
       "      <th>2019-10-01 00:15:07</th>\n",
       "      <td>Afternoon Ride</td>\n",
       "      <td>Ride</td>\n",
       "      <td>1732</td>\n",
       "      <td>NaN</td>\n",
       "      <td>Legs feeling strong!</td>\n",
       "    </tr>\n",
       "    <tr>\n",
       "      <th>2019-10-01 13:45:55</th>\n",
       "      <td>Morning Ride</td>\n",
       "      <td>Ride</td>\n",
       "      <td>2222</td>\n",
       "      <td>12.82</td>\n",
       "      <td>Beautiful morning! Feeling fit</td>\n",
       "    </tr>\n",
       "    <tr>\n",
       "      <th>2019-10-02 00:13:09</th>\n",
       "      <td>Afternoon Ride</td>\n",
       "      <td>Ride</td>\n",
       "      <td>1756</td>\n",
       "      <td>NaN</td>\n",
       "      <td>A little tired today but good weather</td>\n",
       "    </tr>\n",
       "    <tr>\n",
       "      <th>2019-10-02 13:46:06</th>\n",
       "      <td>Morning Ride</td>\n",
       "      <td>Ride</td>\n",
       "      <td>2134</td>\n",
       "      <td>13.06</td>\n",
       "      <td>Bit tired today but good weather</td>\n",
       "    </tr>\n",
       "    <tr>\n",
       "      <th>2019-10-03 00:45:22</th>\n",
       "      <td>Afternoon Ride</td>\n",
       "      <td>Ride</td>\n",
       "      <td>1724</td>\n",
       "      <td>12.52</td>\n",
       "      <td>Feeling good</td>\n",
       "    </tr>\n",
       "    <tr>\n",
       "      <th>2019-10-03 13:47:36</th>\n",
       "      <td>Morning Ride</td>\n",
       "      <td>Ride</td>\n",
       "      <td>2182</td>\n",
       "      <td>12.68</td>\n",
       "      <td>Wet road</td>\n",
       "    </tr>\n",
       "    <tr>\n",
       "      <th>2019-10-04 01:08:08</th>\n",
       "      <td>Afternoon Ride</td>\n",
       "      <td>Ride</td>\n",
       "      <td>1870</td>\n",
       "      <td>12.63</td>\n",
       "      <td>Very tired, riding into the wind</td>\n",
       "    </tr>\n",
       "    <tr>\n",
       "      <th>2019-10-09 13:55:40</th>\n",
       "      <td>Morning Ride</td>\n",
       "      <td>Ride</td>\n",
       "      <td>2149</td>\n",
       "      <td>12.70</td>\n",
       "      <td>Really cold! But feeling good</td>\n",
       "    </tr>\n",
       "    <tr>\n",
       "      <th>2019-10-10 00:10:31</th>\n",
       "      <td>Afternoon Ride</td>\n",
       "      <td>Ride</td>\n",
       "      <td>1841</td>\n",
       "      <td>12.59</td>\n",
       "      <td>Feeling good after a holiday break!</td>\n",
       "    </tr>\n",
       "    <tr>\n",
       "      <th>2019-10-10 13:47:14</th>\n",
       "      <td>Morning Ride</td>\n",
       "      <td>Ride</td>\n",
       "      <td>2463</td>\n",
       "      <td>12.79</td>\n",
       "      <td>Stopped for photo of sunrise</td>\n",
       "    </tr>\n",
       "    <tr>\n",
       "      <th>2019-10-11 00:16:57</th>\n",
       "      <td>Afternoon Ride</td>\n",
       "      <td>Ride</td>\n",
       "      <td>1843</td>\n",
       "      <td>11.79</td>\n",
       "      <td>Bike feeling tight, needs an oil and pump</td>\n",
       "    </tr>\n",
       "  </tbody>\n",
       "</table>\n",
       "</div>"
      ],
      "text/plain": [
       "                               Name  Type  Time  Distance  \\\n",
       "Date                                                        \n",
       "2019-10-01 00:15:07  Afternoon Ride  Ride  1732       NaN   \n",
       "2019-10-01 13:45:55    Morning Ride  Ride  2222     12.82   \n",
       "2019-10-02 00:13:09  Afternoon Ride  Ride  1756       NaN   \n",
       "2019-10-02 13:46:06    Morning Ride  Ride  2134     13.06   \n",
       "2019-10-03 00:45:22  Afternoon Ride  Ride  1724     12.52   \n",
       "2019-10-03 13:47:36    Morning Ride  Ride  2182     12.68   \n",
       "2019-10-04 01:08:08  Afternoon Ride  Ride  1870     12.63   \n",
       "2019-10-09 13:55:40    Morning Ride  Ride  2149     12.70   \n",
       "2019-10-10 00:10:31  Afternoon Ride  Ride  1841     12.59   \n",
       "2019-10-10 13:47:14    Morning Ride  Ride  2463     12.79   \n",
       "2019-10-11 00:16:57  Afternoon Ride  Ride  1843     11.79   \n",
       "\n",
       "                                                      Comments  \n",
       "Date                                                            \n",
       "2019-10-01 00:15:07                       Legs feeling strong!  \n",
       "2019-10-01 13:45:55             Beautiful morning! Feeling fit  \n",
       "2019-10-02 00:13:09      A little tired today but good weather  \n",
       "2019-10-02 13:46:06           Bit tired today but good weather  \n",
       "2019-10-03 00:45:22                               Feeling good  \n",
       "2019-10-03 13:47:36                                   Wet road  \n",
       "2019-10-04 01:08:08           Very tired, riding into the wind  \n",
       "2019-10-09 13:55:40              Really cold! But feeling good  \n",
       "2019-10-10 00:10:31        Feeling good after a holiday break!  \n",
       "2019-10-10 13:47:14               Stopped for photo of sunrise  \n",
       "2019-10-11 00:16:57  Bike feeling tight, needs an oil and pump  "
      ]
     },
     "execution_count": 90,
     "metadata": {},
     "output_type": "execute_result"
    }
   ],
   "source": [
    "df.sort_index().loc['2019-10-01':'2019-10-13']  \n",
    "# df.loc['2019-10-01':'2019-10-13']             # 정렬 없는 슬라이싱은 미래 경고를 유발함 "
   ]
  },
  {
   "cell_type": "markdown",
   "metadata": {
    "slideshow": {
     "slide_type": "subslide"
    }
   },
   "source": [
    "- `df.between_time()`를 쓰면 두 시각 사이의 모든 데이터를 검색할 수 있다:"
   ]
  },
  {
   "cell_type": "code",
   "execution_count": 91,
   "metadata": {
    "slideshow": {
     "slide_type": "fragment"
    }
   },
   "outputs": [
    {
     "data": {
      "text/html": [
       "<div>\n",
       "<style scoped>\n",
       "    .dataframe tbody tr th:only-of-type {\n",
       "        vertical-align: middle;\n",
       "    }\n",
       "\n",
       "    .dataframe tbody tr th {\n",
       "        vertical-align: top;\n",
       "    }\n",
       "\n",
       "    .dataframe thead th {\n",
       "        text-align: right;\n",
       "    }\n",
       "</style>\n",
       "<table border=\"1\" class=\"dataframe\">\n",
       "  <thead>\n",
       "    <tr style=\"text-align: right;\">\n",
       "      <th></th>\n",
       "      <th>Name</th>\n",
       "      <th>Type</th>\n",
       "      <th>Time</th>\n",
       "      <th>Distance</th>\n",
       "      <th>Comments</th>\n",
       "    </tr>\n",
       "    <tr>\n",
       "      <th>Date</th>\n",
       "      <th></th>\n",
       "      <th></th>\n",
       "      <th></th>\n",
       "      <th></th>\n",
       "      <th></th>\n",
       "    </tr>\n",
       "  </thead>\n",
       "  <tbody>\n",
       "    <tr>\n",
       "      <th>2019-09-10 00:13:04</th>\n",
       "      <td>Afternoon Ride</td>\n",
       "      <td>Ride</td>\n",
       "      <td>2084</td>\n",
       "      <td>12.62</td>\n",
       "      <td>Rain</td>\n",
       "    </tr>\n",
       "    <tr>\n",
       "      <th>2019-09-11 00:23:50</th>\n",
       "      <td>Afternoon Ride</td>\n",
       "      <td>Ride</td>\n",
       "      <td>1863</td>\n",
       "      <td>12.52</td>\n",
       "      <td>Wet road but nice weather</td>\n",
       "    </tr>\n",
       "    <tr>\n",
       "      <th>2019-09-12 00:28:05</th>\n",
       "      <td>Afternoon Ride</td>\n",
       "      <td>Ride</td>\n",
       "      <td>1891</td>\n",
       "      <td>12.48</td>\n",
       "      <td>Tired by the end of the week</td>\n",
       "    </tr>\n",
       "    <tr>\n",
       "      <th>2019-09-17 00:15:47</th>\n",
       "      <td>Afternoon Ride</td>\n",
       "      <td>Ride</td>\n",
       "      <td>1973</td>\n",
       "      <td>12.45</td>\n",
       "      <td>Legs feeling strong!</td>\n",
       "    </tr>\n",
       "    <tr>\n",
       "      <th>2019-09-18 00:15:52</th>\n",
       "      <td>Afternoon Ride</td>\n",
       "      <td>Ride</td>\n",
       "      <td>2101</td>\n",
       "      <td>12.48</td>\n",
       "      <td>Pumped up tires</td>\n",
       "    </tr>\n",
       "    <tr>\n",
       "      <th>2019-09-19 00:30:01</th>\n",
       "      <td>Afternoon Ride</td>\n",
       "      <td>Ride</td>\n",
       "      <td>48062</td>\n",
       "      <td>12.48</td>\n",
       "      <td>Feeling good</td>\n",
       "    </tr>\n",
       "    <tr>\n",
       "      <th>2019-09-24 00:35:42</th>\n",
       "      <td>Afternoon Ride</td>\n",
       "      <td>Ride</td>\n",
       "      <td>2076</td>\n",
       "      <td>12.47</td>\n",
       "      <td>Oiled chain, bike feels smooth</td>\n",
       "    </tr>\n",
       "    <tr>\n",
       "      <th>2019-09-25 00:07:21</th>\n",
       "      <td>Afternoon Ride</td>\n",
       "      <td>Ride</td>\n",
       "      <td>1775</td>\n",
       "      <td>12.10</td>\n",
       "      <td>Feeling really tired</td>\n",
       "    </tr>\n",
       "    <tr>\n",
       "      <th>2019-09-26 00:13:33</th>\n",
       "      <td>Afternoon Ride</td>\n",
       "      <td>Ride</td>\n",
       "      <td>1860</td>\n",
       "      <td>12.52</td>\n",
       "      <td>raining</td>\n",
       "    </tr>\n",
       "    <tr>\n",
       "      <th>2019-10-01 00:15:07</th>\n",
       "      <td>Afternoon Ride</td>\n",
       "      <td>Ride</td>\n",
       "      <td>1732</td>\n",
       "      <td>NaN</td>\n",
       "      <td>Legs feeling strong!</td>\n",
       "    </tr>\n",
       "    <tr>\n",
       "      <th>2019-10-02 00:13:09</th>\n",
       "      <td>Afternoon Ride</td>\n",
       "      <td>Ride</td>\n",
       "      <td>1756</td>\n",
       "      <td>NaN</td>\n",
       "      <td>A little tired today but good weather</td>\n",
       "    </tr>\n",
       "    <tr>\n",
       "      <th>2019-10-03 00:45:22</th>\n",
       "      <td>Afternoon Ride</td>\n",
       "      <td>Ride</td>\n",
       "      <td>1724</td>\n",
       "      <td>12.52</td>\n",
       "      <td>Feeling good</td>\n",
       "    </tr>\n",
       "    <tr>\n",
       "      <th>2019-10-10 00:10:31</th>\n",
       "      <td>Afternoon Ride</td>\n",
       "      <td>Ride</td>\n",
       "      <td>1841</td>\n",
       "      <td>12.59</td>\n",
       "      <td>Feeling good after a holiday break!</td>\n",
       "    </tr>\n",
       "    <tr>\n",
       "      <th>2019-10-11 00:16:57</th>\n",
       "      <td>Afternoon Ride</td>\n",
       "      <td>Ride</td>\n",
       "      <td>1843</td>\n",
       "      <td>11.79</td>\n",
       "      <td>Bike feeling tight, needs an oil and pump</td>\n",
       "    </tr>\n",
       "  </tbody>\n",
       "</table>\n",
       "</div>"
      ],
      "text/plain": [
       "                               Name  Type   Time  Distance  \\\n",
       "Date                                                         \n",
       "2019-09-10 00:13:04  Afternoon Ride  Ride   2084     12.62   \n",
       "2019-09-11 00:23:50  Afternoon Ride  Ride   1863     12.52   \n",
       "2019-09-12 00:28:05  Afternoon Ride  Ride   1891     12.48   \n",
       "2019-09-17 00:15:47  Afternoon Ride  Ride   1973     12.45   \n",
       "2019-09-18 00:15:52  Afternoon Ride  Ride   2101     12.48   \n",
       "2019-09-19 00:30:01  Afternoon Ride  Ride  48062     12.48   \n",
       "2019-09-24 00:35:42  Afternoon Ride  Ride   2076     12.47   \n",
       "2019-09-25 00:07:21  Afternoon Ride  Ride   1775     12.10   \n",
       "2019-09-26 00:13:33  Afternoon Ride  Ride   1860     12.52   \n",
       "2019-10-01 00:15:07  Afternoon Ride  Ride   1732       NaN   \n",
       "2019-10-02 00:13:09  Afternoon Ride  Ride   1756       NaN   \n",
       "2019-10-03 00:45:22  Afternoon Ride  Ride   1724     12.52   \n",
       "2019-10-10 00:10:31  Afternoon Ride  Ride   1841     12.59   \n",
       "2019-10-11 00:16:57  Afternoon Ride  Ride   1843     11.79   \n",
       "\n",
       "                                                      Comments  \n",
       "Date                                                            \n",
       "2019-09-10 00:13:04                                       Rain  \n",
       "2019-09-11 00:23:50                  Wet road but nice weather  \n",
       "2019-09-12 00:28:05               Tired by the end of the week  \n",
       "2019-09-17 00:15:47                       Legs feeling strong!  \n",
       "2019-09-18 00:15:52                            Pumped up tires  \n",
       "2019-09-19 00:30:01                               Feeling good  \n",
       "2019-09-24 00:35:42             Oiled chain, bike feels smooth  \n",
       "2019-09-25 00:07:21                       Feeling really tired  \n",
       "2019-09-26 00:13:33                                    raining  \n",
       "2019-10-01 00:15:07                       Legs feeling strong!  \n",
       "2019-10-02 00:13:09      A little tired today but good weather  \n",
       "2019-10-03 00:45:22                               Feeling good  \n",
       "2019-10-10 00:10:31        Feeling good after a holiday break!  \n",
       "2019-10-11 00:16:57  Bike feeling tight, needs an oil and pump  "
      ]
     },
     "execution_count": 91,
     "metadata": {},
     "output_type": "execute_result"
    }
   ],
   "source": [
    "df.between_time('00:00', '01:00')  # 자정 무렵인데, 오후 ...?"
   ]
  },
  {
   "cell_type": "markdown",
   "metadata": {
    "slideshow": {
     "slide_type": "subslide"
    }
   },
   "source": [
    "- 더 복잡한 필터링을 위해서는, 시계열(timeserie) 분할이 필요한데,  \n",
    "  이에 대해서는 다음 절에서 공부한다."
   ]
  },
  {
   "cell_type": "markdown",
   "metadata": {
    "slideshow": {
     "slide_type": "fragment"
    }
   },
   "source": [
    "- 2.3 항에서 날짜/시간 자료를 인덱싱하는 방법을 공부했다. \n",
    "- 2.4 항에서 날짜/시간 자료를 처리하는 방법을 공부하자. \n",
    "  \n",
    "<div style=\"page-break-after: always;\"></div> "
   ]
  },
  {
   "cell_type": "markdown",
   "metadata": {
    "slideshow": {
     "slide_type": "slide"
    }
   },
   "source": [
    "### 2.4 판다스 시계열 처리"
   ]
  },
  {
   "cell_type": "markdown",
   "metadata": {
    "slideshow": {
     "slide_type": "fragment"
    }
   },
   "source": [
    "#### 2.4.1 요소 추출"
   ]
  },
  {
   "cell_type": "markdown",
   "metadata": {
    "slideshow": {
     "slide_type": "subslide"
    }
   },
   "source": [
    "- 시간과 날짜에 관한 구성 요소를 분해하여 추출할 수 있다.  \n",
    "  [구성 요소를 정의하는 많은 속성](https://pandas.pydata.org/pandas-docs/stable/user_guide/timeseries.html#time-date-components)이 있다. "
   ]
  },
  {
   "cell_type": "code",
   "execution_count": 92,
   "metadata": {
    "slideshow": {
     "slide_type": "fragment"
    }
   },
   "outputs": [
    {
     "data": {
      "text/plain": [
       "Int64Index([2019, 2019, 2019, 2019, 2019, 2019, 2019, 2019, 2019, 2019, 2019,\n",
       "            2019, 2019, 2019, 2019, 2019, 2019, 2019, 2019, 2019, 2019, 2019,\n",
       "            2019, 2019, 2019, 2019, 2019, 2019, 2019, 2019, 2019, 2019, 2019],\n",
       "           dtype='int64', name='Date')"
      ]
     },
     "execution_count": 92,
     "metadata": {},
     "output_type": "execute_result"
    }
   ],
   "source": [
    "df.index.year  # 연도"
   ]
  },
  {
   "cell_type": "code",
   "execution_count": 93,
   "metadata": {
    "slideshow": {
     "slide_type": "fragment"
    }
   },
   "outputs": [
    {
     "data": {
      "text/plain": [
       "Int64Index([ 4, 18, 50, 19,  5, 48, 47, 34, 53, 52,  1,  9,  5, 41, 42, 24, 21,\n",
       "            41, 33, 43, 18, 52,  7, 55,  9,  6, 22, 36,  8, 40, 31, 14, 57],\n",
       "           dtype='int64', name='Date')"
      ]
     },
     "execution_count": 93,
     "metadata": {},
     "output_type": "execute_result"
    }
   ],
   "source": [
    "df.index.second  # 초"
   ]
  },
  {
   "cell_type": "code",
   "execution_count": 94,
   "metadata": {
    "slideshow": {
     "slide_type": "subslide"
    }
   },
   "outputs": [
    {
     "data": {
      "text/plain": [
       "Int64Index([1, 1, 2, 2, 3, 0, 1, 1, 2, 2, 3, 3, 4, 0, 1, 1, 2, 2, 3, 3, 4, 0,\n",
       "            1, 1, 2, 2, 3, 3, 4, 2, 3, 3, 4],\n",
       "           dtype='int64', name='Date')"
      ]
     },
     "execution_count": 94,
     "metadata": {},
     "output_type": "execute_result"
    }
   ],
   "source": [
    "df.index.weekday  # 요일(월요일=0, 일요일=6)"
   ]
  },
  {
   "cell_type": "code",
   "execution_count": 95,
   "metadata": {
    "slideshow": {
     "slide_type": "fragment"
    }
   },
   "outputs": [
    {
     "name": "stdout",
     "output_type": "stream",
     "text": [
      "['화', '화', '수', '수', '목', '월', '화', '화', '수', '수', '목', '목', '금', '월', '화', '화', '수', '수', '목', '목', '금', '월', '화', '화', '수', '수', '목', '목', '금', '수', '목', '목', '금']\n"
     ]
    }
   ],
   "source": [
    "요일 = ['월', '화', '수', '목', '금', '토', '일']\n",
    "요일_리스트 = [요일[_] for _ in df.index.weekday]\n",
    "print(요일_리스트)"
   ]
  },
  {
   "cell_type": "markdown",
   "metadata": {
    "slideshow": {
     "slide_type": "subslide"
    }
   },
   "source": [
    "- 속성뿐만이 아니라 메소드도 사용할 수 있다:"
   ]
  },
  {
   "cell_type": "code",
   "execution_count": 96,
   "metadata": {
    "slideshow": {
     "slide_type": "fragment"
    }
   },
   "outputs": [
    {
     "data": {
      "text/plain": [
       "Index(['Tuesday', 'Tuesday', 'Wednesday', 'Wednesday', 'Thursday', 'Monday',\n",
       "       'Tuesday', 'Tuesday', 'Wednesday', 'Wednesday', 'Thursday', 'Thursday',\n",
       "       'Friday', 'Monday', 'Tuesday', 'Tuesday', 'Wednesday', 'Wednesday',\n",
       "       'Thursday', 'Thursday', 'Friday', 'Monday', 'Tuesday', 'Tuesday',\n",
       "       'Wednesday', 'Wednesday', 'Thursday', 'Thursday', 'Friday', 'Wednesday',\n",
       "       'Thursday', 'Thursday', 'Friday'],\n",
       "      dtype='object', name='Date')"
      ]
     },
     "execution_count": 96,
     "metadata": {},
     "output_type": "execute_result"
    }
   ],
   "source": [
    "df.index.day_name()                          # 영어 요일"
   ]
  },
  {
   "cell_type": "code",
   "execution_count": 97,
   "metadata": {
    "slideshow": {
     "slide_type": "fragment"
    }
   },
   "outputs": [
    {
     "data": {
      "text/plain": [
       "Index(['화요일', '화요일', '수요일', '수요일', '목요일', '월요일', '화요일', '화요일', '수요일', '수요일',\n",
       "       '목요일', '목요일', '금요일', '월요일', '화요일', '화요일', '수요일', '수요일', '목요일', '목요일',\n",
       "       '금요일', '월요일', '화요일', '화요일', '수요일', '수요일', '목요일', '목요일', '금요일', '수요일',\n",
       "       '목요일', '목요일', '금요일'],\n",
       "      dtype='object', name='Date')"
      ]
     },
     "execution_count": 97,
     "metadata": {},
     "output_type": "execute_result"
    }
   ],
   "source": [
    "df.index.day_name(locale='Korean_Korea.949')  # 한글 요일"
   ]
  },
  {
   "cell_type": "code",
   "execution_count": 98,
   "metadata": {
    "scrolled": true,
    "slideshow": {
     "slide_type": "subslide"
    }
   },
   "outputs": [
    {
     "data": {
      "text/plain": [
       "Index(['September', 'September', 'September', 'September', 'September',\n",
       "       'September', 'September', 'September', 'September', 'September',\n",
       "       'September', 'September', 'September', 'September', 'September',\n",
       "       'September', 'September', 'September', 'September', 'September',\n",
       "       'September', 'September', 'October', 'October', 'October', 'October',\n",
       "       'October', 'October', 'October', 'October', 'October', 'October',\n",
       "       'October'],\n",
       "      dtype='object', name='Date')"
      ]
     },
     "execution_count": 98,
     "metadata": {},
     "output_type": "execute_result"
    }
   ],
   "source": [
    "df.index.month_name()                      # 월"
   ]
  },
  {
   "cell_type": "code",
   "execution_count": 99,
   "metadata": {
    "scrolled": true,
    "slideshow": {
     "slide_type": "fragment"
    }
   },
   "outputs": [
    {
     "data": {
      "text/plain": [
       "Index(['9월', '9월', '9월', '9월', '9월', '9월', '9월', '9월', '9월', '9월', '9월', '9월',\n",
       "       '9월', '9월', '9월', '9월', '9월', '9월', '9월', '9월', '9월', '9월', '10월',\n",
       "       '10월', '10월', '10월', '10월', '10월', '10월', '10월', '10월', '10월', '10월'],\n",
       "      dtype='object', name='Date')"
      ]
     },
     "execution_count": 99,
     "metadata": {},
     "output_type": "execute_result"
    }
   ],
   "source": [
    "df.index.month_name(locale='Korean_Korea.949')  # 한글 월 "
   ]
  },
  {
   "cell_type": "markdown",
   "metadata": {
    "slideshow": {
     "slide_type": "subslide"
    }
   },
   "source": [
    "- `DatetimeIndex` 객체가 아닌  \n",
    "  데이터프레임의 일반 열과 같은 `Series`에 대해서 작업한다면,  \n",
    "  `.dt` 속성을 통해서 처리가 가능하다:"
   ]
  },
  {
   "cell_type": "code",
   "execution_count": 100,
   "metadata": {
    "slideshow": {
     "slide_type": "fragment"
    },
    "tags": [
     "raises-exception"
    ]
   },
   "outputs": [
    {
     "data": {
      "text/plain": [
       "0   2011-12-29\n",
       "1   2011-12-30\n",
       "2   2011-12-31\n",
       "dtype: datetime64[ns]"
      ]
     },
     "execution_count": 100,
     "metadata": {},
     "output_type": "execute_result"
    }
   ],
   "source": [
    "s = pd.Series(pd.date_range('2011-12-29', '2011-12-31'))\n",
    "s"
   ]
  },
  {
   "cell_type": "code",
   "execution_count": 101,
   "metadata": {
    "scrolled": true,
    "slideshow": {
     "slide_type": "fragment"
    },
    "tags": [
     "raises-exception"
    ]
   },
   "outputs": [
    {
     "ename": "AttributeError",
     "evalue": "'Series' object has no attribute 'year'",
     "output_type": "error",
     "traceback": [
      "\u001b[1;31m---------------------------------------------------------------------------\u001b[0m",
      "\u001b[1;31mAttributeError\u001b[0m                            Traceback (most recent call last)",
      "\u001b[1;32m<ipython-input-101-38c5e5dd7009>\u001b[0m in \u001b[0;36m<module>\u001b[1;34m\u001b[0m\n\u001b[1;32m----> 1\u001b[1;33m \u001b[0ms\u001b[0m\u001b[1;33m.\u001b[0m\u001b[0myear\u001b[0m  \u001b[1;31m# .dt 속성을 통하지 않으면 오류가 발생함\u001b[0m\u001b[1;33m\u001b[0m\u001b[1;33m\u001b[0m\u001b[0m\n\u001b[0m",
      "\u001b[1;32mC:\\anaconda3\\envs\\vd21\\lib\\site-packages\\pandas\\core\\generic.py\u001b[0m in \u001b[0;36m__getattr__\u001b[1;34m(self, name)\u001b[0m\n\u001b[0;32m   5476\u001b[0m         ):\n\u001b[0;32m   5477\u001b[0m             \u001b[1;32mreturn\u001b[0m \u001b[0mself\u001b[0m\u001b[1;33m[\u001b[0m\u001b[0mname\u001b[0m\u001b[1;33m]\u001b[0m\u001b[1;33m\u001b[0m\u001b[1;33m\u001b[0m\u001b[0m\n\u001b[1;32m-> 5478\u001b[1;33m         \u001b[1;32mreturn\u001b[0m \u001b[0mobject\u001b[0m\u001b[1;33m.\u001b[0m\u001b[0m__getattribute__\u001b[0m\u001b[1;33m(\u001b[0m\u001b[0mself\u001b[0m\u001b[1;33m,\u001b[0m \u001b[0mname\u001b[0m\u001b[1;33m)\u001b[0m\u001b[1;33m\u001b[0m\u001b[1;33m\u001b[0m\u001b[0m\n\u001b[0m\u001b[0;32m   5479\u001b[0m \u001b[1;33m\u001b[0m\u001b[0m\n\u001b[0;32m   5480\u001b[0m     \u001b[1;32mdef\u001b[0m \u001b[0m__setattr__\u001b[0m\u001b[1;33m(\u001b[0m\u001b[0mself\u001b[0m\u001b[1;33m,\u001b[0m \u001b[0mname\u001b[0m\u001b[1;33m:\u001b[0m \u001b[0mstr\u001b[0m\u001b[1;33m,\u001b[0m \u001b[0mvalue\u001b[0m\u001b[1;33m)\u001b[0m \u001b[1;33m->\u001b[0m \u001b[1;32mNone\u001b[0m\u001b[1;33m:\u001b[0m\u001b[1;33m\u001b[0m\u001b[1;33m\u001b[0m\u001b[0m\n",
      "\u001b[1;31mAttributeError\u001b[0m: 'Series' object has no attribute 'year'"
     ]
    }
   ],
   "source": [
    "s.year  # .dt 속성을 통하지 않으면 오류가 발생함"
   ]
  },
  {
   "cell_type": "code",
   "execution_count": 102,
   "metadata": {
    "slideshow": {
     "slide_type": "subslide"
    }
   },
   "outputs": [
    {
     "data": {
      "text/plain": [
       "0    2011\n",
       "1    2011\n",
       "2    2011\n",
       "dtype: int64"
      ]
     },
     "execution_count": 102,
     "metadata": {},
     "output_type": "execute_result"
    }
   ],
   "source": [
    "s.dt.year  # .dt 속성을 통해야 작동함"
   ]
  },
  {
   "cell_type": "markdown",
   "metadata": {
    "slideshow": {
     "slide_type": "fragment"
    }
   },
   "source": [
    "- 2.4.1 목에서 날짜/시간 자료에서 요소를 추출하는 방법을 공부했다. \n",
    "- 2.4.2 목에서 시차 및 시간대를 처리하는 방법을 공부하자. \n",
    "  \n",
    "<div style=\"page-break-after: always;\"></div> "
   ]
  },
  {
   "cell_type": "markdown",
   "metadata": {
    "slideshow": {
     "slide_type": "slide"
    }
   },
   "source": [
    "#### 2.4.2 시차 및 시간대"
   ]
  },
  {
   "cell_type": "markdown",
   "metadata": {
    "slideshow": {
     "slide_type": "subslide"
    }
   },
   "source": [
    "- 앞에서 `Timedelta`를 써서 특정 날짜와 시각에 대한  \n",
    "  덧셈/뺄셈을 수행하는 방법을 살펴 보았다. \n",
    "  - `Timedelta`는 절대 시간을 준용하는데,  \n",
    "    이렇게 하면 시간이 정규적이지 않은 일부 지역의 경우에는 문제가 될 수 있다.   \n",
    "  - 예를 들어서 캐나다에서는 3월 8일부터 일광 절약 시간제가 시작되는데,  \n",
    "    이때는 시계를 **한 시간 앞으로** 조정한다.  \n",
    "  - 이런 '달력 상의 시간' 문제는 절대 시간을 준용하는 `Timedelta`에서는 처리가 어렵다. "
   ]
  },
  {
   "cell_type": "code",
   "execution_count": 103,
   "metadata": {
    "scrolled": true,
    "slideshow": {
     "slide_type": "fragment"
    }
   },
   "outputs": [
    {
     "name": "stdout",
     "output_type": "stream",
     "text": [
      "t1: 2020-03-07 12:00:00-08:00\n",
      "t2: 2020-03-08 13:00:00-07:00\n"
     ]
    }
   ],
   "source": [
    "t1 = pd.Timestamp('2020-03-07 12:00:00', tz='Canada/Pacific')  # 3/7 정오를 캐나다 시간대로 지정\n",
    "t2 = t1 + pd.Timedelta(\"1 day\")                                # (일광 절약 시간제가 시작되는) 하루 뒤를 알고 싶음\n",
    "print(f\"t1: {t1}\")\n",
    "print(f\"t2: {t2}\")                                             # 시각이 12:00 -> 13:00로 변경됨"
   ]
  },
  {
   "cell_type": "markdown",
   "metadata": {
    "slideshow": {
     "slide_type": "subslide"
    }
   },
   "source": [
    "- `Timedelta` 대신에 `DateOffset`을 사용할 수 있다:"
   ]
  },
  {
   "cell_type": "code",
   "execution_count": 104,
   "metadata": {
    "slideshow": {
     "slide_type": "fragment"
    }
   },
   "outputs": [
    {
     "name": "stdout",
     "output_type": "stream",
     "text": [
      "t1: 2020-03-07 12:00:00-08:00\n",
      "t3: 2020-03-08 12:00:00-07:00\n"
     ]
    }
   ],
   "source": [
    "t3 = t1 + pd.DateOffset(days=1)\n",
    "print(f\"t1: {t1}\")\n",
    "print(f\"t3: {t3}\")                                             # 시각이 12:00에 머물러 있음"
   ]
  },
  {
   "cell_type": "markdown",
   "metadata": {
    "slideshow": {
     "slide_type": "fragment"
    }
   },
   "source": [
    "- 앞선 코드의 실행 결과에는 시간대(time zone)가 포함되어 있다.\n",
    "- 출력에서 이를 제거하려면 `.tz_localize(None)`를 쓴다. "
   ]
  },
  {
   "cell_type": "code",
   "execution_count": 105,
   "metadata": {
    "slideshow": {
     "slide_type": "fragment"
    }
   },
   "outputs": [
    {
     "name": "stdout",
     "output_type": "stream",
     "text": [
      "t1: 2020-03-07 12:00:00\n",
      "t2: 2020-03-08 13:00:00\n"
     ]
    }
   ],
   "source": [
    "t1 = pd.Timestamp('2020-03-07 12:00:00', tz='Canada/Pacific')  # tz 지정\n",
    "t2 = t1 + pd.Timedelta(\"1 day\")                                # 하루 뒤를 알고 싶음\n",
    "print(f\"t1: {t1.tz_localize(None)}\")\n",
    "print(f\"t2: {t2.tz_localize(None)}\")                           # 시각이 12:00 -> 13:00로 변경됨"
   ]
  },
  {
   "cell_type": "markdown",
   "metadata": {
    "slideshow": {
     "slide_type": "subslide"
    }
   },
   "source": [
    "- 앞선 예제에는 시간대(timezone) 정보가 출력에 포함되었다. \n",
    "    - 기본적으로 파이썬 datetime 객체는 시간대를 구별하지 않지만,  \n",
    "      판다스 Timestamp 객체는 시간대를 구별한다.  \n",
    "    - 앞선 예제와 같이 시간대를 지정하기 위하여  \n",
    "      `tz` 인수를 지정하거나,  \n",
    "      `tz_localize()` 메소드를 사용해야 한다:"
   ]
  },
  {
   "cell_type": "code",
   "execution_count": 106,
   "metadata": {
    "slideshow": {
     "slide_type": "fragment"
    }
   },
   "outputs": [
    {
     "name": "stdout",
     "output_type": "stream",
     "text": [
      "    시간대 지정 없는 경우: None\n",
      "캐나다 시간대 지정한 경우: Canada/Pacific\n",
      "캐나다 시간대 지정한 경우: Canada/Pacific\n",
      "  한국 시간대 지정한 경우: Asia/Seoul\n"
     ]
    }
   ],
   "source": [
    "# 아래 출력에서는 지정된 시간대를 확인하기 위하여 .tz 속성을 출력\n",
    "print(f\"    시간대 지정 없는 경우: {pd.Timestamp('2020-03-07 12:00:00').tz}\")\n",
    "print(f\"캐나다 시간대 지정한 경우: {pd.Timestamp('2020-03-07 12:00:00', tz='Canada/Pacific').tz}\")\n",
    "print(f\"캐나다 시간대 지정한 경우: {pd.Timestamp('2020-03-07 12:00:00').tz_localize('Canada/Pacific').tz}\")\n",
    "print(f\"  한국 시간대 지정한 경우: {pd.Timestamp('2020-03-07 12:00:00').tz_localize('Asia/Seoul').tz}\")"
   ]
  },
  {
   "cell_type": "markdown",
   "metadata": {
    "slideshow": {
     "slide_type": "subslide"
    }
   },
   "source": [
    "- `.tz_convert()` 메소드로 시간대를 변환할 수 있다.  \n",
    "  아마도 자전거 출퇴근 데이터의 시간이 조금 이상하다는 것을 이미 눈치챘을 것이다.:"
   ]
  },
  {
   "cell_type": "code",
   "execution_count": 107,
   "metadata": {
    "slideshow": {
     "slide_type": "fragment"
    }
   },
   "outputs": [
    {
     "data": {
      "text/html": [
       "<div>\n",
       "<style scoped>\n",
       "    .dataframe tbody tr th:only-of-type {\n",
       "        vertical-align: middle;\n",
       "    }\n",
       "\n",
       "    .dataframe tbody tr th {\n",
       "        vertical-align: top;\n",
       "    }\n",
       "\n",
       "    .dataframe thead th {\n",
       "        text-align: right;\n",
       "    }\n",
       "</style>\n",
       "<table border=\"1\" class=\"dataframe\">\n",
       "  <thead>\n",
       "    <tr style=\"text-align: right;\">\n",
       "      <th></th>\n",
       "      <th>Name</th>\n",
       "      <th>Type</th>\n",
       "      <th>Time</th>\n",
       "      <th>Distance</th>\n",
       "      <th>Comments</th>\n",
       "    </tr>\n",
       "    <tr>\n",
       "      <th>Date</th>\n",
       "      <th></th>\n",
       "      <th></th>\n",
       "      <th></th>\n",
       "      <th></th>\n",
       "      <th></th>\n",
       "    </tr>\n",
       "  </thead>\n",
       "  <tbody>\n",
       "    <tr>\n",
       "      <th>2019-09-10 00:13:04</th>\n",
       "      <td>Afternoon Ride</td>\n",
       "      <td>Ride</td>\n",
       "      <td>2084</td>\n",
       "      <td>12.62</td>\n",
       "      <td>Rain</td>\n",
       "    </tr>\n",
       "    <tr>\n",
       "      <th>2019-09-10 13:52:18</th>\n",
       "      <td>Morning Ride</td>\n",
       "      <td>Ride</td>\n",
       "      <td>2531</td>\n",
       "      <td>13.03</td>\n",
       "      <td>rain</td>\n",
       "    </tr>\n",
       "    <tr>\n",
       "      <th>2019-09-11 00:23:50</th>\n",
       "      <td>Afternoon Ride</td>\n",
       "      <td>Ride</td>\n",
       "      <td>1863</td>\n",
       "      <td>12.52</td>\n",
       "      <td>Wet road but nice weather</td>\n",
       "    </tr>\n",
       "    <tr>\n",
       "      <th>2019-09-11 14:06:19</th>\n",
       "      <td>Morning Ride</td>\n",
       "      <td>Ride</td>\n",
       "      <td>2192</td>\n",
       "      <td>12.84</td>\n",
       "      <td>Stopped for photo of sunrise</td>\n",
       "    </tr>\n",
       "    <tr>\n",
       "      <th>2019-09-12 00:28:05</th>\n",
       "      <td>Afternoon Ride</td>\n",
       "      <td>Ride</td>\n",
       "      <td>1891</td>\n",
       "      <td>12.48</td>\n",
       "      <td>Tired by the end of the week</td>\n",
       "    </tr>\n",
       "    <tr>\n",
       "      <th>...</th>\n",
       "      <td>...</td>\n",
       "      <td>...</td>\n",
       "      <td>...</td>\n",
       "      <td>...</td>\n",
       "      <td>...</td>\n",
       "    </tr>\n",
       "    <tr>\n",
       "      <th>2019-10-04 01:08:08</th>\n",
       "      <td>Afternoon Ride</td>\n",
       "      <td>Ride</td>\n",
       "      <td>1870</td>\n",
       "      <td>12.63</td>\n",
       "      <td>Very tired, riding into the wind</td>\n",
       "    </tr>\n",
       "    <tr>\n",
       "      <th>2019-10-09 13:55:40</th>\n",
       "      <td>Morning Ride</td>\n",
       "      <td>Ride</td>\n",
       "      <td>2149</td>\n",
       "      <td>12.70</td>\n",
       "      <td>Really cold! But feeling good</td>\n",
       "    </tr>\n",
       "    <tr>\n",
       "      <th>2019-10-10 00:10:31</th>\n",
       "      <td>Afternoon Ride</td>\n",
       "      <td>Ride</td>\n",
       "      <td>1841</td>\n",
       "      <td>12.59</td>\n",
       "      <td>Feeling good after a holiday break!</td>\n",
       "    </tr>\n",
       "    <tr>\n",
       "      <th>2019-10-10 13:47:14</th>\n",
       "      <td>Morning Ride</td>\n",
       "      <td>Ride</td>\n",
       "      <td>2463</td>\n",
       "      <td>12.79</td>\n",
       "      <td>Stopped for photo of sunrise</td>\n",
       "    </tr>\n",
       "    <tr>\n",
       "      <th>2019-10-11 00:16:57</th>\n",
       "      <td>Afternoon Ride</td>\n",
       "      <td>Ride</td>\n",
       "      <td>1843</td>\n",
       "      <td>11.79</td>\n",
       "      <td>Bike feeling tight, needs an oil and pump</td>\n",
       "    </tr>\n",
       "  </tbody>\n",
       "</table>\n",
       "<p>33 rows × 5 columns</p>\n",
       "</div>"
      ],
      "text/plain": [
       "                               Name  Type  Time  Distance  \\\n",
       "Date                                                        \n",
       "2019-09-10 00:13:04  Afternoon Ride  Ride  2084     12.62   \n",
       "2019-09-10 13:52:18    Morning Ride  Ride  2531     13.03   \n",
       "2019-09-11 00:23:50  Afternoon Ride  Ride  1863     12.52   \n",
       "2019-09-11 14:06:19    Morning Ride  Ride  2192     12.84   \n",
       "2019-09-12 00:28:05  Afternoon Ride  Ride  1891     12.48   \n",
       "...                             ...   ...   ...       ...   \n",
       "2019-10-04 01:08:08  Afternoon Ride  Ride  1870     12.63   \n",
       "2019-10-09 13:55:40    Morning Ride  Ride  2149     12.70   \n",
       "2019-10-10 00:10:31  Afternoon Ride  Ride  1841     12.59   \n",
       "2019-10-10 13:47:14    Morning Ride  Ride  2463     12.79   \n",
       "2019-10-11 00:16:57  Afternoon Ride  Ride  1843     11.79   \n",
       "\n",
       "                                                      Comments  \n",
       "Date                                                            \n",
       "2019-09-10 00:13:04                                       Rain  \n",
       "2019-09-10 13:52:18                                       rain  \n",
       "2019-09-11 00:23:50                  Wet road but nice weather  \n",
       "2019-09-11 14:06:19               Stopped for photo of sunrise  \n",
       "2019-09-12 00:28:05               Tired by the end of the week  \n",
       "...                                                        ...  \n",
       "2019-10-04 01:08:08           Very tired, riding into the wind  \n",
       "2019-10-09 13:55:40              Really cold! But feeling good  \n",
       "2019-10-10 00:10:31        Feeling good after a holiday break!  \n",
       "2019-10-10 13:47:14               Stopped for photo of sunrise  \n",
       "2019-10-11 00:16:57  Bike feeling tight, needs an oil and pump  \n",
       "\n",
       "[33 rows x 5 columns]"
      ]
     },
     "execution_count": 107,
     "metadata": {},
     "output_type": "execute_result"
    }
   ],
   "source": [
    "df = pd.read_csv('../data/cycling_data.csv', index_col=0, parse_dates=True)\n",
    "df"
   ]
  },
  {
   "cell_type": "markdown",
   "metadata": {
    "slideshow": {
     "slide_type": "subslide"
    }
   },
   "source": [
    "- 자정 무렵에 출근했을리는 없다.  \n",
    "  - 이 데이터의 시간대 설정은 오류가 있다. \n",
    "  - 이 데이터는 (의도적으로) 캐나다 시간을 호주 시간으로 변환해서 기록한 것이다. \n",
    "  - 잘못된 시간대를 수정해 보자:"
   ]
  },
  {
   "cell_type": "code",
   "execution_count": 108,
   "metadata": {
    "slideshow": {
     "slide_type": "fragment"
    }
   },
   "outputs": [
    {
     "data": {
      "text/html": [
       "<div>\n",
       "<style scoped>\n",
       "    .dataframe tbody tr th:only-of-type {\n",
       "        vertical-align: middle;\n",
       "    }\n",
       "\n",
       "    .dataframe tbody tr th {\n",
       "        vertical-align: top;\n",
       "    }\n",
       "\n",
       "    .dataframe thead th {\n",
       "        text-align: right;\n",
       "    }\n",
       "</style>\n",
       "<table border=\"1\" class=\"dataframe\">\n",
       "  <thead>\n",
       "    <tr style=\"text-align: right;\">\n",
       "      <th></th>\n",
       "      <th>Name</th>\n",
       "      <th>Type</th>\n",
       "      <th>Time</th>\n",
       "      <th>Distance</th>\n",
       "      <th>Comments</th>\n",
       "    </tr>\n",
       "    <tr>\n",
       "      <th>Date</th>\n",
       "      <th></th>\n",
       "      <th></th>\n",
       "      <th></th>\n",
       "      <th></th>\n",
       "      <th></th>\n",
       "    </tr>\n",
       "  </thead>\n",
       "  <tbody>\n",
       "    <tr>\n",
       "      <th>2019-09-10 00:13:04-07:00</th>\n",
       "      <td>Afternoon Ride</td>\n",
       "      <td>Ride</td>\n",
       "      <td>2084</td>\n",
       "      <td>12.62</td>\n",
       "      <td>Rain</td>\n",
       "    </tr>\n",
       "    <tr>\n",
       "      <th>2019-09-10 13:52:18-07:00</th>\n",
       "      <td>Morning Ride</td>\n",
       "      <td>Ride</td>\n",
       "      <td>2531</td>\n",
       "      <td>13.03</td>\n",
       "      <td>rain</td>\n",
       "    </tr>\n",
       "    <tr>\n",
       "      <th>2019-09-11 00:23:50-07:00</th>\n",
       "      <td>Afternoon Ride</td>\n",
       "      <td>Ride</td>\n",
       "      <td>1863</td>\n",
       "      <td>12.52</td>\n",
       "      <td>Wet road but nice weather</td>\n",
       "    </tr>\n",
       "    <tr>\n",
       "      <th>2019-09-11 14:06:19-07:00</th>\n",
       "      <td>Morning Ride</td>\n",
       "      <td>Ride</td>\n",
       "      <td>2192</td>\n",
       "      <td>12.84</td>\n",
       "      <td>Stopped for photo of sunrise</td>\n",
       "    </tr>\n",
       "    <tr>\n",
       "      <th>2019-09-12 00:28:05-07:00</th>\n",
       "      <td>Afternoon Ride</td>\n",
       "      <td>Ride</td>\n",
       "      <td>1891</td>\n",
       "      <td>12.48</td>\n",
       "      <td>Tired by the end of the week</td>\n",
       "    </tr>\n",
       "    <tr>\n",
       "      <th>...</th>\n",
       "      <td>...</td>\n",
       "      <td>...</td>\n",
       "      <td>...</td>\n",
       "      <td>...</td>\n",
       "      <td>...</td>\n",
       "    </tr>\n",
       "    <tr>\n",
       "      <th>2019-10-04 01:08:08-07:00</th>\n",
       "      <td>Afternoon Ride</td>\n",
       "      <td>Ride</td>\n",
       "      <td>1870</td>\n",
       "      <td>12.63</td>\n",
       "      <td>Very tired, riding into the wind</td>\n",
       "    </tr>\n",
       "    <tr>\n",
       "      <th>2019-10-09 13:55:40-07:00</th>\n",
       "      <td>Morning Ride</td>\n",
       "      <td>Ride</td>\n",
       "      <td>2149</td>\n",
       "      <td>12.70</td>\n",
       "      <td>Really cold! But feeling good</td>\n",
       "    </tr>\n",
       "    <tr>\n",
       "      <th>2019-10-10 00:10:31-07:00</th>\n",
       "      <td>Afternoon Ride</td>\n",
       "      <td>Ride</td>\n",
       "      <td>1841</td>\n",
       "      <td>12.59</td>\n",
       "      <td>Feeling good after a holiday break!</td>\n",
       "    </tr>\n",
       "    <tr>\n",
       "      <th>2019-10-10 13:47:14-07:00</th>\n",
       "      <td>Morning Ride</td>\n",
       "      <td>Ride</td>\n",
       "      <td>2463</td>\n",
       "      <td>12.79</td>\n",
       "      <td>Stopped for photo of sunrise</td>\n",
       "    </tr>\n",
       "    <tr>\n",
       "      <th>2019-10-11 00:16:57-07:00</th>\n",
       "      <td>Afternoon Ride</td>\n",
       "      <td>Ride</td>\n",
       "      <td>1843</td>\n",
       "      <td>11.79</td>\n",
       "      <td>Bike feeling tight, needs an oil and pump</td>\n",
       "    </tr>\n",
       "  </tbody>\n",
       "</table>\n",
       "<p>33 rows × 5 columns</p>\n",
       "</div>"
      ],
      "text/plain": [
       "                                     Name  Type  Time  Distance  \\\n",
       "Date                                                              \n",
       "2019-09-10 00:13:04-07:00  Afternoon Ride  Ride  2084     12.62   \n",
       "2019-09-10 13:52:18-07:00    Morning Ride  Ride  2531     13.03   \n",
       "2019-09-11 00:23:50-07:00  Afternoon Ride  Ride  1863     12.52   \n",
       "2019-09-11 14:06:19-07:00    Morning Ride  Ride  2192     12.84   \n",
       "2019-09-12 00:28:05-07:00  Afternoon Ride  Ride  1891     12.48   \n",
       "...                                   ...   ...   ...       ...   \n",
       "2019-10-04 01:08:08-07:00  Afternoon Ride  Ride  1870     12.63   \n",
       "2019-10-09 13:55:40-07:00    Morning Ride  Ride  2149     12.70   \n",
       "2019-10-10 00:10:31-07:00  Afternoon Ride  Ride  1841     12.59   \n",
       "2019-10-10 13:47:14-07:00    Morning Ride  Ride  2463     12.79   \n",
       "2019-10-11 00:16:57-07:00  Afternoon Ride  Ride  1843     11.79   \n",
       "\n",
       "                                                            Comments  \n",
       "Date                                                                  \n",
       "2019-09-10 00:13:04-07:00                                       Rain  \n",
       "2019-09-10 13:52:18-07:00                                       rain  \n",
       "2019-09-11 00:23:50-07:00                  Wet road but nice weather  \n",
       "2019-09-11 14:06:19-07:00               Stopped for photo of sunrise  \n",
       "2019-09-12 00:28:05-07:00               Tired by the end of the week  \n",
       "...                                                              ...  \n",
       "2019-10-04 01:08:08-07:00           Very tired, riding into the wind  \n",
       "2019-10-09 13:55:40-07:00              Really cold! But feeling good  \n",
       "2019-10-10 00:10:31-07:00        Feeling good after a holiday break!  \n",
       "2019-10-10 13:47:14-07:00               Stopped for photo of sunrise  \n",
       "2019-10-11 00:16:57-07:00  Bike feeling tight, needs an oil and pump  \n",
       "\n",
       "[33 rows x 5 columns]"
      ]
     },
     "execution_count": 108,
     "metadata": {},
     "output_type": "execute_result"
    }
   ],
   "source": [
    "df.index = df.index.tz_localize(\"Canada/Pacific\")   # 캐나다 시간대로 지정하면,  \n",
    "df                                                  # 오후와 아침이 시각과 불일치"
   ]
  },
  {
   "cell_type": "code",
   "execution_count": 109,
   "metadata": {
    "slideshow": {
     "slide_type": "subslide"
    }
   },
   "outputs": [
    {
     "data": {
      "text/html": [
       "<div>\n",
       "<style scoped>\n",
       "    .dataframe tbody tr th:only-of-type {\n",
       "        vertical-align: middle;\n",
       "    }\n",
       "\n",
       "    .dataframe tbody tr th {\n",
       "        vertical-align: top;\n",
       "    }\n",
       "\n",
       "    .dataframe thead th {\n",
       "        text-align: right;\n",
       "    }\n",
       "</style>\n",
       "<table border=\"1\" class=\"dataframe\">\n",
       "  <thead>\n",
       "    <tr style=\"text-align: right;\">\n",
       "      <th></th>\n",
       "      <th>Name</th>\n",
       "      <th>Type</th>\n",
       "      <th>Time</th>\n",
       "      <th>Distance</th>\n",
       "      <th>Comments</th>\n",
       "    </tr>\n",
       "    <tr>\n",
       "      <th>Date</th>\n",
       "      <th></th>\n",
       "      <th></th>\n",
       "      <th></th>\n",
       "      <th></th>\n",
       "      <th></th>\n",
       "    </tr>\n",
       "  </thead>\n",
       "  <tbody>\n",
       "    <tr>\n",
       "      <th>2019-09-10 17:13:04+10:00</th>\n",
       "      <td>Afternoon Ride</td>\n",
       "      <td>Ride</td>\n",
       "      <td>2084</td>\n",
       "      <td>12.62</td>\n",
       "      <td>Rain</td>\n",
       "    </tr>\n",
       "    <tr>\n",
       "      <th>2019-09-11 06:52:18+10:00</th>\n",
       "      <td>Morning Ride</td>\n",
       "      <td>Ride</td>\n",
       "      <td>2531</td>\n",
       "      <td>13.03</td>\n",
       "      <td>rain</td>\n",
       "    </tr>\n",
       "    <tr>\n",
       "      <th>2019-09-11 17:23:50+10:00</th>\n",
       "      <td>Afternoon Ride</td>\n",
       "      <td>Ride</td>\n",
       "      <td>1863</td>\n",
       "      <td>12.52</td>\n",
       "      <td>Wet road but nice weather</td>\n",
       "    </tr>\n",
       "    <tr>\n",
       "      <th>2019-09-12 07:06:19+10:00</th>\n",
       "      <td>Morning Ride</td>\n",
       "      <td>Ride</td>\n",
       "      <td>2192</td>\n",
       "      <td>12.84</td>\n",
       "      <td>Stopped for photo of sunrise</td>\n",
       "    </tr>\n",
       "    <tr>\n",
       "      <th>2019-09-12 17:28:05+10:00</th>\n",
       "      <td>Afternoon Ride</td>\n",
       "      <td>Ride</td>\n",
       "      <td>1891</td>\n",
       "      <td>12.48</td>\n",
       "      <td>Tired by the end of the week</td>\n",
       "    </tr>\n",
       "    <tr>\n",
       "      <th>...</th>\n",
       "      <td>...</td>\n",
       "      <td>...</td>\n",
       "      <td>...</td>\n",
       "      <td>...</td>\n",
       "      <td>...</td>\n",
       "    </tr>\n",
       "    <tr>\n",
       "      <th>2019-10-04 18:08:08+10:00</th>\n",
       "      <td>Afternoon Ride</td>\n",
       "      <td>Ride</td>\n",
       "      <td>1870</td>\n",
       "      <td>12.63</td>\n",
       "      <td>Very tired, riding into the wind</td>\n",
       "    </tr>\n",
       "    <tr>\n",
       "      <th>2019-10-10 07:55:40+11:00</th>\n",
       "      <td>Morning Ride</td>\n",
       "      <td>Ride</td>\n",
       "      <td>2149</td>\n",
       "      <td>12.70</td>\n",
       "      <td>Really cold! But feeling good</td>\n",
       "    </tr>\n",
       "    <tr>\n",
       "      <th>2019-10-10 18:10:31+11:00</th>\n",
       "      <td>Afternoon Ride</td>\n",
       "      <td>Ride</td>\n",
       "      <td>1841</td>\n",
       "      <td>12.59</td>\n",
       "      <td>Feeling good after a holiday break!</td>\n",
       "    </tr>\n",
       "    <tr>\n",
       "      <th>2019-10-11 07:47:14+11:00</th>\n",
       "      <td>Morning Ride</td>\n",
       "      <td>Ride</td>\n",
       "      <td>2463</td>\n",
       "      <td>12.79</td>\n",
       "      <td>Stopped for photo of sunrise</td>\n",
       "    </tr>\n",
       "    <tr>\n",
       "      <th>2019-10-11 18:16:57+11:00</th>\n",
       "      <td>Afternoon Ride</td>\n",
       "      <td>Ride</td>\n",
       "      <td>1843</td>\n",
       "      <td>11.79</td>\n",
       "      <td>Bike feeling tight, needs an oil and pump</td>\n",
       "    </tr>\n",
       "  </tbody>\n",
       "</table>\n",
       "<p>33 rows × 5 columns</p>\n",
       "</div>"
      ],
      "text/plain": [
       "                                     Name  Type  Time  Distance  \\\n",
       "Date                                                              \n",
       "2019-09-10 17:13:04+10:00  Afternoon Ride  Ride  2084     12.62   \n",
       "2019-09-11 06:52:18+10:00    Morning Ride  Ride  2531     13.03   \n",
       "2019-09-11 17:23:50+10:00  Afternoon Ride  Ride  1863     12.52   \n",
       "2019-09-12 07:06:19+10:00    Morning Ride  Ride  2192     12.84   \n",
       "2019-09-12 17:28:05+10:00  Afternoon Ride  Ride  1891     12.48   \n",
       "...                                   ...   ...   ...       ...   \n",
       "2019-10-04 18:08:08+10:00  Afternoon Ride  Ride  1870     12.63   \n",
       "2019-10-10 07:55:40+11:00    Morning Ride  Ride  2149     12.70   \n",
       "2019-10-10 18:10:31+11:00  Afternoon Ride  Ride  1841     12.59   \n",
       "2019-10-11 07:47:14+11:00    Morning Ride  Ride  2463     12.79   \n",
       "2019-10-11 18:16:57+11:00  Afternoon Ride  Ride  1843     11.79   \n",
       "\n",
       "                                                            Comments  \n",
       "Date                                                                  \n",
       "2019-09-10 17:13:04+10:00                                       Rain  \n",
       "2019-09-11 06:52:18+10:00                                       rain  \n",
       "2019-09-11 17:23:50+10:00                  Wet road but nice weather  \n",
       "2019-09-12 07:06:19+10:00               Stopped for photo of sunrise  \n",
       "2019-09-12 17:28:05+10:00               Tired by the end of the week  \n",
       "...                                                              ...  \n",
       "2019-10-04 18:08:08+10:00           Very tired, riding into the wind  \n",
       "2019-10-10 07:55:40+11:00              Really cold! But feeling good  \n",
       "2019-10-10 18:10:31+11:00        Feeling good after a holiday break!  \n",
       "2019-10-11 07:47:14+11:00               Stopped for photo of sunrise  \n",
       "2019-10-11 18:16:57+11:00  Bike feeling tight, needs an oil and pump  \n",
       "\n",
       "[33 rows x 5 columns]"
      ]
     },
     "execution_count": 109,
     "metadata": {},
     "output_type": "execute_result"
    }
   ],
   "source": [
    "df.index = df.index.tz_convert(\"Australia/Sydney\")  # 호주 시간대로 지정하면, \n",
    "df                                                  # 오후와 아침이 시각과 일치함"
   ]
  },
  {
   "cell_type": "markdown",
   "metadata": {
    "slideshow": {
     "slide_type": "subslide"
    }
   },
   "source": [
    "- 적용해야 하는 시차(offset)를 알고 있다면, 이 경우에는 -7 시간인데,  \n",
    "  `DateOffset`을 사용해서 처리할 수도 있다:"
   ]
  },
  {
   "cell_type": "code",
   "execution_count": 110,
   "metadata": {
    "slideshow": {
     "slide_type": "fragment"
    }
   },
   "outputs": [
    {
     "data": {
      "text/html": [
       "<div>\n",
       "<style scoped>\n",
       "    .dataframe tbody tr th:only-of-type {\n",
       "        vertical-align: middle;\n",
       "    }\n",
       "\n",
       "    .dataframe tbody tr th {\n",
       "        vertical-align: top;\n",
       "    }\n",
       "\n",
       "    .dataframe thead th {\n",
       "        text-align: right;\n",
       "    }\n",
       "</style>\n",
       "<table border=\"1\" class=\"dataframe\">\n",
       "  <thead>\n",
       "    <tr style=\"text-align: right;\">\n",
       "      <th></th>\n",
       "      <th>Name</th>\n",
       "      <th>Type</th>\n",
       "      <th>Time</th>\n",
       "      <th>Distance</th>\n",
       "      <th>Comments</th>\n",
       "    </tr>\n",
       "    <tr>\n",
       "      <th>Date</th>\n",
       "      <th></th>\n",
       "      <th></th>\n",
       "      <th></th>\n",
       "      <th></th>\n",
       "      <th></th>\n",
       "    </tr>\n",
       "  </thead>\n",
       "  <tbody>\n",
       "    <tr>\n",
       "      <th>2019-09-09 17:13:04</th>\n",
       "      <td>Afternoon Ride</td>\n",
       "      <td>Ride</td>\n",
       "      <td>2084</td>\n",
       "      <td>12.62</td>\n",
       "      <td>Rain</td>\n",
       "    </tr>\n",
       "    <tr>\n",
       "      <th>2019-09-10 06:52:18</th>\n",
       "      <td>Morning Ride</td>\n",
       "      <td>Ride</td>\n",
       "      <td>2531</td>\n",
       "      <td>13.03</td>\n",
       "      <td>rain</td>\n",
       "    </tr>\n",
       "    <tr>\n",
       "      <th>2019-09-10 17:23:50</th>\n",
       "      <td>Afternoon Ride</td>\n",
       "      <td>Ride</td>\n",
       "      <td>1863</td>\n",
       "      <td>12.52</td>\n",
       "      <td>Wet road but nice weather</td>\n",
       "    </tr>\n",
       "    <tr>\n",
       "      <th>2019-09-11 07:06:19</th>\n",
       "      <td>Morning Ride</td>\n",
       "      <td>Ride</td>\n",
       "      <td>2192</td>\n",
       "      <td>12.84</td>\n",
       "      <td>Stopped for photo of sunrise</td>\n",
       "    </tr>\n",
       "    <tr>\n",
       "      <th>2019-09-11 17:28:05</th>\n",
       "      <td>Afternoon Ride</td>\n",
       "      <td>Ride</td>\n",
       "      <td>1891</td>\n",
       "      <td>12.48</td>\n",
       "      <td>Tired by the end of the week</td>\n",
       "    </tr>\n",
       "    <tr>\n",
       "      <th>...</th>\n",
       "      <td>...</td>\n",
       "      <td>...</td>\n",
       "      <td>...</td>\n",
       "      <td>...</td>\n",
       "      <td>...</td>\n",
       "    </tr>\n",
       "    <tr>\n",
       "      <th>2019-10-03 18:08:08</th>\n",
       "      <td>Afternoon Ride</td>\n",
       "      <td>Ride</td>\n",
       "      <td>1870</td>\n",
       "      <td>12.63</td>\n",
       "      <td>Very tired, riding into the wind</td>\n",
       "    </tr>\n",
       "    <tr>\n",
       "      <th>2019-10-09 06:55:40</th>\n",
       "      <td>Morning Ride</td>\n",
       "      <td>Ride</td>\n",
       "      <td>2149</td>\n",
       "      <td>12.70</td>\n",
       "      <td>Really cold! But feeling good</td>\n",
       "    </tr>\n",
       "    <tr>\n",
       "      <th>2019-10-09 17:10:31</th>\n",
       "      <td>Afternoon Ride</td>\n",
       "      <td>Ride</td>\n",
       "      <td>1841</td>\n",
       "      <td>12.59</td>\n",
       "      <td>Feeling good after a holiday break!</td>\n",
       "    </tr>\n",
       "    <tr>\n",
       "      <th>2019-10-10 06:47:14</th>\n",
       "      <td>Morning Ride</td>\n",
       "      <td>Ride</td>\n",
       "      <td>2463</td>\n",
       "      <td>12.79</td>\n",
       "      <td>Stopped for photo of sunrise</td>\n",
       "    </tr>\n",
       "    <tr>\n",
       "      <th>2019-10-10 17:16:57</th>\n",
       "      <td>Afternoon Ride</td>\n",
       "      <td>Ride</td>\n",
       "      <td>1843</td>\n",
       "      <td>11.79</td>\n",
       "      <td>Bike feeling tight, needs an oil and pump</td>\n",
       "    </tr>\n",
       "  </tbody>\n",
       "</table>\n",
       "<p>33 rows × 5 columns</p>\n",
       "</div>"
      ],
      "text/plain": [
       "                               Name  Type  Time  Distance  \\\n",
       "Date                                                        \n",
       "2019-09-09 17:13:04  Afternoon Ride  Ride  2084     12.62   \n",
       "2019-09-10 06:52:18    Morning Ride  Ride  2531     13.03   \n",
       "2019-09-10 17:23:50  Afternoon Ride  Ride  1863     12.52   \n",
       "2019-09-11 07:06:19    Morning Ride  Ride  2192     12.84   \n",
       "2019-09-11 17:28:05  Afternoon Ride  Ride  1891     12.48   \n",
       "...                             ...   ...   ...       ...   \n",
       "2019-10-03 18:08:08  Afternoon Ride  Ride  1870     12.63   \n",
       "2019-10-09 06:55:40    Morning Ride  Ride  2149     12.70   \n",
       "2019-10-09 17:10:31  Afternoon Ride  Ride  1841     12.59   \n",
       "2019-10-10 06:47:14    Morning Ride  Ride  2463     12.79   \n",
       "2019-10-10 17:16:57  Afternoon Ride  Ride  1843     11.79   \n",
       "\n",
       "                                                      Comments  \n",
       "Date                                                            \n",
       "2019-09-09 17:13:04                                       Rain  \n",
       "2019-09-10 06:52:18                                       rain  \n",
       "2019-09-10 17:23:50                  Wet road but nice weather  \n",
       "2019-09-11 07:06:19               Stopped for photo of sunrise  \n",
       "2019-09-11 17:28:05               Tired by the end of the week  \n",
       "...                                                        ...  \n",
       "2019-10-03 18:08:08           Very tired, riding into the wind  \n",
       "2019-10-09 06:55:40              Really cold! But feeling good  \n",
       "2019-10-09 17:10:31        Feeling good after a holiday break!  \n",
       "2019-10-10 06:47:14               Stopped for photo of sunrise  \n",
       "2019-10-10 17:16:57  Bike feeling tight, needs an oil and pump  \n",
       "\n",
       "[33 rows x 5 columns]"
      ]
     },
     "execution_count": 110,
     "metadata": {},
     "output_type": "execute_result"
    }
   ],
   "source": [
    "df = pd.read_csv('../data/cycling_data.csv', index_col=0, parse_dates=True)  # 다시 입력하고\n",
    "df.index = df.index + pd.DateOffset(hours=-7)                                # 시차 적용\n",
    "df"
   ]
  },
  {
   "cell_type": "markdown",
   "metadata": {
    "slideshow": {
     "slide_type": "fragment"
    }
   },
   "source": [
    "- 2.4.2 목에서 시차 및 시간대를 처리하는 방법을 공부했다. \n",
    "- 2.4.3 목에서 재추출 및 집계를 처리하는 방법을 공부하자. \n",
    "  \n",
    "<div style=\"page-break-after: always;\"></div> "
   ]
  },
  {
   "cell_type": "markdown",
   "metadata": {
    "slideshow": {
     "slide_type": "slide"
    }
   },
   "source": [
    "#### 2.4.3 재추출 및 집계"
   ]
  },
  {
   "cell_type": "markdown",
   "metadata": {
    "slideshow": {
     "slide_type": "subslide"
    }
   },
   "source": [
    "- 시계열 데이터에서 자주 사용하는 작업으로 재추출(resampling)이 있는데,  \n",
    "  이는 시계열 데이터의 시간 간격을 넓게 또는 좁게 조정하여  \n",
    "  다시 집계(aggregating)하려는 의도이다. \n",
    "- 예를 들자면, `.resample()` 메소드를 써서  \n",
    "  일별 데이터를 주별 데이터로 재추출하는 것이다. \n",
    "- [재추출 및 집계에 관한 한글 자료](https://rfriend.tistory.com/494)를 참고하라. \n",
    "- 아래에서는 자전거 출퇴근 시계열 데이터를  \n",
    "  1일 주기의 시계열 데이터로 재추출하여 집계해보자:"
   ]
  },
  {
   "cell_type": "code",
   "execution_count": 111,
   "metadata": {
    "slideshow": {
     "slide_type": "subslide"
    }
   },
   "outputs": [
    {
     "data": {
      "text/plain": [
       "DatetimeIndex(['2019-09-09 17:13:04', '2019-09-10 06:52:18',\n",
       "               '2019-09-10 17:23:50', '2019-09-11 07:06:19',\n",
       "               '2019-09-11 17:28:05', '2019-09-16 06:57:48',\n",
       "               '2019-09-16 17:15:47', '2019-09-17 06:43:34',\n",
       "               '2019-09-18 06:49:53', '2019-09-17 17:15:52',\n",
       "               '2019-09-18 17:30:01', '2019-09-19 06:52:09',\n",
       "               '2019-09-19 18:02:05', '2019-09-23 06:50:41',\n",
       "               '2019-09-23 17:35:42', '2019-09-24 06:41:24',\n",
       "               '2019-09-24 17:07:21', '2019-09-25 06:35:41',\n",
       "               '2019-09-25 17:13:33', '2019-09-26 06:42:43',\n",
       "               '2019-09-26 18:00:18', '2019-09-30 06:53:52',\n",
       "               '2019-09-30 17:15:07', '2019-10-01 06:45:55',\n",
       "               '2019-10-01 17:13:09', '2019-10-02 06:46:06',\n",
       "               '2019-10-02 17:45:22', '2019-10-03 06:47:36',\n",
       "               '2019-10-03 18:08:08', '2019-10-09 06:55:40',\n",
       "               '2019-10-09 17:10:31', '2019-10-10 06:47:14',\n",
       "               '2019-10-10 17:16:57'],\n",
       "              dtype='datetime64[ns]', name='Date', freq=None)"
      ]
     },
     "execution_count": 111,
     "metadata": {},
     "output_type": "execute_result"
    }
   ],
   "source": [
    "df.index          # 원 인덱스 확인"
   ]
  },
  {
   "cell_type": "code",
   "execution_count": 112,
   "metadata": {
    "slideshow": {
     "slide_type": "fragment"
    }
   },
   "outputs": [
    {
     "data": {
      "text/plain": [
       "<pandas.core.resample.DatetimeIndexResampler object at 0x000001BE19259130>"
      ]
     },
     "execution_count": 112,
     "metadata": {},
     "output_type": "execute_result"
    }
   ],
   "source": [
    "df.resample(\"1D\")  # 하루 주기로 재추출"
   ]
  },
  {
   "cell_type": "markdown",
   "metadata": {
    "slideshow": {
     "slide_type": "subslide"
    }
   },
   "source": [
    "- `resample` 객체는 지난 장에서 공부했던 `groupby` 객체와 비슷하게 활용할 수 있다.  \n",
    "  `groupby` 객체에서 했던 것처럼,  \n",
    "  재추출을 통해 조정된 주기로 재 그룹핑된 시계열 데이터에 대하여  \n",
    "  집계 함수를 적용한다: "
   ]
  },
  {
   "cell_type": "code",
   "execution_count": 113,
   "metadata": {
    "scrolled": true,
    "slideshow": {
     "slide_type": "fragment"
    }
   },
   "outputs": [
    {
     "data": {
      "text/html": [
       "<div>\n",
       "<style scoped>\n",
       "    .dataframe tbody tr th:only-of-type {\n",
       "        vertical-align: middle;\n",
       "    }\n",
       "\n",
       "    .dataframe tbody tr th {\n",
       "        vertical-align: top;\n",
       "    }\n",
       "\n",
       "    .dataframe thead th {\n",
       "        text-align: right;\n",
       "    }\n",
       "</style>\n",
       "<table border=\"1\" class=\"dataframe\">\n",
       "  <thead>\n",
       "    <tr style=\"text-align: right;\">\n",
       "      <th></th>\n",
       "      <th>Time</th>\n",
       "      <th>Distance</th>\n",
       "    </tr>\n",
       "    <tr>\n",
       "      <th>Date</th>\n",
       "      <th></th>\n",
       "      <th></th>\n",
       "    </tr>\n",
       "  </thead>\n",
       "  <tbody>\n",
       "    <tr>\n",
       "      <th>2019-09-09 17:13:04</th>\n",
       "      <td>2084</td>\n",
       "      <td>12.62</td>\n",
       "    </tr>\n",
       "    <tr>\n",
       "      <th>2019-09-10 06:52:18</th>\n",
       "      <td>2531</td>\n",
       "      <td>13.03</td>\n",
       "    </tr>\n",
       "    <tr>\n",
       "      <th>2019-09-10 17:23:50</th>\n",
       "      <td>1863</td>\n",
       "      <td>12.52</td>\n",
       "    </tr>\n",
       "    <tr>\n",
       "      <th>2019-09-11 07:06:19</th>\n",
       "      <td>2192</td>\n",
       "      <td>12.84</td>\n",
       "    </tr>\n",
       "    <tr>\n",
       "      <th>2019-09-11 17:28:05</th>\n",
       "      <td>1891</td>\n",
       "      <td>12.48</td>\n",
       "    </tr>\n",
       "    <tr>\n",
       "      <th>...</th>\n",
       "      <td>...</td>\n",
       "      <td>...</td>\n",
       "    </tr>\n",
       "    <tr>\n",
       "      <th>2019-10-03 18:08:08</th>\n",
       "      <td>1870</td>\n",
       "      <td>12.63</td>\n",
       "    </tr>\n",
       "    <tr>\n",
       "      <th>2019-10-09 06:55:40</th>\n",
       "      <td>2149</td>\n",
       "      <td>12.70</td>\n",
       "    </tr>\n",
       "    <tr>\n",
       "      <th>2019-10-09 17:10:31</th>\n",
       "      <td>1841</td>\n",
       "      <td>12.59</td>\n",
       "    </tr>\n",
       "    <tr>\n",
       "      <th>2019-10-10 06:47:14</th>\n",
       "      <td>2463</td>\n",
       "      <td>12.79</td>\n",
       "    </tr>\n",
       "    <tr>\n",
       "      <th>2019-10-10 17:16:57</th>\n",
       "      <td>1843</td>\n",
       "      <td>11.79</td>\n",
       "    </tr>\n",
       "  </tbody>\n",
       "</table>\n",
       "<p>33 rows × 2 columns</p>\n",
       "</div>"
      ],
      "text/plain": [
       "                     Time  Distance\n",
       "Date                               \n",
       "2019-09-09 17:13:04  2084     12.62\n",
       "2019-09-10 06:52:18  2531     13.03\n",
       "2019-09-10 17:23:50  1863     12.52\n",
       "2019-09-11 07:06:19  2192     12.84\n",
       "2019-09-11 17:28:05  1891     12.48\n",
       "...                   ...       ...\n",
       "2019-10-03 18:08:08  1870     12.63\n",
       "2019-10-09 06:55:40  2149     12.70\n",
       "2019-10-09 17:10:31  1841     12.59\n",
       "2019-10-10 06:47:14  2463     12.79\n",
       "2019-10-10 17:16:57  1843     11.79\n",
       "\n",
       "[33 rows x 2 columns]"
      ]
     },
     "execution_count": 113,
     "metadata": {},
     "output_type": "execute_result"
    }
   ],
   "source": [
    "df[['Time', 'Distance']]       # 원 자료를 다시 확인하면 보통 하루에 2건씩 기록된 자료"
   ]
  },
  {
   "cell_type": "code",
   "execution_count": 114,
   "metadata": {
    "scrolled": true,
    "slideshow": {
     "slide_type": "subslide"
    }
   },
   "outputs": [
    {
     "data": {
      "text/html": [
       "<div>\n",
       "<style scoped>\n",
       "    .dataframe tbody tr th:only-of-type {\n",
       "        vertical-align: middle;\n",
       "    }\n",
       "\n",
       "    .dataframe tbody tr th {\n",
       "        vertical-align: top;\n",
       "    }\n",
       "\n",
       "    .dataframe thead th {\n",
       "        text-align: right;\n",
       "    }\n",
       "</style>\n",
       "<table border=\"1\" class=\"dataframe\">\n",
       "  <thead>\n",
       "    <tr style=\"text-align: right;\">\n",
       "      <th></th>\n",
       "      <th>Time</th>\n",
       "      <th>Distance</th>\n",
       "    </tr>\n",
       "    <tr>\n",
       "      <th>Date</th>\n",
       "      <th></th>\n",
       "      <th></th>\n",
       "    </tr>\n",
       "  </thead>\n",
       "  <tbody>\n",
       "    <tr>\n",
       "      <th>2019-09-09</th>\n",
       "      <td>2084.0</td>\n",
       "      <td>12.620</td>\n",
       "    </tr>\n",
       "    <tr>\n",
       "      <th>2019-09-10</th>\n",
       "      <td>2197.0</td>\n",
       "      <td>12.775</td>\n",
       "    </tr>\n",
       "    <tr>\n",
       "      <th>2019-09-11</th>\n",
       "      <td>2041.5</td>\n",
       "      <td>12.660</td>\n",
       "    </tr>\n",
       "    <tr>\n",
       "      <th>2019-09-12</th>\n",
       "      <td>NaN</td>\n",
       "      <td>NaN</td>\n",
       "    </tr>\n",
       "    <tr>\n",
       "      <th>2019-09-13</th>\n",
       "      <td>NaN</td>\n",
       "      <td>NaN</td>\n",
       "    </tr>\n",
       "    <tr>\n",
       "      <th>...</th>\n",
       "      <td>...</td>\n",
       "      <td>...</td>\n",
       "    </tr>\n",
       "    <tr>\n",
       "      <th>2019-10-06</th>\n",
       "      <td>NaN</td>\n",
       "      <td>NaN</td>\n",
       "    </tr>\n",
       "    <tr>\n",
       "      <th>2019-10-07</th>\n",
       "      <td>NaN</td>\n",
       "      <td>NaN</td>\n",
       "    </tr>\n",
       "    <tr>\n",
       "      <th>2019-10-08</th>\n",
       "      <td>NaN</td>\n",
       "      <td>NaN</td>\n",
       "    </tr>\n",
       "    <tr>\n",
       "      <th>2019-10-09</th>\n",
       "      <td>1995.0</td>\n",
       "      <td>12.645</td>\n",
       "    </tr>\n",
       "    <tr>\n",
       "      <th>2019-10-10</th>\n",
       "      <td>2153.0</td>\n",
       "      <td>12.290</td>\n",
       "    </tr>\n",
       "  </tbody>\n",
       "</table>\n",
       "<p>32 rows × 2 columns</p>\n",
       "</div>"
      ],
      "text/plain": [
       "              Time  Distance\n",
       "Date                        \n",
       "2019-09-09  2084.0    12.620\n",
       "2019-09-10  2197.0    12.775\n",
       "2019-09-11  2041.5    12.660\n",
       "2019-09-12     NaN       NaN\n",
       "2019-09-13     NaN       NaN\n",
       "...            ...       ...\n",
       "2019-10-06     NaN       NaN\n",
       "2019-10-07     NaN       NaN\n",
       "2019-10-08     NaN       NaN\n",
       "2019-10-09  1995.0    12.645\n",
       "2019-10-10  2153.0    12.290\n",
       "\n",
       "[32 rows x 2 columns]"
      ]
     },
     "execution_count": 114,
     "metadata": {},
     "output_type": "execute_result"
    }
   ],
   "source": [
    "dfr = df.resample(\"1D\").mean()  # 재추출 및 재집계한 자료에 NaN이 많이 보임       \n",
    "dfr"
   ]
  },
  {
   "cell_type": "markdown",
   "metadata": {
    "slideshow": {
     "slide_type": "subslide"
    }
   },
   "source": [
    "- `NaN`이 꽤 많이 보인다.  \n",
    "  주말이나 휴일에는 출근하지 않았을 것이다.  \n",
    "  요일을 추가하여 확인하여 보자."
   ]
  },
  {
   "cell_type": "code",
   "execution_count": 115,
   "metadata": {
    "scrolled": true,
    "slideshow": {
     "slide_type": "fragment"
    }
   },
   "outputs": [
    {
     "data": {
      "text/html": [
       "<div>\n",
       "<style scoped>\n",
       "    .dataframe tbody tr th:only-of-type {\n",
       "        vertical-align: middle;\n",
       "    }\n",
       "\n",
       "    .dataframe tbody tr th {\n",
       "        vertical-align: top;\n",
       "    }\n",
       "\n",
       "    .dataframe thead th {\n",
       "        text-align: right;\n",
       "    }\n",
       "</style>\n",
       "<table border=\"1\" class=\"dataframe\">\n",
       "  <thead>\n",
       "    <tr style=\"text-align: right;\">\n",
       "      <th></th>\n",
       "      <th>Time</th>\n",
       "      <th>Distance</th>\n",
       "      <th>Weekday</th>\n",
       "    </tr>\n",
       "    <tr>\n",
       "      <th>Date</th>\n",
       "      <th></th>\n",
       "      <th></th>\n",
       "      <th></th>\n",
       "    </tr>\n",
       "  </thead>\n",
       "  <tbody>\n",
       "    <tr>\n",
       "      <th>2019-09-09</th>\n",
       "      <td>2084.0</td>\n",
       "      <td>12.620</td>\n",
       "      <td>Monday</td>\n",
       "    </tr>\n",
       "    <tr>\n",
       "      <th>2019-09-10</th>\n",
       "      <td>2197.0</td>\n",
       "      <td>12.775</td>\n",
       "      <td>Tuesday</td>\n",
       "    </tr>\n",
       "    <tr>\n",
       "      <th>2019-09-11</th>\n",
       "      <td>2041.5</td>\n",
       "      <td>12.660</td>\n",
       "      <td>Wednesday</td>\n",
       "    </tr>\n",
       "    <tr>\n",
       "      <th>2019-09-12</th>\n",
       "      <td>NaN</td>\n",
       "      <td>NaN</td>\n",
       "      <td>Thursday</td>\n",
       "    </tr>\n",
       "    <tr>\n",
       "      <th>2019-09-13</th>\n",
       "      <td>NaN</td>\n",
       "      <td>NaN</td>\n",
       "      <td>Friday</td>\n",
       "    </tr>\n",
       "    <tr>\n",
       "      <th>2019-09-14</th>\n",
       "      <td>NaN</td>\n",
       "      <td>NaN</td>\n",
       "      <td>Saturday</td>\n",
       "    </tr>\n",
       "    <tr>\n",
       "      <th>2019-09-15</th>\n",
       "      <td>NaN</td>\n",
       "      <td>NaN</td>\n",
       "      <td>Sunday</td>\n",
       "    </tr>\n",
       "    <tr>\n",
       "      <th>2019-09-16</th>\n",
       "      <td>2122.5</td>\n",
       "      <td>12.450</td>\n",
       "      <td>Monday</td>\n",
       "    </tr>\n",
       "    <tr>\n",
       "      <th>2019-09-17</th>\n",
       "      <td>2193.0</td>\n",
       "      <td>12.540</td>\n",
       "      <td>Tuesday</td>\n",
       "    </tr>\n",
       "    <tr>\n",
       "      <th>2019-09-18</th>\n",
       "      <td>25482.5</td>\n",
       "      <td>13.525</td>\n",
       "      <td>Wednesday</td>\n",
       "    </tr>\n",
       "    <tr>\n",
       "      <th>2019-09-19</th>\n",
       "      <td>2525.5</td>\n",
       "      <td>12.700</td>\n",
       "      <td>Thursday</td>\n",
       "    </tr>\n",
       "    <tr>\n",
       "      <th>2019-09-20</th>\n",
       "      <td>NaN</td>\n",
       "      <td>NaN</td>\n",
       "      <td>Friday</td>\n",
       "    </tr>\n",
       "    <tr>\n",
       "      <th>2019-09-21</th>\n",
       "      <td>NaN</td>\n",
       "      <td>NaN</td>\n",
       "      <td>Saturday</td>\n",
       "    </tr>\n",
       "    <tr>\n",
       "      <th>2019-09-22</th>\n",
       "      <td>NaN</td>\n",
       "      <td>NaN</td>\n",
       "      <td>Sunday</td>\n",
       "    </tr>\n",
       "    <tr>\n",
       "      <th>2019-09-23</th>\n",
       "      <td>2269.0</td>\n",
       "      <td>12.575</td>\n",
       "      <td>Monday</td>\n",
       "    </tr>\n",
       "  </tbody>\n",
       "</table>\n",
       "</div>"
      ],
      "text/plain": [
       "               Time  Distance    Weekday\n",
       "Date                                    \n",
       "2019-09-09   2084.0    12.620     Monday\n",
       "2019-09-10   2197.0    12.775    Tuesday\n",
       "2019-09-11   2041.5    12.660  Wednesday\n",
       "2019-09-12      NaN       NaN   Thursday\n",
       "2019-09-13      NaN       NaN     Friday\n",
       "2019-09-14      NaN       NaN   Saturday\n",
       "2019-09-15      NaN       NaN     Sunday\n",
       "2019-09-16   2122.5    12.450     Monday\n",
       "2019-09-17   2193.0    12.540    Tuesday\n",
       "2019-09-18  25482.5    13.525  Wednesday\n",
       "2019-09-19   2525.5    12.700   Thursday\n",
       "2019-09-20      NaN       NaN     Friday\n",
       "2019-09-21      NaN       NaN   Saturday\n",
       "2019-09-22      NaN       NaN     Sunday\n",
       "2019-09-23   2269.0    12.575     Monday"
      ]
     },
     "execution_count": 115,
     "metadata": {},
     "output_type": "execute_result"
    }
   ],
   "source": [
    "dfr['Weekday'] = dfr.index.day_name()\n",
    "dfr.head(15)"
   ]
  },
  {
   "cell_type": "markdown",
   "metadata": {
    "slideshow": {
     "slide_type": "subslide"
    }
   },
   "source": [
    "- 요일을 우리말로 출력하여 보자. "
   ]
  },
  {
   "cell_type": "code",
   "execution_count": 116,
   "metadata": {
    "slideshow": {
     "slide_type": "fragment"
    }
   },
   "outputs": [
    {
     "data": {
      "text/html": [
       "<div>\n",
       "<style scoped>\n",
       "    .dataframe tbody tr th:only-of-type {\n",
       "        vertical-align: middle;\n",
       "    }\n",
       "\n",
       "    .dataframe tbody tr th {\n",
       "        vertical-align: top;\n",
       "    }\n",
       "\n",
       "    .dataframe thead th {\n",
       "        text-align: right;\n",
       "    }\n",
       "</style>\n",
       "<table border=\"1\" class=\"dataframe\">\n",
       "  <thead>\n",
       "    <tr style=\"text-align: right;\">\n",
       "      <th></th>\n",
       "      <th>Time</th>\n",
       "      <th>Distance</th>\n",
       "      <th>Weekday</th>\n",
       "      <th>요일 번호</th>\n",
       "      <th>요일 이름</th>\n",
       "      <th>한글_요일1</th>\n",
       "      <th>한글_요일2</th>\n",
       "    </tr>\n",
       "    <tr>\n",
       "      <th>Date</th>\n",
       "      <th></th>\n",
       "      <th></th>\n",
       "      <th></th>\n",
       "      <th></th>\n",
       "      <th></th>\n",
       "      <th></th>\n",
       "      <th></th>\n",
       "    </tr>\n",
       "  </thead>\n",
       "  <tbody>\n",
       "    <tr>\n",
       "      <th>2019-09-09</th>\n",
       "      <td>2084.0</td>\n",
       "      <td>12.620</td>\n",
       "      <td>Monday</td>\n",
       "      <td>0</td>\n",
       "      <td>월</td>\n",
       "      <td>월요일</td>\n",
       "      <td>월</td>\n",
       "    </tr>\n",
       "    <tr>\n",
       "      <th>2019-09-10</th>\n",
       "      <td>2197.0</td>\n",
       "      <td>12.775</td>\n",
       "      <td>Tuesday</td>\n",
       "      <td>1</td>\n",
       "      <td>화</td>\n",
       "      <td>화요일</td>\n",
       "      <td>화</td>\n",
       "    </tr>\n",
       "    <tr>\n",
       "      <th>2019-09-11</th>\n",
       "      <td>2041.5</td>\n",
       "      <td>12.660</td>\n",
       "      <td>Wednesday</td>\n",
       "      <td>2</td>\n",
       "      <td>수</td>\n",
       "      <td>수요일</td>\n",
       "      <td>수</td>\n",
       "    </tr>\n",
       "    <tr>\n",
       "      <th>2019-09-12</th>\n",
       "      <td>NaN</td>\n",
       "      <td>NaN</td>\n",
       "      <td>Thursday</td>\n",
       "      <td>3</td>\n",
       "      <td>목</td>\n",
       "      <td>목요일</td>\n",
       "      <td>목</td>\n",
       "    </tr>\n",
       "    <tr>\n",
       "      <th>2019-09-13</th>\n",
       "      <td>NaN</td>\n",
       "      <td>NaN</td>\n",
       "      <td>Friday</td>\n",
       "      <td>4</td>\n",
       "      <td>금</td>\n",
       "      <td>금요일</td>\n",
       "      <td>금</td>\n",
       "    </tr>\n",
       "    <tr>\n",
       "      <th>2019-09-14</th>\n",
       "      <td>NaN</td>\n",
       "      <td>NaN</td>\n",
       "      <td>Saturday</td>\n",
       "      <td>5</td>\n",
       "      <td>토</td>\n",
       "      <td>토요일</td>\n",
       "      <td>토</td>\n",
       "    </tr>\n",
       "    <tr>\n",
       "      <th>2019-09-15</th>\n",
       "      <td>NaN</td>\n",
       "      <td>NaN</td>\n",
       "      <td>Sunday</td>\n",
       "      <td>6</td>\n",
       "      <td>일</td>\n",
       "      <td>일요일</td>\n",
       "      <td>일</td>\n",
       "    </tr>\n",
       "    <tr>\n",
       "      <th>2019-09-16</th>\n",
       "      <td>2122.5</td>\n",
       "      <td>12.450</td>\n",
       "      <td>Monday</td>\n",
       "      <td>0</td>\n",
       "      <td>월</td>\n",
       "      <td>월요일</td>\n",
       "      <td>월</td>\n",
       "    </tr>\n",
       "    <tr>\n",
       "      <th>2019-09-17</th>\n",
       "      <td>2193.0</td>\n",
       "      <td>12.540</td>\n",
       "      <td>Tuesday</td>\n",
       "      <td>1</td>\n",
       "      <td>화</td>\n",
       "      <td>화요일</td>\n",
       "      <td>화</td>\n",
       "    </tr>\n",
       "    <tr>\n",
       "      <th>2019-09-18</th>\n",
       "      <td>25482.5</td>\n",
       "      <td>13.525</td>\n",
       "      <td>Wednesday</td>\n",
       "      <td>2</td>\n",
       "      <td>수</td>\n",
       "      <td>수요일</td>\n",
       "      <td>수</td>\n",
       "    </tr>\n",
       "  </tbody>\n",
       "</table>\n",
       "</div>"
      ],
      "text/plain": [
       "               Time  Distance    Weekday  요일 번호 요일 이름 한글_요일1 한글_요일2\n",
       "Date                                                               \n",
       "2019-09-09   2084.0    12.620     Monday      0     월    월요일      월\n",
       "2019-09-10   2197.0    12.775    Tuesday      1     화    화요일      화\n",
       "2019-09-11   2041.5    12.660  Wednesday      2     수    수요일      수\n",
       "2019-09-12      NaN       NaN   Thursday      3     목    목요일      목\n",
       "2019-09-13      NaN       NaN     Friday      4     금    금요일      금\n",
       "2019-09-14      NaN       NaN   Saturday      5     토    토요일      토\n",
       "2019-09-15      NaN       NaN     Sunday      6     일    일요일      일\n",
       "2019-09-16   2122.5    12.450     Monday      0     월    월요일      월\n",
       "2019-09-17   2193.0    12.540    Tuesday      1     화    화요일      화\n",
       "2019-09-18  25482.5    13.525  Wednesday      2     수    수요일      수"
      ]
     },
     "execution_count": 116,
     "metadata": {},
     "output_type": "execute_result"
    }
   ],
   "source": [
    "days = {0:'월', 1:'화', 2:'수', 3:'목', 4:'금', 5:'토', 6:'일'}\n",
    "\n",
    "dfr['Weekday'] = dfr.index.day_name()\n",
    "dfr['요일 번호'] = dfr.index.dayofweek\n",
    "dfr['요일 이름'] = dfr['요일 번호'].apply(lambda x: days[x])\n",
    "\n",
    "dfr['한글_요일1'] = dfr.index.day_name(locale='Korean_Korea.949')\n",
    "dfr['한글_요일2'] = dfr.index.day_name(locale='Korean_Korea.949').str.replace('요일', '')\n",
    "dfr.head(10)"
   ]
  },
  {
   "cell_type": "markdown",
   "metadata": {
    "slideshow": {
     "slide_type": "subslide"
    }
   },
   "source": [
    "- 판다스는 업무 시간(business time) 개념을 지원하며,  \n",
    "  앞서 본 모든 시계열 함수에서 업무 시간 관련 형식 코드를 지원한다. \n",
    "- 주말을 건너 띄는 업무 요일 개념을 살펴보자: "
   ]
  },
  {
   "cell_type": "code",
   "execution_count": 117,
   "metadata": {
    "slideshow": {
     "slide_type": "fragment"
    }
   },
   "outputs": [
    {
     "data": {
      "text/plain": [
       "('토요일', '월요일')"
      ]
     },
     "execution_count": 117,
     "metadata": {},
     "output_type": "execute_result"
    }
   ],
   "source": [
    "금요일 = pd.Timestamp(\"2018-01-05\")\n",
    "토요일 = 금요일 + pd.Timedelta(\"1 day\")    # 일반적 1일 더하기\n",
    "월요일 = 금요일 + pd.offsets.BDay()        # 업무일 1일 더하기\n",
    "토요일.day_name(locale='Korean_Korea.949'), 월요일.day_name(locale='Korean_Korea.949')"
   ]
  },
  {
   "cell_type": "code",
   "execution_count": 118,
   "metadata": {
    "scrolled": true,
    "slideshow": {
     "slide_type": "fragment"
    }
   },
   "outputs": [
    {
     "data": {
      "text/html": [
       "<div>\n",
       "<style scoped>\n",
       "    .dataframe tbody tr th:only-of-type {\n",
       "        vertical-align: middle;\n",
       "    }\n",
       "\n",
       "    .dataframe tbody tr th {\n",
       "        vertical-align: top;\n",
       "    }\n",
       "\n",
       "    .dataframe thead th {\n",
       "        text-align: right;\n",
       "    }\n",
       "</style>\n",
       "<table border=\"1\" class=\"dataframe\">\n",
       "  <thead>\n",
       "    <tr style=\"text-align: right;\">\n",
       "      <th></th>\n",
       "      <th>Time</th>\n",
       "      <th>Distance</th>\n",
       "      <th>요일(평일)</th>\n",
       "    </tr>\n",
       "    <tr>\n",
       "      <th>Date</th>\n",
       "      <th></th>\n",
       "      <th></th>\n",
       "      <th></th>\n",
       "    </tr>\n",
       "  </thead>\n",
       "  <tbody>\n",
       "    <tr>\n",
       "      <th>2019-09-09</th>\n",
       "      <td>2084.0</td>\n",
       "      <td>12.620</td>\n",
       "      <td>월요일</td>\n",
       "    </tr>\n",
       "    <tr>\n",
       "      <th>2019-09-10</th>\n",
       "      <td>2197.0</td>\n",
       "      <td>12.775</td>\n",
       "      <td>화요일</td>\n",
       "    </tr>\n",
       "    <tr>\n",
       "      <th>2019-09-11</th>\n",
       "      <td>2041.5</td>\n",
       "      <td>12.660</td>\n",
       "      <td>수요일</td>\n",
       "    </tr>\n",
       "    <tr>\n",
       "      <th>2019-09-12</th>\n",
       "      <td>NaN</td>\n",
       "      <td>NaN</td>\n",
       "      <td>목요일</td>\n",
       "    </tr>\n",
       "    <tr>\n",
       "      <th>2019-09-13</th>\n",
       "      <td>NaN</td>\n",
       "      <td>NaN</td>\n",
       "      <td>금요일</td>\n",
       "    </tr>\n",
       "    <tr>\n",
       "      <th>2019-09-16</th>\n",
       "      <td>2122.5</td>\n",
       "      <td>12.450</td>\n",
       "      <td>월요일</td>\n",
       "    </tr>\n",
       "    <tr>\n",
       "      <th>2019-09-17</th>\n",
       "      <td>2193.0</td>\n",
       "      <td>12.540</td>\n",
       "      <td>화요일</td>\n",
       "    </tr>\n",
       "    <tr>\n",
       "      <th>2019-09-18</th>\n",
       "      <td>25482.5</td>\n",
       "      <td>13.525</td>\n",
       "      <td>수요일</td>\n",
       "    </tr>\n",
       "    <tr>\n",
       "      <th>2019-09-19</th>\n",
       "      <td>2525.5</td>\n",
       "      <td>12.700</td>\n",
       "      <td>목요일</td>\n",
       "    </tr>\n",
       "    <tr>\n",
       "      <th>2019-09-20</th>\n",
       "      <td>NaN</td>\n",
       "      <td>NaN</td>\n",
       "      <td>금요일</td>\n",
       "    </tr>\n",
       "    <tr>\n",
       "      <th>2019-09-23</th>\n",
       "      <td>2269.0</td>\n",
       "      <td>12.575</td>\n",
       "      <td>월요일</td>\n",
       "    </tr>\n",
       "    <tr>\n",
       "      <th>2019-09-24</th>\n",
       "      <td>2048.0</td>\n",
       "      <td>12.390</td>\n",
       "      <td>화요일</td>\n",
       "    </tr>\n",
       "    <tr>\n",
       "      <th>2019-09-25</th>\n",
       "      <td>1992.0</td>\n",
       "      <td>12.585</td>\n",
       "      <td>수요일</td>\n",
       "    </tr>\n",
       "    <tr>\n",
       "      <th>2019-09-26</th>\n",
       "      <td>2031.0</td>\n",
       "      <td>12.690</td>\n",
       "      <td>목요일</td>\n",
       "    </tr>\n",
       "    <tr>\n",
       "      <th>2019-09-27</th>\n",
       "      <td>NaN</td>\n",
       "      <td>NaN</td>\n",
       "      <td>금요일</td>\n",
       "    </tr>\n",
       "    <tr>\n",
       "      <th>2019-09-30</th>\n",
       "      <td>1925.0</td>\n",
       "      <td>12.710</td>\n",
       "      <td>월요일</td>\n",
       "    </tr>\n",
       "    <tr>\n",
       "      <th>2019-10-01</th>\n",
       "      <td>1989.0</td>\n",
       "      <td>12.820</td>\n",
       "      <td>화요일</td>\n",
       "    </tr>\n",
       "    <tr>\n",
       "      <th>2019-10-02</th>\n",
       "      <td>1929.0</td>\n",
       "      <td>12.790</td>\n",
       "      <td>수요일</td>\n",
       "    </tr>\n",
       "    <tr>\n",
       "      <th>2019-10-03</th>\n",
       "      <td>2026.0</td>\n",
       "      <td>12.655</td>\n",
       "      <td>목요일</td>\n",
       "    </tr>\n",
       "    <tr>\n",
       "      <th>2019-10-04</th>\n",
       "      <td>NaN</td>\n",
       "      <td>NaN</td>\n",
       "      <td>금요일</td>\n",
       "    </tr>\n",
       "  </tbody>\n",
       "</table>\n",
       "</div>"
      ],
      "text/plain": [
       "               Time  Distance 요일(평일)\n",
       "Date                                \n",
       "2019-09-09   2084.0    12.620    월요일\n",
       "2019-09-10   2197.0    12.775    화요일\n",
       "2019-09-11   2041.5    12.660    수요일\n",
       "2019-09-12      NaN       NaN    목요일\n",
       "2019-09-13      NaN       NaN    금요일\n",
       "2019-09-16   2122.5    12.450    월요일\n",
       "2019-09-17   2193.0    12.540    화요일\n",
       "2019-09-18  25482.5    13.525    수요일\n",
       "2019-09-19   2525.5    12.700    목요일\n",
       "2019-09-20      NaN       NaN    금요일\n",
       "2019-09-23   2269.0    12.575    월요일\n",
       "2019-09-24   2048.0    12.390    화요일\n",
       "2019-09-25   1992.0    12.585    수요일\n",
       "2019-09-26   2031.0    12.690    목요일\n",
       "2019-09-27      NaN       NaN    금요일\n",
       "2019-09-30   1925.0    12.710    월요일\n",
       "2019-10-01   1989.0    12.820    화요일\n",
       "2019-10-02   1929.0    12.790    수요일\n",
       "2019-10-03   2026.0    12.655    목요일\n",
       "2019-10-04      NaN       NaN    금요일"
      ]
     },
     "execution_count": 118,
     "metadata": {},
     "output_type": "execute_result"
    }
   ],
   "source": [
    "dfr = df.resample(\"1B\").mean()             # \"B\"는 업무일(business day)을 의미\n",
    "dfr['요일(평일)'] = dfr.index.day_name(    # 평일만 집계됨\n",
    "    locale='Korean_Korea.949')      \n",
    "dfr.head(20)                               # 휴일은 배제됨   "
   ]
  },
  {
   "cell_type": "markdown",
   "metadata": {
    "slideshow": {
     "slide_type": "subslide"
    }
   },
   "source": [
    "- 지금까지 날짜/시간 처리 방법을 공부했다.  \n",
    "  - 날짜/시간 요소 추출\n",
    "  - 시차 및 시간대 \n",
    "  - 재추출 및 집계\n",
    "- 이제부터 계층적 인덱싱을 공부하자. \n",
    "  \n",
    "<div style=\"page-break-after: always;\"></div> "
   ]
  }
 ],
 "metadata": {
  "celltoolbar": "Slideshow",
  "interpreter": {
   "hash": "6407b87c2d96350ceea2422ba828a2f6c03b3557c06aa8fa9ff406e31dc3ef4f"
  },
  "kernelspec": {
   "display_name": "Python 3",
   "language": "python",
   "name": "python3"
  },
  "language_info": {
   "codemirror_mode": {
    "name": "ipython",
    "version": 3
   },
   "file_extension": ".py",
   "mimetype": "text/x-python",
   "name": "python",
   "nbconvert_exporter": "python",
   "pygments_lexer": "ipython3",
   "version": "3.8.11"
  },
  "latex_envs": {
   "LaTeX_envs_menu_present": true,
   "autoclose": false,
   "autocomplete": true,
   "bibliofile": "biblio.bib",
   "cite_by": "apalike",
   "current_citInitial": 1,
   "eqLabelWithNumbers": true,
   "eqNumInitial": 1,
   "hotkeys": {
    "equation": "Ctrl-E",
    "itemize": "Ctrl-I"
   },
   "labels_anchors": false,
   "latex_user_defs": false,
   "report_style_numbering": false,
   "user_envs_cfg": false
  },
  "toc": {
   "base_numbering": 1,
   "nav_menu": {},
   "number_sections": false,
   "sideBar": true,
   "skip_h1_title": true,
   "title_cell": "Lecture Outline",
   "title_sidebar": "목차",
   "toc_cell": false,
   "toc_position": {
    "height": "calc(100% - 180px)",
    "left": "10px",
    "top": "150px",
    "width": "192.76px"
   },
   "toc_section_display": true,
   "toc_window_display": true
  },
  "varInspector": {
   "cols": {
    "lenName": 16,
    "lenType": 16,
    "lenVar": 40
   },
   "kernels_config": {
    "python": {
     "delete_cmd_postfix": "",
     "delete_cmd_prefix": "del ",
     "library": "var_list.py",
     "varRefreshCmd": "print(var_dic_list())"
    },
    "r": {
     "delete_cmd_postfix": ") ",
     "delete_cmd_prefix": "rm(",
     "library": "var_list.r",
     "varRefreshCmd": "cat(var_dic_list()) "
    }
   },
   "types_to_exclude": [
    "module",
    "function",
    "builtin_function_or_method",
    "instance",
    "_Feature"
   ],
   "window_display": false
  }
 },
 "nbformat": 4,
 "nbformat_minor": 4
}
