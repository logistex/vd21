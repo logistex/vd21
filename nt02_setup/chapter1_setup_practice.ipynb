{
 "cells": [
  {
   "cell_type": "markdown",
   "metadata": {},
   "source": [
    "# 1장 실습 환경 준비"
   ]
  },
  {
   "cell_type": "markdown",
   "metadata": {},
   "source": [
    "## 연습 문제"
   ]
  },
  {
   "cell_type": "markdown",
   "metadata": {},
   "source": [
    "연습 문제는 당신 컴퓨터에 아나콘다가 설치되어 있는 상태라고 가정한다.  \n",
    "아직 아나콘다가 설치되지 않은 상태라면, 이를 설치한 후에 연습문제를 해결하라.  \n",
    "\n",
    "### 문제 1.  \n",
    "\n",
    "현재 설치되어 있는 가상환경의 목록을 확인하라. "
   ]
  },
  {
   "cell_type": "code",
   "execution_count": null,
   "metadata": {},
   "outputs": [],
   "source": [
    "# 운영체제 커맨드 창에서 입력할 명령을 여기에 작성하라.\n"
   ]
  },
  {
   "cell_type": "markdown",
   "metadata": {},
   "source": [
    "### 문제 2.\n",
    "\n",
    "파이썬이 (버전 지정하지 않은 상태로) 설치된 가상환경을  \n",
    "`env4test`라는 이름으로 생성하라.  "
   ]
  },
  {
   "cell_type": "code",
   "execution_count": null,
   "metadata": {},
   "outputs": [],
   "source": [
    "# 운영체제 커맨드 창에서 입력할 명령을 여기에 작성하라.\n"
   ]
  },
  {
   "cell_type": "markdown",
   "metadata": {},
   "source": [
    "### 문제 3.\n",
    "\n",
    "현재 기본 가상환경인 `base`가 활성화된 상태라고 가정하고,  \n",
    "가상환경 `env4test`를 활성화하라. "
   ]
  },
  {
   "cell_type": "code",
   "execution_count": null,
   "metadata": {},
   "outputs": [],
   "source": [
    "# 운영체제 커맨드 창에서 입력할 명령을 여기에 작성하라.\n"
   ]
  },
  {
   "cell_type": "markdown",
   "metadata": {},
   "source": [
    "### 문제 4.\n",
    "\n",
    "현재 가상환경 `env4test`이 활성화된 상태라고 가정하고,  \n",
    "현재 활성화된 가상환경 `env4test`에서,  \n",
    "현행 가상환경에 설치된 패키지(즉, 라이브러리) 목록을 확인하라. "
   ]
  },
  {
   "cell_type": "code",
   "execution_count": null,
   "metadata": {},
   "outputs": [],
   "source": [
    "# 운영체제 커맨드 창에서 입력할 명령을 여기에 작성하라.\n"
   ]
  },
  {
   "cell_type": "markdown",
   "metadata": {},
   "source": [
    "### 문제 5.\n",
    "\n",
    "현행 가상환경에 (패키지를 탐색하는 온라인 저장소인) 채널 탐색 우선순위가  \n",
    "어떻게 지정되어 있는지 확인하라. (힌트: `conda config --show <키>`)"
   ]
  },
  {
   "cell_type": "code",
   "execution_count": null,
   "metadata": {},
   "outputs": [],
   "source": [
    "# 운영체제 커맨드 창에서 입력할 명령을 여기에 작성하라.\n"
   ]
  },
  {
   "cell_type": "markdown",
   "metadata": {},
   "source": [
    "### 문제 6.\n",
    "\n",
    "특정 패키지를 설치하기 전에 각 채널별로 어떤 버전이 가용한지를 조사할 수 있다.  \n",
    "현행 기본 채널에서 가용한 파이썬 버전을 조사하라.  \n",
    "또한 기본 채널은 아니지만, 풍부한 패키지를 제공한다고 알려져 있는  \n",
    "`conda-forge` 채널에서 가용한 파이썬 버전을 조사하라. \n",
    "(힌트: search)   "
   ]
  },
  {
   "cell_type": "code",
   "execution_count": null,
   "metadata": {},
   "outputs": [],
   "source": [
    "# 운영체제 커맨드 창에서 입력할 명령을 여기에 작성하라.\n"
   ]
  },
  {
   "cell_type": "markdown",
   "metadata": {},
   "source": [
    "### 문제 7.\n",
    "\n",
    "현재 가상환경 `env4test`이 활성화된 상태라고 가정하고,  \n",
    "현재 활성화된 `env4test`에 설치되어 있는 파이썬 버전을 확인하라.  "
   ]
  },
  {
   "cell_type": "code",
   "execution_count": null,
   "metadata": {},
   "outputs": [],
   "source": [
    "# 운영체제 커맨드 창에서 입력할 명령을 여기에 작성하라.\n"
   ]
  },
  {
   "cell_type": "markdown",
   "metadata": {},
   "source": [
    "### 문제 8.\n",
    "\n",
    "현재 가상환경 `env4test`이 활성화된 상태라고 가정하고,  \n",
    "현재 활성화된 가상환경 `env4test`에 설치되어 있는 파이썬을 삭제하라. "
   ]
  },
  {
   "cell_type": "code",
   "execution_count": null,
   "metadata": {
    "tags": [
     "raises-exception"
    ]
   },
   "outputs": [],
   "source": [
    "# 운영체제 커맨드 창에서 입력할 명령을 여기에 작성하라.\n"
   ]
  },
  {
   "cell_type": "markdown",
   "metadata": {},
   "source": [
    "### 문제 9.\n",
    "\n",
    "현재 가상환경 `env4test`이 활성화된 상태라고 가정하고,  \n",
    "현재 활성화된 가상환경 `env4test`에 `conda-forge` 채널로부터  \n",
    "버전 3.9 미만인 파이썬을 다시 설치하라. "
   ]
  },
  {
   "cell_type": "code",
   "execution_count": null,
   "metadata": {},
   "outputs": [],
   "source": [
    "# 운영체제 커맨드 창에서 입력할 명령을 여기에 작성하라.\n"
   ]
  },
  {
   "cell_type": "markdown",
   "metadata": {},
   "source": [
    "### 문제 10.\n",
    "\n",
    "현재 가상환경 `env4test`이 활성화된 상태라고 가정하고,  \n",
    "현재 활성화된 가상환경 `env4test`에 설치되어 있는 버전 3.9 미만인 파이썬을  \n",
    "`bioconda` 채널을 지정하여 현행화(update)하라. "
   ]
  },
  {
   "cell_type": "code",
   "execution_count": null,
   "metadata": {},
   "outputs": [],
   "source": [
    "# 운영체제 커맨드 창에서 입력할 명령을 여기에 작성하라.\n"
   ]
  },
  {
   "cell_type": "markdown",
   "metadata": {},
   "source": [
    "### 문제 11.\n",
    "\n",
    "이후 작업을 저장하기 위한 폴더를 `C:\\env4test`로 생성하고,  \n",
    "해당 폴더로 디렉토리를 변경하라. "
   ]
  },
  {
   "cell_type": "code",
   "execution_count": null,
   "metadata": {},
   "outputs": [],
   "source": [
    "# 운영체제 커맨드 창에서 입력할 명령을 여기에 작성하라.\n"
   ]
  },
  {
   "cell_type": "markdown",
   "metadata": {},
   "source": [
    "### 문제 12.\n",
    "\n",
    "가상환경 `env4test`가 활성화되어 있고,  \n",
    "현행 디렉토리가 `C:\\env4test`인 상태에서,  \n",
    "현행 가상환경에 관한 정보를 `C:\\env4test\\env4test.yml` 파일로  \n",
    "동결 저장하라. "
   ]
  },
  {
   "cell_type": "code",
   "execution_count": null,
   "metadata": {},
   "outputs": [],
   "source": [
    "# 운영체제 커맨드 창에서 입력할 명령을 여기에 작성하라.\n"
   ]
  },
  {
   "cell_type": "markdown",
   "metadata": {},
   "source": [
    "### 문제 13.\n",
    "\n",
    "`C:\\env4test\\env4test.yml` 파일의 내용을 확인하라. "
   ]
  },
  {
   "cell_type": "code",
   "execution_count": null,
   "metadata": {},
   "outputs": [],
   "source": [
    "# 운영체제 커맨드 창에서 입력할 명령을 여기에 작성하라.\n"
   ]
  },
  {
   "cell_type": "markdown",
   "metadata": {},
   "source": [
    "### 문제 14.\n",
    "\n",
    "가상환경 `env4test`가 활성화되어 있는 상태이다.  \n",
    "현행 가상환경을 비활성화 하고, 이 가상환경을 삭제하라.  \n",
    "가상환경 목록을 출력하여 해당 가상환경이 삭제되었음을 확인하라.  "
   ]
  },
  {
   "cell_type": "code",
   "execution_count": null,
   "metadata": {},
   "outputs": [],
   "source": [
    "# 운영체제 커맨드 창에서 입력할 명령을 여기에 작성하라.\n"
   ]
  },
  {
   "cell_type": "markdown",
   "metadata": {},
   "source": [
    "### 문제 15.\n",
    "\n",
    "앞서 문제 12 번에서 동결 저장해두었던  \n",
    "`C:\\env4test\\env4test.yml` 파일로부터  \n",
    "삭제된 가상환경을 복원하고,  \n",
    "가상환경 목록을 확인하라. "
   ]
  },
  {
   "cell_type": "code",
   "execution_count": null,
   "metadata": {},
   "outputs": [],
   "source": [
    "# 운영체제 커맨드 창에서 입력할 명령을 여기에 작성하라.\n"
   ]
  },
  {
   "cell_type": "markdown",
   "metadata": {},
   "source": [
    "### 문제 16.\n",
    "\n",
    "앞선 문제에 이어서, 복원한 가상환경에 주피터 패키지를 설치하라. "
   ]
  },
  {
   "cell_type": "code",
   "execution_count": null,
   "metadata": {},
   "outputs": [],
   "source": [
    "# 운영체제 커맨드 창에서 입력할 명령을 여기에 작성하라.\n"
   ]
  },
  {
   "cell_type": "markdown",
   "metadata": {},
   "source": [
    "### 문제 17.\n",
    "\n",
    "앞선 문제에 이어서, 가상환경에서 주피터 노트북을 실행하라. "
   ]
  },
  {
   "cell_type": "code",
   "execution_count": null,
   "metadata": {},
   "outputs": [],
   "source": [
    "# 운영체제 커맨드 창에서 입력할 명령을 여기에 작성하라.\n",
    "  "
   ]
  },
  {
   "cell_type": "markdown",
   "metadata": {},
   "source": [
    "### 문제 18.\n",
    "\n",
    "앞선 문제에 이어서, 주피터 노트북에 다음과 같이 출력되는  \n",
    "마크다운 셀을 작성하고 실행하라. "
   ]
  },
  {
   "cell_type": "markdown",
   "metadata": {},
   "source": [
    "![18_title](https://user-images.githubusercontent.com/10287629/131446116-de3a97a7-05d7-4e8a-9e25-dea7d494677d.png)"
   ]
  },
  {
   "cell_type": "code",
   "execution_count": null,
   "metadata": {},
   "outputs": [],
   "source": [
    "# 주피터 노트북에서 마크다운 셀에 입력할 명령을 여기에 작성하라.\n"
   ]
  },
  {
   "cell_type": "markdown",
   "metadata": {},
   "source": [
    "### 문제 19.\n",
    "\n",
    "앞선 문제에 이어서, 새로운 마크다운 셀을 작성하고 실행하여  \n",
    "아래와 같이 출력되도록 하라.  \n",
    "(힌트: 웹 문서에 대한 링크는 정확하지 않아도 무방하다.)"
   ]
  },
  {
   "cell_type": "markdown",
   "metadata": {},
   "source": [
    "![19_list_link](https://user-images.githubusercontent.com/10287629/131446303-3a0804db-e040-4d33-8317-039278e9c041.png)\n"
   ]
  },
  {
   "cell_type": "code",
   "execution_count": null,
   "metadata": {},
   "outputs": [],
   "source": [
    "# 주피터 노트북에서 마크다운 셀에 입력할 명령을 여기에 작성하라.\n"
   ]
  },
  {
   "cell_type": "markdown",
   "metadata": {},
   "source": [
    "### 문제 20.\n",
    "\n",
    "앞선 문제에 이어서, 새로운 마크다운 셀을 작성하고 실행하여  \n",
    "아래와 같이 출력되도록 하라.  \n",
    "(힌트: https://www.anaconda.com/products/individual) "
   ]
  },
  {
   "cell_type": "markdown",
   "metadata": {},
   "source": [
    "![20_image](https://user-images.githubusercontent.com/10287629/131444483-1d06f6b2-2a26-4d2e-9151-5be9e7736fcd.png)\n"
   ]
  },
  {
   "cell_type": "code",
   "execution_count": null,
   "metadata": {},
   "outputs": [],
   "source": [
    "# 주피터 노트북에서 마크다운 셀에 입력할 명령을 여기에 작성하라.\n"
   ]
  },
  {
   "cell_type": "markdown",
   "metadata": {},
   "source": [
    "### 문제 21.\n",
    "\n",
    "앞선 문제에 이어서, 새로운 마크다운 셀을 작성하고 실행하여,  \n",
    "아래와 같이 니코스 카잔차키스의 명언을 인용하라. "
   ]
  },
  {
   "cell_type": "markdown",
   "metadata": {},
   "source": [
    "![21_quote](https://user-images.githubusercontent.com/10287629/131446539-34b361e0-d8cd-499d-a9a7-a965a07d20e4.png)\n"
   ]
  },
  {
   "cell_type": "code",
   "execution_count": null,
   "metadata": {},
   "outputs": [],
   "source": [
    "# 주피터 노트북에서 마크다운 셀에 입력할 명령을 여기에 작성하라.\n"
   ]
  },
  {
   "cell_type": "markdown",
   "metadata": {},
   "source": [
    "### 문제 22.\n",
    "\n",
    "앞선 문제에 이어서, 새로운 마크다운 셀을 작성하고 실행하여,  \n",
    "아래와 같이 표가 출력되도록 하라.  \n",
    "(힌트: https://www.tablesgenerator.com/markdown_tables)"
   ]
  },
  {
   "cell_type": "markdown",
   "metadata": {},
   "source": [
    "![22_table](https://user-images.githubusercontent.com/10287629/131446630-ab5cefe6-697b-47e9-ac2c-7dfb41108639.png)\n"
   ]
  },
  {
   "cell_type": "code",
   "execution_count": null,
   "metadata": {},
   "outputs": [],
   "source": [
    "# 주피터 노트북에서 마크다운 셀에 입력할 명령을 여기에 작성하라.\n"
   ]
  },
  {
   "cell_type": "markdown",
   "metadata": {},
   "source": [
    "### 문제 23.\n",
    "\n",
    "지금까지 작성한 주피터 노트북을 `testNB.ipynb` 파일로 저장하라. "
   ]
  }
 ],
 "metadata": {
  "interpreter": {
   "hash": "6407b87c2d96350ceea2422ba828a2f6c03b3557c06aa8fa9ff406e31dc3ef4f"
  },
  "kernelspec": {
   "display_name": "Python 3",
   "language": "python",
   "name": "python3"
  },
  "language_info": {
   "codemirror_mode": {
    "name": "ipython",
    "version": 3
   },
   "file_extension": ".py",
   "mimetype": "text/x-python",
   "name": "python",
   "nbconvert_exporter": "python",
   "pygments_lexer": "ipython3",
   "version": "3.8.11"
  },
  "latex_envs": {
   "LaTeX_envs_menu_present": true,
   "autoclose": false,
   "autocomplete": true,
   "bibliofile": "biblio.bib",
   "cite_by": "apalike",
   "current_citInitial": 1,
   "eqLabelWithNumbers": true,
   "eqNumInitial": 1,
   "hotkeys": {
    "equation": "Ctrl-E",
    "itemize": "Ctrl-I"
   },
   "labels_anchors": false,
   "latex_user_defs": false,
   "report_style_numbering": false,
   "user_envs_cfg": false
  },
  "toc": {
   "base_numbering": 1,
   "nav_menu": {},
   "number_sections": false,
   "sideBar": true,
   "skip_h1_title": true,
   "title_cell": "Table of Contents",
   "title_sidebar": "Contents",
   "toc_cell": false,
   "toc_position": {
    "height": "calc(100% - 180px)",
    "left": "10px",
    "top": "150px",
    "width": "401.594px"
   },
   "toc_section_display": true,
   "toc_window_display": false
  }
 },
 "nbformat": 4,
 "nbformat_minor": 4
}
