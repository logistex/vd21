{
 "cells": [
  {
   "cell_type": "markdown",
   "metadata": {},
   "source": [
    "# 1장 실습 환경 준비"
   ]
  },
  {
   "cell_type": "markdown",
   "metadata": {},
   "source": [
    "## 모범 답안"
   ]
  },
  {
   "cell_type": "markdown",
   "metadata": {},
   "source": [
    "연습 문제는 당신 컴퓨터에 아나콘다가 설치되어 있는 상태라고 가정한다.  \n",
    "아직 아나콘다가 설치되지 않은 상태라면, 이를 설치한 후에 연습문제를 해결하라.  \n",
    "\n",
    "### 문제 1.  \n",
    "\n",
    "현재 설치되어 있는 가상환경의 목록을 확인하라. "
   ]
  },
  {
   "cell_type": "code",
   "execution_count": null,
   "metadata": {},
   "outputs": [],
   "source": [
    "# 운영체제 커맨드 창에서 입력할 명령을 여기에 작성하라.\n",
    "\n",
    "conda env list    "
   ]
  },
  {
   "cell_type": "markdown",
   "metadata": {},
   "source": [
    "### 문제 2.\n",
    "\n",
    "파이썬이 (버전 지정하지 않은 상태로) 설치된 가상환경을  \n",
    "`env4test`라는 이름으로 생성하라.  "
   ]
  },
  {
   "cell_type": "code",
   "execution_count": null,
   "metadata": {},
   "outputs": [],
   "source": [
    "# 운영체제 커맨드 창에서 입력할 명령을 여기에 작성하라.\n",
    "\n",
    "conda create --name env4test python -y"
   ]
  },
  {
   "cell_type": "markdown",
   "metadata": {},
   "source": [
    "### 문제 3.\n",
    "\n",
    "현재 기본 가상환경인 `base`가 활성화된 상태라고 가정하고,  \n",
    "가상환경 `env4test`를 활성화하라. "
   ]
  },
  {
   "cell_type": "code",
   "execution_count": null,
   "metadata": {},
   "outputs": [],
   "source": [
    "# 운영체제 커맨드 창에서 입력할 명령을 여기에 작성하라.\n",
    "\n",
    "conda activate env4test"
   ]
  },
  {
   "cell_type": "markdown",
   "metadata": {},
   "source": [
    "### 문제 4.\n",
    "\n",
    "현재 가상환경 `env4test`이 활성화된 상태라고 가정하고,  \n",
    "현재 활성화된 가상환경 `env4test`에서,  \n",
    "현행 가상환경에 설치된 패키지(즉, 라이브러리) 목록을 확인하라. "
   ]
  },
  {
   "cell_type": "code",
   "execution_count": null,
   "metadata": {},
   "outputs": [],
   "source": [
    "# 운영체제 커맨드 창에서 입력할 명령을 여기에 작성하라.\n",
    "\n",
    "conda list"
   ]
  },
  {
   "cell_type": "markdown",
   "metadata": {},
   "source": [
    "### 문제 5.\n",
    "\n",
    "현행 가상환경에 (패키지를 탐색하는 온라인 저장소인) 채널 탐색 우선순위가  \n",
    "어떻게 지정되어 있는지 확인하라. (힌트: `conda config --show <키>`)"
   ]
  },
  {
   "cell_type": "code",
   "execution_count": null,
   "metadata": {},
   "outputs": [],
   "source": [
    "# 운영체제 커맨드 창에서 입력할 명령을 여기에 작성하라.\n",
    "\n",
    "conda config --show default_channels  # 기본 채녈 상황을 출력  "
   ]
  },
  {
   "cell_type": "markdown",
   "metadata": {},
   "source": [
    "### 문제 6.\n",
    "\n",
    "특정 패키지를 설치하기 전에 각 채널별로 어떤 버전이 가용한지를 조사할 수 있다.  \n",
    "현행 기본 채널에서 가용한 파이썬 버전을 조사하라.  \n",
    "또한 기본 채널은 아니지만, 풍부한 패키지를 제공한다고 알려져 있는  \n",
    "`conda-forge` 채널에서 가용한 파이썬 버전을 조사하라. \n",
    "(힌트: search)   "
   ]
  },
  {
   "cell_type": "code",
   "execution_count": null,
   "metadata": {},
   "outputs": [],
   "source": [
    "# 운영체제 커맨드 창에서 입력할 명령을 여기에 작성하라.\n",
    "\n",
    "conda search python                         # 기본 채널에서 조사\n",
    "conda search python --channel conda-forge   # 특정 채널에서 조사"
   ]
  },
  {
   "cell_type": "markdown",
   "metadata": {},
   "source": [
    "### 문제 7.\n",
    "\n",
    "현재 가상환경 `env4test`이 활성화된 상태라고 가정하고,  \n",
    "현재 활성화된 `env4test`에 설치되어 있는 파이썬 버전을 확인하라.  "
   ]
  },
  {
   "cell_type": "code",
   "execution_count": null,
   "metadata": {},
   "outputs": [],
   "source": [
    "# 운영체제 커맨드 창에서 입력할 명령을 여기에 작성하라.\n",
    "\n",
    "conda list python"
   ]
  },
  {
   "cell_type": "markdown",
   "metadata": {},
   "source": [
    "### 문제 8.\n",
    "\n",
    "현재 가상환경 `env4test`이 활성화된 상태라고 가정하고,  \n",
    "현재 활성화된 가상환경 `env4test`에 설치되어 있는 파이썬을 삭제하라. "
   ]
  },
  {
   "cell_type": "code",
   "execution_count": null,
   "metadata": {
    "tags": [
     "raises-exception"
    ]
   },
   "outputs": [],
   "source": [
    "# 운영체제 커맨드 창에서 입력할 명령을 여기에 작성하라.\n",
    "\n",
    "conda remove python"
   ]
  },
  {
   "cell_type": "markdown",
   "metadata": {},
   "source": [
    "### 문제 9.\n",
    "\n",
    "현재 가상환경 `env4test`이 활성화된 상태라고 가정하고,  \n",
    "현재 활성화된 가상환경 `env4test`에 `conda-forge` 채널로부터  \n",
    "버전 3.9 미만인 파이썬을 다시 설치하라. "
   ]
  },
  {
   "cell_type": "code",
   "execution_count": null,
   "metadata": {},
   "outputs": [],
   "source": [
    "# 운영체제 커맨드 창에서 입력할 명령을 여기에 작성하라.\n",
    "\n",
    "conda install python<3.9 --channel conda-forge "
   ]
  },
  {
   "cell_type": "markdown",
   "metadata": {},
   "source": [
    "### 문제 10.\n",
    "\n",
    "현재 가상환경 `env4test`이 활성화된 상태라고 가정하고,  \n",
    "현재 활성화된 가상환경 `env4test`에 설치되어 있는 버전 3.9 미만인 파이썬을  \n",
    "`bioconda` 채널을 지정하여 현행화(update)하라. "
   ]
  },
  {
   "cell_type": "code",
   "execution_count": null,
   "metadata": {},
   "outputs": [],
   "source": [
    "# 운영체제 커맨드 창에서 입력할 명령을 여기에 작성하라.\n",
    "\n",
    "conda update python --channel bioconda"
   ]
  },
  {
   "cell_type": "markdown",
   "metadata": {},
   "source": [
    "### 문제 11.\n",
    "\n",
    "이후 작업을 저장하기 위한 폴더를 `C:\\env4test`로 생성하고,  \n",
    "해당 폴더로 디렉토리를 변경하라. "
   ]
  },
  {
   "cell_type": "code",
   "execution_count": null,
   "metadata": {},
   "outputs": [],
   "source": [
    "# 운영체제 커맨드 창에서 입력할 명령을 여기에 작성하라.\n",
    "\n",
    "md C:\\env4test\n",
    "cd C:\\env4test"
   ]
  },
  {
   "cell_type": "markdown",
   "metadata": {},
   "source": [
    "### 문제 12.\n",
    "\n",
    "가상환경 `env4test`가 활성화되어 있고,  \n",
    "현행 디렉토리가 `C:\\env4test`인 상태에서,  \n",
    "현행 가상환경에 관한 정보를 `C:\\env4test\\env4test.yml` 파일로  \n",
    "동결 저장하라. "
   ]
  },
  {
   "cell_type": "code",
   "execution_count": null,
   "metadata": {},
   "outputs": [],
   "source": [
    "# 운영체제 커맨드 창에서 입력할 명령을 여기에 작성하라.\n",
    "\n",
    "conda env export > env4test.yml"
   ]
  },
  {
   "cell_type": "markdown",
   "metadata": {},
   "source": [
    "### 문제 13.\n",
    "\n",
    "`C:\\env4test\\env4test.yml` 파일의 내용을 확인하라. "
   ]
  },
  {
   "cell_type": "code",
   "execution_count": null,
   "metadata": {},
   "outputs": [],
   "source": [
    "# 운영체제 커맨드 창에서 입력할 명령을 여기에 작성하라.\n",
    "\n",
    "type env4test.yml  # 또는 cat env4test.yml"
   ]
  },
  {
   "cell_type": "markdown",
   "metadata": {},
   "source": [
    "### 문제 14.\n",
    "\n",
    "가상환경 `env4test`가 활성화되어 있는 상태이다.  \n",
    "현행 가상환경을 비활성화 하고, 이 가상환경을 삭제하라.  \n",
    "가상환경 목록을 출력하여 해당 가상환경이 삭제되었음을 확인하라.  "
   ]
  },
  {
   "cell_type": "code",
   "execution_count": null,
   "metadata": {},
   "outputs": [],
   "source": [
    "# 운영체제 커맨드 창에서 입력할 명령을 여기에 작성하라.\n",
    "\n",
    "conda deactivate                  # 비활성화\n",
    "conda env remove -n env4test      # 가상환경 삭제\n",
    "conda env list                    # 가상환경 목록 확인"
   ]
  },
  {
   "cell_type": "markdown",
   "metadata": {},
   "source": [
    "### 문제 15.\n",
    "\n",
    "앞서 문제 12 번에서 동결 저장해두었던  \n",
    "`C:\\env4test\\env4test.yml` 파일로부터  \n",
    "삭제된 가상환경을 복원하고,  \n",
    "가상환경 목록을 확인하라. "
   ]
  },
  {
   "cell_type": "code",
   "execution_count": null,
   "metadata": {},
   "outputs": [],
   "source": [
    "# 운영체제 커맨드 창에서 입력할 명령을 여기에 작성하라.\n",
    "\n",
    "conda env create -f env4test.yml  # 가상환경 복원\n",
    "conda env list                    # 가상환경 목록 확인                  "
   ]
  },
  {
   "cell_type": "markdown",
   "metadata": {},
   "source": [
    "### 문제 16.\n",
    "\n",
    "앞선 문제에 이어서, 복원한 가상환경에 주피터 패키지를 설치하라. "
   ]
  },
  {
   "cell_type": "code",
   "execution_count": null,
   "metadata": {},
   "outputs": [],
   "source": [
    "# 운영체제 커맨드 창에서 입력할 명령을 여기에 작성하라.\n",
    "\n",
    "conda activate env4test  \n",
    "conda install jupyter           "
   ]
  },
  {
   "cell_type": "markdown",
   "metadata": {},
   "source": [
    "### 문제 17.\n",
    "\n",
    "앞선 문제에 이어서, 가상환경에서 주피터 노트북을 실행하라. "
   ]
  },
  {
   "cell_type": "code",
   "execution_count": null,
   "metadata": {},
   "outputs": [],
   "source": [
    "# 운영체제 커맨드 창에서 입력할 명령을 여기에 작성하라.\n",
    "\n",
    "conda activate env4test  \n",
    "conda install jupyter           "
   ]
  },
  {
   "cell_type": "markdown",
   "metadata": {},
   "source": [
    "### 문제 18.\n",
    "\n",
    "앞선 문제에 이어서, 주피터 노트북에 다음과 같이 출력되는  \n",
    "마크다운 셀을 작성하고 실행하라. "
   ]
  },
  {
   "cell_type": "markdown",
   "metadata": {},
   "source": [
    "![18_title](https://user-images.githubusercontent.com/10287629/131446116-de3a97a7-05d7-4e8a-9e25-dea7d494677d.png)"
   ]
  },
  {
   "cell_type": "code",
   "execution_count": null,
   "metadata": {},
   "outputs": [],
   "source": [
    "# 주피터 노트북에서 마크다운 셀에 입력할 명령을 여기에 작성하라.\n",
    "\n",
    "\n",
    "문서 전체의 제목\n",
    "===============\n",
    "\n",
    "문서 전체의 부제목\n",
    "----------------\n",
    "\n",
    "## 제2수준 제목\n",
    "\n",
    "마크다운 텍스트에서 문단 나누기와 강제 줄바꿈을 구별해야 한다. 마크다운 텍스트에서 문단 나누기와 강제 줄바꿈을 구별해야 한다. \n",
    "마크다운 텍스트에서 문단 나누기와 강제 줄바꿈을 구별해야 한다. 마크다운 텍스트에서 문단 나누기와 강제 줄바꿈을 구별해야 한다. \n",
    "\n",
    "정상적인 문단 나누기를 위해서는 문단 사이에 한 줄 이상의 빈 행을 넣어야 한다. \n",
    "이렇게 하면 문단과 문단 사이에 약간의 여백이 생긴다. \n",
    "강제 줄바꿈을 적용하려면 텍스트 행 끝에 2개 이상의 공백 문자를 넣어야 한다.  \n",
    "강제 줄바꿈 1  \n",
    "강제 줄바꿈 2\n"
   ]
  },
  {
   "cell_type": "markdown",
   "metadata": {},
   "source": [
    "### 문제 19.\n",
    "\n",
    "앞선 문제에 이어서, 새로운 마크다운 셀을 작성하고 실행하여  \n",
    "아래와 같이 출력되도록 하라.  \n",
    "(힌트: 웹 문서에 대한 링크는 정확하지 않아도 무방하다.)"
   ]
  },
  {
   "cell_type": "markdown",
   "metadata": {},
   "source": [
    "![19_list_link](https://user-images.githubusercontent.com/10287629/131446303-3a0804db-e040-4d33-8317-039278e9c041.png)\n"
   ]
  },
  {
   "cell_type": "code",
   "execution_count": null,
   "metadata": {},
   "outputs": [],
   "source": [
    "# 주피터 노트북에서 마크다운 셀에 입력할 명령을 여기에 작성하라.\n",
    "\n",
    "- 한글 강좌 \n",
    "  1. [한글판 파이썬 공식 문서](https://docs.python.org/ko/3/)\n",
    "  1. [점프 투 파이썬](https://wikidocs.net/book/1)\n",
    "  1. [바이트 오브 파이썬](https://python.swaroopch.com/)\n",
    "  1. [파이썬 프로그래밍 입문서](https://python.bakyeono.net/table-of-contents.html)\n",
    "  1. [예제로 배우는 파이썬 프로그래밍](http://pythonstudy.xyz)\n",
    "- 영문 강좌  \n",
    "  1. [영문판 파이썬 공식 문서](https://docs.python.org/3/)\n",
    "  1. [DataCamp](https://www.datacamp.com)\n",
    "  1. [edX](https://www.edx.org)\n",
    "  1. [Python for Everybody](https://www.py4e.com)\n",
    "  1. [google python course](https://developers.google.com/edu/python)"
   ]
  },
  {
   "cell_type": "markdown",
   "metadata": {},
   "source": [
    "### 문제 20.\n",
    "\n",
    "앞선 문제에 이어서, 새로운 마크다운 셀을 작성하고 실행하여  \n",
    "아래와 같이 출력되도록 하라.  \n",
    "(힌트: https://www.anaconda.com/products/individual) "
   ]
  },
  {
   "cell_type": "markdown",
   "metadata": {},
   "source": [
    "![20_image](https://user-images.githubusercontent.com/10287629/131444483-1d06f6b2-2a26-4d2e-9151-5be9e7736fcd.png)\n"
   ]
  },
  {
   "cell_type": "code",
   "execution_count": null,
   "metadata": {},
   "outputs": [],
   "source": [
    "# 주피터 노트북에서 마크다운 셀에 입력할 명령을 여기에 작성하라.\n",
    "\n",
    "![아나콘다 네비게이터](https://www.anaconda.com/imager/assetsdo/Products/Product-Screenshots/5736/navigator-screenshot_680db6b6f11f9cc710dd7defae241cd3.png)\n"
   ]
  },
  {
   "cell_type": "markdown",
   "metadata": {},
   "source": [
    "### 문제 21.\n",
    "\n",
    "앞선 문제에 이어서, 새로운 마크다운 셀을 작성하고 실행하여,  \n",
    "아래와 같이 니코스 카잔차키스의 명언을 인용하라. "
   ]
  },
  {
   "cell_type": "markdown",
   "metadata": {},
   "source": [
    "![21_quote](https://user-images.githubusercontent.com/10287629/131446539-34b361e0-d8cd-499d-a9a7-a965a07d20e4.png)\n"
   ]
  },
  {
   "cell_type": "code",
   "execution_count": null,
   "metadata": {},
   "outputs": [],
   "source": [
    "# 주피터 노트북에서 마크다운 셀에 입력할 명령을 여기에 작성하라.\n",
    "\n",
    ">I hope for nothing.  \n",
    "I fear nothing.  \n",
    "I am free.  \n",
    "by **Nikos Kazantzakis**\n"
   ]
  },
  {
   "cell_type": "markdown",
   "metadata": {},
   "source": [
    "### 문제 22.\n",
    "\n",
    "앞선 문제에 이어서, 새로운 마크다운 셀을 작성하고 실행하여,  \n",
    "아래와 같이 표가 출력되도록 하라.  \n",
    "(힌트: https://www.tablesgenerator.com/markdown_tables)"
   ]
  },
  {
   "cell_type": "markdown",
   "metadata": {},
   "source": [
    "![22_table](https://user-images.githubusercontent.com/10287629/131446630-ab5cefe6-697b-47e9-ac2c-7dfb41108639.png)\n"
   ]
  },
  {
   "cell_type": "code",
   "execution_count": null,
   "metadata": {},
   "outputs": [],
   "source": [
    "# 주피터 노트북에서 마크다운 셀에 입력할 명령을 여기에 작성하라.\n",
    "\n",
    "| 이름 | 데이터 분석 | 데이터 시각화 | 평가 |\n",
    "|:--|--:|--:|:-:|\n",
    "| 나천재 | 95 | 95 | 매우 탁월함 |\n",
    "| 나수재 | 90 | 90 | 우수함 |\n",
    "| 나우수 | 85 | 85 | 준수함 |"
   ]
  },
  {
   "cell_type": "markdown",
   "metadata": {},
   "source": [
    "### 문제 23.\n",
    "\n",
    "지금까지 작성한 주피터 노트북을 `testNB.ipynb` 파일로 저장하라. "
   ]
  }
 ],
 "metadata": {
  "interpreter": {
   "hash": "6407b87c2d96350ceea2422ba828a2f6c03b3557c06aa8fa9ff406e31dc3ef4f"
  },
  "kernelspec": {
   "display_name": "Python 3",
   "language": "python",
   "name": "python3"
  },
  "language_info": {
   "codemirror_mode": {
    "name": "ipython",
    "version": 3
   },
   "file_extension": ".py",
   "mimetype": "text/x-python",
   "name": "python",
   "nbconvert_exporter": "python",
   "pygments_lexer": "ipython3",
   "version": "3.8.11"
  },
  "latex_envs": {
   "LaTeX_envs_menu_present": true,
   "autoclose": false,
   "autocomplete": true,
   "bibliofile": "biblio.bib",
   "cite_by": "apalike",
   "current_citInitial": 1,
   "eqLabelWithNumbers": true,
   "eqNumInitial": 1,
   "hotkeys": {
    "equation": "Ctrl-E",
    "itemize": "Ctrl-I"
   },
   "labels_anchors": false,
   "latex_user_defs": false,
   "report_style_numbering": false,
   "user_envs_cfg": false
  },
  "toc": {
   "base_numbering": 1,
   "nav_menu": {},
   "number_sections": false,
   "sideBar": true,
   "skip_h1_title": true,
   "title_cell": "Table of Contents",
   "title_sidebar": "Contents",
   "toc_cell": false,
   "toc_position": {
    "height": "calc(100% - 180px)",
    "left": "10px",
    "top": "150px",
    "width": "401.594px"
   },
   "toc_section_display": true,
   "toc_window_display": false
  }
 },
 "nbformat": 4,
 "nbformat_minor": 4
}
