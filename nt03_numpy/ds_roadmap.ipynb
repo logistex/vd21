{
 "cells": [
  {
   "cell_type": "markdown",
   "id": "4c44977b",
   "metadata": {
    "slideshow": {
     "slide_type": "slide"
    }
   },
   "source": [
    "![00_roadmap](https://user-images.githubusercontent.com/10287629/132934747-494c3f32-d46a-4585-8a3c-bf16d79fd0a5.png)"
   ]
  },
  {
   "cell_type": "markdown",
   "id": "17cd6ea3",
   "metadata": {
    "slideshow": {
     "slide_type": "slide"
    }
   },
   "source": [
    "![b10_cover](https://user-images.githubusercontent.com/10287629/132934785-4852acf6-6a88-4e8a-9f19-577826cd4297.png)"
   ]
  },
  {
   "cell_type": "markdown",
   "id": "6b1b8d7b",
   "metadata": {
    "slideshow": {
     "slide_type": "slide"
    }
   },
   "source": [
    "![b10_toc](https://user-images.githubusercontent.com/10287629/132934789-999ab7d0-f1dc-46ac-8484-91221cbe4541.png)"
   ]
  },
  {
   "cell_type": "markdown",
   "id": "9877aed3",
   "metadata": {
    "slideshow": {
     "slide_type": "slide"
    }
   },
   "source": [
    "![b11_setup](https://user-images.githubusercontent.com/10287629/132934794-9ed8ec4f-1f85-41af-9713-bbf1d988510b.png)\n"
   ]
  },
  {
   "cell_type": "markdown",
   "id": "d6ffdefa",
   "metadata": {
    "slideshow": {
     "slide_type": "slide"
    }
   },
   "source": [
    "![b12_np](https://user-images.githubusercontent.com/10287629/132934799-26f2efed-8a91-4c32-a3e2-843fc974b084.png)"
   ]
  },
  {
   "cell_type": "markdown",
   "id": "bb621cf3",
   "metadata": {
    "slideshow": {
     "slide_type": "slide"
    }
   },
   "source": [
    "![b13_pd](https://user-images.githubusercontent.com/10287629/132934803-75e3546f-29ed-4426-8c64-312079362e9f.png)\n"
   ]
  },
  {
   "cell_type": "markdown",
   "id": "9a5348fd",
   "metadata": {
    "slideshow": {
     "slide_type": "slide"
    }
   },
   "source": [
    "![b14_wrangling](https://user-images.githubusercontent.com/10287629/132934804-78ae1722-17a5-42f1-9a7e-d0e851437933.png)"
   ]
  },
  {
   "cell_type": "markdown",
   "id": "ab412512",
   "metadata": {
    "slideshow": {
     "slide_type": "slide"
    }
   },
   "source": [
    "![b15_analysis](https://user-images.githubusercontent.com/10287629/132934807-ddbde94d-4819-4d27-91aa-b8d53e622371.png)"
   ]
  }
 ],
 "metadata": {
  "celltoolbar": "Slideshow",
  "kernelspec": {
   "display_name": "Python 3",
   "language": "python",
   "name": "python3"
  },
  "language_info": {
   "codemirror_mode": {
    "name": "ipython",
    "version": 3
   },
   "file_extension": ".py",
   "mimetype": "text/x-python",
   "name": "python",
   "nbconvert_exporter": "python",
   "pygments_lexer": "ipython3",
   "version": "3.8.11"
  },
  "latex_envs": {
   "LaTeX_envs_menu_present": true,
   "autoclose": false,
   "autocomplete": true,
   "bibliofile": "biblio.bib",
   "cite_by": "apalike",
   "current_citInitial": 1,
   "eqLabelWithNumbers": true,
   "eqNumInitial": 1,
   "hotkeys": {
    "equation": "Ctrl-E",
    "itemize": "Ctrl-I"
   },
   "labels_anchors": false,
   "latex_user_defs": false,
   "report_style_numbering": false,
   "user_envs_cfg": false
  },
  "toc": {
   "base_numbering": 1,
   "nav_menu": {},
   "number_sections": true,
   "sideBar": true,
   "skip_h1_title": true,
   "title_cell": "Table of Contents",
   "title_sidebar": "Contents",
   "toc_cell": false,
   "toc_position": {
    "height": "calc(100% - 180px)",
    "left": "10px",
    "top": "150px",
    "width": "346.594px"
   },
   "toc_section_display": true,
   "toc_window_display": true
  }
 },
 "nbformat": 4,
 "nbformat_minor": 5
}
