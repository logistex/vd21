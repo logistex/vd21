{
 "cells": [
  {
   "cell_type": "markdown",
   "metadata": {
    "slideshow": {
     "slide_type": "slide"
    }
   },
   "source": [
    "# ![](../img/b12_np.png)\n",
    "\n",
    "<div style=\"page-break-after: always;\"></div> "
   ]
  },
  {
   "cell_type": "markdown",
   "metadata": {
    "slideshow": {
     "slide_type": "slide"
    }
   },
   "source": [
    "#  넘파이(NumPy) \n",
    "\n",
    "<img src=\"https://www.tomasbeuzen.com/python-programming-for-data-science/_static/logo.png\" alt=\"python for data science\" width=\"300\" height=\"300\">\n",
    "\n",
    "\n",
    "1. 넘파이 소개\n",
    "\n",
    "2. 넘파이 배열\n",
    "\n",
    "3. 배열 연산 및 전파\n",
    "\n",
    "4. 인덱싱 및 슬라이싱\n",
    "\n",
    "5. 넘파이 함수\n",
    "\n",
    "<div style=\"page-break-after: always;\"></div> "
   ]
  },
  {
   "cell_type": "markdown",
   "metadata": {
    "slideshow": {
     "slide_type": "slide"
    }
   },
   "source": [
    "<h2>학습 목표<span class=\"tocSkip\"></span></h2>\n",
    "\n",
    "- 넘파이 배열을 생성할 수 있다.  \n",
    "  `np.array()` / `np.arange()` / `np.linspace()` / `np.full()` / `np.zeros()` /`np.ones()`\n",
    "- 넘파이 배열 원소에 접근할 수 있다.  \n",
    "  수치형 인덱싱/슬라이싱, 논리형 인덱싱, 환상적 인덱싱\n",
    "- 배열에 대한 수학적 연산을 수행할 수 있다. \n",
    "- 연산 전파의 개념 및 활용 방법을 설명할 수 있다. \n",
    "- 배열을 재구성하여 배열의 모양을 변경할 수 있다.   \n",
    "    `.reshape()` / `np.newaxis` / `.ravel()` / `.flatten()`\n",
    "    - `np.속성`형태로 활용하는 속성\n",
    "    - `배열이름.메소드()` 형태로 호출하는 메소드\n",
    "- 넘파이 내장 함수를 활용할 수 있다.   \n",
    "    `np.sum()`, `np.mean()`, `np.log()`, ...\n",
    "    \n",
    "<div style=\"page-break-after: always;\"></div> "
   ]
  },
  {
   "cell_type": "markdown",
   "metadata": {
    "slideshow": {
     "slide_type": "slide"
    }
   },
   "source": [
    "## 1. 넘파이 소개"
   ]
  },
  {
   "cell_type": "markdown",
   "metadata": {
    "slideshow": {
     "slide_type": "subslide"
    }
   },
   "source": [
    "|![NumPy_logo_860 svg](https://user-images.githubusercontent.com/10287629/132848684-028e1b5e-bf8d-42b1-92e9-a7ca89aed7f3.png)<br>그림-1. 넘파이 로고<br>출처: [ko.wikipedia.org](https://ko.wikipedia.org/wiki/NumPy)|\n",
    "|:---|"
   ]
  },
  {
   "cell_type": "markdown",
   "metadata": {
    "slideshow": {
     "slide_type": "subslide"
    }
   },
   "source": [
    "- 넘파이(NumPy)는 파이썬에서 \"**수치 연산**을 위해 제공되는 근본적인 패키지\"이다.\n",
    "- 넘파이는 파이썬 표준 라이브러리로서 다음 분야에서 활용된다.\n",
    "    - (벡터와 행렬 연산을 위한) 배열 처리\n",
    "    - 선형대수학(linear algerba)\n",
    "    - 기타 수치 연산\n",
    "- 넘파이는 C 언어로 작성되었으며,  \n",
    "  **넘파이 배열이** 파이썬 내장 리스트보다  \n",
    "  (처리 속도와 메모리 효율 측면에서) **더 우수**하다.\n",
    "- 추가적 공부 자료\n",
    "    - [넘파이가 일반 파이썬보다 빠르다는 증명](https://www.datadiscuss.com/proof-that-numpy-is-much-faster-than-normal-python-array/)\n",
    "    - [넘파이 배열의 메모리 효율성](https://www.jessicayung.com/numpy-arrays-memory-and-strides/)\n",
    "    - [파이썬에서 넘파이로](https://www.labri.fr/perso/nrougier/from-python-to-numpy/)"
   ]
  },
  {
   "cell_type": "markdown",
   "metadata": {
    "slideshow": {
     "slide_type": "subslide"
    }
   },
   "source": [
    "- 넘파이를 설치하려면 아래와 같은 `conda` 명령을 써야 한다.\n",
    "    - 아래 명령은 현재 활성화된 파이썬 가상환경에 넘파이를 설치한다.\n",
    "    - 먼저 사용하려는 파이썬 가상환경을 활성화 상태로 만든 후에 넘파이를 설치해야 한다.\n",
    "    - 이후로는 해당 가상환경을 활성화 한 상태에서 넘파이를 활용하면 된다."
   ]
  },
  {
   "cell_type": "markdown",
   "metadata": {
    "slideshow": {
     "slide_type": "fragment"
    }
   },
   "source": [
    "```shell\n",
    "$ conda install numpy  # 현재 활성화된 파이썬 가상환경에 넘파이를 설치    \n",
    "```"
   ]
  },
  {
   "cell_type": "markdown",
   "metadata": {
    "slideshow": {
     "slide_type": "fragment"
    }
   },
   "source": [
    "- 넘파이 소개는 간단히 마치고, 넘파이 배열을 공부하자.\n",
    "\n",
    "<div style=\"page-break-after: always;\"></div> "
   ]
  },
  {
   "cell_type": "markdown",
   "metadata": {
    "slideshow": {
     "slide_type": "slide"
    }
   },
   "source": [
    "## 2. 넘파이 배열"
   ]
  },
  {
   "cell_type": "markdown",
   "metadata": {
    "slideshow": {
     "slide_type": "slide"
    }
   },
   "source": [
    "### 2.1 배열의 개념"
   ]
  },
  {
   "cell_type": "markdown",
   "metadata": {
    "slideshow": {
     "slide_type": "subslide"
    }
   },
   "source": [
    "|![그림-2. 넘파이 배열의 다양한 모양](https://user-images.githubusercontent.com/10287629/126031429-34f6196a-3570-44a6-8824-8f53c21e2199.png)<br>그림-2. 넘파이 배열의 다양한 모양<br>출처: [Medium.com](https://medium.com/hackernoon/10-machine-learning-data-science-and-deep-learning-courses-for-programmers-7edc56078cde)|\n",
    "|:---|\n",
    "\n",
    "- 배열은 *n-차원(n-dimensional)* 자료구조이다.\n",
    "    - 넘파이에서는 `ndarray` 자료형으로 표현한다.\n",
    "    - 배열에는 (실수, 정수, 문자열 등과 같은) 모든 파이썬 기본 자료형 값을 저장할 수 있다.\n",
    "    - (비 수치형 데이터보다는) *수치형 데이터를 저장하는 경우에 배열의 성능이 좋다*.\n",
    "    - 일차원 배열은 열만으로 구성된다. \n",
    "    - 이차원 배열은 행과 열로 구성된다.\n",
    "    - 삼차원 배열은 면, 행, 열로 구성된다."
   ]
  },
  {
   "cell_type": "markdown",
   "metadata": {
    "slideshow": {
     "slide_type": "subslide"
    }
   },
   "source": [
    "- 넘파이 배열(ndarray)은 **동질적**(homogenous)인데,  \n",
    "  배열 내부 원소의 자료형이 모두 같아야 한다는 의미이다.\n",
    "- 그러므로 단일 넘파이 배열에  \n",
    "  학생의 이름(문자열)과 점수(정수)를 함께 저장할 수는 없고,  \n",
    "  이름 배열과 점수 배열로 분리해야 한다.\n",
    "- 넘파이 배열은 넘파이가 제공하는 방대한 내장 함수와 호환성을 가진다.  \n",
    "  넘파이 배열을 다양한 넘파이 내장 함수에서 사용할 수 있다는 의미이다.\n",
    "- 넘파이 라이브러리 활용법을 관전해보자.  \n",
    "  실습은 잠시 후부터 하기로 하고, 일단 관전해보자.  "
   ]
  },
  {
   "cell_type": "markdown",
   "metadata": {
    "slideshow": {
     "slide_type": "fragment"
    }
   },
   "source": [
    "- 넘파이 패키지를 수입한다. "
   ]
  },
  {
   "cell_type": "code",
   "execution_count": 1,
   "metadata": {
    "slideshow": {
     "slide_type": "fragment"
    }
   },
   "outputs": [],
   "source": [
    "import numpy as np"
   ]
  },
  {
   "cell_type": "markdown",
   "metadata": {
    "slideshow": {
     "slide_type": "subslide"
    }
   },
   "source": [
    "- 1차원 배열부터 만들어 보자. "
   ]
  },
  {
   "cell_type": "code",
   "execution_count": 2,
   "metadata": {
    "scrolled": false,
    "slideshow": {
     "slide_type": "fragment"
    }
   },
   "outputs": [
    {
     "name": "stdout",
     "output_type": "stream",
     "text": [
      "[ 7  2  9 10]\n",
      "<class 'numpy.ndarray'>\n",
      "arr_1d 모양: (4,)\n"
     ]
    }
   ],
   "source": [
    "arr_1d = np.array([7, 2, 9, 10])                # 넘파이 1차원 배열  \n",
    "print(arr_1d)\n",
    "print(type(arr_1d))\n",
    "print(f\"arr_1d 모양: {arr_1d.shape}\")           # (4,): (4열) 벡터           <- (4,) !!!"
   ]
  },
  {
   "cell_type": "markdown",
   "metadata": {
    "slideshow": {
     "slide_type": "fragment"
    }
   },
   "source": [
    "- 넘파이 1차원 배열과 파이썬 리스트는 출력 형태가 다르다. "
   ]
  },
  {
   "cell_type": "code",
   "execution_count": 3,
   "metadata": {
    "slideshow": {
     "slide_type": "fragment"
    }
   },
   "outputs": [
    {
     "name": "stdout",
     "output_type": "stream",
     "text": [
      "[7, 2, 9, 10]\n",
      "<class 'list'>\n"
     ]
    }
   ],
   "source": [
    "lst_1d = [7, 2, 9, 10]                          # 파이썬 1차원 리스트\n",
    "print(lst_1d)\n",
    "print(type(lst_1d))"
   ]
  },
  {
   "cell_type": "markdown",
   "metadata": {
    "slideshow": {
     "slide_type": "subslide"
    }
   },
   "source": [
    "- 2차원 배열도 만들어 보자.  \n",
    "  역시 넘파이 배열과 파이썬 리스트는 출력 형태가 다르다. "
   ]
  },
  {
   "cell_type": "code",
   "execution_count": 4,
   "metadata": {
    "slideshow": {
     "slide_type": "fragment"
    }
   },
   "outputs": [
    {
     "name": "stdout",
     "output_type": "stream",
     "text": [
      "[[5.2 3.  4.5]\n",
      " [9.1 0.1 0.3]]\n",
      "<class 'numpy.ndarray'>\n",
      "arr_2d 모양: (2, 3)\n"
     ]
    }
   ],
   "source": [
    "arr_2d = np.array([[5.2, 3.0, 4.5],             # 넘파이 2차원 배열 생성\n",
    "                   [9.1, 0.1, 0.3]])  \n",
    "print(arr_2d)\n",
    "print(type(arr_2d))\n",
    "print(f\"arr_2d 모양: {arr_2d.shape}\")           # (2, 3): (2행 x 3열) 행렬"
   ]
  },
  {
   "cell_type": "code",
   "execution_count": 5,
   "metadata": {
    "slideshow": {
     "slide_type": "fragment"
    }
   },
   "outputs": [
    {
     "name": "stdout",
     "output_type": "stream",
     "text": [
      "[[5.2, 3.0, 4.5], [9.1, 0.1, 0.3]]\n",
      "<class 'list'>\n"
     ]
    }
   ],
   "source": [
    "lst_2d = [[5.2, 3.0, 4.5],                         # 파이썬 2차원 리스트 \n",
    "          [9.1, 0.1, 0.3]]\n",
    "print(lst_2d)\n",
    "print(type(lst_2d))"
   ]
  },
  {
   "cell_type": "markdown",
   "metadata": {
    "slideshow": {
     "slide_type": "subslide"
    }
   },
   "source": [
    "- 3차원 배열까지만 확인하자.  \n",
    "  역시 넘파이 배열과 파이썬 리스트는 출력 형태가 다르다. "
   ]
  },
  {
   "cell_type": "code",
   "execution_count": 6,
   "metadata": {
    "slideshow": {
     "slide_type": "fragment"
    }
   },
   "outputs": [
    {
     "name": "stdout",
     "output_type": "stream",
     "text": [
      "[[[ 1  4  7]\n",
      "  [ 2  9  7]\n",
      "  [ 1  3  0]\n",
      "  [ 9  6  9]]\n",
      "\n",
      " [[ 2  3  4]\n",
      "  [-1 -1  5]\n",
      "  [-1 -1  2]\n",
      "  [-1 -1  8]]]\n",
      "<class 'numpy.ndarray'>\n",
      "arr_3d 모양: (2, 4, 3)\n"
     ]
    }
   ],
   "source": [
    "arr_3d = np.array([[[1, 4, 7],                  # 넘파이 3차원 배열\n",
    "                    [2, 9, 7], \n",
    "                    [1, 3, 0], \n",
    "                    [9, 6, 9]], \n",
    "                    \n",
    "                   [[2, 3, 4], \n",
    "                    [-1, -1, 5], \n",
    "                    [-1, -1, 2], \n",
    "                    [-1, -1, 8]]])\n",
    "print(arr_3d)\n",
    "print(type(arr_3d))\n",
    "print(f\"arr_3d 모양: {arr_3d.shape}\")           # (4, 3, 2): (4행 x 3열 x 2 면) 행렬"
   ]
  },
  {
   "cell_type": "code",
   "execution_count": 7,
   "metadata": {
    "slideshow": {
     "slide_type": "subslide"
    }
   },
   "outputs": [
    {
     "name": "stdout",
     "output_type": "stream",
     "text": [
      "[[[1, 4, 7], [2, 9, 7], [1, 3, 0], [9, 6, 9]], [[2, 3, 4], [-1, -1, 5], [-1, -1, 2], [-1, -1, 8]]]\n",
      "<class 'list'>\n"
     ]
    }
   ],
   "source": [
    "lst_3d = [[[1, 4, 7],                  # 파이썬 3차원 리스트\n",
    "           [2, 9, 7], \n",
    "           [1, 3, 0], \n",
    "           [9, 6, 9]], \n",
    "\n",
    "          [[2, 3, 4], \n",
    "           [-1, -1, 5], \n",
    "           [-1, -1, 2], \n",
    "           [-1, -1, 8]]]\n",
    "print(lst_3d)\n",
    "print(type(lst_3d))"
   ]
  },
  {
   "cell_type": "markdown",
   "metadata": {
    "slideshow": {
     "slide_type": "subslide"
    }
   },
   "source": [
    "- 모양이 (4,)인 1차원 배열의 모양을 변형할 수 있다. \n",
    "  - 모양이 (1, 4)인 2차원 배열로 변환\n",
    "  - 모양이 (4, 1)인 2차원 배열로 변환"
   ]
  },
  {
   "cell_type": "code",
   "execution_count": 8,
   "metadata": {
    "slideshow": {
     "slide_type": "fragment"
    }
   },
   "outputs": [
    {
     "name": "stdout",
     "output_type": "stream",
     "text": [
      "    arr_1d:  [ 7  2  9 10]\n",
      "arr_1d_row: [[ 7  2  9 10]]\n",
      "    arr_1d 모양: (4,)\n",
      "arr_1d_row 모양: (1, 4)\n"
     ]
    }
   ],
   "source": [
    "# arr_1d 벡터를 (1행 x 4열) 행렬로 변환하는 \"무식한\" 방법\n",
    "arr_1d_row = np.array([arr_1d])                 # `[arr_1d]`라는 무식한 코드     \n",
    "print(f\"    arr_1d:  {arr_1d}\")\n",
    "print(f\"arr_1d_row: {arr_1d_row}\")\n",
    "print(f\"    arr_1d 모양: {arr_1d.shape}\")       # (4,): (4열) 행렬\n",
    "print(f\"arr_1d_row 모양: {arr_1d_row.shape}\")   # (1, 4): (1행 x 4열) 행렬"
   ]
  },
  {
   "cell_type": "code",
   "execution_count": 9,
   "metadata": {
    "slideshow": {
     "slide_type": "fragment"
    }
   },
   "outputs": [
    {
     "name": "stdout",
     "output_type": "stream",
     "text": [
      "    arr_1d 값: [ 7  2  9 10]\n",
      "arr_1d_row 값: [[ 7  2  9 10]]\n",
      "    arr_1d 모양: (4,)\n",
      "arr_1d_row 모양: (1, 4)\n"
     ]
    }
   ],
   "source": [
    "# arr_1d 벡터를 (1행 x 4열) 행렬로 변환하는 \"멋진\" 방법 \n",
    "arr_1d_row = arr_1d[np.newaxis, :]              # `arr_1d[np.newaxis, :]`라는 멋진 코드\n",
    "print(f\"    arr_1d 값: {arr_1d}\")\n",
    "print(f\"arr_1d_row 값: {arr_1d_row}\")\n",
    "print(f\"    arr_1d 모양: {arr_1d.shape}\")       # (4,): (4열) 행렬\n",
    "print(f\"arr_1d_row 모양: {arr_1d_row.shape}\")   # (1, 4): (1행 x 4열) 행렬"
   ]
  },
  {
   "cell_type": "code",
   "execution_count": 10,
   "metadata": {
    "slideshow": {
     "slide_type": "subslide"
    }
   },
   "outputs": [
    {
     "name": "stdout",
     "output_type": "stream",
     "text": [
      "    arr_1d 값: \n",
      "[ 7  2  9 10]\n",
      "arr_1d_col 값: \n",
      "[[ 7]\n",
      " [ 2]\n",
      " [ 9]\n",
      " [10]]\n",
      "    arr_1d 모양: (4,)\n",
      "arr_1d_col 모양: (4, 1)\n"
     ]
    }
   ],
   "source": [
    "# arr_1d 벡터를 (4행 x 1열) 행렬로 변환하는 \"무식한\" 방법\n",
    "arr_1d_col = np.array([[ 7],                   \n",
    "                       [ 2], \n",
    "                       [ 9], \n",
    "                       [10]])                   #  (4행 x 1열) 행렬을 직접 지정한 코드\n",
    "print(f\"    arr_1d 값: \\n{arr_1d}\")\n",
    "print(f\"arr_1d_col 값: \\n{arr_1d_col}\")\n",
    "print(f\"    arr_1d 모양: {arr_1d.shape}\")       # (4,): (4열) 행렬\n",
    "print(f\"arr_1d_col 모양: {arr_1d_col.shape}\")   # (4, 1): (4행 x 1열) 행렬"
   ]
  },
  {
   "cell_type": "code",
   "execution_count": 11,
   "metadata": {
    "slideshow": {
     "slide_type": "fragment"
    }
   },
   "outputs": [
    {
     "name": "stdout",
     "output_type": "stream",
     "text": [
      "    arr_1d 값: \n",
      "[ 7  2  9 10]\n",
      "arr_1d_col 값: \n",
      "[[ 7]\n",
      " [ 2]\n",
      " [ 9]\n",
      " [10]]\n",
      "    arr_1d 모양: (4,)\n",
      "arr_1d_col 모양: (4, 1)\n"
     ]
    }
   ],
   "source": [
    "# arr_1d 벡터를 (4행 x 1열) 행렬로 변환하는 \"멋진\" 방법\n",
    "arr_1d_col = arr_1d[:, np.newaxis]              # `arr_1d[:, np.newaxis]`라는 멋진 코드   \n",
    "print(f\"    arr_1d 값: \\n{arr_1d}\")\n",
    "print(f\"arr_1d_col 값: \\n{arr_1d_col}\")\n",
    "print(f\"    arr_1d 모양: {arr_1d.shape}\")       # (4,): (4열) 행렬\n",
    "print(f\"arr_1d_col 모양: {arr_1d_col.shape}\")   # (4, 1): (4행 x 1열) 행렬"
   ]
  },
  {
   "cell_type": "markdown",
   "metadata": {
    "slideshow": {
     "slide_type": "subslide"
    }
   },
   "source": [
    "- 지금부터는 실습용 코드이다. \n",
    "  - 코딩은 (관전이 아니라) 실습으로 배워야 한다.\n",
    "  - 코드를 보면서 똑 같이 입력하면 타자 연습이다. \n",
    "  - 일단 코드를 읽고 이해하라. 그리고 **보지 않고 작성해 보는 방식**으로 연습을 해야 한다. \n",
    "  - 코드를 생각해서 작성하려고 노력해야 한다.  \n",
    "  - 오류를 해결하려는 노력이 중요하다. \n",
    "  - 오류 메시지를 복사해서 구글링해야 한다. "
   ]
  },
  {
   "cell_type": "markdown",
   "metadata": {
    "slideshow": {
     "slide_type": "fragment"
    }
   },
   "source": [
    "- 넘파이 라이브러리 수입 작업부터 시작하자. \n",
    "  - 관례적으로 넘파이를 수입(import)할 때 별칭은 `np`로 지정한다.  \n",
    "  - 넘파이를 사용할 때마다 'n-u-m-p-y'라고 입력하는  \n",
    "    번거로움을 피하기 위해서 이렇게 별칭을 지정한다."
   ]
  },
  {
   "cell_type": "code",
   "execution_count": 12,
   "metadata": {
    "slideshow": {
     "slide_type": "fragment"
    }
   },
   "outputs": [],
   "source": [
    "import numpy as np"
   ]
  },
  {
   "cell_type": "markdown",
   "metadata": {
    "slideshow": {
     "slide_type": "subslide"
    }
   },
   "source": [
    "- 넘파이 배열은 파이썬 리스트와 유사하다. "
   ]
  },
  {
   "cell_type": "code",
   "execution_count": 13,
   "metadata": {
    "slideshow": {
     "slide_type": "fragment"
    }
   },
   "outputs": [
    {
     "data": {
      "text/plain": [
       "[1, 2, 3, 4, 5]"
      ]
     },
     "execution_count": 13,
     "metadata": {},
     "output_type": "execute_result"
    }
   ],
   "source": [
    "my_list = [1, 2, 3, 4, 5]             # 파이썬 리스트\n",
    "my_list"
   ]
  },
  {
   "cell_type": "code",
   "execution_count": 14,
   "metadata": {
    "slideshow": {
     "slide_type": "fragment"
    }
   },
   "outputs": [
    {
     "name": "stdout",
     "output_type": "stream",
     "text": [
      "[1 2 3 4 5]\n"
     ]
    },
    {
     "data": {
      "text/plain": [
       "array([1, 2, 3, 4, 5])"
      ]
     },
     "execution_count": 14,
     "metadata": {},
     "output_type": "execute_result"
    }
   ],
   "source": [
    "my_array = np.array([1, 2, 3, 4, 5])  # 넘파이 (일차원) 배열\n",
    "print(my_array)       # print()를 써서 출력한 모습과 \n",
    "my_array              # print()를 쓰지 않고 출력한 모습이 다름!"
   ]
  },
  {
   "cell_type": "markdown",
   "metadata": {
    "slideshow": {
     "slide_type": "subslide"
    }
   },
   "source": [
    "- 넘파이 배열의 자료형을 확인하면, `ndarray`이다. "
   ]
  },
  {
   "cell_type": "code",
   "execution_count": 15,
   "metadata": {
    "slideshow": {
     "slide_type": "fragment"
    }
   },
   "outputs": [
    {
     "data": {
      "text/plain": [
       "numpy.ndarray"
      ]
     },
     "execution_count": 15,
     "metadata": {},
     "output_type": "execute_result"
    }
   ],
   "source": [
    "type(my_array)  # 자료형 출력 함수"
   ]
  },
  {
   "cell_type": "markdown",
   "metadata": {
    "slideshow": {
     "slide_type": "subslide"
    }
   },
   "source": [
    "- 파이썬 리스트와 달리,  \n",
    "  넘파이 배열에는 **단일 자료형** 값(통상적으로 수치 값)만을 저장할 수 있다. "
   ]
  },
  {
   "cell_type": "code",
   "execution_count": 16,
   "metadata": {
    "slideshow": {
     "slide_type": "fragment"
    }
   },
   "outputs": [
    {
     "data": {
      "text/plain": [
       "[1, 'hi']"
      ]
     },
     "execution_count": 16,
     "metadata": {},
     "output_type": "execute_result"
    }
   ],
   "source": [
    "# 파이썬 리스트에는 여러 자료형 값을 혼합해서 저장할 수 있다.\n",
    "my_list = [1, \"hi\"]   \n",
    "my_list"
   ]
  },
  {
   "cell_type": "code",
   "execution_count": 17,
   "metadata": {
    "slideshow": {
     "slide_type": "fragment"
    }
   },
   "outputs": [
    {
     "data": {
      "text/plain": [
       "array(['1', 'hi'], dtype='<U11')"
      ]
     },
     "execution_count": 17,
     "metadata": {},
     "output_type": "execute_result"
    }
   ],
   "source": [
    "# 넘파이 배열에 수치와 문자열이 혼합된 튜플을 저장하면 모두 문자열로 통일되어 저장된다.\n",
    "my_array = np.array((1, \"hi\"))   \n",
    "my_array                 "
   ]
  },
  {
   "cell_type": "markdown",
   "metadata": {
    "slideshow": {
     "slide_type": "fragment"
    }
   },
   "source": [
    "- 위에서 넘파이는 정수 `1`을 문자열 `'1'`로 자동적으로 강제적으로 변환하여 저장하였다.\n",
    "- `U11`, `U32`, ... 등과 같은 `U#` 표현에서  \n",
    "  `U`는 `Unicode` 자료형을 의미하며,  \n",
    "  `#`은 자료형이 수용할 수 있는 원소의 개수를 의미한다.  \n",
    "  \n",
    "<div style=\"page-break-after: always;\"></div> "
   ]
  },
  {
   "cell_type": "markdown",
   "metadata": {
    "slideshow": {
     "slide_type": "fragment"
    }
   },
   "source": [
    "넘파이 배열의 개념을 공부했으니, 생성 방법을 실습하자.\n",
    "\n",
    "<div style=\"page-break-after: always;\"></div> "
   ]
  },
  {
   "cell_type": "markdown",
   "metadata": {
    "slideshow": {
     "slide_type": "slide"
    }
   },
   "source": [
    "### 2.2 배열의 생성\n",
    "\n",
    "- ndarray를 생성하는 방법은 두 종류이다. \n",
    "    1. `np.array()` 함수에 (리스트 또는 튜플과 같이)  \n",
    "       이미 존재하는 데이터를 매개변수로 전달하는 방법\n",
    "    2. `np.arange()`, `np.linspace()`, `np.zeros()`, `np.ones()`, `np.full()` 등과 같은  \n",
    "       넘파이 내장 함수를 이용하는 방법   "
   ]
  },
  {
   "cell_type": "code",
   "execution_count": 18,
   "metadata": {
    "slideshow": {
     "slide_type": "fragment"
    }
   },
   "outputs": [
    {
     "data": {
      "text/plain": [
       "array([1, 2, 3])"
      ]
     },
     "execution_count": 18,
     "metadata": {},
     "output_type": "execute_result"
    }
   ],
   "source": [
    "my_list = [1, 2, 3]  # 매개변수로 전달할 파이썬 리스트를 먼저 생성\n",
    "np.array(my_list)    # np.array() 함수로 넘파이 배열 생성"
   ]
  },
  {
   "cell_type": "markdown",
   "metadata": {
    "slideshow": {
     "slide_type": "subslide"
    }
   },
   "source": [
    "- 넘파이 다차원 배열을 생성할 수 있다.\n",
    "    - 파이썬에서도, (리스트 내부에 리스트를 중첩하여) 다차원 리스트를 정의할 수 있다. \n",
    "    - 넘파이에서도, (대괄호 내부에 대괄호를 중첩하여) 다차원 배열을 정의할 수 있다.   "
   ]
  },
  {
   "cell_type": "code",
   "execution_count": 19,
   "metadata": {
    "slideshow": {
     "slide_type": "fragment"
    }
   },
   "outputs": [
    {
     "data": {
      "text/plain": [
       "[[1, 2], [3, 4], [5, 6]]"
      ]
     },
     "execution_count": 19,
     "metadata": {},
     "output_type": "execute_result"
    }
   ],
   "source": [
    "list_2d = [[1, 2], [3, 4], [5, 6]]  # 2차원 파이썬 리스트\n",
    "list_2d"
   ]
  },
  {
   "cell_type": "code",
   "execution_count": 20,
   "metadata": {
    "slideshow": {
     "slide_type": "fragment"
    }
   },
   "outputs": [
    {
     "data": {
      "text/plain": [
       "array([[1, 2],\n",
       "       [3, 4],\n",
       "       [5, 6]])"
      ]
     },
     "execution_count": 20,
     "metadata": {},
     "output_type": "execute_result"
    }
   ],
   "source": [
    "array_2d = np.array(list_2d)        # 2차원 넘파이 배열\n",
    "array_2d"
   ]
  },
  {
   "cell_type": "markdown",
   "metadata": {
    "slideshow": {
     "slide_type": "subslide"
    }
   },
   "source": [
    "- 3차원 배열부터는 꼼꼼해야 한다."
   ]
  },
  {
   "cell_type": "code",
   "execution_count": 21,
   "metadata": {
    "slideshow": {
     "slide_type": "fragment"
    }
   },
   "outputs": [
    {
     "data": {
      "text/plain": [
       "[[[1, 2], [3, 4]], [[5, 6], [7, 8]]]"
      ]
     },
     "execution_count": 21,
     "metadata": {},
     "output_type": "execute_result"
    }
   ],
   "source": [
    "list_3d = [[[1, 2], \n",
    "            [3, 4]], \n",
    "           \n",
    "           [[5, 6], \n",
    "            [7, 8]]]\n",
    "list_3d"
   ]
  },
  {
   "cell_type": "code",
   "execution_count": 22,
   "metadata": {
    "slideshow": {
     "slide_type": "fragment"
    }
   },
   "outputs": [
    {
     "data": {
      "text/plain": [
       "array([[[1, 2],\n",
       "        [3, 4]],\n",
       "\n",
       "       [[5, 6],\n",
       "        [7, 8]]])"
      ]
     },
     "execution_count": 22,
     "metadata": {},
     "output_type": "execute_result"
    }
   ],
   "source": [
    "array_3d = np.array(list_3d)\n",
    "array_3d"
   ]
  },
  {
   "cell_type": "markdown",
   "metadata": {
    "slideshow": {
     "slide_type": "fragment"
    }
   },
   "source": [
    "- 지금까지는 `np.array()` 메소드로 넘파이 배열을 생성하는 방법을 공부했다. \n",
    "- 지금부터는 넘파이 배열을 생성하는 다른 방법을 공부해 보자. "
   ]
  },
  {
   "cell_type": "markdown",
   "metadata": {
    "slideshow": {
     "slide_type": "subslide"
    }
   },
   "source": [
    "- 넘파이 `arange()`와 파이썬 `range()`는 비슷하지만 다르다. \n",
    "  - 파이썬 `range()`는 **수열**을 반환한다. \n",
    "  - 넘파이 `arnage()`는 (수열로 채워진) **배열**을 반환한다. \n"
   ]
  },
  {
   "cell_type": "code",
   "execution_count": 23,
   "metadata": {
    "scrolled": true,
    "slideshow": {
     "slide_type": "fragment"
    }
   },
   "outputs": [
    {
     "data": {
      "text/plain": [
       "array([1, 2, 3, 4])"
      ]
     },
     "execution_count": 23,
     "metadata": {},
     "output_type": "execute_result"
    }
   ],
   "source": [
    "np.arange(1, 5)    # 1부터 5(직전)까지, 1은 포함되지만 5는 제외한 배열 생성"
   ]
  },
  {
   "cell_type": "code",
   "execution_count": 24,
   "metadata": {
    "slideshow": {
     "slide_type": "fragment"
    }
   },
   "outputs": [
    {
     "data": {
      "text/plain": [
       "range(1, 5)"
      ]
     },
     "execution_count": 24,
     "metadata": {},
     "output_type": "execute_result"
    }
   ],
   "source": [
    "range(1, 5)        # 파이썬 range()는 수열을 반환"
   ]
  },
  {
   "cell_type": "code",
   "execution_count": 25,
   "metadata": {
    "slideshow": {
     "slide_type": "fragment"
    }
   },
   "outputs": [
    {
     "data": {
      "text/plain": [
       "[1, 2, 3, 4]"
      ]
     },
     "execution_count": 25,
     "metadata": {},
     "output_type": "execute_result"
    }
   ],
   "source": [
    "list(range(1, 5))  # 파이썬 range()로 리스트 생성"
   ]
  },
  {
   "cell_type": "markdown",
   "metadata": {
    "slideshow": {
     "slide_type": "subslide"
    }
   },
   "source": [
    "- 파이썬 `range()`와 비슷하게, `np.aragne()` 메소드에서도 **증분값**을 지정할 수 있다. "
   ]
  },
  {
   "cell_type": "code",
   "execution_count": 26,
   "metadata": {
    "slideshow": {
     "slide_type": "fragment"
    }
   },
   "outputs": [
    {
     "data": {
      "text/plain": [
       "array([ 0,  2,  4,  6,  8, 10])"
      ]
     },
     "execution_count": 26,
     "metadata": {},
     "output_type": "execute_result"
    }
   ],
   "source": [
    "np.arange(0, 11, 2)     # 0부터 11(직전)까지 증분은 2로 지정한 배열 생성"
   ]
  },
  {
   "cell_type": "code",
   "execution_count": 27,
   "metadata": {
    "scrolled": true,
    "slideshow": {
     "slide_type": "fragment"
    }
   },
   "outputs": [
    {
     "data": {
      "text/plain": [
       "[0, 2, 4, 6, 8, 10]"
      ]
     },
     "execution_count": 27,
     "metadata": {},
     "output_type": "execute_result"
    }
   ],
   "source": [
    "list(range(0, 11, 2))  # 파이썬 리스트"
   ]
  },
  {
   "cell_type": "markdown",
   "metadata": {
    "slideshow": {
     "slide_type": "subslide"
    }
   },
   "source": [
    "- `np.linspace()`는 특정 구간을 균등한 간격으로 분할하는  \n",
    "  벡터 공간(vector space), 다른 말로 **선형 공간**(linear space)을 배열로 생성한다. \n",
    "  - 구간은 **닫힌 구간**으로 처리되어, **마지막 값이 포함**된다. "
   ]
  },
  {
   "cell_type": "code",
   "execution_count": 28,
   "metadata": {
    "slideshow": {
     "slide_type": "fragment"
    }
   },
   "outputs": [
    {
     "data": {
      "text/plain": [
       "array([ 0. ,  2.5,  5. ,  7.5, 10. ])"
      ]
     },
     "execution_count": 28,
     "metadata": {},
     "output_type": "execute_result"
    }
   ],
   "source": [
    "np.linspace(0, 10, 5)  # 0부터 10(포함)까지 4 등분하는 점에 대한 (4 구간) 배열 생성"
   ]
  },
  {
   "cell_type": "code",
   "execution_count": 29,
   "metadata": {
    "slideshow": {
     "slide_type": "fragment"
    }
   },
   "outputs": [
    {
     "data": {
      "text/plain": [
       "array([ 0.        ,  0.20408163,  0.40816327,  0.6122449 ,  0.81632653,\n",
       "        1.02040816,  1.2244898 ,  1.42857143,  1.63265306,  1.83673469,\n",
       "        2.04081633,  2.24489796,  2.44897959,  2.65306122,  2.85714286,\n",
       "        3.06122449,  3.26530612,  3.46938776,  3.67346939,  3.87755102,\n",
       "        4.08163265,  4.28571429,  4.48979592,  4.69387755,  4.89795918,\n",
       "        5.10204082,  5.30612245,  5.51020408,  5.71428571,  5.91836735,\n",
       "        6.12244898,  6.32653061,  6.53061224,  6.73469388,  6.93877551,\n",
       "        7.14285714,  7.34693878,  7.55102041,  7.75510204,  7.95918367,\n",
       "        8.16326531,  8.36734694,  8.57142857,  8.7755102 ,  8.97959184,\n",
       "        9.18367347,  9.3877551 ,  9.59183673,  9.79591837, 10.        ])"
      ]
     },
     "execution_count": 29,
     "metadata": {},
     "output_type": "execute_result"
    }
   ],
   "source": [
    "np.linspace(0, 10)  # 개수의 기본값은 50"
   ]
  },
  {
   "cell_type": "markdown",
   "metadata": {
    "slideshow": {
     "slide_type": "subslide"
    }
   },
   "source": [
    "- 넘파이 `np.ones()`, `np.zeros()`, `np.full()` 메소드는 같은 값으로 채워진 배열을 반환한다.  "
   ]
  },
  {
   "cell_type": "code",
   "execution_count": 30,
   "metadata": {
    "slideshow": {
     "slide_type": "fragment"
    }
   },
   "outputs": [
    {
     "data": {
      "text/plain": [
       "array([[1., 1.],\n",
       "       [1., 1.]])"
      ]
     },
     "execution_count": 30,
     "metadata": {},
     "output_type": "execute_result"
    }
   ],
   "source": [
    "np.ones((2, 2))  # 모양이 (2행 x 2열)이고, 1로 채워진 배열 생성"
   ]
  },
  {
   "cell_type": "code",
   "execution_count": 31,
   "metadata": {
    "slideshow": {
     "slide_type": "fragment"
    }
   },
   "outputs": [
    {
     "data": {
      "text/plain": [
       "array([[0., 0.],\n",
       "       [0., 0.],\n",
       "       [0., 0.]])"
      ]
     },
     "execution_count": 31,
     "metadata": {},
     "output_type": "execute_result"
    }
   ],
   "source": [
    "np.zeros((3, 2))  # 모양이 (3행 x 2열)이고, 0으로 채워진 배열 생성"
   ]
  },
  {
   "cell_type": "code",
   "execution_count": 32,
   "metadata": {
    "slideshow": {
     "slide_type": "subslide"
    }
   },
   "outputs": [
    {
     "data": {
      "text/plain": [
       "array([[3.14, 3.14, 3.14],\n",
       "       [3.14, 3.14, 3.14],\n",
       "       [3.14, 3.14, 3.14],\n",
       "       [3.14, 3.14, 3.14]])"
      ]
     },
     "execution_count": 32,
     "metadata": {},
     "output_type": "execute_result"
    }
   ],
   "source": [
    "np.full((4, 3), 3.14)  # 모양이 (4행 x 3열)이고, 3.14로 채워진 배열 생성"
   ]
  },
  {
   "cell_type": "code",
   "execution_count": 33,
   "metadata": {
    "scrolled": true,
    "slideshow": {
     "slide_type": "fragment"
    }
   },
   "outputs": [
    {
     "data": {
      "text/plain": [
       "array([[[3.14, 3.14],\n",
       "        [3.14, 3.14],\n",
       "        [3.14, 3.14]],\n",
       "\n",
       "       [[3.14, 3.14],\n",
       "        [3.14, 3.14],\n",
       "        [3.14, 3.14]],\n",
       "\n",
       "       [[3.14, 3.14],\n",
       "        [3.14, 3.14],\n",
       "        [3.14, 3.14]],\n",
       "\n",
       "       [[3.14, 3.14],\n",
       "        [3.14, 3.14],\n",
       "        [3.14, 3.14]]])"
      ]
     },
     "execution_count": 33,
     "metadata": {},
     "output_type": "execute_result"
    }
   ],
   "source": [
    "np.full((4, 3, 2), 3.14)  # 모양이 (4면 x 3행 x 2열)이고, 3.14로 채워진 배열 생성 "
   ]
  },
  {
   "cell_type": "markdown",
   "metadata": {
    "slideshow": {
     "slide_type": "subslide"
    }
   },
   "source": [
    "- 넘파이 배열에서 사용 가능한 속성 및 메소드가 매우 많다. "
   ]
  },
  {
   "cell_type": "code",
   "execution_count": 34,
   "metadata": {
    "scrolled": true,
    "slideshow": {
     "slide_type": "fragment"
    }
   },
   "outputs": [
    {
     "data": {
      "text/plain": [
       "['T',\n",
       " '__abs__',\n",
       " '__add__',\n",
       " '__and__',\n",
       " '__array__',\n",
       " '__array_finalize__',\n",
       " '__array_function__',\n",
       " '__array_interface__',\n",
       " '__array_prepare__',\n",
       " '__array_priority__',\n",
       " '__array_struct__',\n",
       " '__array_ufunc__',\n",
       " '__array_wrap__',\n",
       " '__bool__',\n",
       " '__class__',\n",
       " '__complex__',\n",
       " '__contains__',\n",
       " '__copy__',\n",
       " '__deepcopy__',\n",
       " '__delattr__',\n",
       " '__delitem__',\n",
       " '__dir__',\n",
       " '__divmod__',\n",
       " '__doc__',\n",
       " '__eq__',\n",
       " '__float__',\n",
       " '__floordiv__',\n",
       " '__format__',\n",
       " '__ge__',\n",
       " '__getattribute__',\n",
       " '__getitem__',\n",
       " '__gt__',\n",
       " '__hash__',\n",
       " '__iadd__',\n",
       " '__iand__',\n",
       " '__ifloordiv__',\n",
       " '__ilshift__',\n",
       " '__imatmul__',\n",
       " '__imod__',\n",
       " '__imul__',\n",
       " '__index__',\n",
       " '__init__',\n",
       " '__init_subclass__',\n",
       " '__int__',\n",
       " '__invert__',\n",
       " '__ior__',\n",
       " '__ipow__',\n",
       " '__irshift__',\n",
       " '__isub__',\n",
       " '__iter__',\n",
       " '__itruediv__',\n",
       " '__ixor__',\n",
       " '__le__',\n",
       " '__len__',\n",
       " '__lshift__',\n",
       " '__lt__',\n",
       " '__matmul__',\n",
       " '__mod__',\n",
       " '__mul__',\n",
       " '__ne__',\n",
       " '__neg__',\n",
       " '__new__',\n",
       " '__or__',\n",
       " '__pos__',\n",
       " '__pow__',\n",
       " '__radd__',\n",
       " '__rand__',\n",
       " '__rdivmod__',\n",
       " '__reduce__',\n",
       " '__reduce_ex__',\n",
       " '__repr__',\n",
       " '__rfloordiv__',\n",
       " '__rlshift__',\n",
       " '__rmatmul__',\n",
       " '__rmod__',\n",
       " '__rmul__',\n",
       " '__ror__',\n",
       " '__rpow__',\n",
       " '__rrshift__',\n",
       " '__rshift__',\n",
       " '__rsub__',\n",
       " '__rtruediv__',\n",
       " '__rxor__',\n",
       " '__setattr__',\n",
       " '__setitem__',\n",
       " '__setstate__',\n",
       " '__sizeof__',\n",
       " '__str__',\n",
       " '__sub__',\n",
       " '__subclasshook__',\n",
       " '__truediv__',\n",
       " '__xor__',\n",
       " 'all',\n",
       " 'any',\n",
       " 'argmax',\n",
       " 'argmin',\n",
       " 'argpartition',\n",
       " 'argsort',\n",
       " 'astype',\n",
       " 'base',\n",
       " 'byteswap',\n",
       " 'choose',\n",
       " 'clip',\n",
       " 'compress',\n",
       " 'conj',\n",
       " 'conjugate',\n",
       " 'copy',\n",
       " 'ctypes',\n",
       " 'cumprod',\n",
       " 'cumsum',\n",
       " 'data',\n",
       " 'diagonal',\n",
       " 'dot',\n",
       " 'dtype',\n",
       " 'dump',\n",
       " 'dumps',\n",
       " 'fill',\n",
       " 'flags',\n",
       " 'flat',\n",
       " 'flatten',\n",
       " 'getfield',\n",
       " 'imag',\n",
       " 'item',\n",
       " 'itemset',\n",
       " 'itemsize',\n",
       " 'max',\n",
       " 'mean',\n",
       " 'min',\n",
       " 'nbytes',\n",
       " 'ndim',\n",
       " 'newbyteorder',\n",
       " 'nonzero',\n",
       " 'partition',\n",
       " 'prod',\n",
       " 'ptp',\n",
       " 'put',\n",
       " 'ravel',\n",
       " 'real',\n",
       " 'repeat',\n",
       " 'reshape',\n",
       " 'resize',\n",
       " 'round',\n",
       " 'searchsorted',\n",
       " 'setfield',\n",
       " 'setflags',\n",
       " 'shape',\n",
       " 'size',\n",
       " 'sort',\n",
       " 'squeeze',\n",
       " 'std',\n",
       " 'strides',\n",
       " 'sum',\n",
       " 'swapaxes',\n",
       " 'take',\n",
       " 'tobytes',\n",
       " 'tofile',\n",
       " 'tolist',\n",
       " 'tostring',\n",
       " 'trace',\n",
       " 'transpose',\n",
       " 'var',\n",
       " 'view']"
      ]
     },
     "execution_count": 34,
     "metadata": {},
     "output_type": "execute_result"
    }
   ],
   "source": [
    "dir(np.ndarray)       # 파이썬 dir() 함수로 np.ndarray 자료형에서 가용한 속성 및 메소드 조사"
   ]
  },
  {
   "cell_type": "markdown",
   "metadata": {
    "scrolled": false,
    "slideshow": {
     "slide_type": "subslide"
    }
   },
   "source": [
    "- 넘파이는 다양한 난수 발생 함수를 제공하여, [통계적 무작위 추출](https://numpy.org/doc/1.16/reference/routines.random.html)을 지원한다."
   ]
  },
  {
   "cell_type": "code",
   "execution_count": 35,
   "metadata": {
    "slideshow": {
     "slide_type": "fragment"
    }
   },
   "outputs": [
    {
     "data": {
      "text/plain": [
       "array([[0.23694622, 0.02485763],\n",
       "       [0.60375286, 0.1533157 ],\n",
       "       [0.14699935, 0.66036215],\n",
       "       [0.45882427, 0.10273866]])"
      ]
     },
     "execution_count": 35,
     "metadata": {},
     "output_type": "execute_result"
    }
   ],
   "source": [
    "# 모양이 (4행 x 2열)이고, \n",
    "# [0, 1) 구간의 균등 분포 난수로 채워진 배열 생성\n",
    "# [0, 1) 구간은 0은 포함하지만, 1은 포함하지 않는다는 의미 \n",
    "\n",
    "np.random.rand(4, 2)  "
   ]
  },
  {
   "cell_type": "code",
   "execution_count": 36,
   "metadata": {
    "slideshow": {
     "slide_type": "subslide"
    }
   },
   "outputs": [
    {
     "data": {
      "text/plain": [
       "array([[0.19488549, 0.78836542],\n",
       "       [0.35346797, 0.40655803],\n",
       "       [0.57889359, 0.26140575],\n",
       "       [0.51523074, 0.97761786]])"
      ]
     },
     "execution_count": 36,
     "metadata": {},
     "output_type": "execute_result"
    }
   ],
   "source": [
    "x = np.random.rand(4, 2)  # 모양이 (4행 x 2열)이고, [0, 1) 구간의 난수로 채워진 배열을 생성하여, 변수 x에 대입\n",
    "x                         # np.random.rand() 메소드는 호출할 때마다 다른 난수를 반환"
   ]
  },
  {
   "cell_type": "code",
   "execution_count": 37,
   "metadata": {
    "slideshow": {
     "slide_type": "fragment"
    }
   },
   "outputs": [
    {
     "data": {
      "text/plain": [
       "array([[0.19488549, 0.35346797, 0.57889359, 0.51523074],\n",
       "       [0.78836542, 0.40655803, 0.26140575, 0.97761786]])"
      ]
     },
     "execution_count": 37,
     "metadata": {},
     "output_type": "execute_result"
    }
   ],
   "source": [
    "x.transpose()  # (행과 열을 전환한) 전치행렬을 반환하는 넘파이 메소드  "
   ]
  },
  {
   "cell_type": "code",
   "execution_count": 38,
   "metadata": {
    "slideshow": {
     "slide_type": "fragment"
    }
   },
   "outputs": [
    {
     "data": {
      "text/plain": [
       "0.5095531059326994"
      ]
     },
     "execution_count": 38,
     "metadata": {},
     "output_type": "execute_result"
    }
   ],
   "source": [
    "x.mean()  # 넘파이 배열 원소 전체의 평균"
   ]
  },
  {
   "cell_type": "code",
   "execution_count": 39,
   "metadata": {
    "scrolled": true,
    "slideshow": {
     "slide_type": "fragment"
    }
   },
   "outputs": [
    {
     "data": {
      "text/plain": [
       "array([[0, 0],\n",
       "       [0, 0],\n",
       "       [0, 0],\n",
       "       [0, 0]])"
      ]
     },
     "execution_count": 39,
     "metadata": {},
     "output_type": "execute_result"
    }
   ],
   "source": [
    "x.astype(int)  # 넘파이 배열의 모든 원소 값을 정수로 (버림 처리하여) 변환"
   ]
  },
  {
   "cell_type": "markdown",
   "metadata": {
    "slideshow": {
     "slide_type": "fragment"
    }
   },
   "source": [
    "- 넘파이 배열의 생성 방법을 공부했고, 배열의 모양에 대해서 공부하자. \n",
    "\n",
    "<div style=\"page-break-after: always;\"></div> "
   ]
  },
  {
   "cell_type": "markdown",
   "metadata": {
    "slideshow": {
     "slide_type": "slide"
    }
   },
   "source": [
    "### 2.3 배열의 모양"
   ]
  },
  {
   "cell_type": "markdown",
   "metadata": {
    "slideshow": {
     "slide_type": "fragment"
    }
   },
   "source": [
    "- 배열의 모양(shape)이란 배열의 차원 및 차원별 원소 개수에 의해서 결정된다. \n",
    "- 앞서 <그림-2>에서 보았듯이,  \n",
    "  배열의 차원(dimension)에는 제한이 없으며,  \n",
    "  모양과 크기를 원하는 대로 지정할 수 있다.\n",
    "- 넘파이 배열이 가지는 중요한 속성 3 종을 소개한다. \n",
    "    - `.ndim`: 배열의 차원 개수\n",
    "    - `.shape`: 각 차원에 대한 원소 개수 (각 차원에 대해서 `len()` 함수를 호출하는 것과 비슷함)\n",
    "    - `.size`: 배열의 총 원소 개수 (모든 `.shape` 속성 값의 곱)"
   ]
  },
  {
   "cell_type": "code",
   "execution_count": 40,
   "metadata": {
    "slideshow": {
     "slide_type": "fragment"
    }
   },
   "outputs": [
    {
     "name": "stdout",
     "output_type": "stream",
     "text": [
      "  array_1d: [1. 1. 1.]\n",
      "Dimensions: 1\n",
      "     Shape: (3,)\n",
      "      Size: 3\n"
     ]
    }
   ],
   "source": [
    "array_1d = np.ones(3)  # 1로 채워진 3열, 일차원 배열(즉, 벡터)이므로 인자를 단일(스칼라)값으로 지정하여 생성\n",
    "print(f\"  array_1d: {array_1d}\")        \n",
    "print(f\"Dimensions: {array_1d.ndim}\")   # 차원 개수\n",
    "print(f\"     Shape: {array_1d.shape}\")  # 차원별 원소 개수가 (3)이 아닌 (3,) 즉 (3, None)으로 출력됨 (벡터인 경우)\n",
    "print(f\"      Size: {array_1d.size}\")   # 전체 원소 개수"
   ]
  },
  {
   "cell_type": "markdown",
   "metadata": {
    "slideshow": {
     "slide_type": "subslide"
    }
   },
   "source": [
    "- 배열에 대한 정보(차원 개수, 차원별 원소 개수, 총 원소 개수 및 원소 값)를  \n",
    "  모두 출력하는 함수를 정의해 보자. "
   ]
  },
  {
   "cell_type": "code",
   "execution_count": 41,
   "metadata": {
    "slideshow": {
     "slide_type": "fragment"
    }
   },
   "outputs": [],
   "source": [
    "def print_array(x):\n",
    "    print(f\"Dimensions: {x.ndim}\")\n",
    "    print(f\"     Shape: {x.shape}\")\n",
    "    print(f\"      Size: {x.size}\")\n",
    "    print(\"\")\n",
    "    print(x)"
   ]
  },
  {
   "cell_type": "code",
   "execution_count": 42,
   "metadata": {
    "slideshow": {
     "slide_type": "fragment"
    }
   },
   "outputs": [
    {
     "name": "stdout",
     "output_type": "stream",
     "text": [
      "Dimensions: 2\n",
      "     Shape: (3, 2)\n",
      "      Size: 6\n",
      "\n",
      "[[1. 1.]\n",
      " [1. 1.]\n",
      " [1. 1.]]\n"
     ]
    }
   ],
   "source": [
    "array_2d = np.ones((3, 2))  # 모두 1로 채운 (3 x 2) 모양인 이차원 배열이므로 인자를 (3, 2)라는 튜플로 지정\n",
    "print_array(array_2d)"
   ]
  },
  {
   "cell_type": "code",
   "execution_count": 43,
   "metadata": {
    "slideshow": {
     "slide_type": "subslide"
    }
   },
   "outputs": [
    {
     "name": "stdout",
     "output_type": "stream",
     "text": [
      "Dimensions: 4\n",
      "     Shape: (2, 3, 4, 5)\n",
      "      Size: 120\n",
      "\n",
      "[[[[1. 1. 1. 1. 1.]\n",
      "   [1. 1. 1. 1. 1.]\n",
      "   [1. 1. 1. 1. 1.]\n",
      "   [1. 1. 1. 1. 1.]]\n",
      "\n",
      "  [[1. 1. 1. 1. 1.]\n",
      "   [1. 1. 1. 1. 1.]\n",
      "   [1. 1. 1. 1. 1.]\n",
      "   [1. 1. 1. 1. 1.]]\n",
      "\n",
      "  [[1. 1. 1. 1. 1.]\n",
      "   [1. 1. 1. 1. 1.]\n",
      "   [1. 1. 1. 1. 1.]\n",
      "   [1. 1. 1. 1. 1.]]]\n",
      "\n",
      "\n",
      " [[[1. 1. 1. 1. 1.]\n",
      "   [1. 1. 1. 1. 1.]\n",
      "   [1. 1. 1. 1. 1.]\n",
      "   [1. 1. 1. 1. 1.]]\n",
      "\n",
      "  [[1. 1. 1. 1. 1.]\n",
      "   [1. 1. 1. 1. 1.]\n",
      "   [1. 1. 1. 1. 1.]\n",
      "   [1. 1. 1. 1. 1.]]\n",
      "\n",
      "  [[1. 1. 1. 1. 1.]\n",
      "   [1. 1. 1. 1. 1.]\n",
      "   [1. 1. 1. 1. 1.]\n",
      "   [1. 1. 1. 1. 1.]]]]\n"
     ]
    }
   ],
   "source": [
    "array_4d = np.ones((2, 3, 4, 5))  # 모두 1로 채운 (2 x 3 x 4 x 5) 모양 배열이므로, 인자를 (2, 3, 4, 5)라는 튜플로 지정\n",
    "print_array(array_4d)             # (3면 x 4행 x 5열) 모양 행렬이 2개"
   ]
  },
  {
   "cell_type": "markdown",
   "metadata": {
    "slideshow": {
     "slide_type": "subslide"
    }
   },
   "source": [
    "- 3차원 이후부터, 배열 출력은 복잡해지기 시작한다.  \n",
    "    - 대괄호(`[ ]`) 개수가 차원의 개수를 의미한다. \n",
    "    - 출력의 시작 부분에서 보이는 대괄호 4개 `[[[[`는 4차원 배열을 의미한다. "
   ]
  },
  {
   "cell_type": "markdown",
   "metadata": {
    "slideshow": {
     "slide_type": "fragment"
    }
   },
   "source": [
    "- 넘파이 배열의 모양을 공부했고, 벡터의 개념을 공부하자. \n",
    "\n",
    "<div style=\"page-break-after: always;\"></div> "
   ]
  },
  {
   "cell_type": "markdown",
   "metadata": {
    "slideshow": {
     "slide_type": "slide"
    }
   },
   "source": [
    "### 2.4 일차원 배열 및 벡터"
   ]
  },
  {
   "cell_type": "markdown",
   "metadata": {
    "slideshow": {
     "slide_type": "subslide"
    }
   },
   "source": [
    "- 넘파이에서 벡터의 모양은 3 종이다. "
   ]
  },
  {
   "cell_type": "code",
   "execution_count": 44,
   "metadata": {
    "slideshow": {
     "slide_type": "fragment"
    }
   },
   "outputs": [
    {
     "name": "stdout",
     "output_type": "stream",
     "text": [
      "Dimensions: 1\n",
      "     Shape: (5,)\n",
      "      Size: 5\n",
      "\n",
      "[1. 1. 1. 1. 1.]\n"
     ]
    }
   ],
   "source": [
    "x = np.ones(5)      # 원소가 모두 1인, 순수한 일차원 (행) 벡터\n",
    "print_array(x)"
   ]
  },
  {
   "cell_type": "code",
   "execution_count": 45,
   "metadata": {
    "slideshow": {
     "slide_type": "fragment"
    }
   },
   "outputs": [
    {
     "name": "stdout",
     "output_type": "stream",
     "text": [
      "Dimensions: 2\n",
      "     Shape: (1, 5)\n",
      "      Size: 5\n",
      "\n",
      "[[1. 1. 1. 1. 1.]]\n"
     ]
    }
   ],
   "source": [
    "y = np.ones((1, 5))  # 원소가 모두 1이고 (1행, 5열) 모양인 이차원 배열, 행이 하나이므로 실질적으로 (행) 벡터\n",
    "print_array(y)"
   ]
  },
  {
   "cell_type": "code",
   "execution_count": 46,
   "metadata": {
    "slideshow": {
     "slide_type": "fragment"
    }
   },
   "outputs": [
    {
     "name": "stdout",
     "output_type": "stream",
     "text": [
      "Dimensions: 2\n",
      "     Shape: (5, 1)\n",
      "      Size: 5\n",
      "\n",
      "[[1.]\n",
      " [1.]\n",
      " [1.]\n",
      " [1.]\n",
      " [1.]]\n"
     ]
    }
   ],
   "source": [
    "z = np.ones((5, 1))  # 원소가 모두 1이고 (5행, 1열) 모양인 이차원 배열, 열이 하나이므로 실질적으로 (열) 벡터 \n",
    "print_array(z)"
   ]
  },
  {
   "cell_type": "markdown",
   "metadata": {
    "slideshow": {
     "slide_type": "subslide"
    }
   },
   "source": [
    "- `np.array_equal()` 메소드로 두 배열의 모양과 원소 값이 모두 같은지를 판단할 수 있다. "
   ]
  },
  {
   "cell_type": "code",
   "execution_count": 47,
   "metadata": {
    "slideshow": {
     "slide_type": "fragment"
    }
   },
   "outputs": [
    {
     "data": {
      "text/plain": [
       "array([1., 1., 1., 1., 1.])"
      ]
     },
     "execution_count": 47,
     "metadata": {},
     "output_type": "execute_result"
    }
   ],
   "source": [
    "x      # (5, ) 배열, 5열로 구성된 행 벡터"
   ]
  },
  {
   "cell_type": "code",
   "execution_count": 48,
   "metadata": {
    "slideshow": {
     "slide_type": "fragment"
    }
   },
   "outputs": [
    {
     "data": {
      "text/plain": [
       "array([[1., 1., 1., 1., 1.]])"
      ]
     },
     "execution_count": 48,
     "metadata": {},
     "output_type": "execute_result"
    }
   ],
   "source": [
    "y      # (1, 5) 배열"
   ]
  },
  {
   "cell_type": "code",
   "execution_count": 49,
   "metadata": {
    "slideshow": {
     "slide_type": "fragment"
    }
   },
   "outputs": [
    {
     "data": {
      "text/plain": [
       "array([[1.],\n",
       "       [1.],\n",
       "       [1.],\n",
       "       [1.],\n",
       "       [1.]])"
      ]
     },
     "execution_count": 49,
     "metadata": {},
     "output_type": "execute_result"
    }
   ],
   "source": [
    "z      # (5, 1) 배열"
   ]
  },
  {
   "cell_type": "code",
   "execution_count": 50,
   "metadata": {
    "slideshow": {
     "slide_type": "fragment"
    }
   },
   "outputs": [
    {
     "data": {
      "text/plain": [
       "True"
      ]
     },
     "execution_count": 50,
     "metadata": {},
     "output_type": "execute_result"
    }
   ],
   "source": [
    "np.array_equal(x, x)  # 모양과 모든 원소 값이 동등"
   ]
  },
  {
   "cell_type": "code",
   "execution_count": 51,
   "metadata": {
    "slideshow": {
     "slide_type": "fragment"
    }
   },
   "outputs": [
    {
     "data": {
      "text/plain": [
       "False"
      ]
     },
     "execution_count": 51,
     "metadata": {},
     "output_type": "execute_result"
    }
   ],
   "source": [
    "np.array_equal(x, y)  # 모양(차원)이 다름, x는 일차원이고 y는 이차원 행 벡터"
   ]
  },
  {
   "cell_type": "code",
   "execution_count": 52,
   "metadata": {
    "slideshow": {
     "slide_type": "fragment"
    }
   },
   "outputs": [
    {
     "data": {
      "text/plain": [
       "False"
      ]
     },
     "execution_count": 52,
     "metadata": {},
     "output_type": "execute_result"
    }
   ],
   "source": [
    "np.array_equal(x, z)  # 모양(차원)이 다름, x는 일차원이고 z는 이차원 열 벡터"
   ]
  },
  {
   "cell_type": "code",
   "execution_count": 53,
   "metadata": {
    "slideshow": {
     "slide_type": "fragment"
    }
   },
   "outputs": [
    {
     "data": {
      "text/plain": [
       "False"
      ]
     },
     "execution_count": 53,
     "metadata": {},
     "output_type": "execute_result"
    }
   ],
   "source": [
    "np.array_equal(y, z) # 모양이 다름, 둘 다 이차원 배열이지만, y는 행 벡터이고 z는 열 벡터"
   ]
  },
  {
   "cell_type": "markdown",
   "metadata": {
    "slideshow": {
     "slide_type": "subslide"
    }
   },
   "source": [
    "- 배열 **모양의 차이**는 (수학적 연산 결과에서) 실질적으로 큰 차이를 만들어 낼 수 있다. "
   ]
  },
  {
   "cell_type": "code",
   "execution_count": 54,
   "metadata": {
    "slideshow": {
     "slide_type": "fragment"
    }
   },
   "outputs": [
    {
     "data": {
      "text/plain": [
       "array([[2., 2., 2., 2., 2.]])"
      ]
     },
     "execution_count": 54,
     "metadata": {},
     "output_type": "execute_result"
    }
   ],
   "source": [
    "x + y  # (1행, 5열)인 행 벡터의 (실질적) 모양이 유사하므로 가능한 연산"
   ]
  },
  {
   "cell_type": "code",
   "execution_count": 55,
   "metadata": {
    "slideshow": {
     "slide_type": "fragment"
    }
   },
   "outputs": [
    {
     "data": {
      "text/plain": [
       "array([[2., 2., 2., 2., 2.],\n",
       "       [2., 2., 2., 2., 2.],\n",
       "       [2., 2., 2., 2., 2.],\n",
       "       [2., 2., 2., 2., 2.],\n",
       "       [2., 2., 2., 2., 2.]])"
      ]
     },
     "execution_count": 55,
     "metadata": {},
     "output_type": "execute_result"
    }
   ],
   "source": [
    "x + z  # (5열) 행 벡터와 (5행, 1열) 열 벡터의 덧셈은 (5행, 5열) 행렬로 '전파'됨 "
   ]
  },
  {
   "cell_type": "code",
   "execution_count": 56,
   "metadata": {
    "slideshow": {
     "slide_type": "fragment"
    }
   },
   "outputs": [
    {
     "data": {
      "text/plain": [
       "array([[2., 2., 2., 2., 2.],\n",
       "       [2., 2., 2., 2., 2.],\n",
       "       [2., 2., 2., 2., 2.],\n",
       "       [2., 2., 2., 2., 2.],\n",
       "       [2., 2., 2., 2., 2.]])"
      ]
     },
     "execution_count": 56,
     "metadata": {},
     "output_type": "execute_result"
    }
   ],
   "source": [
    "y + z  # (1행, 5열) 행 벡터와 (5행, 1열) 열 벡터의 덧셈도 (5행, 5열) 행렬로 '전파'됨"
   ]
  },
  {
   "cell_type": "markdown",
   "metadata": {
    "slideshow": {
     "slide_type": "fragment"
    }
   },
   "source": [
    "- 이런 결과는 *전파(broadcasting)* 효과에 의한 결과이다.  \n",
    "  다음 절에서 이에 대하여 공부하자.\n",
    "\n",
    "<div style=\"page-break-after: always;\"></div> "
   ]
  },
  {
   "cell_type": "markdown",
   "metadata": {
    "slideshow": {
     "slide_type": "slide"
    }
   },
   "source": [
    "## 3. 배열 연산 및 전파"
   ]
  },
  {
   "cell_type": "markdown",
   "metadata": {
    "slideshow": {
     "slide_type": "slide"
    }
   },
   "source": [
    "### 3.1 반복 연산\n",
    "\n",
    "- 넘파이 배열의 연산은  \n",
    "  배열의 원소 수준에서 연산이 반복된다.   \n",
    "  - 배열의 각 원소에 대해서 반복 연산 \n",
    "  - 대응되는 원소 쌍에 대해서 반복 연산  \n"
   ]
  },
  {
   "cell_type": "code",
   "execution_count": 57,
   "metadata": {
    "slideshow": {
     "slide_type": "fragment"
    }
   },
   "outputs": [
    {
     "data": {
      "text/plain": [
       "array([1., 1., 1., 1.])"
      ]
     },
     "execution_count": 57,
     "metadata": {},
     "output_type": "execute_result"
    }
   ],
   "source": [
    "x = np.ones(4)  # 벡터 생성\n",
    "x"
   ]
  },
  {
   "cell_type": "code",
   "execution_count": 58,
   "metadata": {
    "slideshow": {
     "slide_type": "fragment"
    }
   },
   "outputs": [
    {
     "data": {
      "text/plain": [
       "array([2., 2., 2., 2.])"
      ]
     },
     "execution_count": 58,
     "metadata": {},
     "output_type": "execute_result"
    }
   ],
   "source": [
    "y = x + 1       # 벡터와 단일 값의 연산은, 벡터 원소 모두에 대하여 반복적으로 수행됨\n",
    "y"
   ]
  },
  {
   "cell_type": "code",
   "execution_count": 59,
   "metadata": {
    "slideshow": {
     "slide_type": "fragment"
    }
   },
   "outputs": [
    {
     "data": {
      "text/plain": [
       "array([-1., -1., -1., -1.])"
      ]
     },
     "execution_count": 59,
     "metadata": {},
     "output_type": "execute_result"
    }
   ],
   "source": [
    "x - y           # 모양이 같은 벡터 간 연산은 대응되는 원소 쌍에 대하여 반복적으로 수행됨 "
   ]
  },
  {
   "cell_type": "code",
   "execution_count": 60,
   "metadata": {
    "slideshow": {
     "slide_type": "fragment"
    }
   },
   "outputs": [
    {
     "data": {
      "text/plain": [
       "array([False, False, False, False])"
      ]
     },
     "execution_count": 60,
     "metadata": {},
     "output_type": "execute_result"
    }
   ],
   "source": [
    "x == y          # 모양이 같은 벡터 간 연산은 대응되는 원소 쌍에 대하여 빈복적으로 수행됨 "
   ]
  },
  {
   "cell_type": "code",
   "execution_count": 61,
   "metadata": {
    "slideshow": {
     "slide_type": "subslide"
    }
   },
   "outputs": [
    {
     "name": "stdout",
     "output_type": "stream",
     "text": [
      "x = [1. 1. 1. 1.]\n",
      "\n",
      "y = [2. 2. 2. 2.]\n",
      "\n"
     ]
    }
   ],
   "source": [
    "# x 및 y 벡터 값 확인\n",
    "print(f\"x = {x}\\n\")\n",
    "print(f\"y = {y}\\n\")"
   ]
  },
  {
   "cell_type": "code",
   "execution_count": 62,
   "metadata": {
    "slideshow": {
     "slide_type": "fragment"
    }
   },
   "outputs": [
    {
     "data": {
      "text/plain": [
       "array([2., 2., 2., 2.])"
      ]
     },
     "execution_count": 62,
     "metadata": {},
     "output_type": "execute_result"
    }
   ],
   "source": [
    "x * y                 # 모양이 같은 벡터 간 연산은 대응되는 원소 쌍에 대하여 빈복적으로 수행됨 "
   ]
  },
  {
   "cell_type": "code",
   "execution_count": 63,
   "metadata": {
    "slideshow": {
     "slide_type": "fragment"
    }
   },
   "outputs": [
    {
     "data": {
      "text/plain": [
       "array([1., 1., 1., 1.])"
      ]
     },
     "execution_count": 63,
     "metadata": {},
     "output_type": "execute_result"
    }
   ],
   "source": [
    "x ** y                # 모양이 같은 벡터 간 연산은 대응되는 원소 쌍에 대하여 빈복적으로 수행됨 "
   ]
  },
  {
   "cell_type": "code",
   "execution_count": 64,
   "metadata": {
    "slideshow": {
     "slide_type": "fragment"
    }
   },
   "outputs": [
    {
     "data": {
      "text/plain": [
       "array([0.5, 0.5, 0.5, 0.5])"
      ]
     },
     "execution_count": 64,
     "metadata": {},
     "output_type": "execute_result"
    }
   ],
   "source": [
    "x / y                 # 모양이 같은 벡터 간 연산은 대응되는 원소 쌍에 대하여 빈복적으로 수행됨 "
   ]
  },
  {
   "cell_type": "markdown",
   "metadata": {
    "slideshow": {
     "slide_type": "fragment"
    }
   },
   "source": [
    "- 배열 연산이 원소 수준에서 반복되는 원리를 공부했고,  \n",
    "  이제 연산의 전파라는 개념을 공부하자. \n",
    "\n",
    "<div style=\"page-break-after: always;\"></div> "
   ]
  },
  {
   "cell_type": "markdown",
   "metadata": {
    "slideshow": {
     "slide_type": "slide"
    }
   },
   "source": [
    "### 3.2 연산 전파"
   ]
  },
  {
   "cell_type": "markdown",
   "metadata": {
    "slideshow": {
     "slide_type": "fragment"
    }
   },
   "source": [
    "- 모양이 다른 n차원 배열(ndarray) 간 연산에서  \n",
    "  *연산 전파*가 불가능한 경우라면, 연산을 수행할 수 없다. "
   ]
  },
  {
   "cell_type": "code",
   "execution_count": 65,
   "metadata": {
    "slideshow": {
     "slide_type": "fragment"
    },
    "tags": [
     "raises-exception"
    ]
   },
   "outputs": [
    {
     "name": "stdout",
     "output_type": "stream",
     "text": [
      "[[1. 1.]\n",
      " [1. 1.]]\n",
      "\n",
      "[[1. 1. 1.]\n",
      " [1. 1. 1.]\n",
      " [1. 1. 1.]]\n"
     ]
    },
    {
     "ename": "ValueError",
     "evalue": "operands could not be broadcast together with shapes (2,2) (3,3) ",
     "output_type": "error",
     "traceback": [
      "\u001b[1;31m---------------------------------------------------------------------------\u001b[0m",
      "\u001b[1;31mValueError\u001b[0m                                Traceback (most recent call last)",
      "\u001b[1;32m<ipython-input-65-f60ec3865104>\u001b[0m in \u001b[0;36m<module>\u001b[1;34m\u001b[0m\n\u001b[0;32m      4\u001b[0m \u001b[0mprint\u001b[0m\u001b[1;33m(\u001b[0m\u001b[1;33m)\u001b[0m\u001b[1;33m\u001b[0m\u001b[1;33m\u001b[0m\u001b[0m\n\u001b[0;32m      5\u001b[0m \u001b[0mprint\u001b[0m\u001b[1;33m(\u001b[0m\u001b[0mb\u001b[0m\u001b[1;33m)\u001b[0m\u001b[1;33m\u001b[0m\u001b[1;33m\u001b[0m\u001b[0m\n\u001b[1;32m----> 6\u001b[1;33m \u001b[0ma\u001b[0m \u001b[1;33m+\u001b[0m \u001b[0mb\u001b[0m                \u001b[1;31m# (\"전파\"가 불가능한 경우이면) 모양이 다른 배열 간 연산에서 오류가 발생함\u001b[0m\u001b[1;33m\u001b[0m\u001b[1;33m\u001b[0m\u001b[0m\n\u001b[0m",
      "\u001b[1;31mValueError\u001b[0m: operands could not be broadcast together with shapes (2,2) (3,3) "
     ]
    }
   ],
   "source": [
    "a = np.ones((2, 2))  # 2행, 2열\n",
    "b = np.ones((3, 3))  # 3행, 3열\n",
    "print(a)\n",
    "print()\n",
    "print(b)\n",
    "a + b                # (\"전파\"가 불가능한 경우이면) 모양이 다른 배열 간 연산에서 오류가 발생함 "
   ]
  },
  {
   "cell_type": "markdown",
   "metadata": {
    "slideshow": {
     "slide_type": "subslide"
    }
   },
   "source": [
    "- 연산의 `전파(broadcasting)`는  \n",
    "  넘파이가 수치 연산을 수행하는 과정에서  \n",
    "  모양이 다른 배열을 처리하는 방식이다.  \n",
    "- 기본적으로 배열 간의 수치 연산은  \n",
    "  배열 간에 대응되는 원소마다 반복적으로 수행된다. \n",
    "- 모양이 다른 배열 간에 연산 전파가 불가능한 경우에는 연산이 수행되지 않는다. "
   ]
  },
  {
   "cell_type": "markdown",
   "metadata": {
    "slideshow": {
     "slide_type": "subslide"
    }
   },
   "source": [
    "- 파이 상점의 예제를 살펴보자. \n",
    "    - 파이 가격은 파이 종류마다 다르다. \n",
    "    - 파이 매출 수량은 파이 종류와 요일마다 집계되어 있다. \n",
    "    - 파이 종류와 요일에 따른 매출 금액을 계산하고 싶다.   \n",
    "\n",
    "|![그림 3. 파이 상점의 가격과 판매 수량](https://user-images.githubusercontent.com/10287629/126039041-bc2f2ee8-10f4-410a-a562-88ce3a0e7971.png)<br>그림 3. 파이 상점의 가격과 판매 수량|\n",
    "|:---|"
   ]
  },
  {
   "cell_type": "code",
   "execution_count": 66,
   "metadata": {
    "slideshow": {
     "slide_type": "fragment"
    }
   },
   "outputs": [
    {
     "data": {
      "text/plain": [
       "array([20, 15, 25])"
      ]
     },
     "execution_count": 66,
     "metadata": {},
     "output_type": "execute_result"
    }
   ],
   "source": [
    "cost = np.array([20, 15, 25])  # 파이 종류별 가격 벡터\n",
    "cost"
   ]
  },
  {
   "cell_type": "code",
   "execution_count": 67,
   "metadata": {
    "slideshow": {
     "slide_type": "fragment"
    }
   },
   "outputs": [
    {
     "data": {
      "text/plain": [
       "array([[2, 3, 1],\n",
       "       [6, 3, 3],\n",
       "       [5, 3, 5]])"
      ]
     },
     "execution_count": 67,
     "metadata": {},
     "output_type": "execute_result"
    }
   ],
   "source": [
    "sales = np.array([[2, 3, 1], [6, 3, 3], [5, 3, 5]])  # 요일별, 파이 종류별 판매 수량 행렬\n",
    "sales"
   ]
  },
  {
   "cell_type": "markdown",
   "metadata": {
    "slideshow": {
     "slide_type": "subslide"
    }
   },
   "source": [
    "- 가격 벡터와 판매 수량 행렬을 어떻게 곱할 수 있을까?\n",
    "\n",
    "|![그림 4. 파이 매출액 계산 (반복) 논리](https://user-images.githubusercontent.com/10287629/126039432-02d14799-7d45-4ba4-a7cb-705d1bb7864c.png)<br>그림 4. 파이 매출액 계산 (반복) 논리|\n",
    "|:---|\n"
   ]
  },
  {
   "cell_type": "markdown",
   "metadata": {
    "slideshow": {
     "slide_type": "fragment"
    }
   },
   "source": [
    "- 사실 `cost`는 <그림 4>와 달리 모양이 (3,)인 행 벡터이다. "
   ]
  },
  {
   "cell_type": "code",
   "execution_count": 68,
   "metadata": {
    "slideshow": {
     "slide_type": "fragment"
    }
   },
   "outputs": [
    {
     "data": {
      "text/plain": [
       "((3,), (3, 3))"
      ]
     },
     "execution_count": 68,
     "metadata": {},
     "output_type": "execute_result"
    }
   ],
   "source": [
    "(cost.shape, sales.shape)"
   ]
  },
  {
   "cell_type": "code",
   "execution_count": 69,
   "metadata": {
    "scrolled": true,
    "slideshow": {
     "slide_type": "subslide"
    }
   },
   "outputs": [
    {
     "data": {
      "text/plain": [
       "array([20, 15, 25])"
      ]
     },
     "execution_count": 69,
     "metadata": {},
     "output_type": "execute_result"
    }
   ],
   "source": [
    "cost"
   ]
  },
  {
   "cell_type": "code",
   "execution_count": 70,
   "metadata": {
    "slideshow": {
     "slide_type": "fragment"
    }
   },
   "outputs": [
    {
     "data": {
      "text/plain": [
       "array([[2, 3, 1],\n",
       "       [6, 3, 3],\n",
       "       [5, 3, 5]])"
      ]
     },
     "execution_count": 70,
     "metadata": {},
     "output_type": "execute_result"
    }
   ],
   "source": [
    "sales"
   ]
  },
  {
   "cell_type": "code",
   "execution_count": 71,
   "metadata": {
    "slideshow": {
     "slide_type": "fragment"
    }
   },
   "outputs": [
    {
     "data": {
      "text/plain": [
       "array([[0., 0., 0.],\n",
       "       [0., 0., 0.],\n",
       "       [0., 0., 0.]])"
      ]
     },
     "execution_count": 71,
     "metadata": {},
     "output_type": "execute_result"
    }
   ],
   "source": [
    "total = np.zeros((3, 3))                  # 0으로 초기화 한 3행, 3열 행렬\n",
    "total"
   ]
  },
  {
   "cell_type": "code",
   "execution_count": 72,
   "metadata": {
    "slideshow": {
     "slide_type": "fragment"
    }
   },
   "outputs": [
    {
     "data": {
      "text/plain": [
       "array([[ 40.,  60.,  20.],\n",
       "       [ 90.,  45.,  45.],\n",
       "       [125.,  75., 125.]])"
      ]
     },
     "execution_count": 72,
     "metadata": {},
     "output_type": "execute_result"
    }
   ],
   "source": [
    "for col in range(sales.shape[1]):         # sales.shape[1]은 열 크기 3\n",
    "                                          # cost는 3열 벡터, sales[:, col]는 3행 벡터, 대응 원소마다 곱하기\n",
    "    total[:, col] = sales[:, col] * cost  # sales 배열의 특정 열(원소 3개)과 cost 벡터(원소 3개)의 곱셈 연산\n",
    "total"
   ]
  },
  {
   "cell_type": "markdown",
   "metadata": {
    "slideshow": {
     "slide_type": "subslide"
    }
   },
   "source": [
    "- 위와 같은 방식이 마음에 들지 않는다면, \n",
    "    - (sales 행렬과 동일한 모양이 되도록) cost 벡터의 크기를 억지로 수정하여   \n",
    "    - 대응되는 원소끼리 곱셈 연산이 수행되도록 할 수도 있다. \n",
    "\n",
    "|![그림 5. 파이 매출액 계산 (전파) 논리](https://user-images.githubusercontent.com/10287629/126039447-161c1630-b199-4c88-9dac-43148552dc2d.png)<br>그림 5. 파이 매출액 계산 (전파) 논리|\n",
    "|:---|"
   ]
  },
  {
   "cell_type": "markdown",
   "metadata": {
    "slideshow": {
     "slide_type": "fragment"
    }
   },
   "source": [
    "- 여전히 <그림 5>와 달리, `cost`가 실제로는 모양이 (3,)인 행 벡터이다."
   ]
  },
  {
   "cell_type": "code",
   "execution_count": 73,
   "metadata": {
    "slideshow": {
     "slide_type": "fragment"
    }
   },
   "outputs": [
    {
     "data": {
      "text/plain": [
       "array([20, 15, 25])"
      ]
     },
     "execution_count": 73,
     "metadata": {},
     "output_type": "execute_result"
    }
   ],
   "source": [
    "cost  # (3,) "
   ]
  },
  {
   "cell_type": "markdown",
   "metadata": {
    "slideshow": {
     "slide_type": "subslide"
    }
   },
   "source": [
    "- <그림 5>와 같은 모습의 열 벡터 `cost`로 재구성하자."
   ]
  },
  {
   "cell_type": "code",
   "execution_count": 74,
   "metadata": {},
   "outputs": [
    {
     "data": {
      "text/plain": [
       "array([20, 15, 25])"
      ]
     },
     "execution_count": 74,
     "metadata": {},
     "output_type": "execute_result"
    }
   ],
   "source": [
    "cost"
   ]
  },
  {
   "cell_type": "code",
   "execution_count": 75,
   "metadata": {
    "slideshow": {
     "slide_type": "fragment"
    }
   },
   "outputs": [
    {
     "data": {
      "text/plain": [
       "array([20, 20, 20, 15, 15, 15, 25, 25, 25])"
      ]
     },
     "execution_count": 75,
     "metadata": {},
     "output_type": "execute_result"
    }
   ],
   "source": [
    "np.repeat(cost, 3)  # 원소마다(!) 3번씩 반복"
   ]
  },
  {
   "cell_type": "code",
   "execution_count": 76,
   "metadata": {
    "slideshow": {
     "slide_type": "fragment"
    }
   },
   "outputs": [
    {
     "data": {
      "text/plain": [
       "array([[20, 20, 20],\n",
       "       [15, 15, 15],\n",
       "       [25, 25, 25]])"
      ]
     },
     "execution_count": 76,
     "metadata": {},
     "output_type": "execute_result"
    }
   ],
   "source": [
    "np.repeat(cost, 3).reshape((3, 3))  # 연속적으로 메소드를 호출하는 메소드 체이닝"
   ]
  },
  {
   "cell_type": "markdown",
   "metadata": {
    "slideshow": {
     "slide_type": "subslide"
    }
   },
   "source": [
    "- 재구성된 `cost`로 행렬 간 곱셈을 수행하자. "
   ]
  },
  {
   "cell_type": "code",
   "execution_count": 77,
   "metadata": {
    "scrolled": true,
    "slideshow": {
     "slide_type": "fragment"
    }
   },
   "outputs": [
    {
     "data": {
      "text/plain": [
       "array([[20, 20, 20],\n",
       "       [15, 15, 15],\n",
       "       [25, 25, 25]])"
      ]
     },
     "execution_count": 77,
     "metadata": {},
     "output_type": "execute_result"
    }
   ],
   "source": [
    "cost = np.repeat(cost, 3).reshape((3, 3))\n",
    "cost"
   ]
  },
  {
   "cell_type": "code",
   "execution_count": 78,
   "metadata": {
    "slideshow": {
     "slide_type": "fragment"
    }
   },
   "outputs": [
    {
     "data": {
      "text/plain": [
       "array([[2, 3, 1],\n",
       "       [6, 3, 3],\n",
       "       [5, 3, 5]])"
      ]
     },
     "execution_count": 78,
     "metadata": {},
     "output_type": "execute_result"
    }
   ],
   "source": [
    "sales"
   ]
  },
  {
   "cell_type": "code",
   "execution_count": 79,
   "metadata": {
    "slideshow": {
     "slide_type": "fragment"
    }
   },
   "outputs": [
    {
     "data": {
      "text/plain": [
       "array([[ 40,  60,  20],\n",
       "       [ 90,  45,  45],\n",
       "       [125,  75, 125]])"
      ]
     },
     "execution_count": 79,
     "metadata": {},
     "output_type": "execute_result"
    }
   ],
   "source": [
    "cost * sales  # 여기서 cost와 sales 행렬은 모두 (3행, 3열)"
   ]
  },
  {
   "cell_type": "markdown",
   "metadata": {
    "slideshow": {
     "slide_type": "subslide"
    }
   },
   "source": [
    "- 축하합니다!\n",
    "    - 당신은 방금 (거의 수작업으로) 연산의 전파를 수행한 것입니다. \n",
    "    - 연산 `전파`란 넘파이가 `np.repeat()` 연산을  \n",
    "      배후에서 자동적으로 수행하도록 만들어 주는 개념이다. "
   ]
  },
  {
   "cell_type": "markdown",
   "metadata": {
    "slideshow": {
     "slide_type": "subslide"
    }
   },
   "source": [
    "- `전파`를 제대로 활용하여, 멋지게 처리하려면,  \n",
    "  `cost`를 (3, 1) 배열로 재구성하여 `sales` 행렬에 곱하자."
   ]
  },
  {
   "cell_type": "code",
   "execution_count": 80,
   "metadata": {
    "slideshow": {
     "slide_type": "fragment"
    }
   },
   "outputs": [
    {
     "name": "stdout",
     "output_type": "stream",
     "text": [
      " cost shape: (3, 1)\n"
     ]
    },
    {
     "data": {
      "text/plain": [
       "array([[20],\n",
       "       [15],\n",
       "       [25]])"
      ]
     },
     "execution_count": 80,
     "metadata": {},
     "output_type": "execute_result"
    }
   ],
   "source": [
    "cost = np.array([20, 15, 25]).reshape(3, 1)  # reshape() 메소드로 (3열) 행 벡터를 (3행, 1열) 열 벡터로 모양 변경\n",
    "print(f\" cost shape: {cost.shape}\")\n",
    "cost"
   ]
  },
  {
   "cell_type": "code",
   "execution_count": 81,
   "metadata": {
    "slideshow": {
     "slide_type": "fragment"
    }
   },
   "outputs": [
    {
     "name": "stdout",
     "output_type": "stream",
     "text": [
      "sales shape: (3, 3)\n"
     ]
    },
    {
     "data": {
      "text/plain": [
       "array([[2, 3, 1],\n",
       "       [6, 3, 3],\n",
       "       [5, 3, 5]])"
      ]
     },
     "execution_count": 81,
     "metadata": {},
     "output_type": "execute_result"
    }
   ],
   "source": [
    "sales = np.array([[2, 3, 1], [6, 3, 3], [5, 3, 5]])\n",
    "print(f\"sales shape: {sales.shape}\")\n",
    "sales"
   ]
  },
  {
   "cell_type": "code",
   "execution_count": 82,
   "metadata": {
    "slideshow": {
     "slide_type": "fragment"
    }
   },
   "outputs": [
    {
     "data": {
      "text/plain": [
       "array([[ 40,  60,  20],\n",
       "       [ 90,  45,  45],\n",
       "       [125,  75, 125]])"
      ]
     },
     "execution_count": 82,
     "metadata": {},
     "output_type": "execute_result"
    }
   ],
   "source": [
    "sales * cost          # 두 배열 간의 전파를 활용한 연산 방식"
   ]
  },
  {
   "cell_type": "markdown",
   "metadata": {
    "slideshow": {
     "slide_type": "subslide"
    }
   },
   "source": [
    "- 넘파이에서는,  \n",
    "  크기가 작은 배열이  \n",
    "  (크기가 큰 배열의 모양으로) 확장되는 방식으로  \n",
    "  전파가 수행된다.  \n",
    "  이렇게 해야 두 배열의 모양이 *연산 호환성*을 유지할 수 있게 된다. \n",
    "\n",
    "|![그림 6. 넘파이 배열 연산의 전파 개념](https://user-images.githubusercontent.com/10287629/126039928-f06efd55-e5b9-4dc0-b084-858e041dbc29.png)<br>그림 6. 넘파이 배열 연산의 전파 개념|\n",
    "|:---|"
   ]
  },
  {
   "cell_type": "markdown",
   "metadata": {
    "slideshow": {
     "slide_type": "subslide"
    }
   },
   "source": [
    "- 넘파이 배열 연산에서는 전파 효과에 주의해야 한다. \n",
    "    - 크기가 작은 배열에 대하여  \n",
    "      반복적으로 연산을 수행하는 방식보다는  \n",
    "      전파 방식이 더 깔금하고 빠르게 처리된다. \n",
    "    - 전파 방식이 반복 연산 방식보다 더 빠르다는 것을 증명해 봅시다. "
   ]
  },
  {
   "cell_type": "code",
   "execution_count": 83,
   "metadata": {
    "slideshow": {
     "slide_type": "fragment"
    }
   },
   "outputs": [
    {
     "name": "stdout",
     "output_type": "stream",
     "text": [
      "전파 방식이 반복 방식보다 9.51배 빨랐습니다.\n"
     ]
    }
   ],
   "source": [
    "cost = np.array([20, 15, 25]).reshape(3, 1)  # 열 벡터로 재구성 (파이 종류에 따라 행이 구분됨)\n",
    "sales = np.array([[2, 3, 1],                 # 매출 행렬 (파이 종류에 따라 행이 구분됨)\n",
    "                  [6, 3, 3],\n",
    "                  [5, 3, 5]])\n",
    "total = np.zeros((3, 3))\n",
    "\n",
    "# 아래에서 np.squeeze() 메소드로 배열 축의 차원을 일차원으로 축소\n",
    "# 아래에서 %timeit 명령은 주피터 노트북에서 제공하는 마법 명령으로, 아래에선 3번 반복 수행하여 가장 빠른 결과를 반환함\n",
    "time_loop = %timeit -q -o -r 3 for col in range(sales.shape[1]): total[:, col] = sales[:, col] * np.squeeze(cost)\n",
    "time_vect = %timeit -q -o -r 3 cost * sales\n",
    "print(f\"전파 방식이 반복 방식보다 {time_loop.average / time_vect.average:.2f}배 빨랐습니다.\")"
   ]
  },
  {
   "cell_type": "markdown",
   "metadata": {
    "slideshow": {
     "slide_type": "subslide"
    }
   },
   "source": [
    "- 파이썬 `timeit` 모듈에 대해서는 다음 문서를 참고하라. \n",
    "  - [파이썬 한글 공식 문서](https://docs.python.org/ko/3/library/timeit.html) \n",
    "  - [파이썬 영문 공식 문서](https://docs.python.org/3/library/timeit.html)\n",
    "- 주피터 노트북과 같은 대화형 파이썬에서는 `%timeit`과 같은 [마법 명령](https://ipython.readthedocs.io/en/stable/interactive/magics.html#magic-timeit)을 쓸 수 있다. "
   ]
  },
  {
   "cell_type": "markdown",
   "metadata": {
    "slideshow": {
     "slide_type": "subslide"
    }
   },
   "source": [
    "- (전파 방식을 쓰더라도) 모든 배열에 대해서 연산이 가능하지는 않다!\n",
    "    - 넘파이는 연산 대상이 되는 두 배열에 대하여 다음과 같은 검사를 통하여  \n",
    "      연산의 가능성(또는 호환성)을 판정한다.  \n",
    "    - 뒤쪽 차원부터 시작해서, 앞쪽 차원으로 전진하면서 해당 차원의 크기를 비교한다.\n",
    "    - 만일 다음 조건을 만족한다면 해당 차원의 호환성이 있다고 판정한다:\n",
    "        - **해당 차원의 크기가 두 배열에서 모두 같다**, 또는\n",
    "        - **해당 차원의 크기가 두 배열 중 어느 하나에서 1이다**   \n",
    "- 아래 코드를 활용해서 연산 가능성 및 호환성을 판정하는 논리를 이해하자. "
   ]
  },
  {
   "cell_type": "code",
   "execution_count": 84,
   "metadata": {
    "slideshow": {
     "slide_type": "subslide"
    }
   },
   "outputs": [],
   "source": [
    "def try_add(a, b):\n",
    "    print(f\"a: \\n{a}\")\n",
    "    print(f\"b: \\n{b}\")\n",
    "\n",
    "    print(f\"배열 a의 모양: {a.shape}\")\n",
    "    print(f\"배열 b의 모양: {b.shape}\")\n",
    "\n",
    "    try:\n",
    "        print(f\"a + b: \\n{a + b}\")\n",
    "        print(f\"배열 (a + b)의 모양: {(a + b).shape}\")\n",
    "    except:\n",
    "        print(f\"오류: 배열의 모양이 전파 호환성을 만족하지 않는다!\")    "
   ]
  },
  {
   "cell_type": "code",
   "execution_count": 85,
   "metadata": {
    "slideshow": {
     "slide_type": "subslide"
    }
   },
   "outputs": [
    {
     "name": "stdout",
     "output_type": "stream",
     "text": [
      "a: \n",
      "[[1. 1.]\n",
      " [1. 1.]\n",
      " [1. 1.]]\n",
      "b: \n",
      "[[1. 1.]\n",
      " [1. 1.]\n",
      " [1. 1.]]\n",
      "배열 a의 모양: (3, 2)\n",
      "배열 b의 모양: (3, 2)\n",
      "a + b: \n",
      "[[2. 2.]\n",
      " [2. 2.]\n",
      " [2. 2.]]\n",
      "배열 (a + b)의 모양: (3, 2)\n"
     ]
    }
   ],
   "source": [
    "# 완전히 동일한 모양의 두 배열은 호환성이 있다. \n",
    "a = np.ones((3, 2))\n",
    "b = np.ones((3, 2))\n",
    "\n",
    "try_add(a, b)"
   ]
  },
  {
   "cell_type": "code",
   "execution_count": 86,
   "metadata": {
    "slideshow": {
     "slide_type": "subslide"
    }
   },
   "outputs": [
    {
     "name": "stdout",
     "output_type": "stream",
     "text": [
      "a: \n",
      "[[1.]\n",
      " [1.]\n",
      " [1.]]\n",
      "b: \n",
      "[[1. 1.]\n",
      " [1. 1.]\n",
      " [1. 1.]]\n",
      "배열 a의 모양: (3, 1)\n",
      "배열 b의 모양: (3, 2)\n",
      "a + b: \n",
      "[[2. 2.]\n",
      " [2. 2.]\n",
      " [2. 2.]]\n",
      "배열 (a + b)의 모양: (3, 2)\n"
     ]
    }
   ],
   "source": [
    "# 뒤쪽 차원에서 둘 중의 하나가 1인 경우이므로 호환성이 있다.\n",
    "a = np.ones((3, 1))\n",
    "b = np.ones((3, 2))\n",
    "\n",
    "try_add(a, b)"
   ]
  },
  {
   "cell_type": "code",
   "execution_count": 87,
   "metadata": {
    "slideshow": {
     "slide_type": "subslide"
    }
   },
   "outputs": [
    {
     "name": "stdout",
     "output_type": "stream",
     "text": [
      "a: \n",
      "[[1. 1. 1.]]\n",
      "b: \n",
      "[[1. 1. 1.]\n",
      " [1. 1. 1.]\n",
      " [1. 1. 1.]]\n",
      "배열 a의 모양: (1, 3)\n",
      "배열 b의 모양: (3, 3)\n",
      "a + b: \n",
      "[[2. 2. 2.]\n",
      " [2. 2. 2.]\n",
      " [2. 2. 2.]]\n",
      "배열 (a + b)의 모양: (3, 3)\n"
     ]
    }
   ],
   "source": [
    "# 뒤쪽 차원은 크기가 같고, 앞쪽 차원에서 둘 중의 하나가 1인 경우이므로 호환성이 있다.  \n",
    "a = np.ones((1, 3))\n",
    "b = np.ones((3, 3))\n",
    "\n",
    "try_add(a, b)"
   ]
  },
  {
   "cell_type": "code",
   "execution_count": 88,
   "metadata": {
    "slideshow": {
     "slide_type": "subslide"
    }
   },
   "outputs": [
    {
     "name": "stdout",
     "output_type": "stream",
     "text": [
      "a: \n",
      "[[1. 1. 1.]\n",
      " [1. 1. 1.]]\n",
      "b: \n",
      "[[1. 1. 1.]\n",
      " [1. 1. 1.]\n",
      " [1. 1. 1.]]\n",
      "배열 a의 모양: (2, 3)\n",
      "배열 b의 모양: (3, 3)\n",
      "오류: 배열의 모양이 전파 호환성을 만족하지 않는다!\n"
     ]
    }
   ],
   "source": [
    "# 뒤쪽 차원 크기는 같지만, 앞쪽 차원 크기가 다르고, 둘 중의 하나가 1이 아니면 호환성이 없다. \n",
    "a = np.ones((2, 3))\n",
    "b = np.ones((3, 3))\n",
    "\n",
    "try_add(a, b)"
   ]
  },
  {
   "cell_type": "code",
   "execution_count": 89,
   "metadata": {
    "slideshow": {
     "slide_type": "subslide"
    }
   },
   "outputs": [
    {
     "name": "stdout",
     "output_type": "stream",
     "text": [
      "a: \n",
      "[[[1. 1. 1.]\n",
      "  [1. 1. 1.]]]\n",
      "b: \n",
      "[[[1. 1. 1.]\n",
      "  [1. 1. 1.]]\n",
      "\n",
      " [[1. 1. 1.]\n",
      "  [1. 1. 1.]]\n",
      "\n",
      " [[1. 1. 1.]\n",
      "  [1. 1. 1.]]]\n",
      "배열 a의 모양: (1, 2, 3)\n",
      "배열 b의 모양: (3, 2, 3)\n",
      "a + b: \n",
      "[[[2. 2. 2.]\n",
      "  [2. 2. 2.]]\n",
      "\n",
      " [[2. 2. 2.]\n",
      "  [2. 2. 2.]]\n",
      "\n",
      " [[2. 2. 2.]\n",
      "  [2. 2. 2.]]]\n",
      "배열 (a + b)의 모양: (3, 2, 3)\n"
     ]
    }
   ],
   "source": [
    "# 뒤쪽 차원은 크기가 같고, 앞쪽 차원에서 둘 중의 하나가 1인 경우이므로 호환성이 있다.  \n",
    "a = np.ones((1, 2, 3))\n",
    "b = np.ones((3, 2, 3))\n",
    "\n",
    "try_add(a, b)"
   ]
  },
  {
   "cell_type": "code",
   "execution_count": 90,
   "metadata": {
    "scrolled": false,
    "slideshow": {
     "slide_type": "subslide"
    }
   },
   "outputs": [
    {
     "name": "stdout",
     "output_type": "stream",
     "text": [
      "a: \n",
      "[[[1. 1. 1.]\n",
      "  [1. 1. 1.]]\n",
      "\n",
      " [[1. 1. 1.]\n",
      "  [1. 1. 1.]]]\n",
      "b: \n",
      "[[[1. 1. 1.]\n",
      "  [1. 1. 1.]]\n",
      "\n",
      " [[1. 1. 1.]\n",
      "  [1. 1. 1.]]\n",
      "\n",
      " [[1. 1. 1.]\n",
      "  [1. 1. 1.]]]\n",
      "배열 a의 모양: (2, 2, 3)\n",
      "배열 b의 모양: (3, 2, 3)\n",
      "오류: 배열의 모양이 전파 호환성을 만족하지 않는다!\n"
     ]
    }
   ],
   "source": [
    "#뒤쪽 차원 크기는 같지만, 앞쪽 차원 크기가 다르고, 둘 중의 하나가 1인 경우도 아니므로 호환성이 없다.   \n",
    "a = np.ones((2, 2, 3))\n",
    "b = np.ones((3, 2, 3))\n",
    "\n",
    "try_add(a, b)"
   ]
  },
  {
   "cell_type": "markdown",
   "metadata": {
    "slideshow": {
     "slide_type": "fragment"
    }
   },
   "source": [
    "- 전파의 개념을 공부했으니, 이제 배열 재구성을 공부하자. \n",
    "\n",
    "<div style=\"page-break-after: always;\"></div> "
   ]
  },
  {
   "cell_type": "markdown",
   "metadata": {
    "slideshow": {
     "slide_type": "slide"
    }
   },
   "source": [
    "### 3.3 배열 재구성"
   ]
  },
  {
   "cell_type": "markdown",
   "metadata": {
    "slideshow": {
     "slide_type": "fragment"
    }
   },
   "source": [
    "- 넘파이 배열의 (모양을 변경하는) 재구성(reshaping) 방법에서 중요한 3 종을 공부하자. \n",
    "    - `.rehshape()`\n",
    "    - `np.newaxis`\n",
    "    - `.ravel()` / `.flatten()`"
   ]
  },
  {
   "cell_type": "markdown",
   "metadata": {
    "slideshow": {
     "slide_type": "subslide"
    }
   },
   "source": [
    "- `.reshape()` 메소드는 상당히 직관적이다. "
   ]
  },
  {
   "cell_type": "code",
   "execution_count": 91,
   "metadata": {
    "slideshow": {
     "slide_type": "fragment"
    }
   },
   "outputs": [
    {
     "data": {
      "text/plain": [
       "array([[3.14, 3.14, 3.14],\n",
       "       [3.14, 3.14, 3.14],\n",
       "       [3.14, 3.14, 3.14],\n",
       "       [3.14, 3.14, 3.14]])"
      ]
     },
     "execution_count": 91,
     "metadata": {},
     "output_type": "execute_result"
    }
   ],
   "source": [
    "x = np.full((4, 3), 3.14)  # (4, 3) 차원을 12개의 3.14 값으로 채운 배열 \n",
    "x"
   ]
  },
  {
   "cell_type": "code",
   "execution_count": 92,
   "metadata": {
    "slideshow": {
     "slide_type": "fragment"
    }
   },
   "outputs": [
    {
     "data": {
      "text/plain": [
       "array([[3.14, 3.14],\n",
       "       [3.14, 3.14],\n",
       "       [3.14, 3.14],\n",
       "       [3.14, 3.14],\n",
       "       [3.14, 3.14],\n",
       "       [3.14, 3.14]])"
      ]
     },
     "execution_count": 92,
     "metadata": {},
     "output_type": "execute_result"
    }
   ],
   "source": [
    "x.reshape(6, 2)           # (6, 2) 차원으로 재구성"
   ]
  },
  {
   "cell_type": "code",
   "execution_count": 93,
   "metadata": {
    "slideshow": {
     "slide_type": "fragment"
    }
   },
   "outputs": [
    {
     "data": {
      "text/plain": [
       "array([[3.14, 3.14, 3.14, 3.14, 3.14, 3.14],\n",
       "       [3.14, 3.14, 3.14, 3.14, 3.14, 3.14]])"
      ]
     },
     "execution_count": 93,
     "metadata": {},
     "output_type": "execute_result"
    }
   ],
   "source": [
    "x.reshape(2, -1)  # -1 값을 지정하면, 적절한 차원 크기를 자동으로 계산하여 처리 (가능하다면)"
   ]
  },
  {
   "cell_type": "code",
   "execution_count": 94,
   "metadata": {
    "slideshow": {
     "slide_type": "subslide"
    }
   },
   "outputs": [
    {
     "data": {
      "text/plain": [
       "array([[ 1,  2],\n",
       "       [ 3,  4],\n",
       "       [ 5,  6],\n",
       "       [ 7,  8],\n",
       "       [ 9, 10],\n",
       "       [11, 12]])"
      ]
     },
     "execution_count": 94,
     "metadata": {},
     "output_type": "execute_result"
    }
   ],
   "source": [
    "y = np.array([ [1, 2], [3, 4], [5, 6], [7, 8], [9, 10], [11, 12] ])  # (6, 2) 배열\n",
    "y"
   ]
  },
  {
   "cell_type": "code",
   "execution_count": 95,
   "metadata": {
    "slideshow": {
     "slide_type": "fragment"
    }
   },
   "outputs": [
    {
     "data": {
      "text/plain": [
       "array([[ 1,  2,  3,  4,  5,  6],\n",
       "       [ 7,  8,  9, 10, 11, 12]])"
      ]
     },
     "execution_count": 95,
     "metadata": {},
     "output_type": "execute_result"
    }
   ],
   "source": [
    "y.reshape(2, 6)  # (2, 6) 모양으로 재구성"
   ]
  },
  {
   "cell_type": "code",
   "execution_count": 96,
   "metadata": {
    "slideshow": {
     "slide_type": "fragment"
    }
   },
   "outputs": [
    {
     "data": {
      "text/plain": [
       "array([[ 1,  2,  3,  4],\n",
       "       [ 5,  6,  7,  8],\n",
       "       [ 9, 10, 11, 12]])"
      ]
     },
     "execution_count": 96,
     "metadata": {},
     "output_type": "execute_result"
    }
   ],
   "source": [
    "y.reshape(-1, 4)  # (3, 4) 모양으로 자동 처리됨"
   ]
  },
  {
   "cell_type": "code",
   "execution_count": 97,
   "metadata": {
    "slideshow": {
     "slide_type": "fragment"
    }
   },
   "outputs": [
    {
     "data": {
      "text/plain": [
       "array([[ 1,  2],\n",
       "       [ 3,  4],\n",
       "       [ 5,  6],\n",
       "       [ 7,  8],\n",
       "       [ 9, 10],\n",
       "       [11, 12]])"
      ]
     },
     "execution_count": 97,
     "metadata": {},
     "output_type": "execute_result"
    }
   ],
   "source": [
    "y  # y는 원본 불변!"
   ]
  },
  {
   "cell_type": "markdown",
   "metadata": {
    "slideshow": {
     "slide_type": "subslide"
    }
   },
   "source": [
    "- 아래에서 (3,) 벡터 a와 (3, 2) 행렬 b의 덧셈은 불가능하다. \n",
    "- `np.newaxis`를 활용하여 이 문제를 해결하는 방법을 알아보자."
   ]
  },
  {
   "cell_type": "code",
   "execution_count": 98,
   "metadata": {
    "slideshow": {
     "slide_type": "fragment"
    }
   },
   "outputs": [
    {
     "name": "stdout",
     "output_type": "stream",
     "text": [
      "Dimensions: 1\n",
      "     Shape: (3,)\n",
      "      Size: 3\n",
      "\n",
      "[1. 1. 1.]\n",
      "Dimensions: 2\n",
      "     Shape: (3, 2)\n",
      "      Size: 6\n",
      "\n",
      "[[1. 1.]\n",
      " [1. 1.]\n",
      " [1. 1.]]\n"
     ]
    }
   ],
   "source": [
    "a = np.ones(3)       # 3열 벡터 \n",
    "print_array(a)    \n",
    "b = np.ones((3, 2))  # (3, 2) 모양 행렬\n",
    "print_array(b)"
   ]
  },
  {
   "cell_type": "code",
   "execution_count": 99,
   "metadata": {
    "slideshow": {
     "slide_type": "fragment"
    },
    "tags": [
     "raises-exception"
    ]
   },
   "outputs": [
    {
     "ename": "ValueError",
     "evalue": "operands could not be broadcast together with shapes (3,) (3,2) ",
     "output_type": "error",
     "traceback": [
      "\u001b[1;31m---------------------------------------------------------------------------\u001b[0m",
      "\u001b[1;31mValueError\u001b[0m                                Traceback (most recent call last)",
      "\u001b[1;32m<ipython-input-99-bd58363a63fc>\u001b[0m in \u001b[0;36m<module>\u001b[1;34m\u001b[0m\n\u001b[1;32m----> 1\u001b[1;33m \u001b[0ma\u001b[0m \u001b[1;33m+\u001b[0m \u001b[0mb\u001b[0m\u001b[1;33m\u001b[0m\u001b[1;33m\u001b[0m\u001b[0m\n\u001b[0m",
      "\u001b[1;31mValueError\u001b[0m: operands could not be broadcast together with shapes (3,) (3,2) "
     ]
    }
   ],
   "source": [
    "a + b"
   ]
  },
  {
   "cell_type": "markdown",
   "metadata": {
    "slideshow": {
     "slide_type": "subslide"
    }
   },
   "source": [
    "- 때때로 배열에 차원을 추가하고 싶을 때가 있다. \n",
    "    - 연산 호환성 문제를 해결하기 위해서, 배열에 차원을 추가하는 경우가 있다. \n",
    "    - 전파 효과를 의도적으로 만들어 내기 위한 조치이다.\n",
    "    - `np.newaxis`을 사용하여 이러한 작업을 수행할 수 있다. \n",
    "    - `np.newaxis`는 '새로운 축'이라는 의미이다. \n",
    "    - 사실 `np.newaxis`는 `None`과 동등한 값이다. \n",
    "    - 위 코드에서 오류가 발생했던 `a + b` 명령의 호환성 문제를 해결하기 위해서  \n",
    "    `a`의 차원을 추가해보자.  "
   ]
  },
  {
   "cell_type": "code",
   "execution_count": 100,
   "metadata": {
    "slideshow": {
     "slide_type": "fragment"
    }
   },
   "outputs": [
    {
     "data": {
      "text/plain": [
       "True"
      ]
     },
     "execution_count": 100,
     "metadata": {},
     "output_type": "execute_result"
    }
   ],
   "source": [
    "np.newaxis == None  # `np.newaxis`과 `None`의 값 동등성 확인"
   ]
  },
  {
   "cell_type": "code",
   "execution_count": 101,
   "metadata": {
    "slideshow": {
     "slide_type": "fragment"
    }
   },
   "outputs": [
    {
     "data": {
      "text/plain": [
       "True"
      ]
     },
     "execution_count": 101,
     "metadata": {},
     "output_type": "execute_result"
    }
   ],
   "source": [
    "np.newaxis is None  # `np.newaxis`과 `None`의 (값 동등성이 아닌) 객체 동일성 확인"
   ]
  },
  {
   "cell_type": "code",
   "execution_count": 102,
   "metadata": {
    "slideshow": {
     "slide_type": "subslide"
    }
   },
   "outputs": [
    {
     "data": {
      "text/plain": [
       "array([1., 1., 1.])"
      ]
     },
     "execution_count": 102,
     "metadata": {},
     "output_type": "execute_result"
    }
   ],
   "source": [
    "a  # (3,) 행 벡터"
   ]
  },
  {
   "cell_type": "code",
   "execution_count": 103,
   "metadata": {
    "scrolled": false,
    "slideshow": {
     "slide_type": "fragment"
    }
   },
   "outputs": [
    {
     "name": "stdout",
     "output_type": "stream",
     "text": [
      "Dimensions: 2\n",
      "     Shape: (3, 1)\n",
      "      Size: 3\n",
      "\n",
      "[[1.]\n",
      " [1.]\n",
      " [1.]]\n"
     ]
    }
   ],
   "source": [
    "# `a[:, np.newaxis]` 코드를 써서 행 벡터를 (3, 1) 행렬로 변환하고 차원과 모양을 검토\n",
    "print_array(a[:, np.newaxis])  # `a[:, None]`라고 써도 동등한 효과, 행만 있고, 열은 없는 행렬로 변환"
   ]
  },
  {
   "cell_type": "code",
   "execution_count": 104,
   "metadata": {
    "slideshow": {
     "slide_type": "fragment"
    }
   },
   "outputs": [
    {
     "data": {
      "text/plain": [
       "array([[1., 1.],\n",
       "       [1., 1.],\n",
       "       [1., 1.]])"
      ]
     },
     "execution_count": 104,
     "metadata": {},
     "output_type": "execute_result"
    }
   ],
   "source": [
    "b"
   ]
  },
  {
   "cell_type": "code",
   "execution_count": 105,
   "metadata": {
    "slideshow": {
     "slide_type": "fragment"
    }
   },
   "outputs": [
    {
     "data": {
      "text/plain": [
       "array([[2., 2.],\n",
       "       [2., 2.],\n",
       "       [2., 2.]])"
      ]
     },
     "execution_count": 105,
     "metadata": {},
     "output_type": "execute_result"
    }
   ],
   "source": [
    "# 행 벡터 a에 차원을 추가하여 (3, 1) 행렬로 변환하고 덧셈 연산 시도 \n",
    "a[:, np.newaxis] + b  "
   ]
  },
  {
   "cell_type": "markdown",
   "metadata": {
    "slideshow": {
     "slide_type": "subslide"
    }
   },
   "source": [
    "- `np.newaxis`로 배열의 차원을 강제로 늘리는 작업을 `.reshape()`로도 동등하게 수행할 수 있다.  "
   ]
  },
  {
   "cell_type": "code",
   "execution_count": 106,
   "metadata": {
    "slideshow": {
     "slide_type": "fragment"
    }
   },
   "outputs": [
    {
     "data": {
      "text/plain": [
       "array([1, 2, 3, 4])"
      ]
     },
     "execution_count": 106,
     "metadata": {},
     "output_type": "execute_result"
    }
   ],
   "source": [
    "np.arange(1, 5)"
   ]
  },
  {
   "cell_type": "code",
   "execution_count": 107,
   "metadata": {
    "scrolled": true,
    "slideshow": {
     "slide_type": "fragment"
    }
   },
   "outputs": [
    {
     "name": "stdout",
     "output_type": "stream",
     "text": [
      "Dimensions: 1\n",
      "     Shape: (4,)\n",
      "      Size: 4\n",
      "\n",
      "[1 2 3 4]\n"
     ]
    }
   ],
   "source": [
    "v4 = np.arange(1, 5)  # 4열 벡터\n",
    "print_array(v4)"
   ]
  },
  {
   "cell_type": "code",
   "execution_count": 108,
   "metadata": {
    "slideshow": {
     "slide_type": "subslide"
    }
   },
   "outputs": [
    {
     "data": {
      "text/plain": [
       "array([1, 2, 3, 4])"
      ]
     },
     "execution_count": 108,
     "metadata": {},
     "output_type": "execute_result"
    }
   ],
   "source": [
    "v4  # v4 모습을 .newaxis 및 .reshape()로 변경해보자. "
   ]
  },
  {
   "cell_type": "code",
   "execution_count": 109,
   "metadata": {
    "slideshow": {
     "slide_type": "fragment"
    }
   },
   "outputs": [
    {
     "name": "stdout",
     "output_type": "stream",
     "text": [
      "Dimensions: 2\n",
      "     Shape: (4, 1)\n",
      "      Size: 4\n",
      "\n",
      "[[1]\n",
      " [2]\n",
      " [3]\n",
      " [4]]\n"
     ]
    }
   ],
   "source": [
    "m41_by_newaxis = v4[:, np.newaxis]  # np.newaxis를 써서 (4, 1) 행렬로 변환, 열이 None인 행렬\n",
    "print_array(m41_by_newaxis) "
   ]
  },
  {
   "cell_type": "code",
   "execution_count": 110,
   "metadata": {
    "scrolled": true,
    "slideshow": {
     "slide_type": "fragment"
    }
   },
   "outputs": [
    {
     "name": "stdout",
     "output_type": "stream",
     "text": [
      "Dimensions: 2\n",
      "     Shape: (4, 1)\n",
      "      Size: 4\n",
      "\n",
      "[[1]\n",
      " [2]\n",
      " [3]\n",
      " [4]]\n"
     ]
    }
   ],
   "source": [
    "m41_by_reshape = v4.reshape(4, 1)  # .reshape()를 써서 (4, 1) 행렬로 변환\n",
    "print_array(m41_by_reshape)"
   ]
  },
  {
   "cell_type": "code",
   "execution_count": 111,
   "metadata": {
    "slideshow": {
     "slide_type": "subslide"
    }
   },
   "outputs": [
    {
     "data": {
      "text/plain": [
       "array([1, 2, 3, 4])"
      ]
     },
     "execution_count": 111,
     "metadata": {},
     "output_type": "execute_result"
    }
   ],
   "source": [
    "v4  # v4의 차원을 (1, 4) 모양으로 .newaxis와 .reshape()로 변경해보자. "
   ]
  },
  {
   "cell_type": "code",
   "execution_count": 112,
   "metadata": {
    "slideshow": {
     "slide_type": "fragment"
    }
   },
   "outputs": [
    {
     "name": "stdout",
     "output_type": "stream",
     "text": [
      "Dimensions: 2\n",
      "     Shape: (1, 4)\n",
      "      Size: 4\n",
      "\n",
      "[[1 2 3 4]]\n"
     ]
    }
   ],
   "source": [
    "m14_by_newaxis = v4[np.newaxis, :]  # np.newaxis를 써서 1행 4열 행렬로 변환, 행이 None\n",
    "print_array(m14_by_newaxis) "
   ]
  },
  {
   "cell_type": "code",
   "execution_count": 113,
   "metadata": {
    "slideshow": {
     "slide_type": "fragment"
    }
   },
   "outputs": [
    {
     "name": "stdout",
     "output_type": "stream",
     "text": [
      "Dimensions: 2\n",
      "     Shape: (1, 4)\n",
      "      Size: 4\n",
      "\n",
      "[[1 2 3 4]]\n"
     ]
    }
   ],
   "source": [
    "m14_by_reshape = v4.reshape(1, 4)  # .reshape()를 써서 1행 4열 행렬로 변환\n",
    "print_array(m14_by_reshape)"
   ]
  },
  {
   "cell_type": "markdown",
   "metadata": {
    "slideshow": {
     "slide_type": "subslide"
    }
   },
   "source": [
    "- `.ravel()` 및 `.flatten()` 메소드로 다차원 배열을 일차원으로 *평면화* 할 수 있다. \n",
    "    - `.flatten()` 메소드의 이름공간은 `numpy.ndarray.flatten`이고, **복사본(copy)**을 반환한다. \n",
    "    - `.ravel()` 메소드의 이름공간은 `numpy.ravel`이고, **뷰(view)**를 반환한다.\n",
    "    - 두 메소드의 실행 결과는 동일하게 보이는데,  \n",
    "      공통적으로 평면화된 일차원 배열에 대한 참조를 반환한다. "
   ]
  },
  {
   "cell_type": "code",
   "execution_count": 114,
   "metadata": {
    "slideshow": {
     "slide_type": "fragment"
    }
   },
   "outputs": [
    {
     "name": "stdout",
     "output_type": "stream",
     "text": [
      "Dimensions: 2\n",
      "     Shape: (4, 3)\n",
      "      Size: 12\n",
      "\n",
      "[[3.14 3.14 3.14]\n",
      " [3.14 3.14 3.14]\n",
      " [3.14 3.14 3.14]\n",
      " [3.14 3.14 3.14]]\n"
     ]
    }
   ],
   "source": [
    "print_array(x)  # 3.14로 모두 채운 (4, 3) 모양의 행렬"
   ]
  },
  {
   "cell_type": "code",
   "execution_count": 115,
   "metadata": {
    "slideshow": {
     "slide_type": "subslide"
    }
   },
   "outputs": [
    {
     "name": "stdout",
     "output_type": "stream",
     "text": [
      "Dimensions: 1\n",
      "     Shape: (12,)\n",
      "      Size: 12\n",
      "\n",
      "[3.14 3.14 3.14 3.14 3.14 3.14 3.14 3.14 3.14 3.14 3.14 3.14]\n"
     ]
    }
   ],
   "source": [
    "print_array(x.flatten())  # (4, 3) 모양을 (12,) 모양으로 평면화한 복사본"
   ]
  },
  {
   "cell_type": "code",
   "execution_count": 116,
   "metadata": {
    "slideshow": {
     "slide_type": "fragment"
    }
   },
   "outputs": [
    {
     "name": "stdout",
     "output_type": "stream",
     "text": [
      "Dimensions: 1\n",
      "     Shape: (12,)\n",
      "      Size: 12\n",
      "\n",
      "[3.14 3.14 3.14 3.14 3.14 3.14 3.14 3.14 3.14 3.14 3.14 3.14]\n"
     ]
    }
   ],
   "source": [
    "print_array(x.ravel())  # (4, 3) 모양을 (12,) 모양으로 평면화한 뷰"
   ]
  },
  {
   "cell_type": "markdown",
   "metadata": {
    "slideshow": {
     "slide_type": "subslide"
    }
   },
   "source": [
    " - `.flatten()` 메소드와 `.ravel()` 메소드의 실행 결과는 동일한 것처럼 보인다.\n",
    " - 하지만 두 메소드의 실행 과정은 미묘하게 다르다.  \n",
    "    - `a.flatten()`의 `base` 값은 `None`인데,  \n",
    "      이는 메소드가 반환하는 값이 복사본(copy)라는 의미이다. \n",
    "    - `a.ravel()`의 `base` 값은 원본 배열인데,  \n",
    "      이는 메소드가 반환하는 값이 뷰(view)라는 의미이다.\n",
    "\n",
    "- 복사본을 사용하는 `a.flatten()`과 <br>\n",
    "  뷰를 통해 원본을 참조하는 `a.ravel()`의 <br>\n",
    "  차이로 인하여 다음과 같은 점에서 주의가 필요하다. \n",
    "    - 복사본을 사용하는 방식은 원본을 참조하는 방식에 비하여 훨씬 느리다.  \n",
    "      메모리 상에서 복사본을 생성하는 시간이 소요되기 때문이다.\n",
    "    - 복사본을 사용하는 방식이 원본에 대한 오류 값의 파급 효과를 차단하기 때문에  \n",
    "      오류 방지 혹은 오류 지역화 차원에서 유리할 수 있다.      "
   ]
  },
  {
   "cell_type": "code",
   "execution_count": 117,
   "metadata": {
    "scrolled": true,
    "slideshow": {
     "slide_type": "subslide"
    }
   },
   "outputs": [
    {
     "name": "stdout",
     "output_type": "stream",
     "text": [
      "[[1 2]\n",
      " [3 4]]\n",
      "    f: [1 2 3 4]\n",
      "    r: [1 2 3 4]\n",
      "id(a): 2011579253456\n",
      "id(f): 2011579253552\n",
      "id(r): 2011579253648\n",
      "\n",
      "base of f:\n",
      "None\n",
      "\n",
      "base of r:\n",
      "[[1 2]\n",
      " [3 4]]\n"
     ]
    }
   ],
   "source": [
    "a = np.array([[1,2],[3,4]])\n",
    "\n",
    "f = a.flatten()                   # 복사본 np.ndarray.flatten(a)\n",
    "r = a.ravel()                     # 뷰 np.ravel(a)\n",
    "\n",
    "print(a)\n",
    "print(f\"    f: {f}\")              # a.flatten()의 반환값 확인 (두 메소드의 반환값은 동일함)\n",
    "print(f\"    r: {r}\")              # a.ravel()의 반환값 확인   (두 메소드의 반환값은 동일함) \n",
    "\n",
    "print(f\"id(a): {id(a)}\")          # a의 고유값 확인 (a, r, f)의 메모리 주소가 모두 상이함\n",
    "print(f\"id(f): {id(f)}\")          # f의 고유값 확인 (a, r, f)의 메모리 주소가 모두 상이함\n",
    "print(f\"id(r): {id(r)}\")          # r의 고유값 확인 (a, r, f)의 메모리 주소가 모두 상이함\n",
    "\n",
    "print(f\"\\nbase of f:\\n{f.base}\")  # a.flatten()의 base는 None                     (a.flatten()의 반환값이 복사본이라는 의미)\n",
    "print(f\"\\nbase of r:\\n{r.base}\")  # a.ravel()의 base는 해당 작업에 대한 원본 배열 (a.ravel()의   반환값이 뷰라는 의미)\n"
   ]
  },
  {
   "cell_type": "markdown",
   "metadata": {
    "slideshow": {
     "slide_type": "subslide"
    }
   },
   "source": [
    "- 배열 재구성을 실습했고, 이제 인덱싱/슬라이싱 실습을 진행하자. \n",
    "\n",
    "<div style=\"page-break-after: always;\"></div> "
   ]
  },
  {
   "cell_type": "markdown",
   "metadata": {
    "slideshow": {
     "slide_type": "slide"
    }
   },
   "source": [
    "## 4. 인덱싱 및 슬라이싱"
   ]
  },
  {
   "cell_type": "markdown",
   "metadata": {
    "slideshow": {
     "slide_type": "fragment"
    }
   },
   "source": [
    "- 인덱싱(indexing)이란 배열의 특정 원소에 (인덱스 값을 통하여) 접근하는 것을 의미한다.  \n",
    "  - 리스트 인덱싱과 배열 인덱싱은 비슷한 원리이다. \n",
    "  - 리스트는 근본적으로 일차원이지만, 배열은 근본적으로 다차원이라는 점에서  \n",
    "    배열에서는 올바르게 인덱싱하기 위해서 리스트에서보다 더 주의해야 한다.  \n",
    "- 수치형 인덱싱과 논리형 인덱싱이 모두 가능하다. "
   ]
  },
  {
   "cell_type": "markdown",
   "metadata": {
    "slideshow": {
     "slide_type": "slide"
    }
   },
   "source": [
    "### 4.1 수치형 인덱싱\n",
    "\n",
    "- 인덱싱을 위한 인덱스는 0부터 시작한다. \n",
    "- 슬라이싱은 인덱스 값의 범위를 `start:end` 형식으로 지정하는데,    \n",
    "  시작 값 `start`는 포함되지만, 종료 값 `end`는 슬라이싱 대상에서 제외된다. "
   ]
  },
  {
   "cell_type": "code",
   "execution_count": 118,
   "metadata": {
    "slideshow": {
     "slide_type": "fragment"
    }
   },
   "outputs": [
    {
     "data": {
      "text/plain": [
       "array([0, 1, 2, 3, 4, 5, 6, 7, 8, 9])"
      ]
     },
     "execution_count": 118,
     "metadata": {},
     "output_type": "execute_result"
    }
   ],
   "source": [
    "x = np.arange(10)  # 넘파이 배열 생성\n",
    "x"
   ]
  },
  {
   "cell_type": "code",
   "execution_count": 119,
   "metadata": {
    "slideshow": {
     "slide_type": "fragment"
    }
   },
   "outputs": [
    {
     "data": {
      "text/plain": [
       "3"
      ]
     },
     "execution_count": 119,
     "metadata": {},
     "output_type": "execute_result"
    }
   ],
   "source": [
    "x[3]  # 넘파이 배열에서 3번 원소에 접근"
   ]
  },
  {
   "cell_type": "code",
   "execution_count": 120,
   "metadata": {
    "slideshow": {
     "slide_type": "subslide"
    }
   },
   "outputs": [
    {
     "data": {
      "text/plain": [
       "array([2, 3, 4, 5, 6, 7, 8, 9])"
      ]
     },
     "execution_count": 120,
     "metadata": {},
     "output_type": "execute_result"
    }
   ],
   "source": [
    "x[2:]  # 시작 값 2번 이후의 모든 원소에 접근"
   ]
  },
  {
   "cell_type": "code",
   "execution_count": 121,
   "metadata": {
    "slideshow": {
     "slide_type": "fragment"
    }
   },
   "outputs": [
    {
     "data": {
      "text/plain": [
       "array([0, 1, 2, 3])"
      ]
     },
     "execution_count": 121,
     "metadata": {},
     "output_type": "execute_result"
    }
   ],
   "source": [
    "x[:4]  # 종료 값 4번까지의 모든 원소에 접근"
   ]
  },
  {
   "cell_type": "code",
   "execution_count": 122,
   "metadata": {
    "slideshow": {
     "slide_type": "subslide"
    }
   },
   "outputs": [
    {
     "data": {
      "text/plain": [
       "array([2, 3, 4])"
      ]
     },
     "execution_count": 122,
     "metadata": {},
     "output_type": "execute_result"
    }
   ],
   "source": [
    "x[2:5]  # 시작 값 2번에서 종료 값 5번(을 제외한 범위)까지의 원소에 접근"
   ]
  },
  {
   "cell_type": "code",
   "execution_count": 123,
   "metadata": {
    "slideshow": {
     "slide_type": "fragment"
    }
   },
   "outputs": [
    {
     "data": {
      "text/plain": [
       "array([2])"
      ]
     },
     "execution_count": 123,
     "metadata": {},
     "output_type": "execute_result"
    }
   ],
   "source": [
    "x[2:3]  # 시작 값 2번에서 종료 값 3번(을 제외한 범위)까지의 원소에 접근"
   ]
  },
  {
   "cell_type": "code",
   "execution_count": 124,
   "metadata": {
    "slideshow": {
     "slide_type": "subslide"
    }
   },
   "outputs": [
    {
     "data": {
      "text/plain": [
       "9"
      ]
     },
     "execution_count": 124,
     "metadata": {},
     "output_type": "execute_result"
    }
   ],
   "source": [
    "x[-1]  # `-1` 인덱스 값으로 마지막 원소에 접근이 가능함"
   ]
  },
  {
   "cell_type": "code",
   "execution_count": 125,
   "metadata": {
    "slideshow": {
     "slide_type": "fragment"
    }
   },
   "outputs": [
    {
     "data": {
      "text/plain": [
       "8"
      ]
     },
     "execution_count": 125,
     "metadata": {},
     "output_type": "execute_result"
    }
   ],
   "source": [
    "x[-2] # `-2` 인덱스 값으로 마지막 원소의 직전 원소에 접근 "
   ]
  },
  {
   "cell_type": "code",
   "execution_count": 126,
   "metadata": {
    "scrolled": true,
    "slideshow": {
     "slide_type": "subslide"
    }
   },
   "outputs": [
    {
     "data": {
      "text/plain": [
       "array([5, 4, 3, 2, 1])"
      ]
     },
     "execution_count": 126,
     "metadata": {},
     "output_type": "execute_result"
    }
   ],
   "source": [
    "x[5:0:-1]  # 시작 값을 5로, 종료 값을 0으로, 증분 값을 -1로 지정하여 인덱싱 (종료 값은 제외)"
   ]
  },
  {
   "cell_type": "markdown",
   "metadata": {
    "slideshow": {
     "slide_type": "fragment"
    }
   },
   "source": [
    "- 증분을 음수로 지정해도, 종료값 직전까지 처리된다는 점에 유의하라. "
   ]
  },
  {
   "cell_type": "markdown",
   "metadata": {
    "slideshow": {
     "slide_type": "subslide"
    }
   },
   "source": [
    "- 이차원 배열에 대한 인덱싱"
   ]
  },
  {
   "cell_type": "code",
   "execution_count": 127,
   "metadata": {
    "scrolled": true,
    "slideshow": {
     "slide_type": "fragment"
    }
   },
   "outputs": [
    {
     "data": {
      "text/plain": [
       "array([[9, 4, 6, 1, 2, 0],\n",
       "       [4, 5, 4, 6, 3, 8],\n",
       "       [9, 0, 5, 1, 4, 1],\n",
       "       [7, 5, 0, 4, 3, 2]])"
      ]
     },
     "execution_count": 127,
     "metadata": {},
     "output_type": "execute_result"
    }
   ],
   "source": [
    "x = np.random.randint(10, size=(4, 6))  # randint() 함수로 크기가 (4, 6)인 배열을 난수로 채움\n",
    "x                                       # [0, 10) 범위에서 무작위 정수 추출"
   ]
  },
  {
   "cell_type": "markdown",
   "metadata": {
    "slideshow": {
     "slide_type": "fragment"
    }
   },
   "source": [
    "- `randint(low, high=None, size=None, dtype='l')` \n",
    "    - 정수형 난수를 `[low, high)` 범위에서 발생시킨다.  \n",
    "      범위에서 low는 포함되고, high는 제외된다. \n",
    "    - 추출된 정수형 난수는 균등분포를 이룬다.\n",
    "    - `high` 값을 생략하면 `[0, low)` 범위가 적용되어,  \n",
    "      0이 `low`로, `low`가 `high`로 처리된다. \n",
    "    - `size`로 지정한 모양의 배열을 구성하여 반환한다.  \n",
    "      생략하면 단일 정수형 난수를 반환한다.   "
   ]
  },
  {
   "cell_type": "code",
   "execution_count": 128,
   "metadata": {
    "slideshow": {
     "slide_type": "subslide"
    }
   },
   "outputs": [
    {
     "data": {
      "text/plain": [
       "5"
      ]
     },
     "execution_count": 128,
     "metadata": {},
     "output_type": "execute_result"
    }
   ],
   "source": [
    "x[3, 1]  # 3행 1열 원소에 접근"
   ]
  },
  {
   "cell_type": "code",
   "execution_count": 129,
   "metadata": {
    "slideshow": {
     "slide_type": "fragment"
    }
   },
   "outputs": [
    {
     "data": {
      "text/plain": [
       "5"
      ]
     },
     "execution_count": 129,
     "metadata": {},
     "output_type": "execute_result"
    }
   ],
   "source": [
    "x[3][1]  # 이런 표현도 가능함"
   ]
  },
  {
   "cell_type": "code",
   "execution_count": 130,
   "metadata": {
    "slideshow": {
     "slide_type": "fragment"
    }
   },
   "outputs": [
    {
     "data": {
      "text/plain": [
       "array([7, 5, 0, 4, 3, 2])"
      ]
     },
     "execution_count": 130,
     "metadata": {},
     "output_type": "execute_result"
    }
   ],
   "source": [
    "x[3]  # 3 행 전체에 접근"
   ]
  },
  {
   "cell_type": "code",
   "execution_count": 131,
   "metadata": {
    "slideshow": {
     "slide_type": "subslide"
    }
   },
   "outputs": [
    {
     "data": {
      "text/plain": [
       "(4, 6)"
      ]
     },
     "execution_count": 131,
     "metadata": {},
     "output_type": "execute_result"
    }
   ],
   "source": [
    "x.shape  # 배열의 모양"
   ]
  },
  {
   "cell_type": "code",
   "execution_count": 132,
   "metadata": {
    "slideshow": {
     "slide_type": "fragment"
    }
   },
   "outputs": [
    {
     "data": {
      "text/plain": [
       "4"
      ]
     },
     "execution_count": 132,
     "metadata": {},
     "output_type": "execute_result"
    }
   ],
   "source": [
    "len(x)  # 배열의 길이는 첫 차원의 원소 개수 (이차원 배열이면 행 개수)"
   ]
  },
  {
   "cell_type": "code",
   "execution_count": 133,
   "metadata": {
    "slideshow": {
     "slide_type": "subslide"
    }
   },
   "outputs": [
    {
     "data": {
      "text/plain": [
       "array([[9, 4, 6, 1, 2, 0],\n",
       "       [4, 5, 4, 6, 3, 8],\n",
       "       [9, 0, 5, 1, 4, 1],\n",
       "       [7, 5, 0, 4, 3, 2]])"
      ]
     },
     "execution_count": 133,
     "metadata": {},
     "output_type": "execute_result"
    }
   ],
   "source": [
    "x"
   ]
  },
  {
   "cell_type": "code",
   "execution_count": 134,
   "metadata": {
    "slideshow": {
     "slide_type": "fragment"
    }
   },
   "outputs": [
    {
     "data": {
      "text/plain": [
       "array([6, 4, 5, 0])"
      ]
     },
     "execution_count": 134,
     "metadata": {},
     "output_type": "execute_result"
    }
   ],
   "source": [
    "x[:, 2]  # 행은 전체, 열은 2열만, 반환되는 결과가 열 벡터 모양답지는 않음!"
   ]
  },
  {
   "cell_type": "code",
   "execution_count": 135,
   "metadata": {
    "slideshow": {
     "slide_type": "fragment"
    }
   },
   "outputs": [
    {
     "data": {
      "text/plain": [
       "array([[9, 0, 5],\n",
       "       [7, 5, 0]])"
      ]
     },
     "execution_count": 135,
     "metadata": {},
     "output_type": "execute_result"
    }
   ],
   "source": [
    "x[2:, :3]  # 2행 이후의 행, 그리고 3열까지의 열"
   ]
  },
  {
   "cell_type": "markdown",
   "metadata": {
    "slideshow": {
     "slide_type": "subslide"
    }
   },
   "source": [
    "- 전치 행렬(transposed matrix)이란 행과 열을 뒤바꾼(전치) 행렬을 의미한다. \n",
    "  - 기존 행렬의 행이 전치 행렬의 열로,  \n",
    "    기존 행렬의 열이 전치 행렬의 행으로 전치된다. \n",
    "  - 예를 들어서 모양이 (4, 6)인 행렬이 있을 때,  \n",
    "    전치 행렬의 모양은 (6, 4)가 된다. "
   ]
  },
  {
   "cell_type": "code",
   "execution_count": 136,
   "metadata": {
    "slideshow": {
     "slide_type": "fragment"
    }
   },
   "outputs": [
    {
     "data": {
      "text/plain": [
       "array([[9, 4, 9, 7],\n",
       "       [4, 5, 0, 5],\n",
       "       [6, 4, 5, 0],\n",
       "       [1, 6, 1, 4],\n",
       "       [2, 3, 4, 3],\n",
       "       [0, 8, 1, 2]])"
      ]
     },
     "execution_count": 136,
     "metadata": {},
     "output_type": "execute_result"
    }
   ],
   "source": [
    "x.T  # 전치행렬(transposed matrix)"
   ]
  },
  {
   "cell_type": "code",
   "execution_count": 137,
   "metadata": {
    "slideshow": {
     "slide_type": "fragment"
    }
   },
   "outputs": [
    {
     "data": {
      "text/plain": [
       "array([[9, 4, 6, 1, 2, 0],\n",
       "       [4, 5, 4, 6, 3, 8],\n",
       "       [9, 0, 5, 1, 4, 1],\n",
       "       [7, 5, 0, 4, 3, 2]])"
      ]
     },
     "execution_count": 137,
     "metadata": {},
     "output_type": "execute_result"
    }
   ],
   "source": [
    "x   # 원래 모습과 전치행렬의 모습을 비교하자. "
   ]
  },
  {
   "cell_type": "markdown",
   "metadata": {
    "slideshow": {
     "slide_type": "subslide"
    }
   },
   "source": [
    "- 인덱싱을 통하여 배열 원소의 값을 변경할 수 있다. "
   ]
  },
  {
   "cell_type": "code",
   "execution_count": 138,
   "metadata": {
    "slideshow": {
     "slide_type": "subslide"
    }
   },
   "outputs": [
    {
     "data": {
      "text/plain": [
       "array([0., 0., 0., 0., 0.])"
      ]
     },
     "execution_count": 138,
     "metadata": {},
     "output_type": "execute_result"
    }
   ],
   "source": [
    "z = np.zeros(5)   # 0으로 채운 (5,) 벡터 생성\n",
    "z"
   ]
  },
  {
   "cell_type": "code",
   "execution_count": 139,
   "metadata": {
    "scrolled": true,
    "slideshow": {
     "slide_type": "fragment"
    }
   },
   "outputs": [
    {
     "data": {
      "text/plain": [
       "array([5., 0., 0., 0., 0.])"
      ]
     },
     "execution_count": 139,
     "metadata": {},
     "output_type": "execute_result"
    }
   ],
   "source": [
    "z[0] = 5  # 인덱싱을 통한 원소 값 대입\n",
    "z"
   ]
  },
  {
   "cell_type": "code",
   "execution_count": 140,
   "metadata": {
    "slideshow": {
     "slide_type": "subslide"
    }
   },
   "outputs": [
    {
     "data": {
      "text/plain": [
       "array([[     9,      4,      6,      1,      2,      0],\n",
       "       [     4, 555555,      4,      6,      3,      8],\n",
       "       [     9,      0,      5,      1,      4,      1],\n",
       "       [     7,      5,      0,      4,      3,      2]])"
      ]
     },
     "execution_count": 140,
     "metadata": {},
     "output_type": "execute_result"
    }
   ],
   "source": [
    "x[1, 1] = 555555  # 인덱싱을 통한 원소 값 대입\n",
    "x"
   ]
  },
  {
   "cell_type": "markdown",
   "metadata": {
    "slideshow": {
     "slide_type": "fragment"
    }
   },
   "source": [
    "- 수치형 인덱싱을 실습했고, 이제 논리형 인덱싱 실습을 진행하자. \n",
    "\n",
    "<div style=\"page-break-after: always;\"></div> "
   ]
  },
  {
   "cell_type": "markdown",
   "metadata": {
    "slideshow": {
     "slide_type": "slide"
    }
   },
   "source": [
    "### 4.2 논리형 인덱싱"
   ]
  },
  {
   "cell_type": "code",
   "execution_count": 141,
   "metadata": {
    "jupyter": {
     "outputs_hidden": false
    },
    "slideshow": {
     "slide_type": "fragment"
    }
   },
   "outputs": [
    {
     "data": {
      "text/plain": [
       "array([0.50566713, 0.54940566, 0.75712053, 0.28960692, 0.89029392,\n",
       "       0.21434927, 0.50735978, 0.87021902, 0.85824074, 0.33265847])"
      ]
     },
     "execution_count": 141,
     "metadata": {},
     "output_type": "execute_result"
    }
   ],
   "source": [
    "x = np.random.rand(10)  # 10개 난수로 일차원 배열 생성\n",
    "x"
   ]
  },
  {
   "cell_type": "code",
   "execution_count": 142,
   "metadata": {
    "jupyter": {
     "outputs_hidden": false
    },
    "slideshow": {
     "slide_type": "fragment"
    }
   },
   "outputs": [
    {
     "data": {
      "text/plain": [
       "array([1.50566713, 1.54940566, 1.75712053, 1.28960692, 1.89029392,\n",
       "       1.21434927, 1.50735978, 1.87021902, 1.85824074, 1.33265847])"
      ]
     },
     "execution_count": 142,
     "metadata": {},
     "output_type": "execute_result"
    }
   ],
   "source": [
    "x + 1  # 모든 원소를 1만큼 증가시킨 복사본 반환 (원본은 불변)"
   ]
  },
  {
   "cell_type": "code",
   "execution_count": 143,
   "metadata": {
    "jupyter": {
     "outputs_hidden": false
    },
    "slideshow": {
     "slide_type": "fragment"
    }
   },
   "outputs": [
    {
     "data": {
      "text/plain": [
       "array([ True,  True,  True, False,  True, False,  True,  True,  True,\n",
       "       False])"
      ]
     },
     "execution_count": 143,
     "metadata": {},
     "output_type": "execute_result"
    }
   ],
   "source": [
    "x_thresh = x > 0.5  # 10개 원소 모두에 대해서 비교 연산을 수행한 결과를 배열로 반환받아서 x_thresh에 저장\n",
    "x_thresh"
   ]
  },
  {
   "cell_type": "code",
   "execution_count": 144,
   "metadata": {
    "jupyter": {
     "outputs_hidden": false
    },
    "slideshow": {
     "slide_type": "fragment"
    }
   },
   "outputs": [
    {
     "data": {
      "text/plain": [
       "array([0.5       , 0.5       , 0.5       , 0.28960692, 0.5       ,\n",
       "       0.21434927, 0.5       , 0.5       , 0.5       , 0.33265847])"
      ]
     },
     "execution_count": 144,
     "metadata": {},
     "output_type": "execute_result"
    }
   ],
   "source": [
    "x[x_thresh] = 0.5  # (배열 원소 값이 0.5보다 크다는) 조건을 만족하는 모든 원소 값에 0.5를 대입\n",
    "x"
   ]
  },
  {
   "cell_type": "code",
   "execution_count": 145,
   "metadata": {
    "slideshow": {
     "slide_type": "subslide"
    }
   },
   "outputs": [
    {
     "data": {
      "text/plain": [
       "array([0.10502591, 0.77188488, 0.44679155, 0.1049922 , 0.35466291,\n",
       "       0.79043999, 0.10373626, 0.73856455, 0.46776495, 0.19906446])"
      ]
     },
     "execution_count": 145,
     "metadata": {},
     "output_type": "execute_result"
    }
   ],
   "source": [
    "x = np.random.rand(10)  # 다시 난수로 초기화\n",
    "x"
   ]
  },
  {
   "cell_type": "code",
   "execution_count": 146,
   "metadata": {
    "scrolled": false,
    "slideshow": {
     "slide_type": "fragment"
    }
   },
   "outputs": [
    {
     "data": {
      "text/plain": [
       "array([0.10502591, 0.5       , 0.44679155, 0.1049922 , 0.35466291,\n",
       "       0.5       , 0.10373626, 0.5       , 0.46776495, 0.19906446])"
      ]
     },
     "execution_count": 146,
     "metadata": {},
     "output_type": "execute_result"
    }
   ],
   "source": [
    "x[x > 0.5] = 0.5  # 동일한 작업을 재 수행\n",
    "x"
   ]
  },
  {
   "cell_type": "markdown",
   "metadata": {
    "slideshow": {
     "slide_type": "fragment"
    }
   },
   "source": [
    "- 수치형과 논리형 인덱싱을 실습했고, 이제 환상적 인덱싱을 공부하자. \n",
    "\n",
    "<div style=\"page-break-after: always;\"></div> "
   ]
  },
  {
   "cell_type": "markdown",
   "metadata": {
    "slideshow": {
     "slide_type": "slide"
    }
   },
   "source": [
    "### 4.3 환상적 인덱싱"
   ]
  },
  {
   "cell_type": "markdown",
   "metadata": {
    "slideshow": {
     "slide_type": "subslide"
    }
   },
   "source": [
    "- 넘파이 배열에 대한 \"환상적\" 인덱싱(fancy indexing)도 가능하다. \n"
   ]
  },
  {
   "cell_type": "code",
   "execution_count": 147,
   "metadata": {
    "scrolled": false,
    "slideshow": {
     "slide_type": "fragment"
    }
   },
   "outputs": [
    {
     "data": {
      "text/plain": [
       "array([ 0, 10, 20, 30, 40, 50, 60, 70, 80, 90])"
      ]
     },
     "execution_count": 147,
     "metadata": {},
     "output_type": "execute_result"
    }
   ],
   "source": [
    "x = np.arange(0, 100, 10)\n",
    "x"
   ]
  },
  {
   "cell_type": "markdown",
   "metadata": {
    "slideshow": {
     "slide_type": "fragment"
    }
   },
   "source": [
    "- 아래 표현의 결과를 비교하여 보자: \n",
    "  - 리스트에 배열 원소를 직접 대입한 표현\n",
    "  - 인덱스 리스트를 만들고, 이를 통하여 배열을 환상적으로 인덱싱하는 표현"
   ]
  },
  {
   "cell_type": "code",
   "execution_count": 148,
   "metadata": {
    "scrolled": true,
    "slideshow": {
     "slide_type": "fragment"
    }
   },
   "outputs": [
    {
     "data": {
      "text/plain": [
       "[30, 70, 0]"
      ]
     },
     "execution_count": 148,
     "metadata": {},
     "output_type": "execute_result"
    }
   ],
   "source": [
    "[x[3], x[7], x[0]]  # 리트스에 배열 원소를 직접 지정한 표현"
   ]
  },
  {
   "cell_type": "code",
   "execution_count": 149,
   "metadata": {
    "slideshow": {
     "slide_type": "fragment"
    }
   },
   "outputs": [
    {
     "data": {
      "text/plain": [
       "array([30, 70,  0])"
      ]
     },
     "execution_count": 149,
     "metadata": {},
     "output_type": "execute_result"
    }
   ],
   "source": [
    "ndx = [3, 7, 0]     # 인덱스 리스트\n",
    "x[ndx]              # 인덱스 리스트로 배열 인덱싱"
   ]
  },
  {
   "cell_type": "code",
   "execution_count": 150,
   "metadata": {
    "slideshow": {
     "slide_type": "fragment"
    }
   },
   "outputs": [
    {
     "data": {
      "text/plain": [
       "array([30, 70,  0])"
      ]
     },
     "execution_count": 150,
     "metadata": {},
     "output_type": "execute_result"
    }
   ],
   "source": [
    "x[[3, 7, 0]]        # x[ndx]와 같은 표현 "
   ]
  },
  {
   "cell_type": "markdown",
   "metadata": {
    "slideshow": {
     "slide_type": "fragment"
    }
   },
   "source": [
    "- 리스트에 배열 원소를 직접 지정한 `[x[3], x[7], x[0]]` 표현과  \n",
    "  인덱스 리스트로 배열을 인덱싱한 `x[[3, 7, 0]]` 표현은 동일한 결과를 산출한다.  "
   ]
  },
  {
   "cell_type": "markdown",
   "metadata": {
    "slideshow": {
     "slide_type": "subslide"
    }
   },
   "source": [
    "- 인덱스 배열을 넘파이 다차원 배열로 구성하면,  \n",
    "  넘파이 배열에 대한 인덱싱을 통하여  \n",
    "  다차원 배열처럼 환상적으로 인덱싱이 가능하다.  "
   ]
  },
  {
   "cell_type": "code",
   "execution_count": 151,
   "metadata": {
    "scrolled": true,
    "slideshow": {
     "slide_type": "fragment"
    }
   },
   "outputs": [
    {
     "data": {
      "text/plain": [
       "array([[30, 70],\n",
       "       [ 0, 10]])"
      ]
     },
     "execution_count": 151,
     "metadata": {},
     "output_type": "execute_result"
    }
   ],
   "source": [
    "ndx = np.array([[3, 7],   # 인덱스 배열을 다차원으로 정의\n",
    "                [0, 1]])\n",
    "x[ndx]                    # 인덱스 배열의 모습대로 배열 인덱싱 "
   ]
  },
  {
   "cell_type": "markdown",
   "metadata": {
    "slideshow": {
     "slide_type": "subslide"
    }
   },
   "source": [
    "- 환상적 인덱싱으로 다차원 배열의 특정 원소에 접근할 수 있고,  \n",
    "  이를 일차원 배열처럼 구성할 수 있다. "
   ]
  },
  {
   "cell_type": "code",
   "execution_count": 152,
   "metadata": {
    "scrolled": true,
    "slideshow": {
     "slide_type": "fragment"
    }
   },
   "outputs": [
    {
     "data": {
      "text/plain": [
       "array([[ 0,  1,  2,  3],\n",
       "       [ 4,  5,  6,  7],\n",
       "       [ 8,  9, 10, 11]])"
      ]
     },
     "execution_count": 152,
     "metadata": {},
     "output_type": "execute_result"
    }
   ],
   "source": [
    "x = np.arange(12).reshape((3, 4))  # 3차원 배열 생성\n",
    "x"
   ]
  },
  {
   "cell_type": "code",
   "execution_count": 153,
   "metadata": {
    "slideshow": {
     "slide_type": "fragment"
    }
   },
   "outputs": [
    {
     "data": {
      "text/plain": [
       "array([ 2,  5, 11])"
      ]
     },
     "execution_count": 153,
     "metadata": {},
     "output_type": "execute_result"
    }
   ],
   "source": [
    "row = np.array([0, 1, 2])         # 행 인덱스 배열\n",
    "col = np.array([2, 1, 3])         # 열 인덱스 배열\n",
    "x[row, col]                       # [X[0, 2], X[1, 1], X[2, 3]]"
   ]
  },
  {
   "cell_type": "markdown",
   "metadata": {
    "slideshow": {
     "slide_type": "fragment"
    }
   },
   "source": [
    "- 위 코드는 행과 열에 대한 인덱스 배열을 만들고,  \n",
    "  이를 통하여 2차원 배열의 특정 원소에 접근한 결과이다.  \n",
    "  - 행 인덱스와 열 인덱스에서 대응되는 인덱스 쌍을 가져와서 원 배열에 접근한다.  \n",
    "  - 결과적으로 일차원 배열이 생성되었다. "
   ]
  },
  {
   "cell_type": "markdown",
   "metadata": {
    "slideshow": {
     "slide_type": "subslide"
    }
   },
   "source": [
    "- 환상적 인덱싱으로 2차원 배열을 인덱싱하고 생성할 수 있다:"
   ]
  },
  {
   "cell_type": "code",
   "execution_count": 154,
   "metadata": {
    "scrolled": true,
    "slideshow": {
     "slide_type": "fragment"
    }
   },
   "outputs": [
    {
     "data": {
      "text/plain": [
       "array([[ 2,  1,  3],\n",
       "       [ 6,  5,  7],\n",
       "       [10,  9, 11]])"
      ]
     },
     "execution_count": 154,
     "metadata": {},
     "output_type": "execute_result"
    }
   ],
   "source": [
    "x[row[:, np.newaxis], col]"
   ]
  },
  {
   "cell_type": "markdown",
   "metadata": {
    "slideshow": {
     "slide_type": "fragment"
    }
   },
   "source": [
    "- 위 코드에서  \n",
    "  - 행은 `row[:, np.newaxis]`으로 지정되었다.    \n",
    "  - 열은 `col`로 지정되었다. \n",
    "  - 결과적으로 2차원 배열이 생성되었다. "
   ]
  },
  {
   "cell_type": "markdown",
   "metadata": {
    "slideshow": {
     "slide_type": "subslide"
    }
   },
   "source": [
    "- 환상적 인덱싱과 기존 인덱싱 기법을 혼합 적용하는 결합형 인덱싱이 가능하다. "
   ]
  },
  {
   "cell_type": "code",
   "execution_count": 155,
   "metadata": {
    "scrolled": true,
    "slideshow": {
     "slide_type": "fragment"
    }
   },
   "outputs": [
    {
     "data": {
      "text/plain": [
       "array([[ 0,  1,  2,  3],\n",
       "       [ 4,  5,  6,  7],\n",
       "       [ 8,  9, 10, 11]])"
      ]
     },
     "execution_count": 155,
     "metadata": {},
     "output_type": "execute_result"
    }
   ],
   "source": [
    "x"
   ]
  },
  {
   "cell_type": "markdown",
   "metadata": {
    "slideshow": {
     "slide_type": "subslide"
    }
   },
   "source": [
    "- 환상적 인덱싱과 단순 인덱싱을 결합한 예제이다: "
   ]
  },
  {
   "cell_type": "code",
   "execution_count": 156,
   "metadata": {
    "scrolled": true,
    "slideshow": {
     "slide_type": "fragment"
    }
   },
   "outputs": [
    {
     "data": {
      "text/plain": [
       "array([10,  8,  9])"
      ]
     },
     "execution_count": 156,
     "metadata": {},
     "output_type": "execute_result"
    }
   ],
   "source": [
    "x[2, [2, 0, 1]]  # 2행, [2, 0, 1]열을 인덱싱"
   ]
  },
  {
   "cell_type": "markdown",
   "metadata": {
    "slideshow": {
     "slide_type": "fragment"
    }
   },
   "source": [
    "- 환상적 인덱싱과 슬라이싱을 결합한 예제이다: "
   ]
  },
  {
   "cell_type": "code",
   "execution_count": 157,
   "metadata": {
    "scrolled": true,
    "slideshow": {
     "slide_type": "fragment"
    }
   },
   "outputs": [
    {
     "data": {
      "text/plain": [
       "array([[ 6,  4,  5],\n",
       "       [10,  8,  9]])"
      ]
     },
     "execution_count": 157,
     "metadata": {},
     "output_type": "execute_result"
    }
   ],
   "source": [
    "x[1:, [2, 0, 1]]"
   ]
  },
  {
   "cell_type": "markdown",
   "metadata": {
    "slideshow": {
     "slide_type": "fragment"
    }
   },
   "source": [
    "- 환상적 인덱싱과 논리형 인덱싱을 결합한 예제이다: "
   ]
  },
  {
   "cell_type": "code",
   "execution_count": 158,
   "metadata": {
    "slideshow": {
     "slide_type": "fragment"
    }
   },
   "outputs": [
    {
     "data": {
      "text/plain": [
       "array([[ 0,  2],\n",
       "       [ 4,  6],\n",
       "       [ 8, 10]])"
      ]
     },
     "execution_count": 158,
     "metadata": {},
     "output_type": "execute_result"
    }
   ],
   "source": [
    "mask_col = np.array([1, 0, 1, 0], dtype=bool)  # 열에 적용할 논리형 마스크\n",
    "x[row[:, np.newaxis], mask_col]                # 모든 행, mask_col 열"
   ]
  },
  {
   "cell_type": "markdown",
   "metadata": {
    "slideshow": {
     "slide_type": "fragment"
    }
   },
   "source": [
    "수치형/논리형 인덱싱과 환상적 인덱싱까지 공부했고, 이제 넘파이 함수를 공부하자\n",
    "\n",
    "<div style=\"page-break-after: always;\"></div> "
   ]
  },
  {
   "cell_type": "markdown",
   "metadata": {
    "slideshow": {
     "slide_type": "slide"
    }
   },
   "source": [
    "## 5. 넘파이 함수"
   ]
  },
  {
   "cell_type": "markdown",
   "metadata": {
    "slideshow": {
     "slide_type": "slide"
    }
   },
   "source": [
    "### 5.1 넘파이 함수 활용"
   ]
  },
  {
   "cell_type": "markdown",
   "metadata": {
    "slideshow": {
     "slide_type": "fragment"
    }
   },
   "source": [
    "- 넘파이는 수학적 연산을 처리하는 (방대한 규모의) 내장 함수를 제공한다.  \n",
    "    - 넘파이 내장 함수를 써서 거의 모든 종류의 수학적 연산이 가능하다. \n",
    "    - 두 변의 길이가 각각 3m와 4m인 직각 삼각형의 빗변 길이를 구하는 예제를 살펴보자. \n",
    "\n",
    "|![그림 7. 직각삼각형 빗변 길이 구하기](https://user-images.githubusercontent.com/10287629/126061821-fc14f3d0-f0e9-4575-a8b1-26f663ca3d07.png)<br>그림 7. 직각삼각형 빗변 길이 구하기|\n",
    "|:---|"
   ]
  },
  {
   "cell_type": "code",
   "execution_count": 159,
   "metadata": {
    "slideshow": {
     "slide_type": "subslide"
    }
   },
   "outputs": [],
   "source": [
    "sides = np.array([3, 4])  # 직각삼각형의 두 변 길이"
   ]
  },
  {
   "cell_type": "markdown",
   "metadata": {
    "slideshow": {
     "slide_type": "fragment"
    }
   },
   "source": [
    "- 다음과 같은 피타고라스 정리에 의해서 이 문제를 해결해보자. \n",
    "\n",
    "![](../img/chapter5/pythagoras.png)"
   ]
  },
  {
   "cell_type": "code",
   "execution_count": 160,
   "metadata": {
    "slideshow": {
     "slide_type": "fragment"
    }
   },
   "outputs": [
    {
     "data": {
      "text/plain": [
       "5.0"
      ]
     },
     "execution_count": 160,
     "metadata": {},
     "output_type": "execute_result"
    }
   ],
   "source": [
    "np.sqrt(np.sum([\n",
    "    np.power(sides[0], 2), \n",
    "    np.power(sides[1], 2)   \n",
    "]))                        # 피타고라스 공식을 적용한 (넘파이 배열답지 않은) 코드"
   ]
  },
  {
   "cell_type": "markdown",
   "metadata": {
    "slideshow": {
     "slide_type": "subslide"
    }
   },
   "source": [
    "- 넘파이 배열을 활용한다는 취지에서, 벡터화된 연산을 적용한 새로운 코드는 다음과 같다.  "
   ]
  },
  {
   "cell_type": "code",
   "execution_count": 161,
   "metadata": {
    "slideshow": {
     "slide_type": "fragment"
    }
   },
   "outputs": [
    {
     "data": {
      "text/plain": [
       "5.0"
      ]
     },
     "execution_count": 161,
     "metadata": {},
     "output_type": "execute_result"
    }
   ],
   "source": [
    "(sides ** 2).sum() ** 0.5  # 배열 원소 각각을 제곱하여, 합을 구하고, 이 결과값의 0.5 제곱을 구함"
   ]
  },
  {
   "cell_type": "markdown",
   "metadata": {
    "slideshow": {
     "slide_type": "subslide"
    }
   },
   "source": [
    "- 넘파이 내장 함수에서 제공하는 기능을 직접 적용한 코드는 다음과 같다. "
   ]
  },
  {
   "cell_type": "code",
   "execution_count": 162,
   "metadata": {
    "slideshow": {
     "slide_type": "fragment"
    }
   },
   "outputs": [
    {
     "data": {
      "text/plain": [
       "5.0"
      ]
     },
     "execution_count": 162,
     "metadata": {},
     "output_type": "execute_result"
    }
   ],
   "source": [
    "np.linalg.norm(sides)  # linalg(linear algebra, 선형대수학)에서 제공하는 norm() 메소드"
   ]
  },
  {
   "cell_type": "markdown",
   "metadata": {
    "slideshow": {
     "slide_type": "fragment"
    }
   },
   "source": [
    "- `norm()`에서 뜻하는 놈(norm)에 대해서 [이곳](https://bskyvision.com/825)을 참고하면,  \n",
    "  우리가 적용한 메소드가 \"*L<sub>2</sub> norm*\" 또는 \"*유클리드 놈*\"에 해당한다는 것을 알 수 있다. "
   ]
  },
  {
   "cell_type": "markdown",
   "metadata": {
    "slideshow": {
     "slide_type": "subslide"
    }
   },
   "source": [
    "- `np.hypot()`는 직각삼각형의 빗변 길이를 구하는 넘파이 메소드이다.   "
   ]
  },
  {
   "cell_type": "code",
   "execution_count": 163,
   "metadata": {
    "slideshow": {
     "slide_type": "fragment"
    }
   },
   "outputs": [
    {
     "data": {
      "text/plain": [
       "5.0"
      ]
     },
     "execution_count": 163,
     "metadata": {},
     "output_type": "execute_result"
    }
   ],
   "source": [
    "np.hypot(*sides)  # 넘파이가 제공하는 직각삼각형의 빗변 길이를 구하는 메소드"
   ]
  },
  {
   "cell_type": "markdown",
   "metadata": {
    "slideshow": {
     "slide_type": "fragment"
    }
   },
   "source": [
    "- 직전 코드에서 매개변수 이름 `sides` 앞에 `*`를 붙인 형태에 주목하자. \n",
    "    - `*`는 몇 개가 될지 모르는 다수 데이터를 매개변수로 전달하고 싶을 때 사용하는 지시어이다. \n",
    "    - 개수가 확정되지 않은 다수 데이터를 리스트 등으로 한꺼번에 전달하고,  \n",
    "      이를 단일 매개변수로 받는 방법이다.\n",
    "    - 매개변수에 등장하는 `*sides`라는 표현에서,  \n",
    "      `*`를 *해체(unpack) 지시어*라고 부르는데,  \n",
    "      `sides`처럼 (리스트 또는 튜플로)  \n",
    "      *통합(pack)된 집합체의 원소를 개별적으로 해체(unpack)*하라는 표시이다.   \n",
    "    - 다음 예제 코드를 참고하라. "
   ]
  },
  {
   "cell_type": "code",
   "execution_count": 164,
   "metadata": {
    "scrolled": true,
    "slideshow": {
     "slide_type": "subslide"
    }
   },
   "outputs": [
    {
     "name": "stdout",
     "output_type": "stream",
     "text": [
      "고선지,  강감찬,  이순신\n",
      "황진이,  성춘향\n",
      "도깨비\n"
     ]
    }
   ],
   "source": [
    "def names(*args):\n",
    "    for name in args[:-1]:             # 마지막 원소 직전까지 반복\n",
    "        print(f\"{name}\", end=\",  \")    # end 인자로 쉼표만 찍고, 줄바꿈을 방지\n",
    "    print(f\"{args[-1]}\")               # 반복을 종료하면, 마지막 원소를 출력하고 줄바꿈 처리\n",
    "\n",
    "          \n",
    "names(\"고선지\", \"강감찬\", \"이순신\")\n",
    "names(\"황진이\", \"성춘향\")\n",
    "names(\"도깨비\")"
   ]
  },
  {
   "cell_type": "markdown",
   "metadata": {
    "slideshow": {
     "slide_type": "subslide"
    }
   },
   "source": [
    "- 파이썬에서 `**kwargs`라는 매개변수를 쓸 수도 있다. \n",
    "  - 함수에 `key=value` 형태로 매개변수를 불특정 다수로 전달할 때 사용한다.\n",
    "  - 아래 코드를 보라."
   ]
  },
  {
   "cell_type": "code",
   "execution_count": 165,
   "metadata": {
    "slideshow": {
     "slide_type": "fragment"
    }
   },
   "outputs": [
    {
     "name": "stdout",
     "output_type": "stream",
     "text": [
      "황진이님은 여성입니다.\n",
      "\n",
      "서화담님은 남성입니다.\n",
      "황진이님은 여성입니다.\n",
      "\n",
      "서화담님은 남성입니다.\n",
      "황진이님은 여성입니다.\n",
      "나학생님은 학생입니다.\n",
      "김사원님은 회사원입니다.\n",
      "\n"
     ]
    }
   ],
   "source": [
    "def keyed_name(**kwargs):  # 함수 정의\n",
    "    for key, value in kwargs.items():\n",
    "        print(f\"{value}님은 {key}입니다.\")\n",
    "    print()\n",
    "\n",
    "keyed_name(여성='황진이')\n",
    "keyed_name(남성='서화담', 여성='황진이')\n",
    "keyed_name(남성='서화담', 여성='황진이', 학생='나학생', 회사원='김사원')"
   ]
  },
  {
   "cell_type": "markdown",
   "metadata": {
    "slideshow": {
     "slide_type": "fragment"
    }
   },
   "source": [
    "- 넘파이 함수를 공부했다. 이제 벡터화 개념을 공부하자.\n",
    "\n",
    "<div style=\"page-break-after: always;\">"
   ]
  },
  {
   "cell_type": "markdown",
   "metadata": {
    "slideshow": {
     "slide_type": "slide"
    }
   },
   "source": [
    "### 5.2 벡터화"
   ]
  },
  {
   "cell_type": "markdown",
   "metadata": {
    "slideshow": {
     "slide_type": "fragment"
    }
   },
   "source": [
    "- 넓은 의미에서, *벡터화(vectorizing)*는 <br>\n",
    "  연산 수행 과정에서 최적화된 C 코드를 활용하는 것에 대한 통칭이다. \n",
    "- 짧게 설명하자면,  \n",
    "  넘파이 배열은 (동일한 자료형만을 저장할 수 있는) 단일형 집합체이므로,  \n",
    "  연산을 수행하기 전에, 연산의 수행 가능성을 사전 점검할 필요가 없다.  \n",
    "  이러한 점을 활용하여 연산 속도를 크게 향상할 수 있다.   \n",
    "- 벡터화에 대한 자세한 (국문) 설명은 [여기](https://datascienceschool.net/01%20python/03.03%20%EB%B0%B0%EC%97%B4%EC%9D%98%20%EC%97%B0%EC%82%B0.html)에서, (영문) 설명은 [여기](https://www.pythonlikeyoumeanit.com/Module3_IntroducingNumpy/VectorizedOperations.html)에서 읽을 수 있다. \n",
    "- 넘파이에서 대부분의 연산은 벡터화되어 처리된다는 점을 기억하라.  \n",
    "  따라서 어떤 작업이든 **배열 수준에서 처리**하려고 노력하라.  \n",
    "  원소 수준에서 반복 논리로 처리하려는 접근 방식은 넘파이의 벡터화 장점을 포기하게 되는 것이며,  \n",
    "  지양해야 한다."
   ]
  },
  {
   "cell_type": "code",
   "execution_count": 166,
   "metadata": {
    "slideshow": {
     "slide_type": "subslide"
    }
   },
   "outputs": [
    {
     "data": {
      "text/plain": [
       "array([ 0,  1,  4,  9, 16])"
      ]
     },
     "execution_count": 166,
     "metadata": {},
     "output_type": "execute_result"
    }
   ],
   "source": [
    "# 이런 식으로 코드를 작성하지 마라!\n",
    "array = np.arange(5)\n",
    "for i, element in enumerate(array):  # 파이썬 리스트처럼 직접 반복 처리되지 않음\n",
    "    array[i] = element ** 2\n",
    "\n",
    "array"
   ]
  },
  {
   "cell_type": "code",
   "execution_count": 167,
   "metadata": {
    "slideshow": {
     "slide_type": "fragment"
    }
   },
   "outputs": [
    {
     "data": {
      "text/plain": [
       "array([ 0,  1,  4,  9, 16])"
      ]
     },
     "execution_count": 167,
     "metadata": {},
     "output_type": "execute_result"
    }
   ],
   "source": [
    "# 이런 식으로 코드를 작성해야 벡터화 장점을 누릴 수 있다!\n",
    "array = np.arange(5)\n",
    "array **= 2 \n",
    "\n",
    "array"
   ]
  },
  {
   "cell_type": "markdown",
   "metadata": {
    "slideshow": {
     "slide_type": "subslide"
    }
   },
   "source": [
    "- 두 처리 방식의 코드 수행 시간을 비교 측정해보자."
   ]
  },
  {
   "cell_type": "code",
   "execution_count": 168,
   "metadata": {
    "slideshow": {
     "slide_type": "fragment"
    }
   },
   "outputs": [
    {
     "name": "stdout",
     "output_type": "stream",
     "text": [
      "벡터화 방식이 반복 방식보다 4.06배 빠르다.\n"
     ]
    }
   ],
   "source": [
    "# 반복 방식\n",
    "array = np.array(range(5))\n",
    "time_loop = %timeit -q -o -r 3 for i, element in enumerate(array): array[i] = element ** 2\n",
    "\n",
    "# 벡터화 방식\n",
    "array = np.array(range(5))\n",
    "time_vect = %timeit -q -o -r 3 array ** 2\n",
    "print(f\"벡터화 방식이 반복 방식보다 {time_loop.average / time_vect.average:.2f}배 빠르다.\")\n"
   ]
  },
  {
   "cell_type": "markdown",
   "metadata": {
    "slideshow": {
     "slide_type": "subslide"
    }
   },
   "source": [
    "- 벡터화 공부를 끝으로 넘파이 공부를 마친다.  \n",
    "- 다음 장에서는 **판다스** 라이브러리 공부를 통하여  \n",
    "  데이터 분석의 세상으로 한 걸음 더 들어가 보자. "
   ]
  }
 ],
 "metadata": {
  "celltoolbar": "Slideshow",
  "interpreter": {
   "hash": "6407b87c2d96350ceea2422ba828a2f6c03b3557c06aa8fa9ff406e31dc3ef4f"
  },
  "kernelspec": {
   "display_name": "Python 3",
   "language": "python",
   "name": "python3"
  },
  "language_info": {
   "codemirror_mode": {
    "name": "ipython",
    "version": 3
   },
   "file_extension": ".py",
   "mimetype": "text/x-python",
   "name": "python",
   "nbconvert_exporter": "python",
   "pygments_lexer": "ipython3",
   "version": "3.8.11"
  },
  "latex_envs": {
   "LaTeX_envs_menu_present": true,
   "autoclose": false,
   "autocomplete": true,
   "bibliofile": "biblio.bib",
   "cite_by": "apalike",
   "current_citInitial": 1,
   "eqLabelWithNumbers": true,
   "eqNumInitial": 1,
   "hotkeys": {
    "equation": "Ctrl-E",
    "itemize": "Ctrl-I"
   },
   "labels_anchors": false,
   "latex_user_defs": false,
   "report_style_numbering": false,
   "user_envs_cfg": false
  },
  "toc": {
   "base_numbering": 1,
   "nav_menu": {},
   "number_sections": false,
   "sideBar": true,
   "skip_h1_title": true,
   "title_cell": "Table of Contents",
   "title_sidebar": "Contents",
   "toc_cell": false,
   "toc_position": {
    "height": "calc(100% - 180px)",
    "left": "10px",
    "top": "150px",
    "width": "178.797px"
   },
   "toc_section_display": true,
   "toc_window_display": true
  },
  "varInspector": {
   "cols": {
    "lenName": 16,
    "lenType": 16,
    "lenVar": 40
   },
   "kernels_config": {
    "python": {
     "delete_cmd_postfix": "",
     "delete_cmd_prefix": "del ",
     "library": "var_list.py",
     "varRefreshCmd": "print(var_dic_list())"
    },
    "r": {
     "delete_cmd_postfix": ") ",
     "delete_cmd_prefix": "rm(",
     "library": "var_list.r",
     "varRefreshCmd": "cat(var_dic_list()) "
    }
   },
   "types_to_exclude": [
    "module",
    "function",
    "builtin_function_or_method",
    "instance",
    "_Feature"
   ],
   "window_display": false
  }
 },
 "nbformat": 4,
 "nbformat_minor": 4
}
