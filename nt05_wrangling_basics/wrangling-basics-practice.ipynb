{
 "cells": [
  {
   "cell_type": "markdown",
   "metadata": {
    "slideshow": {
     "slide_type": "slide"
    }
   },
   "source": [
    "# 데이터 정제"
   ]
  },
  {
   "cell_type": "markdown",
   "metadata": {
    "slideshow": {
     "slide_type": "slide"
    }
   },
   "source": [
    "## 연습문제"
   ]
  },
  {
   "cell_type": "markdown",
   "metadata": {
    "slideshow": {
     "slide_type": "subslide"
    }
   },
   "source": [
    "### 1."
   ]
  },
  {
   "cell_type": "markdown",
   "metadata": {
    "slideshow": {
     "slide_type": "fragment"
    }
   },
   "source": [
    "데이터 랭글링에 관한 연습 문제에서는 지난 장의 연습문제에서 다루었던 식품의 탄소 발자국에 대한 데이터셋을 다시 살펴본다.  \n",
    "이 데이터셋은 [Kasia Kulma](https://r-tastic.co.uk/post/from-messy-to-tidy/)가 [R's Tidy Tuesday project](https://github.com/rfordatascience/tidytuesday)에 제시한 것이다. \n",
    "\n",
    "판다스를 `pd`라는 별칭으로 수입하는 코드부터 시작하자. "
   ]
  },
  {
   "cell_type": "code",
   "execution_count": 1,
   "metadata": {
    "pycharm": {
     "name": "#%%\n"
    },
    "slideshow": {
     "slide_type": "fragment"
    }
   },
   "outputs": [],
   "source": [
    "# 여기에 답안 코드를 작성하세요."
   ]
  },
  {
   "cell_type": "markdown",
   "metadata": {
    "slideshow": {
     "slide_type": "subslide"
    }
   },
   "source": [
    "### 2."
   ]
  },
  {
   "cell_type": "markdown",
   "metadata": {
    "slideshow": {
     "slide_type": "fragment"
    }
   },
   "source": [
    "지난 장의 연습문제에서 보았듯이, 데이터셋에는 다음과 같은 열이 존재한다:\n",
    "\n",
    "|열      |설명 |\n",
    "|:-------------|:-----------|\n",
    "|country       | 국가 이름 |\n",
    "|food_category | 식품 유형 |\n",
    "|consumption   | 일인당 연간 식품 소비량 (kg/person/year) |\n",
    "|co2_emmission | 일인당 연간 이산화탄소 배출량 (Kg/person/year) |\n",
    "\n",
    "\n",
    "데이터셋을 아래 url에서 `df`라는 데이터프레임으로 읽어들이자:\n",
    "url: <https://raw.githubusercontent.com/rfordatascience/tidytuesday/master/data/2020/2020-02-18/food_consumption.csv>"
   ]
  },
  {
   "cell_type": "code",
   "execution_count": 2,
   "metadata": {
    "pycharm": {
     "name": "#%%\n"
    },
    "slideshow": {
     "slide_type": "fragment"
    }
   },
   "outputs": [],
   "source": [
    "# 여기에 답안 코드를 작성하세요."
   ]
  },
  {
   "cell_type": "markdown",
   "metadata": {
    "slideshow": {
     "slide_type": "subslide"
    }
   },
   "source": [
    "### 3."
   ]
  },
  {
   "cell_type": "markdown",
   "metadata": {
    "slideshow": {
     "slide_type": "fragment"
    }
   },
   "source": [
    "일인당 연간 식품 소비량이 가장 많은 국가와 해당 국가의 소비량을 함께 확인하라. "
   ]
  },
  {
   "cell_type": "code",
   "execution_count": 3,
   "metadata": {
    "pycharm": {
     "name": "#%%\n"
    },
    "slideshow": {
     "slide_type": "fragment"
    }
   },
   "outputs": [],
   "source": [
    "# 여기에 답안 코드를 작성하세요."
   ]
  },
  {
   "cell_type": "markdown",
   "metadata": {
    "slideshow": {
     "slide_type": "subslide"
    }
   },
   "source": [
    "### 4."
   ]
  },
  {
   "cell_type": "markdown",
   "metadata": {
    "slideshow": {
     "slide_type": "fragment"
    }
   },
   "source": [
    "직전 문제의 정답에 해당하는 국가에 대하여, 소비량이 가장 큰 비중을 차지하는 식품 유형을 (국가, 식품 유형, 소비량) 형태로 확인하라. "
   ]
  },
  {
   "cell_type": "code",
   "execution_count": 4,
   "metadata": {
    "slideshow": {
     "slide_type": "fragment"
    }
   },
   "outputs": [],
   "source": [
    "# 여기에 답안 코드를 작성하세요."
   ]
  },
  {
   "cell_type": "markdown",
   "metadata": {
    "slideshow": {
     "slide_type": "subslide"
    }
   },
   "source": [
    "### 5."
   ]
  },
  {
   "cell_type": "markdown",
   "metadata": {
    "slideshow": {
     "slide_type": "fragment"
    }
   },
   "source": [
    "일인당 연간 이산화탄소 배출량(\"co2_emmission\")이 가장 많은 국가와 해당 국가의 배출량을 함께 확인하라. "
   ]
  },
  {
   "cell_type": "code",
   "execution_count": 5,
   "metadata": {
    "slideshow": {
     "slide_type": "fragment"
    }
   },
   "outputs": [],
   "source": [
    "# 여기에 답안 코드를 작성하세요."
   ]
  },
  {
   "cell_type": "markdown",
   "metadata": {
    "slideshow": {
     "slide_type": "subslide"
    }
   },
   "source": [
    "### 6."
   ]
  },
  {
   "cell_type": "markdown",
   "metadata": {
    "slideshow": {
     "slide_type": "fragment"
    }
   },
   "source": [
    "직전 문제의 정답에 해당하는 국가에 대하여, 이산화탄소 배출량이 가장 큰 식품 유형을 (국가, 식품 유형, 배출량) 형태로 확인하라.   "
   ]
  },
  {
   "cell_type": "code",
   "execution_count": 6,
   "metadata": {
    "pycharm": {
     "name": "#%%\n"
    },
    "slideshow": {
     "slide_type": "fragment"
    }
   },
   "outputs": [],
   "source": [
    "# 여기에 답안 코드를 작성하세요. "
   ]
  },
  {
   "cell_type": "markdown",
   "metadata": {
    "slideshow": {
     "slide_type": "subslide"
    }
   },
   "source": [
    "### 7."
   ]
  },
  {
   "cell_type": "markdown",
   "metadata": {
    "slideshow": {
     "slide_type": "fragment"
    }
   },
   "source": [
    "전 세계적으로 일인당 연간 이산화탄소 배출량이 가장 큰 식품 유형을 배출량과 함께 확인하라."
   ]
  },
  {
   "cell_type": "code",
   "execution_count": 7,
   "metadata": {
    "pycharm": {
     "name": "#%%\n"
    },
    "slideshow": {
     "slide_type": "fragment"
    }
   },
   "outputs": [],
   "source": [
    "# 여기에 답안 코드를 작성하세요."
   ]
  },
  {
   "cell_type": "markdown",
   "metadata": {
    "slideshow": {
     "slide_type": "subslide"
    }
   },
   "source": [
    "### 8."
   ]
  },
  {
   "cell_type": "markdown",
   "metadata": {
    "slideshow": {
     "slide_type": "fragment"
    }
   },
   "source": [
    "전 세계적으로 일인당 연간 소비량이 가장 많은 식품과 가장 작은 식품 유형을 소비량과 함께 확인하라. "
   ]
  },
  {
   "cell_type": "code",
   "execution_count": 8,
   "metadata": {
    "pycharm": {
     "name": "#%%\n"
    },
    "slideshow": {
     "slide_type": "fragment"
    }
   },
   "outputs": [],
   "source": [
    "# 여기에 답안 코드를 작성하세요."
   ]
  },
  {
   "cell_type": "markdown",
   "metadata": {
    "slideshow": {
     "slide_type": "subslide"
    }
   },
   "source": [
    "### 9."
   ]
  },
  {
   "cell_type": "markdown",
   "metadata": {
    "slideshow": {
     "slide_type": "fragment"
    }
   },
   "source": [
    "`food_category` 열에 대하여 피벗을 적용하여 넓은 데이터셋으로 원본을 변경하라.  \n",
    "피벗 연산에서 사용할 values 인자를 지정하기가 애매할 것이다.  \n",
    "이 인자에 대한 지정을 아예 생략해보라.  \n",
    "피벗 결과에서 넓게 구성되는 열이 다단계를 형성하고 있을 것이다. "
   ]
  },
  {
   "cell_type": "code",
   "execution_count": 9,
   "metadata": {
    "pycharm": {
     "name": "#%%\n"
    },
    "slideshow": {
     "slide_type": "fragment"
    }
   },
   "outputs": [],
   "source": [
    "# 여기에 답안 코드를 작성하세요."
   ]
  },
  {
   "cell_type": "markdown",
   "metadata": {
    "slideshow": {
     "slide_type": "subslide"
    }
   },
   "source": [
    "### 10."
   ]
  },
  {
   "cell_type": "markdown",
   "metadata": {
    "slideshow": {
     "slide_type": "fragment"
    }
   },
   "source": [
    "이제 데이터셋이 넓은 모양으로 변경되었다.  \n",
    "앞서 5번 문제에서 확인하였던 사항을 넓은 모양으로 변경된 데이터셋에서 다시 확인하고자 한다:  \n",
    "\n",
    "일인당 연간 이산화탄소 배출량(\"co2_emmission\")이 가장 많은 국가와 해당 국가의 배출량을 현재의 데이터셋에서 확인하라.  \n",
    "동일한 데이터 분석을 수행하는 방법이 현재의 데이터 형식(길거나 넓은 모양)에 따라서 달라질 수 있다는 점을 인식하기 바란다.   \n",
    "개인적으로는 긴 모양의 데이터셋을 선호하는 편이다.  \n",
    "시각화 라이브러리들의 대부분은 긴 모양의 데이터셋에서 잘 작동된다는 점도 기억하기 바란다.  \n",
    "하지만 현재 문제는 넓은 모양의 데이터셋에서 앞서 5번 문제를 해결해보라는 것이다.  \n",
    "\n",
    "힌트:  \n",
    "현재 넓어진 데이터프레임에서 열 인덱스는 다중-인덱스 또는 \"계층적 인덱스\"(hieracrchical index) 형태로 구성되어 있다.   \n",
    "예를 들어서 바깥쪽(또는 상위) 열 인덱스에는 \"consumption\"과 \"co2_emmission\"이 존재하고,  \n",
    "안쪽(또는 하위) 열 인덱스에는 식품 유형에 따라 열이 구분되어 있다.  \n",
    "`df['co2_emmission']`와 같은 문법을 써서 다중-인덱스 열의 바깥쪽(또는 상위) 인덱스에 접근할 수 있다.  \n",
    "안쪽(또는 하위) 인덱스에 접근하고자 한다면, `df[(\"consumption\", \"Beef\")]`와 같이 튜플을 써야 한다.  \n",
    "다중-인덱스(또는 계층적 인덱스)에 대해서는 이어지는 `데이터 정제 및 분석 응용` 장에서 자세히 공부하자.   \n"
   ]
  }
 ],
 "metadata": {
  "celltoolbar": "Slideshow",
  "interpreter": {
   "hash": "c4b96a0da8f6d8958919ce53b082388bce4195705a806ea53e1d7a107cfce384"
  },
  "kernelspec": {
   "display_name": "Python 3",
   "language": "python",
   "name": "python3"
  },
  "language_info": {
   "codemirror_mode": {
    "name": "ipython",
    "version": 3
   },
   "file_extension": ".py",
   "mimetype": "text/x-python",
   "name": "python",
   "nbconvert_exporter": "python",
   "pygments_lexer": "ipython3",
   "version": "3.8.11"
  },
  "latex_envs": {
   "LaTeX_envs_menu_present": true,
   "autoclose": false,
   "autocomplete": true,
   "bibliofile": "biblio.bib",
   "cite_by": "apalike",
   "current_citInitial": 1,
   "eqLabelWithNumbers": true,
   "eqNumInitial": 1,
   "hotkeys": {
    "equation": "Ctrl-E",
    "itemize": "Ctrl-I"
   },
   "labels_anchors": false,
   "latex_user_defs": false,
   "report_style_numbering": false,
   "user_envs_cfg": false
  },
  "toc": {
   "base_numbering": 1,
   "nav_menu": {},
   "number_sections": false,
   "sideBar": true,
   "skip_h1_title": true,
   "title_cell": "Table of Contents",
   "title_sidebar": "Contents",
   "toc_cell": false,
   "toc_position": {},
   "toc_section_display": true,
   "toc_window_display": false
  },
  "varInspector": {
   "cols": {
    "lenName": 16,
    "lenType": 16,
    "lenVar": 40
   },
   "kernels_config": {
    "python": {
     "delete_cmd_postfix": "",
     "delete_cmd_prefix": "del ",
     "library": "var_list.py",
     "varRefreshCmd": "print(var_dic_list())"
    },
    "r": {
     "delete_cmd_postfix": ") ",
     "delete_cmd_prefix": "rm(",
     "library": "var_list.r",
     "varRefreshCmd": "cat(var_dic_list()) "
    }
   },
   "types_to_exclude": [
    "module",
    "function",
    "builtin_function_or_method",
    "instance",
    "_Feature"
   ],
   "window_display": false
  }
 },
 "nbformat": 4,
 "nbformat_minor": 4
}
