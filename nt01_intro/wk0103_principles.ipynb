{
 "cells": [
  {
   "cell_type": "markdown",
   "metadata": {
    "pycharm": {
     "name": "#%% md\n"
    },
    "slideshow": {
     "slide_type": "slide"
    }
   },
   "source": [
    "# 데이터 시각화 원리"
   ]
  },
  {
   "cell_type": "markdown",
   "metadata": {
    "pycharm": {
     "name": "#%% md\n"
    },
    "slideshow": {
     "slide_type": "slide"
    }
   },
   "source": [
    "## 1. 차트 유형의 다양성"
   ]
  },
  {
   "cell_type": "markdown",
   "metadata": {
    "pycharm": {
     "name": "#%% md\n"
    },
    "slideshow": {
     "slide_type": "subslide"
    }
   },
   "source": [
    "[![wk01_dv_types](https://user-images.githubusercontent.com/10287629/88145797-f2f99f80-cc35-11ea-812f-67e72191dc80.png)](https://www.boostlabs.com/10-types-of-data-visualization-tools/)"
   ]
  },
  {
   "cell_type": "markdown",
   "metadata": {
    "pycharm": {
     "name": "#%% md\n"
    },
    "slideshow": {
     "slide_type": "subslide"
    }
   },
   "source": [
    "  - line chart, kagi-chart\n",
    "  - bar chart, multi-set bar chart, stacked bar graph, marimekko chart, population pyramid, radial bar chart, radial column chart\n",
    "  - area graph, proportional area chart, stacked area graph\n",
    "  - box & whisker chart, violin plot, bullet graph, candle stick chart, open-high-low-close chart\n",
    "  - histogram, density chart\n",
    "  - scatter plot\n",
    "  - pie chart, donut chart\n",
    "  - word cloud\n",
    "  - bubble chart\n",
    "  - dot map, bubble map, choropleth map, flow map"
   ]
  },
  {
   "cell_type": "markdown",
   "metadata": {
    "pycharm": {
     "name": "#%% md\n"
    },
    "slideshow": {
     "slide_type": "slide"
    }
   },
   "source": [
    "## 2. 데이터 시각화 유형 12 종\n",
    "  "
   ]
  },
  {
   "cell_type": "markdown",
   "metadata": {
    "pycharm": {
     "name": "#%% md\n"
    },
    "slideshow": {
     "slide_type": "subslide"
    }
   },
   "source": [
    "1. number chart\n",
    "       - 특정 KPI 변동을 보여줄 때\n",
    "       - 많은 종류를 나열하면 곤란\n",
    "       - 등락의 비교 기준이 동일해야 함\n",
    "    ![](https://www.datapine.com/blog/wp-content/uploads/2015/05/number-chart-with-trend-indicator.png)\n",
    "  "
   ]
  },
  {
   "cell_type": "markdown",
   "metadata": {
    "pycharm": {
     "name": "#%% md\n"
    },
    "slideshow": {
     "slide_type": "subslide"
    }
   },
   "source": [
    "2. line chart\n",
    "       - 시간에 따른 추세성, 경향성, 등락성을 보여줄 때\n",
    "       - 너무 많은 선(변수)은 곤란\n",
    "       - y 축 최대값이 데이터 최대값과 근접하도록\n",
    "    ![](https://www.datapine.com/blog/wp-content/uploads/2015/05/line-chart-amount-of-sales-by-payment-method.png)"
   ]
  },
  {
   "cell_type": "markdown",
   "metadata": {
    "pycharm": {
     "name": "#%% md\n"
    },
    "slideshow": {
     "slide_type": "subslide"
    }
   },
   "source": [
    "- 이중 y 축 (범례에 주목)\n",
    "![](https://www.datapine.com/blog/wp-content/uploads/2015/05/combined-line-chart-and-column-chart.png)\n",
    "  "
   ]
  },
  {
   "cell_type": "markdown",
   "metadata": {
    "pycharm": {
     "name": "#%% md\n"
    },
    "slideshow": {
     "slide_type": "subslide"
    }
   },
   "source": [
    "3. (choropleth) map\n",
    "        - choropleth map: 지리적 데이터에서 특정 값의 단계를 색상으로 구분하여 표시\n",
    "        - bubble map: 특정 위치에 크기로 구분한 원을 표시\n",
    "        - 지도 위에 매우 많은 점을 찍어 놓은 형식은 비추\n",
    "    ![](https://www.datapine.com/blog/wp-content/uploads/2017/02/visualization-map-datapine.png)\n",
    "  "
   ]
  },
  {
   "cell_type": "markdown",
   "metadata": {
    "pycharm": {
     "name": "#%% md\n"
    },
    "slideshow": {
     "slide_type": "subslide"
    }
   },
   "source": [
    "4. waterfall chart\n",
    "        - 정적이지만, 시간 흐름이나, 진행 단계에 따른 증감을 구분하여 표시할 때\n",
    "        - 정적인 데이터는 waterfall chart가 적당하지만,\n",
    "          동적인 데이터는 stacked bar chart가 적당함\n",
    "    ![](https://www.statisticshowto.com/wp-content/uploads/2018/01/waterfall-2.png)      \n",
    "    ![](https://www.datapine.com/blog/wp-content/uploads/2019/04/waterfall-chart-example.png)\n",
    "  "
   ]
  },
  {
   "cell_type": "markdown",
   "metadata": {
    "pycharm": {
     "name": "#%% md\n"
    },
    "slideshow": {
     "slide_type": "subslide"
    }
   },
   "source": [
    "5. bar graph"
   ]
  },
  {
   "cell_type": "markdown",
   "metadata": {
    "pycharm": {
     "name": "#%% md\n"
    },
    "slideshow": {
     "slide_type": "subslide"
    }
   },
   "source": [
    "- horizontal bar graph\n",
    "          순위 비교에 적당함, 데이터 레이블이 긴 경우에도 유용함\n",
    "          항목의 순서에 의미가 있도록\n",
    "    ![](https://www.datapine.com/blog/wp-content/uploads/2015/05/bar-chart-top-5-products-on-sales.png)"
   ]
  },
  {
   "cell_type": "markdown",
   "metadata": {
    "pycharm": {
     "name": "#%% md\n"
    },
    "slideshow": {
     "slide_type": "subslide"
    }
   },
   "source": [
    "- column graph\n",
    "          시간 순서 데이터를 표현하는 표준적 방법\n",
    "          범주에 따른 데이터를 비교하는 표준적 방법\n",
    "          국가별, 판매 채널별 판매량\n",
    "    ![](https://www.datapine.com/blog/wp-content/uploads/2015/05/column-chart-amount-of-sales-by-country-and-channel.png)"
   ]
  },
  {
   "cell_type": "markdown",
   "metadata": {
    "pycharm": {
     "name": "#%% md\n"
    },
    "slideshow": {
     "slide_type": "subslide"
    }
   },
   "source": [
    "- stacked column chart\n",
    "          전체-부분 관련성을 표시하는 방법\n",
    "          합계값 자체보다는 상대적 비중(백분율)을 비교하여 표시\n",
    "          단일 항목에 대해서라면 pie chart로 비중을 표시해야 함\n",
    "          항목이 너무 많아지면, 막대가 얇아져서 어색해짐\n",
    "    ![](https://www.datapine.com/blog/wp-content/uploads/2015/05/stacked-column-chart-age-of-new-customer-by-quarter.png)\n",
    " "
   ]
  },
  {
   "cell_type": "markdown",
   "metadata": {
    "pycharm": {
     "name": "#%% md\n"
    },
    "slideshow": {
     "slide_type": "subslide"
    }
   },
   "source": [
    " 6. pie chart\n",
    "       - 조각별 비중을 합한 전체가 100%가 될 때\n",
    "       - 비중 수치의 정밀도가 문제된다면 stacked bar chart가 좋음\n",
    "       - 압도적 비중인 항목을 강조할 때\n",
    "       - 경향성 및 추세성을 강조할 때는 적합하지 않음\n",
    "    ![](https://www.datapine.com/blog/wp-content/uploads/2017/02/pie-chart-example-.png)\n",
    " "
   ]
  },
  {
   "cell_type": "markdown",
   "metadata": {
    "pycharm": {
     "name": "#%% md\n"
    },
    "slideshow": {
     "slide_type": "subslide"
    }
   },
   "source": [
    " 7. guage chart\n",
    "       - dial chart, speedometer chart\n",
    "       - 바늘과 색상으로 구분하는 구역\n",
    "       - 단일 수치로 표현되는 핵심 경영 지표를 표시할 때\n",
    "       - 단일 지표의 한계로 인해 경향성 및 추세성을 표현하기 어려움\n",
    "     ![](https://www.datapine.com/blog/wp-content/uploads/2017/02/gauge-chart-1.png)\n",
    " "
   ]
  },
  {
   "cell_type": "markdown",
   "metadata": {
    "pycharm": {
     "name": "#%% md\n"
    },
    "slideshow": {
     "slide_type": "subslide"
    }
   },
   "source": [
    " 8. scatter plot\n",
    "       - 대용량 데이터 셋 내부의 상관관계를 표시할 때\n",
    "       - 독립변수를 x 축에, 종속변수를 y 축에 표시하고, 추세선도 함께 표현\n",
    "       - 데이터 셋이 많고, 상관관계가 있는 경우에만 권장\n",
    "     ![](https://doc-archives.microstrategy.com/producthelp/10.6/AdvancedReportingGuide/WebHelp/Lang_1033/Content/AdvancedReporting/Graphics/GraphScatterXY2.png)"
   ]
  },
  {
   "cell_type": "markdown",
   "metadata": {
    "pycharm": {
     "name": "#%% md\n"
    },
    "slideshow": {
     "slide_type": "subslide"
    }
   },
   "source": [
    "  9. spider chart\n",
    "       - radar chart\n",
    "       - 다변량 데이터의 균형감 비교를 위한 차트\n",
    "       - 축 단위가 동일해야 함\n",
    "       - 변수가 5개 초과하면 이해하기 어려워짐\n",
    "     ![](https://www.datapine.com/blog/wp-content/uploads/2019/04/spider-chart-example.png)"
   ]
  },
  {
   "cell_type": "markdown",
   "metadata": {
    "pycharm": {
     "name": "#%% md\n"
    },
    "slideshow": {
     "slide_type": "subslide"
    }
   },
   "source": [
    "  10. tables\n",
    "      - 실질적으로 시각화 도구가 아님\n",
    "      - 여러 개의 정확한 수치와 단위를 표시하기 위하여 사용\n",
    "      - 독자가 자신의 정확한 수치를 확인하고 싶어하는 경우에 사용\n",
    "      - 독자가 읽어야 한다는 상황에 짜증을 낸다면 좋지 않음\n",
    "     ![](https://rfortherestofus.com/wp-content/uploads/2019/11/reactable-example.png)"
   ]
  },
  {
   "cell_type": "markdown",
   "metadata": {
    "pycharm": {
     "name": "#%% md\n"
    },
    "slideshow": {
     "slide_type": "subslide"
    }
   },
   "source": [
    "  11. area chart\n",
    "      - line chart와 유사하게, 시계열 관계에 기반함\n",
    "      - 개별 수치보다는 추세성 및 경향성을 강조할 때 권장\n",
    "      - 층으로 쌓여서 전체-부분의 비중 관계를 가질 때가 아니라면 권장하지 않음\n",
    "      - 층이 겹치는 경우 곤란\n",
    "     ![](https://www.datapine.com/blog/wp-content/uploads/2015/05/area-chart-example.png)"
   ]
  },
  {
   "cell_type": "markdown",
   "metadata": {
    "pycharm": {
     "name": "#%% md\n"
    },
    "slideshow": {
     "slide_type": "subslide"
    }
   },
   "source": [
    "    12. bubble chart\n",
    "- 다수 값의 대소 관계를 한눈에 비교할 수 있도록 하는 방식\n",
    "- 아래 차트는 3 종 변수를 시각화하고 있음\n",
    "- 버블의 면적이 중요하지, 지름이 중요한 것이 아니라는 점에 주의\n",
    "\n",
    "![](https://static.wixstatic.com/media/aeec24_ea5b935fcf7d40f998842cc9bb1cb7e5.jpg)\n",
    "[Gapminder](https://www.gapminder.org/tools/#$state$time$value=2019;&marker$select@$country=kor&trailStartTime=1800;&$country=usa&trailStartTime=1800;&$country=chn&trailStartTime=1800;;;;&chart-type=bubbles)"
   ]
  },
  {
   "cell_type": "markdown",
   "metadata": {
    "pycharm": {
     "name": "#%% md\n"
    },
    "slideshow": {
     "slide_type": "subslide"
    }
   },
   "source": [
    "- 차트에 멋진 텍스트 박스를 추가하여 마무리 하기\n",
    "    ![](https://www.datapine.com/blog/wp-content/uploads/2019/03/dynamic-text-boxes-feature.png)"
   ]
  },
  {
   "cell_type": "markdown",
   "metadata": {
    "heading_collapsed": true,
    "slideshow": {
     "slide_type": "slide"
    }
   },
   "source": [
    "## 3. 선택 기준"
   ]
  },
  {
   "cell_type": "markdown",
   "metadata": {
    "heading_collapsed": true,
    "slideshow": {
     "slide_type": "subslide"
    }
   },
   "source": [
    "- 어떤 유형의 차트를 사용할 것인가?\n",
    "  - 스토리 텔링의 관점에서 고민해야 함\n",
    "  - 누구에게, 어떤 메시지를 전달할 것인가를 고민해야 함\n",
    "  - 최종적으로 얻어 내고자 하는 성과를 고려해야 함\n",
    "- 보여주려는 대상이 무엇인가?\n",
    "    - 관련성(relatioship)\n",
    "        - 2 변수 scatter plot\n",
    "        - 3 변수 bubble plot\n",
    "    - 분포(distribution)\n",
    "        - column chart / histogram\n",
    "        - 2 변수 scatter plot\n",
    "    - 구성(composition)\n",
    "        - 동적 구성: stacked column chart / stacked area chart\n",
    "        - 정적 구성: pie chart / waterfall chart\n",
    "    - 비교(comparison)\n",
    "        - 복수 항목: table / spider chart / bar chart\n",
    "        - 시간 흐름: line chart / column chart / area chart\n",
    "- 190302, Sandra Durcevic, [How to Choose the Right Data Visualization Types](https://www.datapine.com/blog/how-to-choose-the-right-data-visualization-types/)"
   ]
  },
  {
   "cell_type": "markdown",
   "metadata": {
    "heading_collapsed": true,
    "slideshow": {
     "slide_type": "subslide"
    }
   },
   "source": [
    "![](https://www.datapine.com/blog/wp-content/uploads/2019/05/data-visualization-types-overview.png)"
   ]
  },
  {
   "cell_type": "markdown",
   "metadata": {
    "heading_collapsed": true,
    "slideshow": {
     "slide_type": "subslide"
    }
   },
   "source": [
    "![](http://napitupulu-jon.appspot.com/galleries/design-dimple-2a/3a.jpg)  \n",
    "[크게 보기](http://www.infographicsblog.com/wp-content/uploads/2011/11/chart-suggestion-infographic.jpg)"
   ]
  },
  {
   "cell_type": "markdown",
   "metadata": {
    "slideshow": {
     "slide_type": "subslide"
    }
   },
   "source": [
    "![](https://www.finereport.com/kr/wp-content/uploads/2019/09/chart-type2.png)"
   ]
  },
  {
   "cell_type": "markdown",
   "metadata": {
    "heading_collapsed": true,
    "slideshow": {
     "slide_type": "slide"
    }
   },
   "source": [
    "## 4. 체크 리스트 7종"
   ]
  },
  {
   "cell_type": "markdown",
   "metadata": {
    "heading_collapsed": true,
    "slideshow": {
     "slide_type": "fragment"
    }
   },
   "source": [
    "1. 어떤 스토리를 전달하려고 하는가? \n",
    "2. 누구를 향해 말하는가?\n",
    "3. 추세(경향)에 대한 분석인가?\n",
    "4. 데이터의 구성 비율에 대한 분석인가?\n",
    "5. 여러 값 집합을 비교하려는가?\n",
    "6. 시간 축이 필요한가?\n",
    "7. KPI(핵심 성과 지표)가 문제인가?"
   ]
  },
  {
   "cell_type": "markdown",
   "metadata": {
    "heading_collapsed": true,
    "slideshow": {
     "slide_type": "subslide"
    }
   },
   "source": [
    "1. 어떤 스토리를 전달하려고 하는가?  \n",
    "    \n",
    "   데이터 스토리-텔링에 관해서, [dashboard presentation](https://www.datapine.com/blog/dashboard-storytelling-with-kpis-presentation-examples/) 지침을 참고하라:\n",
    "    - 독자를 최우선으로 존중하라.\n",
    "    - 공허한 말(기술)을 내세우지 말라.\n",
    "    - 스토리-텔링의 위력을 활용하라.  \n",
    "\n",
    "![](https://www.datapine.com/blog/wp-content/uploads/2019/04/dashboard-storytelling-presentation.png)"
   ]
  },
  {
   "cell_type": "markdown",
   "metadata": {
    "heading_collapsed": true,
    "slideshow": {
     "slide_type": "subslide"
    }
   },
   "source": [
    "2. 누구를 향해 말하는가?\n",
    "     - 독자(청중)에 대해 연구하라.\n",
    "     - [누가 나의 청중인가?](https://www.thecmethod.com/podcast/standoutgetnoticed/how-well-do-you-know-your-audience-episode-201/)\n",
    "![](https://thecmethod.com/wp-content/uploads/2019/02/FBLinkedInimages3.png)"
   ]
  },
  {
   "cell_type": "markdown",
   "metadata": {
    "heading_collapsed": true,
    "slideshow": {
     "slide_type": "subslide"
    }
   },
   "source": [
    "3. 추세(경향)에 대한 분석인가?\n",
    "     - line chart\n",
    "     - column chart\n",
    "     - area chart\n",
    "![](https://miro.medium.com/max/700/1*4DDbfNhrdgYnAk-iZKW3Eg.jpeg)"
   ]
  },
  {
   "cell_type": "markdown",
   "metadata": {
    "heading_collapsed": true,
    "slideshow": {
     "slide_type": "subslide"
    }
   },
   "source": [
    "4. 데이터의 구성 비율에 대한 분석인가?\n",
    "     - pie chart\n",
    "     - spider(radar) chart\n",
    "     - bar chart\n",
    "     - columned visualization\n",
    "     - scatter plots\n",
    "![](https://www.foodicon.co.kr/news/photo/202101/10030_15428_1048.jpg)"
   ]
  },
  {
   "cell_type": "markdown",
   "metadata": {
    "heading_collapsed": true,
    "slideshow": {
     "slide_type": "subslide"
    }
   },
   "source": [
    "5. 여러 값 집합을 비교하려는가?\n",
    "     - bubble chart\n",
    "     - spider chart\n",
    "     - bar graph\n",
    "     - columned visualization\n",
    "     - scatter plots\n",
    "![](https://www.finereport.com/kr/wp-content/uploads/2019/10/6-13.gif)"
   ]
  },
  {
   "cell_type": "markdown",
   "metadata": {
    "heading_collapsed": true,
    "slideshow": {
     "slide_type": "subslide"
    }
   },
   "source": [
    "6. 시간 축이 필요한가?\n",
    "     - [dynamic line chart](https://canvasjs.com/jquery-charts/dynamic-live-line-chart/)\n",
    "     - bar chart\n",
    "![](https://www.machinelearningplus.com/wp-content/uploads/2019/02/1_visualizing_time_series-865x304.png?ezimgfmt=ng:webp/ngcb4)"
   ]
  },
  {
   "cell_type": "markdown",
   "metadata": {
    "heading_collapsed": true,
    "slideshow": {
     "slide_type": "subslide"
    }
   },
   "source": [
    "7. KPI(핵심 성과 지표)가 문제인가?\n",
    "     - 관계성을 보여주거나 비교하려고 하는가?\n",
    "     - 경향성을 보여주려는가?\n",
    "     - 대시보드  \n",
    "![](https://simplekpivm.blob.core.windows.net/blog/Sales-KPI-Dashboard.jpg)"
   ]
  },
  {
   "cell_type": "markdown",
   "metadata": {
    "pycharm": {
     "name": "#%% md\n"
    },
    "slideshow": {
     "slide_type": "slide"
    }
   },
   "source": [
    "## 5. 추천 자료\n",
    "- 180118, SD아카데미, [빅데이터 시각화 종류 및 도구 정리](https://m.blog.naver.com/PostView.nhn?blogId=sundooedu&logNo=221187706618&proxyReferer=https%3A%2F%2Fwww.google.co.kr%2F)\n",
    "- 140428, kingdom99, [02. 데이터 시각화의 기본 원리](http://www.dator.co.kr/osung/textyle/982148)\n",
    "- 140602, kingdom99, [03. 다양한 데이터 시각화의 표현 방법](http://www.dator.co.kr/osung/textyle/982148)\n",
    "- 170401, 송한나, [The Art of Data - 2회 이럴 땐 이런 그래프: 데이터에 맞는 시각화 방법](https://www.cognitumlab.com/single-post/2017/10/08/The-Art-of-Data-2회-이럴-땐-이런-그래프-데이터에-맞는-시각화-방법)\n",
    "- 190725, 임월드, [데이터 시각화 종류 (기초) _ matplotlib(seaborn)](https://imworld.tistory.com/entry/데이터-시각화-종류-기초-matplotlibseaborn)\n",
    "- ?, Qlik Sense, [목적에 적합한 유형의 시각화 사용](https://help.qlik.com/ko-KR/sense/November2019/Subsystems/Hub/Content/Sense_Hub/Visualizations/when-to-use-visualizations.htm)\n",
    "- ?, tableau, [데이터 시각화 현장 가이드: 정의, 예제, 학습 리소스](https://www.tableau.com/ko-kr/learn/articles/data-visualization)\n",
    "\n",
    "- [5 Types of Big Data Visualization Categories](https://www.klipfolio.com/resources/articles/what-is-data-visualization)\n",
    "- [THE TOP 10 TYPES OF DATA VISUALIZATION MADE SIMPLE](https://www.boostlabs.com/10-types-of-data-visualization-tools/)\n",
    "- [Top 16 Types of Chart in Data Visualization](https://towardsdatascience.com/top-16-types-of-chart-in-data-visualization-196a76b54b62) (상호작용형 차트 예시)\n",
    "- [Data Visualization: Visualization Types](https://guides.library.duke.edu/datavis/vis_types)\n",
    "- 190302, Sandra Durcevic, [How to Choose the Right Data Visualization Types](https://www.datapine.com/blog/how-to-choose-the-right-data-visualization-types/)\n",
    "- 140314, 도나 M. 웡, [월스트릿저널 인포그래픽 가이드](http://www.yes24.com/Product/Goods/12292773), 인사이트"
   ]
  }
 ],
 "metadata": {
  "celltoolbar": "Slideshow",
  "kernelspec": {
   "display_name": "Python 3",
   "language": "python",
   "name": "python3"
  },
  "language_info": {
   "codemirror_mode": {
    "name": "ipython",
    "version": 3
   },
   "file_extension": ".py",
   "mimetype": "text/x-python",
   "name": "python",
   "nbconvert_exporter": "python",
   "pygments_lexer": "ipython3",
   "version": "3.8.11"
  },
  "latex_envs": {
   "LaTeX_envs_menu_present": true,
   "autoclose": false,
   "autocomplete": true,
   "bibliofile": "biblio.bib",
   "cite_by": "apalike",
   "current_citInitial": 1,
   "eqLabelWithNumbers": true,
   "eqNumInitial": 1,
   "hotkeys": {
    "equation": "Ctrl-E",
    "itemize": "Ctrl-I"
   },
   "labels_anchors": false,
   "latex_user_defs": false,
   "report_style_numbering": false,
   "user_envs_cfg": false
  },
  "toc": {
   "base_numbering": 1,
   "nav_menu": {},
   "number_sections": false,
   "sideBar": true,
   "skip_h1_title": false,
   "title_cell": "Table of Contents",
   "title_sidebar": "Contents",
   "toc_cell": false,
   "toc_position": {
    "height": "calc(100% - 180px)",
    "left": "10px",
    "top": "150px",
    "width": "165px"
   },
   "toc_section_display": true,
   "toc_window_display": true
  },
  "toc-autonumbering": false,
  "varInspector": {
   "cols": {
    "lenName": 16,
    "lenType": 16,
    "lenVar": 40
   },
   "kernels_config": {
    "python": {
     "delete_cmd_postfix": "",
     "delete_cmd_prefix": "del ",
     "library": "var_list.py",
     "varRefreshCmd": "print(var_dic_list())"
    },
    "r": {
     "delete_cmd_postfix": ") ",
     "delete_cmd_prefix": "rm(",
     "library": "var_list.r",
     "varRefreshCmd": "cat(var_dic_list()) "
    }
   },
   "types_to_exclude": [
    "module",
    "function",
    "builtin_function_or_method",
    "instance",
    "_Feature"
   ],
   "window_display": false
  }
 },
 "nbformat": 4,
 "nbformat_minor": 4
}
