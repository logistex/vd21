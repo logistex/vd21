{
 "cells": [
  {
   "cell_type": "markdown",
   "metadata": {
    "slideshow": {
     "slide_type": "slide"
    }
   },
   "source": [
    "# 수업 계획"
   ]
  },
  {
   "cell_type": "markdown",
   "metadata": {
    "slideshow": {
     "slide_type": "slide"
    }
   },
   "source": [
    "## 1. 과목 소개\n",
    "\n",
    "![주차 일정](https://user-images.githubusercontent.com/10287629/130551233-4007640b-5e51-44e7-bc94-516f4dc93a4c.png)"
   ]
  },
  {
   "cell_type": "markdown",
   "metadata": {
    "pycharm": {
     "name": "#%% md\n"
    },
    "slideshow": {
     "slide_type": "slide"
    }
   },
   "source": [
    "## 2. 선생님 소개\n",
    "![신교수 박사모자](https://user-images.githubusercontent.com/10287629/103825781-da345780-50b8-11eb-8f34-1e1a98b2049e.png)\n",
    "- 이름: 신해웅(辛海雄)\n",
    "- 최근 강의 과목\n",
    "  - 파이썬\n",
    "  - [파이썬 (장고) 웹 개발](http://logistex2021.pythonanywhere.com/)\n",
    "  - [파이썬 데이터 시각화](http://logistex2021.pythonanywhere.com/chart/ticket-class/3/)\n",
    "- 좌우명\n",
    "\n",
    "![Love it](https://user-images.githubusercontent.com/10287629/104137834-14686680-53e3-11eb-86a2-1f678016c49c.png)"
   ]
  },
  {
   "cell_type": "markdown",
   "metadata": {
    "pycharm": {
     "name": "#%% md\n"
    },
    "slideshow": {
     "slide_type": "slide"
    }
   },
   "source": [
    "- 연락처\n",
    "> Haewoong Shin, Ph.D.  \n",
    "Professor, Dept. of Smart IT, Hanyang Women's University  \n",
    "200, Salgoji-gil, Seongdong-Ku, Seoul, 04763, Republic of Korea  \n",
    "e-mail: logistex@hywoman.ac.kr  \n",
    "Cellular: 82-10-3770-2210  \n",
    "Office: 82-2-2290-2385  \n",
    "Kakao Talk: logistex  "
   ]
  },
  {
   "cell_type": "markdown",
   "metadata": {
    "slideshow": {
     "slide_type": "slide"
    }
   },
   "source": [
    "## 3. 강의 계획"
   ]
  },
  {
   "cell_type": "markdown",
   "metadata": {
    "slideshow": {
     "slide_type": "fragment"
    }
   },
   "source": [
    "- 강의 노트: 이클래스 강의 자료로 제공\n",
    "- 강좌 내용 구성\n",
    "    - 강좌 소개 (이번 강의)\n",
    "    - [데이터시각화 기본 개념](./wk0102_basics.ipynb)\n",
    "        - 무엇인가?\n",
    "        - 왜 배우는가?\n",
    "        - 무엇을 배우는가?"
   ]
  },
  {
   "cell_type": "markdown",
   "metadata": {
    "slideshow": {
     "slide_type": "subslide"
    }
   },
   "source": [
    "![00_06_basics](https://user-images.githubusercontent.com/10287629/91050707-04313400-e65a-11ea-84d5-b7397dfef1e0.png)"
   ]
  },
  {
   "cell_type": "markdown",
   "metadata": {
    "slideshow": {
     "slide_type": "subslide"
    }
   },
   "source": [
    "![](https://user-images.githubusercontent.com/10287629/88142557-b24b5780-cc30-11ea-8fde-9f03d0c4b994.png)"
   ]
  },
  {
   "cell_type": "markdown",
   "metadata": {
    "slideshow": {
     "slide_type": "subslide"
    }
   },
   "source": [
    "![](https://t1.daumcdn.net/cfile/tistory/274FD436580069FE13)"
   ]
  },
  {
   "cell_type": "markdown",
   "metadata": {
    "slideshow": {
     "slide_type": "subslide"
    }
   },
   "source": [
    "- 시각화 유형의 다양성\n",
    "  ![](https://user-images.githubusercontent.com/10287629/88145797-f2f99f80-cc35-11ea-812f-67e72191dc80.png)"
   ]
  },
  {
   "cell_type": "markdown",
   "metadata": {
    "slideshow": {
     "slide_type": "subslide"
    }
   },
   "source": [
    "- 시각화 유형의 선택 방법\n",
    "  ![](https://www.datapine.com/blog/wp-content/uploads/2019/05/data-visualization-types-overview.png)"
   ]
  },
  {
   "cell_type": "markdown",
   "metadata": {
    "slideshow": {
     "slide_type": "subslide"
    }
   },
   "source": [
    "- [실습 환경 구축](../wk02_setup_dev_env/wk0200_setup.ipynb)\n",
    "     - 아나콘다 파이썬\n",
    "     ![](https://www.python.org/static/opengraph-icon-200x200.png)\n",
    "     ![](https://1.bp.blogspot.com/-or-e20BXbFM/XdJ53rqymWI/AAAAAAAACCY/aNkO3ebHD-I63ppgiEhGYjv3LkneVbdlwCLcBGAsYHQ/s640/anaconda-components.png)\n",
    "     - 가상환경 관리\n",
    "     - 쥬피터 노트북\n",
    "    ![](https://i.github-camo.com/0013bcdd1fb7fe38aa7d59e93a86807846c02d50/687474703a2f2f692e696d6775722e636f6d2f3130304d7458522e706e67)"
   ]
  },
  {
   "cell_type": "markdown",
   "metadata": {
    "slideshow": {
     "slide_type": "subslide"
    }
   },
   "source": [
    "- [Pandas 데이터 분석 방법]()\n",
    "    ![](https://www.geeksforgeeks.org/wp-content/uploads/creating_dataframe1.png)"
   ]
  },
  {
   "cell_type": "markdown",
   "metadata": {
    "slideshow": {
     "slide_type": "subslide"
    }
   },
   "source": [
    "- [Matplotlib 차트 시각화 방법]()\n",
    "    ![](https://pynative.com/wp-content/uploads/2019/01/python_matplotlib_exercise.png)"
   ]
  },
  {
   "cell_type": "markdown",
   "metadata": {
    "slideshow": {
     "slide_type": "subslide"
    }
   },
   "source": [
    "- [CCTV 설치 규모 분석](./DataScience/source_code/01._인구대비_CCTV_설치량_분석.ipynb/)\n",
    "![cctv_1](https://user-images.githubusercontent.com/10287629/130552617-965c7ed8-688f-4776-bd47-b3bd15863f36.png)"
   ]
  },
  {
   "cell_type": "markdown",
   "metadata": {
    "slideshow": {
     "slide_type": "subslide"
    }
   },
   "source": [
    "![cctv_2](https://user-images.githubusercontent.com/10287629/130552631-2e130ec2-15bf-4955-849a-27d8a2879708.png)"
   ]
  },
  {
   "cell_type": "markdown",
   "metadata": {
    "slideshow": {
     "slide_type": "subslide"
    }
   },
   "source": [
    "- [범죄 빈도 분석](./DataScience/source_code/02._Analysis_for_crime_in_Seoul.ipynb)\n",
    "    ![00_04_crime](https://user-images.githubusercontent.com/10287629/91045677-350d6b00-e652-11ea-8a16-f9b215157661.png)"
   ]
  },
  {
   "cell_type": "markdown",
   "metadata": {
    "slideshow": {
     "slide_type": "subslide"
    }
   },
   "source": [
    "- [Plotly 시각화 방법]()\n",
    "    ![00_05_plotly](https://user-images.githubusercontent.com/10287629/91046253-0a6fe200-e653-11ea-9b99-cf31ce6373bf.png)"
   ]
  },
  {
   "cell_type": "markdown",
   "metadata": {
    "slideshow": {
     "slide_type": "subslide"
    }
   },
   "source": [
    "- [Covid19 시각화 실습]()\n",
    "    ![](https://miro.medium.com/max/3840/1*tAOUhxclkns7AVl-scQl2g.png)"
   ]
  },
  {
   "cell_type": "markdown",
   "metadata": {
    "slideshow": {
     "slide_type": "subslide"
    }
   },
   "source": [
    "- [Django를 활용한 데이터 적재/분석/시각화 방법]()\n",
    "    ![00_01_djangoSite](https://user-images.githubusercontent.com/10287629/91044357-1dcd7e00-e650-11ea-9bd7-f9769d75826f.png)"
   ]
  },
  {
   "cell_type": "markdown",
   "metadata": {
    "slideshow": {
     "slide_type": "subslide"
    }
   },
   "source": [
    "- [타이타닉 생존자 데이터 시각화 실습]()\n",
    "    ![00_02_djangoTitanic](https://user-images.githubusercontent.com/10287629/91044694-ad732c80-e650-11ea-8a30-f8c1928be48e.png)"
   ]
  },
  {
   "cell_type": "markdown",
   "metadata": {
    "slideshow": {
     "slide_type": "slide"
    }
   },
   "source": [
    "## 4. 평가 계획\n",
    "\n",
    "- 시험보다는 과제 위주로 평가\n",
    "    - 단편적 암기 위주 필기 시험의 문제점\n",
    "    - 필기 시험은 최대한 지양\n",
    "    - 과제를 통한 심층적 문제 해결 능력을 평가\n",
    "\n",
    "구분 | 배점 | 평가의 초점 |\n",
    "--- | ---: | :--- |\n",
    "출석 |  15 | 성실성\n",
    "평소 |  15 | 문제 해결 능력 및 의지 (예: 주피터 노트북 활용)\n",
    "중간 |  30 | 문제 해결 능력 및 의지 (예: 넘파이/판다스 활용)\n",
    "기말 |  40 | 문제 해결 능력 및 의지 (예: 분석/시각화 프로젝트)\n",
    "합계 | 100 | -"
   ]
  },
  {
   "cell_type": "markdown",
   "metadata": {
    "slideshow": {
     "slide_type": "subslide"
    }
   },
   "source": [
    "- 질의/응답은 e-Class System으로 단일화\n",
    "    - e-Class System 이외 창구를 통한 질문은 원칙적으로 무시\n",
    "    - 신상 공개가 염려된다면, 익명 질문을 활용\n",
    "    - 보완적으로 카톡을 활용"
   ]
  },
  {
   "cell_type": "markdown",
   "metadata": {
    "slideshow": {
     "slide_type": "fragment"
    }
   },
   "source": [
    "- 토론 활성화를 기대\n",
    "    - 스스로 찾아낸 좋은 학습 자료 공유\n",
    "    - 친구들과 공유하고 싶은 노우하우\n",
    "    - 친구들과 논의하고 싶은 궁금한 사항  \n",
    "      (선생님에게 질문하기 전에 먼저 친구들과 질의 응답)\n",
    "    - 수강반별 반대표가 주도하여 매주 2명 이상씩 토론 발제하도록 관리"
   ]
  },
  {
   "cell_type": "markdown",
   "metadata": {
    "slideshow": {
     "slide_type": "slide"
    }
   },
   "source": [
    "## 5. 수업 운영 방식\n",
    "\n",
    "- 코로나19 사태로 대면 수업이 제한적임\n",
    "- 수업 운영 방식의 고려 사항\n",
    "    - 과목의 성격 상 실습 비중이 크다는 점\n",
    "    - 학생-교수 대면 소통의 가치가 크다는 점\n",
    "    - 방역 단계별로 인원 제한을 철저히 준수해야 한다는 점"
   ]
  },
  {
   "cell_type": "markdown",
   "metadata": {
    "slideshow": {
     "slide_type": "fragment"
    }
   },
   "source": [
    "- 투표\n",
    "\n",
    "| 대안| 수업 방식   | 찬성 인원 (명) | 찬성 비율 (%) |\n",
    "|:---:|:----:       |:-----:         |:-------:      |\n",
    "| A   | 실시간 Zoom |    ?           |  ?            |\n",
    "| B   | 녹화 동영상 |    ?           |  ?            |\n",
    "| C   | 전면적 대면 |    ?           |  ?            |\n",
    "| **집계**| **-**   |    **?**      | **100.0**     |"
   ]
  },
  {
   "cell_type": "markdown",
   "metadata": {
    "slideshow": {
     "slide_type": "slide"
    }
   },
   "source": [
    "![](https://venngage-wordpress.s3.amazonaws.com/uploads/2020/06/What-is-Data-Visualization-Blog-Header.jpg)\n"
   ]
  }
 ],
 "metadata": {
  "celltoolbar": "Slideshow",
  "kernelspec": {
   "display_name": "Python 3",
   "language": "python",
   "name": "python3"
  },
  "language_info": {
   "codemirror_mode": {
    "name": "ipython",
    "version": 3
   },
   "file_extension": ".py",
   "mimetype": "text/x-python",
   "name": "python",
   "nbconvert_exporter": "python",
   "pygments_lexer": "ipython3",
   "version": "3.8.11"
  },
  "latex_envs": {
   "LaTeX_envs_menu_present": true,
   "autoclose": false,
   "autocomplete": true,
   "bibliofile": "biblio.bib",
   "cite_by": "apalike",
   "current_citInitial": 1,
   "eqLabelWithNumbers": true,
   "eqNumInitial": 1,
   "hotkeys": {
    "equation": "Ctrl-E",
    "itemize": "Ctrl-I"
   },
   "labels_anchors": false,
   "latex_user_defs": false,
   "report_style_numbering": false,
   "user_envs_cfg": false
  },
  "toc": {
   "base_numbering": 1,
   "nav_menu": {},
   "number_sections": false,
   "sideBar": true,
   "skip_h1_title": false,
   "title_cell": "Table of Contents",
   "title_sidebar": "Contents",
   "toc_cell": false,
   "toc_position": {
    "height": "calc(100% - 180px)",
    "left": "10px",
    "top": "150px",
    "width": "165px"
   },
   "toc_section_display": true,
   "toc_window_display": true
  },
  "varInspector": {
   "cols": {
    "lenName": 16,
    "lenType": 16,
    "lenVar": 40
   },
   "kernels_config": {
    "python": {
     "delete_cmd_postfix": "",
     "delete_cmd_prefix": "del ",
     "library": "var_list.py",
     "varRefreshCmd": "print(var_dic_list())"
    },
    "r": {
     "delete_cmd_postfix": ") ",
     "delete_cmd_prefix": "rm(",
     "library": "var_list.r",
     "varRefreshCmd": "cat(var_dic_list()) "
    }
   },
   "types_to_exclude": [
    "module",
    "function",
    "builtin_function_or_method",
    "instance",
    "_Feature"
   ],
   "window_display": false
  }
 },
 "nbformat": 4,
 "nbformat_minor": 4
}
