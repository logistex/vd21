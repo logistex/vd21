{
 "cells": [
  {
   "cell_type": "markdown",
   "metadata": {
    "pycharm": {
     "name": "#%% md\n"
    },
    "slideshow": {
     "slide_type": "slide"
    }
   },
   "source": [
    "# 데이터시각화 기본 개념"
   ]
  },
  {
   "cell_type": "markdown",
   "metadata": {
    "slideshow": {
     "slide_type": "slide"
    }
   },
   "source": [
    "## 1. 무엇인가?"
   ]
  },
  {
   "cell_type": "markdown",
   "metadata": {
    "slideshow": {
     "slide_type": "slide"
    }
   },
   "source": [
    "### 1.1 [코로나 맵](http://livecorona.co.kr)\n",
    "\n",
    "![라이브 코로나 맵](https://user-images.githubusercontent.com/10287629/88141678-07866980-cc2f-11ea-80f5-888c3510364e.png)"
   ]
  },
  {
   "cell_type": "markdown",
   "metadata": {
    "slideshow": {
     "slide_type": "slide"
    }
   },
   "source": [
    "### 1.2 [공공데이터](https://www.data.go.kr/)\n",
    "\n",
    "![공공데이터 시각화](https://user-images.githubusercontent.com/10287629/88142052-c93d7a00-cc2f-11ea-93c2-7c157747a1ff.png)"
   ]
  },
  {
   "cell_type": "markdown",
   "metadata": {
    "slideshow": {
     "slide_type": "slide"
    }
   },
   "source": [
    "### 1.3 [대시보드](http://www.dbguide.net/)\n",
    "\n",
    "![column_img_2645](https://user-images.githubusercontent.com/10287629/90960964-69f9b080-e4e0-11ea-963d-7193359c2266.png)"
   ]
  },
  {
   "cell_type": "markdown",
   "metadata": {
    "slideshow": {
     "slide_type": "slide"
    }
   },
   "source": [
    "### 1.4 [항만별 물동량](http://www.mof.go.kr/article/view.do?articleKey=20617&boardKey=2&currentPageNo=1)\n",
    "  \n",
    "![](https://post-phinf.pstatic.net/MjAxOTA2MTNfMTA5/MDAxNTYwNDE4NzY5Njc1.b5OM_U-ptw-kpdkTWlifcbXv22WRZcwuwOvIqgGx5c4g.ZRz3s_WBoBH4B2tl2OBpGoWY30VxhxpWpgLXYWMTXEAg.PNG/%EB%8D%B0%EC%9D%B4%ED%84%B0_%ED%99%9C%EC%9A%A9_%EC%8B%A4%EB%AC%B4_%EB%B9%85%EB%8D%B0%EC%9D%B4%ED%84%B0_%EC%97%85%EB%AC%B4_%EB%B0%A9%EB%B2%95__1.png?type=w1200)"
   ]
  },
  {
   "cell_type": "markdown",
   "metadata": {
    "slideshow": {
     "slide_type": "slide"
    }
   },
   "source": [
    "### 1.5 [The Our World in Data-Grapher](https://ourworldindata.org/owid-grapher)"
   ]
  },
  {
   "cell_type": "code",
   "execution_count": 1,
   "metadata": {
    "pycharm": {
     "name": "#%% md\n"
    },
    "slideshow": {
     "slide_type": "subslide"
    }
   },
   "outputs": [
    {
     "data": {
      "text/html": [
       "<iframe src=\"https://ourworldindata.org/grapher/life-expectancy?tab=map&region=World\" loading=\"lazy\" style=\"width: 100%; height: 600px; border: 0px none;\"></iframe> \n"
      ],
      "text/plain": [
       "<IPython.core.display.HTML object>"
      ]
     },
     "metadata": {},
     "output_type": "display_data"
    }
   ],
   "source": [
    "%%html \n",
    "<iframe src=\"https://ourworldindata.org/grapher/life-expectancy?tab=map&region=World\" loading=\"lazy\" style=\"width: 100%; height: 600px; border: 0px none;\"></iframe> "
   ]
  },
  {
   "cell_type": "code",
   "execution_count": 2,
   "metadata": {
    "pycharm": {
     "name": "#%% md\n"
    },
    "slideshow": {
     "slide_type": "subslide"
    }
   },
   "outputs": [
    {
     "data": {
      "text/html": [
       "<iframe src=\"https://ourworldindata.org/grapher/womens-educational-attainment-vs-fertility?tab=chart&endpointsOnly=0&country=BWA~BRA~GHA~IND~IRN~USA&region=World\" loading=\"lazy\" style=\"width: 100%; height: 600px; border: 0px none;\"></iframe>\n"
      ],
      "text/plain": [
       "<IPython.core.display.HTML object>"
      ]
     },
     "metadata": {},
     "output_type": "display_data"
    }
   ],
   "source": [
    "%%html\n",
    "<iframe src=\"https://ourworldindata.org/grapher/womens-educational-attainment-vs-fertility?tab=chart&endpointsOnly=0&country=BWA~BRA~GHA~IND~IRN~USA&region=World\" loading=\"lazy\" style=\"width: 100%; height: 600px; border: 0px none;\"></iframe>"
   ]
  },
  {
   "cell_type": "code",
   "execution_count": 3,
   "metadata": {
    "pycharm": {
     "name": "#%% md\n"
    },
    "slideshow": {
     "slide_type": "subslide"
    }
   },
   "outputs": [
    {
     "data": {
      "text/html": [
       "<iframe src=\"https://ourworldindata.org/coronavirus-data-explorer?zoomToSelection=true&time=earliest..latest&country=IND~USA~GBR~CAN~DEU~FRA~JPN~KOR&region=World&casesMetric=true&interval=total&perCapita=true&smoothing=0&pickerMetric=total_cases&pickerSort=desc\" loading=\"lazy\" style=\"width: 100%; height: 600px; border: 0px none;\"></iframe>\n"
      ],
      "text/plain": [
       "<IPython.core.display.HTML object>"
      ]
     },
     "metadata": {},
     "output_type": "display_data"
    }
   ],
   "source": [
    "%%html\n",
    "<iframe src=\"https://ourworldindata.org/coronavirus-data-explorer?zoomToSelection=true&time=earliest..latest&country=IND~USA~GBR~CAN~DEU~FRA~JPN~KOR&region=World&casesMetric=true&interval=total&perCapita=true&smoothing=0&pickerMetric=total_cases&pickerSort=desc\" loading=\"lazy\" style=\"width: 100%; height: 600px; border: 0px none;\"></iframe>"
   ]
  },
  {
   "cell_type": "markdown",
   "metadata": {
    "pycharm": {
     "name": "#%% md\n"
    },
    "slideshow": {
     "slide_type": "slide"
    }
   },
   "source": [
    "## 2. 왜 배워야 하나?\n",
    "- 190122, [뉴스젤리](http://newsjel.ly), [당신도 데이터 시각화를 해야 하는 5가지 이유](http://newsjel.ly/archives/newsjelly-report/visualization-report/8136)"
   ]
  },
  {
   "cell_type": "markdown",
   "metadata": {
    "slideshow": {
     "slide_type": "slide"
    }
   },
   "source": [
    "### 2.1 한눈에 보이는\n",
    "  \n",
    "![wk01_1_eye](https://user-images.githubusercontent.com/10287629/88142557-b24b5780-cc30-11ea-8fde-9f03d0c4b994.png)"
   ]
  },
  {
   "cell_type": "markdown",
   "metadata": {
    "slideshow": {
     "slide_type": "subslide"
    }
   },
   "source": [
    "![wk01_dv_why](https://user-images.githubusercontent.com/10287629/88142655-d6a73400-cc30-11ea-9e65-61bc3db6d763.png)"
   ]
  },
  {
   "cell_type": "markdown",
   "metadata": {
    "slideshow": {
     "slide_type": "slide"
    }
   },
   "source": [
    "### 2.2 영감을 주는\n",
    "\n",
    "![wk01_my_covid19](https://user-images.githubusercontent.com/10287629/88143012-79f84900-cc31-11ea-8422-77120fc0eb14.png)"
   ]
  },
  {
   "cell_type": "markdown",
   "metadata": {
    "heading_collapsed": true,
    "pycharm": {
     "name": "#%% md\n"
    },
    "slideshow": {
     "slide_type": "slide"
    }
   },
   "source": [
    "### 2.3 통계의 함정을 피하는\n",
    "\n",
    "![DatasaurusDozen](https://user-images.githubusercontent.com/10287629/109956511-12f25500-7d27-11eb-9da9-d2c3d00fc54d.png)"
   ]
  },
  {
   "cell_type": "markdown",
   "metadata": {
    "slideshow": {
     "slide_type": "slide"
    }
   },
   "source": [
    "### 2.4 판단을 위해서\n",
    "  [빅데이터를 활용해 기업 문제 해결한 사례](https://m.post.naver.com/viewer/postView.nhn?volumeNo=19868462&memberNo=35871176)\n",
    "  ![wk01_bulls](https://user-images.githubusercontent.com/10287629/88143210-ca6fa680-cc31-11ea-9541-a973b2a9368f.png)"
   ]
  },
  {
   "cell_type": "markdown",
   "metadata": {
    "slideshow": {
     "slide_type": "slide"
    }
   },
   "source": [
    "### 2.5 창의적 활용을 위해서\n",
    "\n",
    "[![wk01_alcohol](https://user-images.githubusercontent.com/10287629/88143283-eb37fc00-cc31-11ea-93fd-35e2167c3d4e.png)\n",
    "](https://flowingdata.com/projects/2016/alcohol-world/)"
   ]
  },
  {
   "cell_type": "markdown",
   "metadata": {
    "slideshow": {
     "slide_type": "subslide"
    }
   },
   "source": [
    "[![Flight Patterns](https://www.britishcouncil.org/sites/default/files/styles/bc-landscape-800x450/public/aaron-kolbin-flight-patterns.jpg?itok=79AcETKl)](https://youtu.be/ystkKXzt9Wk)"
   ]
  },
  {
   "cell_type": "markdown",
   "metadata": {
    "pycharm": {
     "name": "#%% md\n"
    },
    "slideshow": {
     "slide_type": "slide"
    }
   },
   "source": [
    "## 3. 무엇을 배워야 하나?"
   ]
  },
  {
   "cell_type": "markdown",
   "metadata": {
    "slideshow": {
     "slide_type": "slide"
    }
   },
   "source": [
    "### 3.1 범위"
   ]
  },
  {
   "cell_type": "markdown",
   "metadata": {
    "slideshow": {
     "slide_type": "subslide"
    }
   },
   "source": [
    "- 정보 시각화\n",
    "![일-가정](https://t1.daumcdn.net/cfile/tistory/274FD436580069FE13)"
   ]
  },
  {
   "cell_type": "markdown",
   "metadata": {
    "slideshow": {
     "slide_type": "subslide"
    }
   },
   "source": [
    "- [인포그래픽](https://m.blog.naver.com/PostView.nhn?blogId=minwook74&logNo=120192372471&proxyReferer=https%3A%2F%2Fwww.google.com%2F)"
   ]
  },
  {
   "cell_type": "markdown",
   "metadata": {
    "slideshow": {
     "slide_type": "subslide"
    }
   },
   "source": [
    "![일-가정 양립](https://www.viva100.com/mnt/images/file/2018y/12m/14d/20181214001400341_1.png)"
   ]
  },
  {
   "cell_type": "markdown",
   "metadata": {
    "slideshow": {
     "slide_type": "subslide"
    }
   },
   "source": [
    "<img src='https://mblogthumb-phinf.pstatic.net/20130619_180/minwook74_1371574014603lbzKL_JPEG/%C0%CE%C6%F7%B1%D7%B7%A1%C7%C8%C0%CC%B6%F5%2C%C0%CE%C6%F7%B1%D7%B7%A1%C7%C8_%BB%E7%B7%CA_21.jpg?type=w2'>"
   ]
  },
  {
   "cell_type": "markdown",
   "metadata": {
    "slideshow": {
     "slide_type": "subslide"
    }
   },
   "source": [
    "![환경부 성과](https://i.pinimg.com/originals/52/b7/39/52b7395613cf360ac4c77fa5bd85f374.jpg)"
   ]
  },
  {
   "cell_type": "markdown",
   "metadata": {
    "slideshow": {
     "slide_type": "subslide"
    }
   },
   "source": [
    "![이력서](https://www.midashri.com/hubfs/inAIR/img/web/sub/01_intro/process/%EC%9D%B8%ED%8F%AC%EA%B7%B8%EB%9E%98%ED%94%BD%EC%9D%B4%EB%A0%A5%EC%84%9C_01.jpg)"
   ]
  },
  {
   "cell_type": "markdown",
   "metadata": {
    "slideshow": {
     "slide_type": "subslide"
    }
   },
   "source": [
    "- 데이터 시각화"
   ]
  },
  {
   "cell_type": "markdown",
   "metadata": {
    "slideshow": {
     "slide_type": "subslide"
    }
   },
   "source": [
    "![bar chart](https://www.ieltstutors.org/wp-content/uploads/2019/05/BarCharts1.jpg)"
   ]
  },
  {
   "cell_type": "markdown",
   "metadata": {
    "slideshow": {
     "slide_type": "subslide"
    }
   },
   "source": [
    "![wk01_my_covid19](https://user-images.githubusercontent.com/10287629/88143012-79f84900-cc31-11ea-8422-77120fc0eb14.png)"
   ]
  },
  {
   "cell_type": "markdown",
   "metadata": {
    "slideshow": {
     "slide_type": "subslide"
    }
   },
   "source": [
    "![3차원 시각화](https://kr.mathworks.com/help/matlab/visualize/visualizing4dexample_01_ko_KR.png)"
   ]
  },
  {
   "cell_type": "markdown",
   "metadata": {
    "slideshow": {
     "slide_type": "subslide"
    }
   },
   "source": [
    "![choropleth](https://imagedata.cafe24.com/us_c/us_c_41-1.jpg)"
   ]
  },
  {
   "cell_type": "markdown",
   "metadata": {
    "slideshow": {
     "slide_type": "subslide"
    }
   },
   "source": [
    "![분쟁지역 사망](https://t1.daumcdn.net/cfile/tistory/2765F738558AA68109)"
   ]
  },
  {
   "cell_type": "markdown",
   "metadata": {
    "slideshow": {
     "slide_type": "subslide"
    }
   },
   "source": [
    "[![미국 인구 피라미드](https://cdnl.tblsft.com/sites/default/files/pages/7_pew_research_next_america.gif)](https://www.pewresearch.org/next-america/#Two-Dramas-in-Slow-Motion)"
   ]
  },
  {
   "cell_type": "markdown",
   "metadata": {
    "slideshow": {
     "slide_type": "slide"
    }
   },
   "source": [
    "### 3.2 절차"
   ]
  },
  {
   "cell_type": "markdown",
   "metadata": {
    "slideshow": {
     "slide_type": "subslide"
    }
   },
   "source": [
    "  ![wk01_dv_process](https://user-images.githubusercontent.com/10287629/88150042-d2ccdf00-cc3b-11ea-9918-7f0ef1f4e58e.png)"
   ]
  },
  {
   "cell_type": "markdown",
   "metadata": {
    "slideshow": {
     "slide_type": "subslide"
    }
   },
   "source": [
    "  ![DA process](https://t1.daumcdn.net/thumb/R720x0.fpng/?fname=http://t1.daumcdn.net/brunch/service/user/4k6/image/9Mh7SlNF5wv7L6woWTnMtQm_mfc.png)"
   ]
  },
  {
   "cell_type": "markdown",
   "metadata": {
    "slideshow": {
     "slide_type": "subslide"
    }
   },
   "source": [
    "  ![ETL](https://img1.daumcdn.net/thumb/R800x0/?scode=mtistory2&fname=https%3A%2F%2Ft1.daumcdn.net%2Fcfile%2Ftistory%2F2669533958771EF733)"
   ]
  },
  {
   "cell_type": "markdown",
   "metadata": {
    "slideshow": {
     "slide_type": "subslide"
    }
   },
   "source": [
    "  ![DA Process](https://image.slidesharecdn.com/hranalytics-180601001545/95/hr-analytics-4-638.jpg?cb=1527812213)"
   ]
  },
  {
   "cell_type": "markdown",
   "metadata": {
    "slideshow": {
     "slide_type": "slide"
    }
   },
   "source": [
    "### 3.3 도구"
   ]
  },
  {
   "cell_type": "markdown",
   "metadata": {
    "slideshow": {
     "slide_type": "subslide"
    }
   },
   "source": [
    "![wk01_dv_tool](https://user-images.githubusercontent.com/10287629/88150088-e0826480-cc3b-11ea-8e4c-57cb7bb0cbbe.png)"
   ]
  },
  {
   "cell_type": "markdown",
   "metadata": {},
   "source": [
    "[![wk01_dvTools15](https://user-images.githubusercontent.com/10287629/88150125-eed08080-cc3b-11ea-98f3-fd1102e3ad70.png)](https://www.softwaretestinghelp.com/data-visualization-tools/)"
   ]
  },
  {
   "cell_type": "markdown",
   "metadata": {
    "slideshow": {
     "slide_type": "subslide"
    }
   },
   "source": [
    "- Matt Przybyla, [You Should Master Python First Before Becoming a Data Scientist](https://towardsdatascience.com/you-should-master-python-first-before-becoming-a-data-scientist-8ac1b1b4e10f), [towards data science](https://towardsdatascience.com/), 2021-02-12.\n",
    "  - 데싸노트, Python VS R: 뉴욕 데이터사이언티스트가 추천하는 것은?, 2020-12-13."
   ]
  },
  {
   "cell_type": "code",
   "execution_count": 5,
   "metadata": {
    "scrolled": true,
    "slideshow": {
     "slide_type": "subslide"
    }
   },
   "outputs": [
    {
     "data": {
      "image/jpeg": "[encoded data removed]",
      "text/html": [
       "\n",
       "        <iframe\n",
       "            width=\"400\"\n",
       "            height=\"300\"\n",
       "            src=\"https://www.youtube.com/embed/bybKm5E8Srg\"\n",
       "            frameborder=\"0\"\n",
       "            allowfullscreen\n",
       "        ></iframe>\n",
       "        "
      ],
      "text/plain": [
       "<IPython.lib.display.YouTubeVideo at 0x1f93990b4c0>"
      ]
     },
     "execution_count": 5,
     "metadata": {},
     "output_type": "execute_result"
    }
   ],
   "source": [
    "from IPython.display import YouTubeVideo\n",
    "YouTubeVideo(\"bybKm5E8Srg\")"
   ]
  },
  {
   "cell_type": "markdown",
   "metadata": {
    "slideshow": {
     "slide_type": "subslide"
    }
   },
   "source": [
    "- [R Vs Python: What’s the Difference?](https://www.guru99.com/r-vs-python.html), 2021-02-22."
   ]
  },
  {
   "cell_type": "markdown",
   "metadata": {
    "slideshow": {
     "slide_type": "subslide"
    }
   },
   "source": [
    "- 생태계 규모\n",
    "![](https://miro.medium.com/max/1152/0*nCpWeXmSt3Z8dof1.)"
   ]
  },
  {
   "cell_type": "markdown",
   "metadata": {
    "slideshow": {
     "slide_type": "subslide"
    }
   },
   "source": [
    "- 도구 점유율 반전\n",
    "![](https://miro.medium.com/max/700/0*b98l_xo8HckWIOIJ.)"
   ]
  },
  {
   "cell_type": "markdown",
   "metadata": {
    "slideshow": {
     "slide_type": "subslide"
    }
   },
   "source": [
    "- R과 Python으로 이루어진 분석\n",
    "![](https://www.guru99.com/images/r_programming/032918_1306_RVsPythonWh4.png)"
   ]
  },
  {
   "cell_type": "markdown",
   "metadata": {
    "slideshow": {
     "slide_type": "fragment"
    }
   },
   "source": [
    "- 전환 비율\n",
    "![](https://www.guru99.com/images/r_programming/032918_1306_RVsPythonWh5.png)"
   ]
  },
  {
   "cell_type": "markdown",
   "metadata": {
    "slideshow": {
     "slide_type": "subslide"
    }
   },
   "source": [
    "![](https://cdn.goskills.com/blobs/blogs/252/2.png)\n",
    "\n",
    "-  Liam Tung, [Programming language Python's popularity: Ahead of Java for first time but still trailing C \"Python is now the second most popular language in the nearly 20-year-old Tiobe index.\"](https://www.zdnet.com/article/programming-language-pythons-popularity-ahead-of-java-for-first-time-but-still-trailing-c/), 2020-11-04.\n",
    "- [데이터 분석, R로 시작할까 파이썬으로 시작할까?](http://media.fastcampus.co.kr/knowledge/dataanalysis-python-r/)\n",
    "- Nick Mertens, [Top 4 Reasons Python is So Popular in 2021](https://www.goskills.com/Development/Resources/Why-is-Python-so-popular), [go skills](https://www.goskills.com/)."
   ]
  },
  {
   "cell_type": "markdown",
   "metadata": {
    "slideshow": {
     "slide_type": "subslide"
    }
   },
   "source": [
    "![wk01_R](https://user-images.githubusercontent.com/10287629/88150182-04de4100-cc3c-11ea-88f3-11dbfec90495.png)"
   ]
  },
  {
   "cell_type": "markdown",
   "metadata": {
    "slideshow": {
     "slide_type": "subslide"
    }
   },
   "source": [
    "![wk01_python](https://user-images.githubusercontent.com/10287629/88150208-0f003f80-cc3c-11ea-89d8-1f7f99396d23.png)"
   ]
  },
  {
   "cell_type": "markdown",
   "metadata": {
    "slideshow": {
     "slide_type": "subslide"
    }
   },
   "source": [
    "- 190619, [Coding World News](www.codingworldnews.com), [“파이썬 vs. R” 데이터 사이언스에 더 적합한 언어는?](https://www.codingworldnews.com/article/view/1100)\n",
    "  ![wk01_python_r](https://user-images.githubusercontent.com/10287629/88150271-23dcd300-cc3c-11ea-88f8-03a66ead1be4.png)"
   ]
  },
  {
   "cell_type": "markdown",
   "metadata": {
    "slideshow": {
     "slide_type": "subslide"
    }
   },
   "source": [
    "![wk01_google_trends](https://user-images.githubusercontent.com/10287629/88247039-4f60cb80-ccd7-11ea-8287-b5d9d6896943.png)\n",
    "- 180131, [Data-Driven Science](https://medium.com/@data_driven?source=post_page-----3ebb1a968197----------------------), [Python vs R for Data Science: And the winner is..](https://medium.com/@data_driven/python-vs-r-for-data-science-and-the-winner-is-3ebb1a968197)\n"
   ]
  },
  {
   "cell_type": "markdown",
   "metadata": {
    "pycharm": {
     "name": "#%% md\n"
    },
    "slideshow": {
     "slide_type": "slide"
    }
   },
   "source": [
    "### 3.4 파이썬 시각화 라이브러리"
   ]
  },
  {
   "cell_type": "markdown",
   "metadata": {
    "pycharm": {
     "name": "#%% md\n"
    },
    "slideshow": {
     "slide_type": "slide"
    }
   },
   "source": [
    "- <b>Matplotlib</b>\n",
    "모든 파이썬 시각화 라이브러리의 엄마같은 존재,<br>\n",
    "다른 도구를 활용하기 위한 기반 역할을 하는 라이브러리\n",
    "![](https://www.fusioncharts.com/blog/wp-content/uploads/2018/05/matplotlib-python-data-visualization-libraries-fusioncharts.png)"
   ]
  },
  {
   "cell_type": "markdown",
   "metadata": {
    "pycharm": {
     "name": "#%% md\n"
    },
    "slideshow": {
     "slide_type": "slide"
    }
   },
   "source": [
    "- <b>Seaborn</b>\n",
    "더 복잡한 시각화 접근을 가능하게 해주지만,<br>\n",
    "섬세하게 다듬기 위해서는 matplotlib에 관한 지식이 여전히 필요함\n",
    "![](https://www.fusioncharts.com/blog/wp-content/uploads/2018/05/seaborn-python-data-visualization-libraries-fusioncharts.png)"
   ]
  },
  {
   "cell_type": "markdown",
   "metadata": {
    "pycharm": {
     "name": "#%% md\n"
    },
    "slideshow": {
     "slide_type": "slide"
    }
   },
   "source": [
    "- **Bokeh**\n",
    "당신만의 시각화 서버를 구축하기 위한 견고한 도구이지만,<br>\n",
    "단순한 시나리오를 작성해야 하는 상황이라면 너무 과한 도구\n",
    "![](https://www.fusioncharts.com/blog/wp-content/uploads/2018/05/bokeh-python-data-visualization-libraries-fusioncharts.png)"
   ]
  },
  {
   "cell_type": "markdown",
   "metadata": {
    "pycharm": {
     "name": "#%% md\n"
    },
    "slideshow": {
     "slide_type": "slide"
    }
   },
   "source": [
    "- <b>Geoplotlib</b>\n",
    "지리적 데이터에 관한 시각화 도구\n",
    "![](https://www.fusioncharts.com/blog/wp-content/uploads/2018/05/geoplotlib-python-data-visualization-libraries-fusioncharts.png)"
   ]
  },
  {
   "cell_type": "markdown",
   "metadata": {
    "pycharm": {
     "name": "#%% md\n"
    },
    "slideshow": {
     "slide_type": "slide"
    }
   },
   "source": [
    "- <b>ggplot</b>\n",
    "쓸만하지만, 아직도 발전하고 있는 도구\n",
    "![](https://www.fusioncharts.com/blog/wp-content/uploads/2018/05/ggplot-python-data-visualization-libraries-fusioncharts.png)"
   ]
  },
  {
   "cell_type": "markdown",
   "metadata": {
    "pycharm": {
     "name": "#%% md\n"
    },
    "slideshow": {
     "slide_type": "slide"
    }
   },
   "source": [
    "- <b>Plotly</b>\n",
    "상호작용성이 가장 뛰어난 그래프를 생성할 수 있으며,<br>\n",
    "멋진 웹 기반 시각화 결과를 오프라인으로 저장할 수 있음\n",
    "![](https://www.fusioncharts.com/blog/wp-content/uploads/2018/05/plotly-python-data-visualization-libraries-fusioncharts.jpg)"
   ]
  },
  {
   "cell_type": "markdown",
   "metadata": {
    "pycharm": {
     "name": "#%% md\n"
    },
    "slideshow": {
     "slide_type": "slide"
    }
   },
   "source": [
    "- 용도에 맞는 프레임워크 선정\n",
    "  - <b>인공 신경망</b>\n",
    "    대부분의 튜토리얼이 matplotlib를 사용하고 있으며,<br>\n",
    "    matplotlib라는 범용 시각화 도구는 다른 도구를 적용하기 위한 기반의 역할에 적합함\n",
    "  - <b>회귀 및 분류 모델</b>\n",
    "    회귀 또는 분류 작업에서는 주로 Seaborn을 사용하는데,<br>\n",
    "    Seaborn에서 상관 행렬(correlation matrix)을 제공하기 때문임\n",
    "  - <b>주가 변동 표시기</b>\n",
    "    데이터 변동을 실시간으로 표시하고,<br>\n",
    "    사용자가 차트 위로 커저를 옮길 때 실시간으로 반응해야 하는 상황,<br>\n",
    "    주로 Plotly 또는 Bokeh를 사용하며, 둘 다 자바스크립트를 지원함\n",
    "  - <b>지도</b>\n",
    "    PostgreSQL, MongoDB 및 JSON 형식 파일에 지리 정보를 저장해 두고,<br>\n",
    "    지도와 관련한 데이터를 표시해야 한다면,<br>\n",
    "    Geoplotlib 프레임워크를 추천함\n",
    "  - <b>통계학 응용 연구</b>\n",
    "    제약회사의 임상 실험 등의 상황에서는 전통적으로 R 도구가 애용되었으나,<br>\n",
    "    최근에는 Python 도구 활용이 늘어나는 추세이며, ggplot 또한 추천 대상임"
   ]
  },
  {
   "cell_type": "markdown",
   "metadata": {
    "pycharm": {
     "name": "#%% md\n"
    },
    "slideshow": {
     "slide_type": "slide"
    }
   },
   "source": [
    "- [180824, Seongyun Byeon, [Python에서 데이터 시각화하는 다양한 방법](https://zzsza.github.io/development/2018/08/24/data-visualization-in-python/)\n",
    "  - 파이썬에서 자주 쓰는 데이터 시각화 라이브러리\n",
    "  - 다양한 차트 예제\n",
    "  - 간단한 코드 예제\n",
    "  - 충실한 원 자료 링크\n",
    "- 이 기사에서 링크하고 있는 [누구나 쉽게 이해할 수 있는 Git 입문](https://backlog.com/git-tutorial/kr/intro/intro1_1.html) 공부하기를 강추 \n",
    "- 190325, Zeming Yu, [My top 10 Python packages for data science](https://towardsdatascience.com/my-top-10-python-packages-for-data-science-2dee7f3dee94)\n",
    "  - 데이터 처리\n",
    "    - pandas\n",
    "      데이터 정렬, 병합, 필터링, ...\n",
    "      [Python for Data Analysis](https://www.oreilly.com/library/view/python-for-data/9781491957653/)\n",
    "    - numpy\n",
    "      pandas 개발의 기반 역할을 한 패키지로서, 기본적 데이터 조작을 위한 패키지<br>\n",
    "      연령에 근거해서 은퇴여부라는 새로운 열을 생성하려면,<br>\n",
    "      `df['은퇴여부'] = np.where(df['연령']>=65, 'yes', 'no')`\n",
    "    - qgrid\n",
    "      쥬피터 노트북에서 데이터프레임을 정렬, 필터, 편집하기 위한 멋진 패키지\n",
    "  - 그래프 작성\n",
    "    - matplotlib\n",
    "      모든 종류의 그래프 작성에 유용한 패키지로서,<br>\n",
    "      쥬피터 노트북에서 작성한 그래프가 출력되도록 하려면 다음 코드 라인을 실행해야 함<br>\n",
    "      `%matplotlib inline`\n",
    "    - seaborn\n",
    "      matplotlib로 작성한 그래프를 더욱 멋지게 보이도록 해주는 패키지\n",
    "    - plotly\n",
    "      사용자와 상호작용하는 그래프를 쥬피터 노트북에서 작성하도록 해주는 패키지\n",
    "  - 모델링\n",
    "    - statsmodels\n",
    "      보험계리사가 사용하는 Generalized Linear Model(GLM) 작성, <br>\n",
    "      시계열 분석 및 기타 통계적 모델링 기능을 제공하는 패키지\n",
    "    - scikit-learn\n",
    "      기계학습의 주력 패키지로서,시계열 분석 및\n",
    "      분류, 회귀, 군집화 및 차원 축소 등의 모든 기계 학습 작업을 수행할 수 있음\n",
    "    - lightgbm\n",
    "      Gradient Boost Machine(GBM)을 위한 기계 학습 패키지\n",
    "    - lime\n",
    "      기계학습의 모델 해석 패키지로서, 모델 예측과 예측의 주요 인자 분석에 사용됨"
   ]
  },
  {
   "cell_type": "markdown",
   "metadata": {
    "slideshow": {
     "slide_type": "slide"
    }
   },
   "source": [
    "### 3.5 데이터 과학 코스"
   ]
  },
  {
   "cell_type": "markdown",
   "metadata": {
    "slideshow": {
     "slide_type": "subslide"
    }
   },
   "source": [
    "![](https://pbs.twimg.com/media/EN3nSE4XkAMwf_4.png)"
   ]
  },
  {
   "cell_type": "markdown",
   "metadata": {
    "slideshow": {
     "slide_type": "subslide"
    }
   },
   "source": [
    "![](https://static.wixstatic.com/media/d7ecc7_875fd273e2fa434a8d06ebf0e3f67f0a~mv2.jpg/v1/fill/w_560,h_316,al_c,q_80,usm_0.66_1.00_0.01/Data%20Science%20Masterclass.webp)"
   ]
  },
  {
   "cell_type": "markdown",
   "metadata": {
    "slideshow": {
     "slide_type": "slide"
    }
   },
   "source": [
    "![](https://venngage-wordpress.s3.amazonaws.com/uploads/2020/06/What-is-Data-Visualization-Blog-Header.jpg)"
   ]
  }
 ],
 "metadata": {
  "celltoolbar": "Slideshow",
  "kernelspec": {
   "display_name": "Python 3",
   "language": "python",
   "name": "python3"
  },
  "language_info": {
   "codemirror_mode": {
    "name": "ipython",
    "version": 3
   },
   "file_extension": ".py",
   "mimetype": "text/x-python",
   "name": "python",
   "nbconvert_exporter": "python",
   "pygments_lexer": "ipython3",
   "version": "3.8.11"
  },
  "latex_envs": {
   "LaTeX_envs_menu_present": true,
   "autoclose": false,
   "autocomplete": true,
   "bibliofile": "biblio.bib",
   "cite_by": "apalike",
   "current_citInitial": 1,
   "eqLabelWithNumbers": true,
   "eqNumInitial": 1,
   "hotkeys": {
    "equation": "Ctrl-E",
    "itemize": "Ctrl-I"
   },
   "labels_anchors": false,
   "latex_user_defs": false,
   "report_style_numbering": false,
   "user_envs_cfg": false
  },
  "toc": {
   "base_numbering": 1,
   "nav_menu": {},
   "number_sections": false,
   "sideBar": true,
   "skip_h1_title": false,
   "title_cell": "Table of Contents",
   "title_sidebar": "Contents",
   "toc_cell": false,
   "toc_position": {
    "height": "calc(100% - 180px)",
    "left": "10px",
    "top": "150px",
    "width": "220.295px"
   },
   "toc_section_display": true,
   "toc_window_display": true
  },
  "toc-autonumbering": false,
  "varInspector": {
   "cols": {
    "lenName": 16,
    "lenType": 16,
    "lenVar": 40
   },
   "kernels_config": {
    "python": {
     "delete_cmd_postfix": "",
     "delete_cmd_prefix": "del ",
     "library": "var_list.py",
     "varRefreshCmd": "print(var_dic_list())"
    },
    "r": {
     "delete_cmd_postfix": ") ",
     "delete_cmd_prefix": "rm(",
     "library": "var_list.r",
     "varRefreshCmd": "cat(var_dic_list()) "
    }
   },
   "types_to_exclude": [
    "module",
    "function",
    "builtin_function_or_method",
    "instance",
    "_Feature"
   ],
   "window_display": false
  }
 },
 "nbformat": 4,
 "nbformat_minor": 4
}
